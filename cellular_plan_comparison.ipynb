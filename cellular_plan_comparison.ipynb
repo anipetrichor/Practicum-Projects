{
  "cells": [
    {
      "cell_type": "markdown",
      "metadata": {
        "id": "IlgFC-xS-b5v"
      },
      "source": [
        "# Which one is a better plan?\n",
        "\n",
        "You work as an analyst for the telecom operator Megaline. The company offers its clients two prepaid plans, Surf and Ultimate. The commercial department wants to know which of the plans brings in more revenue in order to adjust the advertising budget.\n",
        "\n",
        "You are going to carry out a preliminary analysis of the plans based on a relatively small client selection. You'll have the data on 500 Megaline clients: who the clients are, where they're from, which plan they use, and the number of calls they made and text messages they sent in 2018. Your job is to analyze the clients' behavior and determine which prepaid plan brings in more revenue."
      ]
    },
    {
      "cell_type": "markdown",
      "metadata": {
        "id": "uAvPDmm2-b5w"
      },
      "source": [
        "**Introduction**\n",
        "Throughout the course of this project I will be analysing data regarding the comparative revenues of two different phone plans offered by the Megaline telecom company. I will be combining 5 csv files of assorted data, utilizing data preprocessing to fix or remove any irregularities in the data, then using EDA and SDA to assess the data and check my hypotheses. \n",
        "\n",
        "**Hypotheses**\n",
        "\n",
        "1. The 'Ultimate' phone plan draws in more overall revenue due to it being a better deal and thus likely more popular \n",
        "2. The 'Surf' phone plan tends to cost users more than expected as it is easy to go past the plan's set limits meaning individuals end up spending more than they originally planned. "
      ]
    },
    {
      "cell_type": "markdown",
      "metadata": {
        "id": "J4sZgHbp-b5x"
      },
      "source": [
        "## Initialization"
      ]
    },
    {
      "cell_type": "markdown",
      "metadata": {
        "id": "usYt23AM-b5x"
      },
      "source": [
        "First step is to add the various libraries I will need."
      ]
    },
    {
      "cell_type": "code",
      "execution_count": null,
      "metadata": {
        "id": "IQCQxaXy-b5y"
      },
      "outputs": [],
      "source": [
        "# Loading all the libraries\n",
        "\n",
        "import pandas as pd\n",
        "import matplotlib.pyplot as plt\n",
        "import numpy as np\n",
        "from scipy import stats as st\n"
      ]
    },
    {
      "cell_type": "markdown",
      "metadata": {
        "id": "Paze_bON-b5z"
      },
      "source": [
        "## Load data"
      ]
    },
    {
      "cell_type": "markdown",
      "metadata": {
        "id": "V39HiYHO-b50"
      },
      "source": [
        "Now lets bring in the assorted CSV files."
      ]
    },
    {
      "cell_type": "code",
      "execution_count": null,
      "metadata": {
        "id": "wfwAVYFd-b51"
      },
      "outputs": [],
      "source": [
        "# Load the data files into different DataFrames\n",
        "\n",
        "calls = pd.read_csv('/datasets/megaline_calls.csv')\n",
        "internet = pd.read_csv('/datasets/megaline_internet.csv')\n",
        "message = pd.read_csv('/datasets/megaline_messages.csv') \n",
        "plans = pd.read_csv('/datasets/megaline_plans.csv') \n",
        "users = pd.read_csv('/datasets/megaline_users.csv') \n"
      ]
    },
    {
      "cell_type": "markdown",
      "metadata": {
        "id": "8ZQQKyal-b52"
      },
      "source": [
        "## Prepare the data"
      ]
    },
    {
      "cell_type": "markdown",
      "metadata": {
        "id": "-L_VjNgD-b52"
      },
      "source": [
        "Before I can get to the analysis I need to conduct some data preprocessing on the collection of CSV files I've been supplied with. I'll be checking for correct datatypes, null values, and duplicated rows.\n",
        "\n",
        "I've broken the preprocessing steps for each dataframe into its own section for clarity."
      ]
    },
    {
      "cell_type": "markdown",
      "metadata": {
        "id": "L2f-n1oy-b53"
      },
      "source": [
        "## Plans"
      ]
    },
    {
      "cell_type": "code",
      "execution_count": null,
      "metadata": {
        "id": "ZcQtnSBf-b54",
        "outputId": "a27633d5-3f99-4107-94b3-aff140d64bfa"
      },
      "outputs": [
        {
          "name": "stdout",
          "output_type": "stream",
          "text": [
            "<class 'pandas.core.frame.DataFrame'>\n",
            "RangeIndex: 2 entries, 0 to 1\n",
            "Data columns (total 8 columns):\n",
            " #   Column                 Non-Null Count  Dtype  \n",
            "---  ------                 --------------  -----  \n",
            " 0   messages_included      2 non-null      int64  \n",
            " 1   mb_per_month_included  2 non-null      int64  \n",
            " 2   minutes_included       2 non-null      int64  \n",
            " 3   usd_monthly_pay        2 non-null      int64  \n",
            " 4   usd_per_gb             2 non-null      int64  \n",
            " 5   usd_per_message        2 non-null      float64\n",
            " 6   usd_per_minute         2 non-null      float64\n",
            " 7   plan_name              2 non-null      object \n",
            "dtypes: float64(2), int64(5), object(1)\n",
            "memory usage: 256.0+ bytes\n"
          ]
        }
      ],
      "source": [
        "# Print the general/summary information about the plans' DataFrame\n",
        "plans.info()"
      ]
    },
    {
      "cell_type": "code",
      "execution_count": null,
      "metadata": {
        "id": "togztsHO-b55",
        "outputId": "dbb9bbbd-408c-40ac-be42-e76e72dc97d6"
      },
      "outputs": [
        {
          "data": {
            "text/plain": [
              "<bound method NDFrame.describe of    messages_included  mb_per_month_included  minutes_included  \\\n",
              "0                 50                  15360               500   \n",
              "1               1000                  30720              3000   \n",
              "\n",
              "   usd_monthly_pay  usd_per_gb  usd_per_message  usd_per_minute plan_name  \n",
              "0               20          10             0.03            0.03      surf  \n",
              "1               70           7             0.01            0.01  ultimate  >"
            ]
          },
          "execution_count": 4,
          "metadata": {},
          "output_type": "execute_result"
        }
      ],
      "source": [
        "plans.describe"
      ]
    },
    {
      "cell_type": "code",
      "execution_count": null,
      "metadata": {
        "id": "nEWy0E0l-b58",
        "outputId": "36867b52-d8cc-440c-d085-7f915db4f182"
      },
      "outputs": [
        {
          "data": {
            "text/html": [
              "<div>\n",
              "<style scoped>\n",
              "    .dataframe tbody tr th:only-of-type {\n",
              "        vertical-align: middle;\n",
              "    }\n",
              "\n",
              "    .dataframe tbody tr th {\n",
              "        vertical-align: top;\n",
              "    }\n",
              "\n",
              "    .dataframe thead th {\n",
              "        text-align: right;\n",
              "    }\n",
              "</style>\n",
              "<table border=\"1\" class=\"dataframe\">\n",
              "  <thead>\n",
              "    <tr style=\"text-align: right;\">\n",
              "      <th></th>\n",
              "      <th>messages_included</th>\n",
              "      <th>mb_per_month_included</th>\n",
              "      <th>minutes_included</th>\n",
              "      <th>usd_monthly_pay</th>\n",
              "      <th>usd_per_gb</th>\n",
              "      <th>usd_per_message</th>\n",
              "      <th>usd_per_minute</th>\n",
              "      <th>plan_name</th>\n",
              "    </tr>\n",
              "  </thead>\n",
              "  <tbody>\n",
              "    <tr>\n",
              "      <th>0</th>\n",
              "      <td>50</td>\n",
              "      <td>15360</td>\n",
              "      <td>500</td>\n",
              "      <td>20</td>\n",
              "      <td>10</td>\n",
              "      <td>0.03</td>\n",
              "      <td>0.03</td>\n",
              "      <td>surf</td>\n",
              "    </tr>\n",
              "    <tr>\n",
              "      <th>1</th>\n",
              "      <td>1000</td>\n",
              "      <td>30720</td>\n",
              "      <td>3000</td>\n",
              "      <td>70</td>\n",
              "      <td>7</td>\n",
              "      <td>0.01</td>\n",
              "      <td>0.01</td>\n",
              "      <td>ultimate</td>\n",
              "    </tr>\n",
              "  </tbody>\n",
              "</table>\n",
              "</div>"
            ],
            "text/plain": [
              "   messages_included  mb_per_month_included  minutes_included  \\\n",
              "0                 50                  15360               500   \n",
              "1               1000                  30720              3000   \n",
              "\n",
              "   usd_monthly_pay  usd_per_gb  usd_per_message  usd_per_minute plan_name  \n",
              "0               20          10             0.03            0.03      surf  \n",
              "1               70           7             0.01            0.01  ultimate  "
            ]
          },
          "execution_count": 5,
          "metadata": {},
          "output_type": "execute_result"
        }
      ],
      "source": [
        "# Print a sample of data for plans\n",
        "\n",
        "plans.head()"
      ]
    },
    {
      "cell_type": "markdown",
      "metadata": {
        "id": "lqtdUc2A-b59"
      },
      "source": [
        "The `plans` dataframe is very straight forward and has no incorrect datatype or data irregularities. "
      ]
    },
    {
      "cell_type": "markdown",
      "metadata": {
        "id": "G1Lg_i8B-b59"
      },
      "source": [
        "## 1.5 Fix Data"
      ]
    },
    {
      "cell_type": "markdown",
      "metadata": {
        "id": "izolmL5S-b5-"
      },
      "source": [
        "N/A"
      ]
    },
    {
      "cell_type": "markdown",
      "metadata": {
        "id": "B_jJ4V5H-b5_"
      },
      "source": [
        "## Enrich data"
      ]
    },
    {
      "cell_type": "markdown",
      "metadata": {
        "id": "bi9YGXH6-b6A"
      },
      "source": [
        "N/A"
      ]
    },
    {
      "cell_type": "markdown",
      "metadata": {
        "id": "31X4Keaq-b6A"
      },
      "source": [
        "## Users"
      ]
    },
    {
      "cell_type": "code",
      "execution_count": null,
      "metadata": {
        "id": "qaHvOfai-b6B",
        "outputId": "e9e707de-12af-4af2-bbb7-72aac0ed12b0"
      },
      "outputs": [
        {
          "name": "stdout",
          "output_type": "stream",
          "text": [
            "<class 'pandas.core.frame.DataFrame'>\n",
            "RangeIndex: 500 entries, 0 to 499\n",
            "Data columns (total 8 columns):\n",
            " #   Column      Non-Null Count  Dtype \n",
            "---  ------      --------------  ----- \n",
            " 0   user_id     500 non-null    int64 \n",
            " 1   first_name  500 non-null    object\n",
            " 2   last_name   500 non-null    object\n",
            " 3   age         500 non-null    int64 \n",
            " 4   city        500 non-null    object\n",
            " 5   reg_date    500 non-null    object\n",
            " 6   plan        500 non-null    object\n",
            " 7   churn_date  34 non-null     object\n",
            "dtypes: int64(2), object(6)\n",
            "memory usage: 31.4+ KB\n"
          ]
        },
        {
          "data": {
            "text/plain": [
              "<bound method NDFrame.describe of      user_id first_name   last_name  age  \\\n",
              "0       1000   Anamaria       Bauer   45   \n",
              "1       1001     Mickey   Wilkerson   28   \n",
              "2       1002     Carlee     Hoffman   36   \n",
              "3       1003   Reynaldo     Jenkins   52   \n",
              "4       1004    Leonila    Thompson   40   \n",
              "..       ...        ...         ...  ...   \n",
              "495     1495      Fidel      Sharpe   67   \n",
              "496     1496      Ariel    Shepherd   49   \n",
              "497     1497      Donte     Barrera   49   \n",
              "498     1498       Scot  Williamson   51   \n",
              "499     1499      Shena     Dickson   37   \n",
              "\n",
              "                                          city    reg_date      plan  \\\n",
              "0        Atlanta-Sandy Springs-Roswell, GA MSA  2018-12-24  ultimate   \n",
              "1              Seattle-Tacoma-Bellevue, WA MSA  2018-08-13      surf   \n",
              "2         Las Vegas-Henderson-Paradise, NV MSA  2018-10-21      surf   \n",
              "3                                Tulsa, OK MSA  2018-01-28      surf   \n",
              "4              Seattle-Tacoma-Bellevue, WA MSA  2018-05-23      surf   \n",
              "..                                         ...         ...       ...   \n",
              "495  New York-Newark-Jersey City, NY-NJ-PA MSA  2018-09-04      surf   \n",
              "496               New Orleans-Metairie, LA MSA  2018-02-20      surf   \n",
              "497     Los Angeles-Long Beach-Anaheim, CA MSA  2018-12-10  ultimate   \n",
              "498  New York-Newark-Jersey City, NY-NJ-PA MSA  2018-02-04      surf   \n",
              "499          Orlando-Kissimmee-Sanford, FL MSA  2018-05-06      surf   \n",
              "\n",
              "    churn_date  \n",
              "0          NaN  \n",
              "1          NaN  \n",
              "2          NaN  \n",
              "3          NaN  \n",
              "4          NaN  \n",
              "..         ...  \n",
              "495        NaN  \n",
              "496        NaN  \n",
              "497        NaN  \n",
              "498        NaN  \n",
              "499        NaN  \n",
              "\n",
              "[500 rows x 8 columns]>"
            ]
          },
          "execution_count": 6,
          "metadata": {},
          "output_type": "execute_result"
        }
      ],
      "source": [
        "# Print the general/summary information about the users' DataFrame\n",
        "\n",
        "users.info()\n",
        "users.describe"
      ]
    },
    {
      "cell_type": "code",
      "execution_count": null,
      "metadata": {
        "scrolled": true,
        "id": "npnhGN6c-b6D",
        "outputId": "c4017764-3069-4cbe-fb18-13bcefae3ad6"
      },
      "outputs": [
        {
          "data": {
            "text/html": [
              "<div>\n",
              "<style scoped>\n",
              "    .dataframe tbody tr th:only-of-type {\n",
              "        vertical-align: middle;\n",
              "    }\n",
              "\n",
              "    .dataframe tbody tr th {\n",
              "        vertical-align: top;\n",
              "    }\n",
              "\n",
              "    .dataframe thead th {\n",
              "        text-align: right;\n",
              "    }\n",
              "</style>\n",
              "<table border=\"1\" class=\"dataframe\">\n",
              "  <thead>\n",
              "    <tr style=\"text-align: right;\">\n",
              "      <th></th>\n",
              "      <th>user_id</th>\n",
              "      <th>first_name</th>\n",
              "      <th>last_name</th>\n",
              "      <th>age</th>\n",
              "      <th>city</th>\n",
              "      <th>reg_date</th>\n",
              "      <th>plan</th>\n",
              "      <th>churn_date</th>\n",
              "    </tr>\n",
              "  </thead>\n",
              "  <tbody>\n",
              "    <tr>\n",
              "      <th>0</th>\n",
              "      <td>1000</td>\n",
              "      <td>Anamaria</td>\n",
              "      <td>Bauer</td>\n",
              "      <td>45</td>\n",
              "      <td>Atlanta-Sandy Springs-Roswell, GA MSA</td>\n",
              "      <td>2018-12-24</td>\n",
              "      <td>ultimate</td>\n",
              "      <td>NaN</td>\n",
              "    </tr>\n",
              "    <tr>\n",
              "      <th>1</th>\n",
              "      <td>1001</td>\n",
              "      <td>Mickey</td>\n",
              "      <td>Wilkerson</td>\n",
              "      <td>28</td>\n",
              "      <td>Seattle-Tacoma-Bellevue, WA MSA</td>\n",
              "      <td>2018-08-13</td>\n",
              "      <td>surf</td>\n",
              "      <td>NaN</td>\n",
              "    </tr>\n",
              "    <tr>\n",
              "      <th>2</th>\n",
              "      <td>1002</td>\n",
              "      <td>Carlee</td>\n",
              "      <td>Hoffman</td>\n",
              "      <td>36</td>\n",
              "      <td>Las Vegas-Henderson-Paradise, NV MSA</td>\n",
              "      <td>2018-10-21</td>\n",
              "      <td>surf</td>\n",
              "      <td>NaN</td>\n",
              "    </tr>\n",
              "    <tr>\n",
              "      <th>3</th>\n",
              "      <td>1003</td>\n",
              "      <td>Reynaldo</td>\n",
              "      <td>Jenkins</td>\n",
              "      <td>52</td>\n",
              "      <td>Tulsa, OK MSA</td>\n",
              "      <td>2018-01-28</td>\n",
              "      <td>surf</td>\n",
              "      <td>NaN</td>\n",
              "    </tr>\n",
              "    <tr>\n",
              "      <th>4</th>\n",
              "      <td>1004</td>\n",
              "      <td>Leonila</td>\n",
              "      <td>Thompson</td>\n",
              "      <td>40</td>\n",
              "      <td>Seattle-Tacoma-Bellevue, WA MSA</td>\n",
              "      <td>2018-05-23</td>\n",
              "      <td>surf</td>\n",
              "      <td>NaN</td>\n",
              "    </tr>\n",
              "    <tr>\n",
              "      <th>5</th>\n",
              "      <td>1005</td>\n",
              "      <td>Livia</td>\n",
              "      <td>Shields</td>\n",
              "      <td>31</td>\n",
              "      <td>Dallas-Fort Worth-Arlington, TX MSA</td>\n",
              "      <td>2018-11-29</td>\n",
              "      <td>surf</td>\n",
              "      <td>NaN</td>\n",
              "    </tr>\n",
              "    <tr>\n",
              "      <th>6</th>\n",
              "      <td>1006</td>\n",
              "      <td>Jesusa</td>\n",
              "      <td>Bradford</td>\n",
              "      <td>73</td>\n",
              "      <td>San Francisco-Oakland-Berkeley, CA MSA</td>\n",
              "      <td>2018-11-27</td>\n",
              "      <td>ultimate</td>\n",
              "      <td>2018-12-18</td>\n",
              "    </tr>\n",
              "    <tr>\n",
              "      <th>7</th>\n",
              "      <td>1007</td>\n",
              "      <td>Eusebio</td>\n",
              "      <td>Welch</td>\n",
              "      <td>42</td>\n",
              "      <td>Grand Rapids-Kentwood, MI MSA</td>\n",
              "      <td>2018-07-11</td>\n",
              "      <td>surf</td>\n",
              "      <td>NaN</td>\n",
              "    </tr>\n",
              "    <tr>\n",
              "      <th>8</th>\n",
              "      <td>1008</td>\n",
              "      <td>Emely</td>\n",
              "      <td>Hoffman</td>\n",
              "      <td>53</td>\n",
              "      <td>Orlando-Kissimmee-Sanford, FL MSA</td>\n",
              "      <td>2018-08-03</td>\n",
              "      <td>ultimate</td>\n",
              "      <td>NaN</td>\n",
              "    </tr>\n",
              "    <tr>\n",
              "      <th>9</th>\n",
              "      <td>1009</td>\n",
              "      <td>Gerry</td>\n",
              "      <td>Little</td>\n",
              "      <td>19</td>\n",
              "      <td>San Jose-Sunnyvale-Santa Clara, CA MSA</td>\n",
              "      <td>2018-04-22</td>\n",
              "      <td>surf</td>\n",
              "      <td>NaN</td>\n",
              "    </tr>\n",
              "  </tbody>\n",
              "</table>\n",
              "</div>"
            ],
            "text/plain": [
              "   user_id first_name  last_name  age                                    city  \\\n",
              "0     1000   Anamaria      Bauer   45   Atlanta-Sandy Springs-Roswell, GA MSA   \n",
              "1     1001     Mickey  Wilkerson   28         Seattle-Tacoma-Bellevue, WA MSA   \n",
              "2     1002     Carlee    Hoffman   36    Las Vegas-Henderson-Paradise, NV MSA   \n",
              "3     1003   Reynaldo    Jenkins   52                           Tulsa, OK MSA   \n",
              "4     1004    Leonila   Thompson   40         Seattle-Tacoma-Bellevue, WA MSA   \n",
              "5     1005      Livia    Shields   31     Dallas-Fort Worth-Arlington, TX MSA   \n",
              "6     1006     Jesusa   Bradford   73  San Francisco-Oakland-Berkeley, CA MSA   \n",
              "7     1007    Eusebio      Welch   42           Grand Rapids-Kentwood, MI MSA   \n",
              "8     1008      Emely    Hoffman   53       Orlando-Kissimmee-Sanford, FL MSA   \n",
              "9     1009      Gerry     Little   19  San Jose-Sunnyvale-Santa Clara, CA MSA   \n",
              "\n",
              "     reg_date      plan  churn_date  \n",
              "0  2018-12-24  ultimate         NaN  \n",
              "1  2018-08-13      surf         NaN  \n",
              "2  2018-10-21      surf         NaN  \n",
              "3  2018-01-28      surf         NaN  \n",
              "4  2018-05-23      surf         NaN  \n",
              "5  2018-11-29      surf         NaN  \n",
              "6  2018-11-27  ultimate  2018-12-18  \n",
              "7  2018-07-11      surf         NaN  \n",
              "8  2018-08-03  ultimate         NaN  \n",
              "9  2018-04-22      surf         NaN  "
            ]
          },
          "execution_count": 7,
          "metadata": {},
          "output_type": "execute_result"
        }
      ],
      "source": [
        "# Print a sample of data for users\n",
        "\n",
        "users.head(10)"
      ]
    },
    {
      "cell_type": "markdown",
      "metadata": {
        "id": "zkCKTtkx-b6E"
      },
      "source": [
        "The `users` dataframe has a two issues that need to be resolved; `reg_date` needs to be converted to datetime and `churn_date` (the date the user's plan ended) has 466 null values. Given that only 34 rows in the `churn_date` column are not null I will remove the column entirely. \n",
        "\n",
        "I will also add a `region` column which will be useful for the final hypothesis test at the end of this project."
      ]
    },
    {
      "cell_type": "markdown",
      "metadata": {
        "id": "a3MUjhwh-b6G"
      },
      "source": [
        "### Fix Data"
      ]
    },
    {
      "cell_type": "code",
      "execution_count": null,
      "metadata": {
        "id": "ibpyvpM9-b6H"
      },
      "outputs": [],
      "source": [
        "users['reg_date'] = pd.to_datetime(users['reg_date'], format='%Y-%m-%d')"
      ]
    },
    {
      "cell_type": "code",
      "execution_count": null,
      "metadata": {
        "id": "xS7gxPU2-b6J"
      },
      "outputs": [],
      "source": [
        "users = users.fillna('ongoing')"
      ]
    },
    {
      "cell_type": "code",
      "execution_count": null,
      "metadata": {
        "scrolled": true,
        "id": "HbtRV_Sr-b6L",
        "outputId": "15376e26-5895-46f1-b912-a11b17ef5509"
      },
      "outputs": [
        {
          "data": {
            "text/plain": [
              "New York-Newark-Jersey City, NY-NJ-PA MSA          80\n",
              "Los Angeles-Long Beach-Anaheim, CA MSA             29\n",
              "Dallas-Fort Worth-Arlington, TX MSA                21\n",
              "Chicago-Naperville-Elgin, IL-IN-WI MSA             19\n",
              "Philadelphia-Camden-Wilmington, PA-NJ-DE-MD MSA    17\n",
              "                                                   ..\n",
              "Raleigh-Cary, NC MSA                                1\n",
              "Greensboro-High Point, NC MSA                       1\n",
              "Stockton, CA MSA                                    1\n",
              "Jacksonville, FL MSA                                1\n",
              "Albany-Schenectady-Troy, NY MSA                     1\n",
              "Name: city, Length: 73, dtype: int64"
            ]
          },
          "execution_count": 10,
          "metadata": {},
          "output_type": "execute_result"
        }
      ],
      "source": [
        "users['city'].value_counts()"
      ]
    },
    {
      "cell_type": "code",
      "execution_count": null,
      "metadata": {
        "id": "QnwFFuc2-b6N"
      },
      "outputs": [],
      "source": [
        "def region(area):\n",
        "    if area == 'New York-Newark-Jersey City, NY-NJ-PA MSA':\n",
        "        return 'NY-NJ area'\n",
        "    else:\n",
        "        return 'Other'"
      ]
    },
    {
      "cell_type": "code",
      "execution_count": null,
      "metadata": {
        "scrolled": true,
        "id": "7JTBMrHx-b6O",
        "outputId": "654f55ae-31c8-4c7c-b6b3-9b79dfa8ffcd"
      },
      "outputs": [
        {
          "data": {
            "text/html": [
              "<div>\n",
              "<style scoped>\n",
              "    .dataframe tbody tr th:only-of-type {\n",
              "        vertical-align: middle;\n",
              "    }\n",
              "\n",
              "    .dataframe tbody tr th {\n",
              "        vertical-align: top;\n",
              "    }\n",
              "\n",
              "    .dataframe thead th {\n",
              "        text-align: right;\n",
              "    }\n",
              "</style>\n",
              "<table border=\"1\" class=\"dataframe\">\n",
              "  <thead>\n",
              "    <tr style=\"text-align: right;\">\n",
              "      <th></th>\n",
              "      <th>user_id</th>\n",
              "      <th>first_name</th>\n",
              "      <th>last_name</th>\n",
              "      <th>age</th>\n",
              "      <th>city</th>\n",
              "      <th>reg_date</th>\n",
              "      <th>plan</th>\n",
              "      <th>churn_date</th>\n",
              "      <th>region</th>\n",
              "    </tr>\n",
              "  </thead>\n",
              "  <tbody>\n",
              "    <tr>\n",
              "      <th>0</th>\n",
              "      <td>1000</td>\n",
              "      <td>Anamaria</td>\n",
              "      <td>Bauer</td>\n",
              "      <td>45</td>\n",
              "      <td>Atlanta-Sandy Springs-Roswell, GA MSA</td>\n",
              "      <td>2018-12-24</td>\n",
              "      <td>ultimate</td>\n",
              "      <td>ongoing</td>\n",
              "      <td>Other</td>\n",
              "    </tr>\n",
              "    <tr>\n",
              "      <th>1</th>\n",
              "      <td>1001</td>\n",
              "      <td>Mickey</td>\n",
              "      <td>Wilkerson</td>\n",
              "      <td>28</td>\n",
              "      <td>Seattle-Tacoma-Bellevue, WA MSA</td>\n",
              "      <td>2018-08-13</td>\n",
              "      <td>surf</td>\n",
              "      <td>ongoing</td>\n",
              "      <td>Other</td>\n",
              "    </tr>\n",
              "    <tr>\n",
              "      <th>2</th>\n",
              "      <td>1002</td>\n",
              "      <td>Carlee</td>\n",
              "      <td>Hoffman</td>\n",
              "      <td>36</td>\n",
              "      <td>Las Vegas-Henderson-Paradise, NV MSA</td>\n",
              "      <td>2018-10-21</td>\n",
              "      <td>surf</td>\n",
              "      <td>ongoing</td>\n",
              "      <td>Other</td>\n",
              "    </tr>\n",
              "    <tr>\n",
              "      <th>3</th>\n",
              "      <td>1003</td>\n",
              "      <td>Reynaldo</td>\n",
              "      <td>Jenkins</td>\n",
              "      <td>52</td>\n",
              "      <td>Tulsa, OK MSA</td>\n",
              "      <td>2018-01-28</td>\n",
              "      <td>surf</td>\n",
              "      <td>ongoing</td>\n",
              "      <td>Other</td>\n",
              "    </tr>\n",
              "    <tr>\n",
              "      <th>4</th>\n",
              "      <td>1004</td>\n",
              "      <td>Leonila</td>\n",
              "      <td>Thompson</td>\n",
              "      <td>40</td>\n",
              "      <td>Seattle-Tacoma-Bellevue, WA MSA</td>\n",
              "      <td>2018-05-23</td>\n",
              "      <td>surf</td>\n",
              "      <td>ongoing</td>\n",
              "      <td>Other</td>\n",
              "    </tr>\n",
              "  </tbody>\n",
              "</table>\n",
              "</div>"
            ],
            "text/plain": [
              "   user_id first_name  last_name  age                                   city  \\\n",
              "0     1000   Anamaria      Bauer   45  Atlanta-Sandy Springs-Roswell, GA MSA   \n",
              "1     1001     Mickey  Wilkerson   28        Seattle-Tacoma-Bellevue, WA MSA   \n",
              "2     1002     Carlee    Hoffman   36   Las Vegas-Henderson-Paradise, NV MSA   \n",
              "3     1003   Reynaldo    Jenkins   52                          Tulsa, OK MSA   \n",
              "4     1004    Leonila   Thompson   40        Seattle-Tacoma-Bellevue, WA MSA   \n",
              "\n",
              "    reg_date      plan churn_date region  \n",
              "0 2018-12-24  ultimate    ongoing  Other  \n",
              "1 2018-08-13      surf    ongoing  Other  \n",
              "2 2018-10-21      surf    ongoing  Other  \n",
              "3 2018-01-28      surf    ongoing  Other  \n",
              "4 2018-05-23      surf    ongoing  Other  "
            ]
          },
          "execution_count": 12,
          "metadata": {},
          "output_type": "execute_result"
        }
      ],
      "source": [
        "users['region'] = users['city'].apply(region)\n",
        "\n",
        "users.head()"
      ]
    },
    {
      "cell_type": "markdown",
      "metadata": {
        "id": "aUa3Hztx-b6P"
      },
      "source": [
        "### Enrich Data"
      ]
    },
    {
      "cell_type": "markdown",
      "metadata": {
        "id": "QGkQuuhd-b6P"
      },
      "source": [
        "I will also add a column with a numerical scale for `plan` to make later analysis easier."
      ]
    },
    {
      "cell_type": "code",
      "execution_count": null,
      "metadata": {
        "id": "OPT6T3pt-b6Q"
      },
      "outputs": [],
      "source": [
        "def plan_types(plan):\n",
        "    if plan == 'surf':\n",
        "        return 0\n",
        "    if plan == 'ultimate':\n",
        "        return 1"
      ]
    },
    {
      "cell_type": "code",
      "execution_count": null,
      "metadata": {
        "id": "SsRVvHi7-b6Q"
      },
      "outputs": [],
      "source": [
        "users['plan_types'] = users['plan'].apply(plan_types)"
      ]
    },
    {
      "cell_type": "markdown",
      "metadata": {
        "id": "VuUn4E0U-b6S"
      },
      "source": [
        "## Calls"
      ]
    },
    {
      "cell_type": "code",
      "execution_count": null,
      "metadata": {
        "id": "sGHZhx0w-b6S",
        "outputId": "56b3b2de-da3f-4b0f-cde5-82fa0645674e"
      },
      "outputs": [
        {
          "name": "stdout",
          "output_type": "stream",
          "text": [
            "<class 'pandas.core.frame.DataFrame'>\n",
            "RangeIndex: 137735 entries, 0 to 137734\n",
            "Data columns (total 4 columns):\n",
            " #   Column     Non-Null Count   Dtype  \n",
            "---  ------     --------------   -----  \n",
            " 0   id         137735 non-null  object \n",
            " 1   user_id    137735 non-null  int64  \n",
            " 2   call_date  137735 non-null  object \n",
            " 3   duration   137735 non-null  float64\n",
            "dtypes: float64(1), int64(1), object(2)\n",
            "memory usage: 4.2+ MB\n"
          ]
        },
        {
          "data": {
            "text/plain": [
              "<bound method NDFrame.describe of               id  user_id   call_date  duration\n",
              "0        1000_93     1000  2018-12-27      8.52\n",
              "1       1000_145     1000  2018-12-27     13.66\n",
              "2       1000_247     1000  2018-12-27     14.48\n",
              "3       1000_309     1000  2018-12-28      5.76\n",
              "4       1000_380     1000  2018-12-30      4.22\n",
              "...          ...      ...         ...       ...\n",
              "137730  1499_199     1499  2018-11-21      8.72\n",
              "137731  1499_200     1499  2018-10-20     10.89\n",
              "137732  1499_201     1499  2018-09-21      8.12\n",
              "137733  1499_202     1499  2018-10-10      0.37\n",
              "137734  1499_203     1499  2018-12-29     13.86\n",
              "\n",
              "[137735 rows x 4 columns]>"
            ]
          },
          "execution_count": 15,
          "metadata": {},
          "output_type": "execute_result"
        }
      ],
      "source": [
        "# Print the general/summary information about the calls' DataFrame\n",
        "calls.info()\n",
        "calls.describe"
      ]
    },
    {
      "cell_type": "code",
      "execution_count": null,
      "metadata": {
        "scrolled": true,
        "id": "omReJ8M4-b6T",
        "outputId": "a2d18cc4-c75f-47a0-f323-31a7dc4e177e"
      },
      "outputs": [
        {
          "data": {
            "text/html": [
              "<div>\n",
              "<style scoped>\n",
              "    .dataframe tbody tr th:only-of-type {\n",
              "        vertical-align: middle;\n",
              "    }\n",
              "\n",
              "    .dataframe tbody tr th {\n",
              "        vertical-align: top;\n",
              "    }\n",
              "\n",
              "    .dataframe thead th {\n",
              "        text-align: right;\n",
              "    }\n",
              "</style>\n",
              "<table border=\"1\" class=\"dataframe\">\n",
              "  <thead>\n",
              "    <tr style=\"text-align: right;\">\n",
              "      <th></th>\n",
              "      <th>id</th>\n",
              "      <th>user_id</th>\n",
              "      <th>call_date</th>\n",
              "      <th>duration</th>\n",
              "    </tr>\n",
              "  </thead>\n",
              "  <tbody>\n",
              "    <tr>\n",
              "      <th>0</th>\n",
              "      <td>1000_93</td>\n",
              "      <td>1000</td>\n",
              "      <td>2018-12-27</td>\n",
              "      <td>8.52</td>\n",
              "    </tr>\n",
              "    <tr>\n",
              "      <th>1</th>\n",
              "      <td>1000_145</td>\n",
              "      <td>1000</td>\n",
              "      <td>2018-12-27</td>\n",
              "      <td>13.66</td>\n",
              "    </tr>\n",
              "    <tr>\n",
              "      <th>2</th>\n",
              "      <td>1000_247</td>\n",
              "      <td>1000</td>\n",
              "      <td>2018-12-27</td>\n",
              "      <td>14.48</td>\n",
              "    </tr>\n",
              "    <tr>\n",
              "      <th>3</th>\n",
              "      <td>1000_309</td>\n",
              "      <td>1000</td>\n",
              "      <td>2018-12-28</td>\n",
              "      <td>5.76</td>\n",
              "    </tr>\n",
              "    <tr>\n",
              "      <th>4</th>\n",
              "      <td>1000_380</td>\n",
              "      <td>1000</td>\n",
              "      <td>2018-12-30</td>\n",
              "      <td>4.22</td>\n",
              "    </tr>\n",
              "    <tr>\n",
              "      <th>5</th>\n",
              "      <td>1000_388</td>\n",
              "      <td>1000</td>\n",
              "      <td>2018-12-31</td>\n",
              "      <td>2.20</td>\n",
              "    </tr>\n",
              "    <tr>\n",
              "      <th>6</th>\n",
              "      <td>1000_510</td>\n",
              "      <td>1000</td>\n",
              "      <td>2018-12-27</td>\n",
              "      <td>5.75</td>\n",
              "    </tr>\n",
              "    <tr>\n",
              "      <th>7</th>\n",
              "      <td>1000_521</td>\n",
              "      <td>1000</td>\n",
              "      <td>2018-12-28</td>\n",
              "      <td>14.18</td>\n",
              "    </tr>\n",
              "    <tr>\n",
              "      <th>8</th>\n",
              "      <td>1000_530</td>\n",
              "      <td>1000</td>\n",
              "      <td>2018-12-28</td>\n",
              "      <td>5.77</td>\n",
              "    </tr>\n",
              "    <tr>\n",
              "      <th>9</th>\n",
              "      <td>1000_544</td>\n",
              "      <td>1000</td>\n",
              "      <td>2018-12-26</td>\n",
              "      <td>4.40</td>\n",
              "    </tr>\n",
              "  </tbody>\n",
              "</table>\n",
              "</div>"
            ],
            "text/plain": [
              "         id  user_id   call_date  duration\n",
              "0   1000_93     1000  2018-12-27      8.52\n",
              "1  1000_145     1000  2018-12-27     13.66\n",
              "2  1000_247     1000  2018-12-27     14.48\n",
              "3  1000_309     1000  2018-12-28      5.76\n",
              "4  1000_380     1000  2018-12-30      4.22\n",
              "5  1000_388     1000  2018-12-31      2.20\n",
              "6  1000_510     1000  2018-12-27      5.75\n",
              "7  1000_521     1000  2018-12-28     14.18\n",
              "8  1000_530     1000  2018-12-28      5.77\n",
              "9  1000_544     1000  2018-12-26      4.40"
            ]
          },
          "execution_count": 16,
          "metadata": {},
          "output_type": "execute_result"
        }
      ],
      "source": [
        "# Print a sample of data for calls\n",
        "\n",
        "calls.head(10)"
      ]
    },
    {
      "cell_type": "markdown",
      "metadata": {
        "id": "I7PWToM2-b6U"
      },
      "source": [
        "`id` needs to be converted to integer and `call_date` needs to be converted to datetime. There are no null values. I will add a column with the total call time for each user in `user_id` and then drop the drop the duplicates. "
      ]
    },
    {
      "cell_type": "markdown",
      "metadata": {
        "id": "BxuoU4sx-b6V"
      },
      "source": [
        "### Fix data"
      ]
    },
    {
      "cell_type": "code",
      "execution_count": null,
      "metadata": {
        "id": "nxJecBam-b6V"
      },
      "outputs": [],
      "source": [
        "calls['call_date'] = pd.to_datetime(calls['call_date'], format='%Y-%m-%d') \n",
        "calls['id'] = calls['id'].astype(int)"
      ]
    },
    {
      "cell_type": "markdown",
      "metadata": {
        "id": "UD0rtbPL-b6X"
      },
      "source": [
        "### Enrich data"
      ]
    },
    {
      "cell_type": "markdown",
      "metadata": {
        "id": "VIqAhChB-b6X"
      },
      "source": [
        "Below I will create a `month` column to ease later analysis."
      ]
    },
    {
      "cell_type": "code",
      "execution_count": null,
      "metadata": {
        "id": "F-wEgr27-b6Y"
      },
      "outputs": [],
      "source": [
        "calls['month'] = calls['call_date'].dt.month"
      ]
    },
    {
      "cell_type": "code",
      "execution_count": null,
      "metadata": {
        "id": "_A2a2PGH-b6Y"
      },
      "outputs": [],
      "source": [
        "calls['duration'] = calls['duration'].apply(np.ceil)"
      ]
    },
    {
      "cell_type": "markdown",
      "metadata": {
        "id": "GmscK9ll-b6a"
      },
      "source": [
        "## Messages"
      ]
    },
    {
      "cell_type": "code",
      "execution_count": null,
      "metadata": {
        "scrolled": false,
        "id": "-NfRMUvP-b6a",
        "outputId": "fd8605d2-30a9-44b4-ab83-4bc0fb31d18c"
      },
      "outputs": [
        {
          "name": "stdout",
          "output_type": "stream",
          "text": [
            "<class 'pandas.core.frame.DataFrame'>\n",
            "RangeIndex: 76051 entries, 0 to 76050\n",
            "Data columns (total 3 columns):\n",
            " #   Column        Non-Null Count  Dtype \n",
            "---  ------        --------------  ----- \n",
            " 0   id            76051 non-null  object\n",
            " 1   user_id       76051 non-null  int64 \n",
            " 2   message_date  76051 non-null  object\n",
            "dtypes: int64(1), object(2)\n",
            "memory usage: 1.7+ MB\n"
          ]
        },
        {
          "data": {
            "text/plain": [
              "<bound method NDFrame.describe of              id  user_id message_date\n",
              "0      1000_125     1000   2018-12-27\n",
              "1      1000_160     1000   2018-12-31\n",
              "2      1000_223     1000   2018-12-31\n",
              "3      1000_251     1000   2018-12-27\n",
              "4      1000_255     1000   2018-12-26\n",
              "...         ...      ...          ...\n",
              "76046  1497_526     1497   2018-12-24\n",
              "76047  1497_536     1497   2018-12-24\n",
              "76048  1497_547     1497   2018-12-31\n",
              "76049  1497_558     1497   2018-12-24\n",
              "76050  1497_613     1497   2018-12-23\n",
              "\n",
              "[76051 rows x 3 columns]>"
            ]
          },
          "execution_count": 20,
          "metadata": {},
          "output_type": "execute_result"
        }
      ],
      "source": [
        "# Print the general/summary information about the messages' DataFrame\n",
        "message.info()\n",
        "message.describe"
      ]
    },
    {
      "cell_type": "code",
      "execution_count": null,
      "metadata": {
        "id": "uvU9RX9e-b6b",
        "outputId": "9bc597ef-a6e4-4eb2-c69d-902bcea1d8b6"
      },
      "outputs": [
        {
          "data": {
            "text/html": [
              "<div>\n",
              "<style scoped>\n",
              "    .dataframe tbody tr th:only-of-type {\n",
              "        vertical-align: middle;\n",
              "    }\n",
              "\n",
              "    .dataframe tbody tr th {\n",
              "        vertical-align: top;\n",
              "    }\n",
              "\n",
              "    .dataframe thead th {\n",
              "        text-align: right;\n",
              "    }\n",
              "</style>\n",
              "<table border=\"1\" class=\"dataframe\">\n",
              "  <thead>\n",
              "    <tr style=\"text-align: right;\">\n",
              "      <th></th>\n",
              "      <th>id</th>\n",
              "      <th>user_id</th>\n",
              "      <th>message_date</th>\n",
              "    </tr>\n",
              "  </thead>\n",
              "  <tbody>\n",
              "    <tr>\n",
              "      <th>0</th>\n",
              "      <td>1000_125</td>\n",
              "      <td>1000</td>\n",
              "      <td>2018-12-27</td>\n",
              "    </tr>\n",
              "    <tr>\n",
              "      <th>1</th>\n",
              "      <td>1000_160</td>\n",
              "      <td>1000</td>\n",
              "      <td>2018-12-31</td>\n",
              "    </tr>\n",
              "    <tr>\n",
              "      <th>2</th>\n",
              "      <td>1000_223</td>\n",
              "      <td>1000</td>\n",
              "      <td>2018-12-31</td>\n",
              "    </tr>\n",
              "    <tr>\n",
              "      <th>3</th>\n",
              "      <td>1000_251</td>\n",
              "      <td>1000</td>\n",
              "      <td>2018-12-27</td>\n",
              "    </tr>\n",
              "    <tr>\n",
              "      <th>4</th>\n",
              "      <td>1000_255</td>\n",
              "      <td>1000</td>\n",
              "      <td>2018-12-26</td>\n",
              "    </tr>\n",
              "    <tr>\n",
              "      <th>5</th>\n",
              "      <td>1000_346</td>\n",
              "      <td>1000</td>\n",
              "      <td>2018-12-29</td>\n",
              "    </tr>\n",
              "    <tr>\n",
              "      <th>6</th>\n",
              "      <td>1000_386</td>\n",
              "      <td>1000</td>\n",
              "      <td>2018-12-30</td>\n",
              "    </tr>\n",
              "    <tr>\n",
              "      <th>7</th>\n",
              "      <td>1000_413</td>\n",
              "      <td>1000</td>\n",
              "      <td>2018-12-31</td>\n",
              "    </tr>\n",
              "    <tr>\n",
              "      <th>8</th>\n",
              "      <td>1000_502</td>\n",
              "      <td>1000</td>\n",
              "      <td>2018-12-27</td>\n",
              "    </tr>\n",
              "    <tr>\n",
              "      <th>9</th>\n",
              "      <td>1000_525</td>\n",
              "      <td>1000</td>\n",
              "      <td>2018-12-28</td>\n",
              "    </tr>\n",
              "  </tbody>\n",
              "</table>\n",
              "</div>"
            ],
            "text/plain": [
              "         id  user_id message_date\n",
              "0  1000_125     1000   2018-12-27\n",
              "1  1000_160     1000   2018-12-31\n",
              "2  1000_223     1000   2018-12-31\n",
              "3  1000_251     1000   2018-12-27\n",
              "4  1000_255     1000   2018-12-26\n",
              "5  1000_346     1000   2018-12-29\n",
              "6  1000_386     1000   2018-12-30\n",
              "7  1000_413     1000   2018-12-31\n",
              "8  1000_502     1000   2018-12-27\n",
              "9  1000_525     1000   2018-12-28"
            ]
          },
          "execution_count": 21,
          "metadata": {},
          "output_type": "execute_result"
        }
      ],
      "source": [
        "# Print a sample of data for messages\n",
        "\n",
        "message.head(10)"
      ]
    },
    {
      "cell_type": "markdown",
      "metadata": {
        "id": "WOs-Kin5-b6b"
      },
      "source": [
        "`id` needs to be changed to integer and `message_date` needs to be changed to datetime. There are no null values."
      ]
    },
    {
      "cell_type": "markdown",
      "metadata": {
        "id": "H7BEFPtG-b6c"
      },
      "source": [
        "### Fix data"
      ]
    },
    {
      "cell_type": "code",
      "execution_count": null,
      "metadata": {
        "id": "AWExgzgS-b6c"
      },
      "outputs": [],
      "source": [
        "message['message_date'] = pd.to_datetime(message['message_date'], format='%Y-%m-%d') \n",
        "message['id'] = message['id'].astype(int)"
      ]
    },
    {
      "cell_type": "markdown",
      "metadata": {
        "id": "hiXRhVPU-b6d"
      },
      "source": [
        "### Enrich data"
      ]
    },
    {
      "cell_type": "markdown",
      "metadata": {
        "id": "Lq4KgeMe-b6d"
      },
      "source": [
        "Below I will create a `month` column to ease later analysis."
      ]
    },
    {
      "cell_type": "code",
      "execution_count": null,
      "metadata": {
        "id": "d4TDhIC--b6e"
      },
      "outputs": [],
      "source": [
        "message['month'] = message['message_date'].dt.month"
      ]
    },
    {
      "cell_type": "markdown",
      "metadata": {
        "id": "LzkhhIIE-b6f"
      },
      "source": [
        "## Internet"
      ]
    },
    {
      "cell_type": "code",
      "execution_count": null,
      "metadata": {
        "id": "y63D-rUU-b6f",
        "outputId": "b9685528-f38e-4d3a-bc26-451c4d98fdf0"
      },
      "outputs": [
        {
          "name": "stdout",
          "output_type": "stream",
          "text": [
            "<class 'pandas.core.frame.DataFrame'>\n",
            "RangeIndex: 104825 entries, 0 to 104824\n",
            "Data columns (total 4 columns):\n",
            " #   Column        Non-Null Count   Dtype  \n",
            "---  ------        --------------   -----  \n",
            " 0   id            104825 non-null  object \n",
            " 1   user_id       104825 non-null  int64  \n",
            " 2   session_date  104825 non-null  object \n",
            " 3   mb_used       104825 non-null  float64\n",
            "dtypes: float64(1), int64(1), object(2)\n",
            "memory usage: 3.2+ MB\n"
          ]
        },
        {
          "data": {
            "text/plain": [
              "<bound method NDFrame.describe of               id  user_id session_date  mb_used\n",
              "0        1000_13     1000   2018-12-29    89.86\n",
              "1       1000_204     1000   2018-12-31     0.00\n",
              "2       1000_379     1000   2018-12-28   660.40\n",
              "3       1000_413     1000   2018-12-26   270.99\n",
              "4       1000_442     1000   2018-12-27   880.22\n",
              "...          ...      ...          ...      ...\n",
              "104820  1499_215     1499   2018-10-20   218.06\n",
              "104821  1499_216     1499   2018-12-30   304.72\n",
              "104822  1499_217     1499   2018-09-22   292.75\n",
              "104823  1499_218     1499   2018-12-07     0.00\n",
              "104824  1499_219     1499   2018-12-24   758.31\n",
              "\n",
              "[104825 rows x 4 columns]>"
            ]
          },
          "execution_count": 24,
          "metadata": {},
          "output_type": "execute_result"
        }
      ],
      "source": [
        "# Print the general/summary information about the internet DataFrame\n",
        "internet.info()\n",
        "internet.describe\n"
      ]
    },
    {
      "cell_type": "code",
      "execution_count": null,
      "metadata": {
        "scrolled": true,
        "id": "vjKKiEdH-b6g",
        "outputId": "e9088ed0-9f93-47fe-8491-ad2d4ec616f0"
      },
      "outputs": [
        {
          "data": {
            "text/html": [
              "<div>\n",
              "<style scoped>\n",
              "    .dataframe tbody tr th:only-of-type {\n",
              "        vertical-align: middle;\n",
              "    }\n",
              "\n",
              "    .dataframe tbody tr th {\n",
              "        vertical-align: top;\n",
              "    }\n",
              "\n",
              "    .dataframe thead th {\n",
              "        text-align: right;\n",
              "    }\n",
              "</style>\n",
              "<table border=\"1\" class=\"dataframe\">\n",
              "  <thead>\n",
              "    <tr style=\"text-align: right;\">\n",
              "      <th></th>\n",
              "      <th>id</th>\n",
              "      <th>user_id</th>\n",
              "      <th>session_date</th>\n",
              "      <th>mb_used</th>\n",
              "    </tr>\n",
              "  </thead>\n",
              "  <tbody>\n",
              "    <tr>\n",
              "      <th>0</th>\n",
              "      <td>1000_13</td>\n",
              "      <td>1000</td>\n",
              "      <td>2018-12-29</td>\n",
              "      <td>89.86</td>\n",
              "    </tr>\n",
              "    <tr>\n",
              "      <th>1</th>\n",
              "      <td>1000_204</td>\n",
              "      <td>1000</td>\n",
              "      <td>2018-12-31</td>\n",
              "      <td>0.00</td>\n",
              "    </tr>\n",
              "    <tr>\n",
              "      <th>2</th>\n",
              "      <td>1000_379</td>\n",
              "      <td>1000</td>\n",
              "      <td>2018-12-28</td>\n",
              "      <td>660.40</td>\n",
              "    </tr>\n",
              "    <tr>\n",
              "      <th>3</th>\n",
              "      <td>1000_413</td>\n",
              "      <td>1000</td>\n",
              "      <td>2018-12-26</td>\n",
              "      <td>270.99</td>\n",
              "    </tr>\n",
              "    <tr>\n",
              "      <th>4</th>\n",
              "      <td>1000_442</td>\n",
              "      <td>1000</td>\n",
              "      <td>2018-12-27</td>\n",
              "      <td>880.22</td>\n",
              "    </tr>\n",
              "  </tbody>\n",
              "</table>\n",
              "</div>"
            ],
            "text/plain": [
              "         id  user_id session_date  mb_used\n",
              "0   1000_13     1000   2018-12-29    89.86\n",
              "1  1000_204     1000   2018-12-31     0.00\n",
              "2  1000_379     1000   2018-12-28   660.40\n",
              "3  1000_413     1000   2018-12-26   270.99\n",
              "4  1000_442     1000   2018-12-27   880.22"
            ]
          },
          "execution_count": 25,
          "metadata": {},
          "output_type": "execute_result"
        }
      ],
      "source": [
        "# Print a sample of data for the internet traffic\n",
        "internet.head()\n"
      ]
    },
    {
      "cell_type": "code",
      "execution_count": null,
      "metadata": {
        "scrolled": true,
        "id": "tb4WavUp-b6g",
        "outputId": "559bfc7f-f8b3-4540-e868-bd1825fb3baf"
      },
      "outputs": [
        {
          "data": {
            "text/plain": [
              "0.00      13747\n",
              "414.46        8\n",
              "435.77        8\n",
              "423.06        7\n",
              "313.79        7\n",
              "          ...  \n",
              "301.21        1\n",
              "108.62        1\n",
              "608.63        1\n",
              "212.02        1\n",
              "677.66        1\n",
              "Name: mb_used, Length: 57624, dtype: int64"
            ]
          },
          "execution_count": 26,
          "metadata": {},
          "output_type": "execute_result"
        }
      ],
      "source": [
        "internet['mb_used'].value_counts()"
      ]
    },
    {
      "cell_type": "code",
      "execution_count": null,
      "metadata": {
        "id": "UV-7zkJK-b6h",
        "outputId": "0ac8ca9d-f599-4b7b-d955-4e4b7b2d9254"
      },
      "outputs": [
        {
          "name": "stdout",
          "output_type": "stream",
          "text": [
            "13.11423801574052\n"
          ]
        }
      ],
      "source": [
        "print((13747/len(internet))*100)"
      ]
    },
    {
      "cell_type": "markdown",
      "metadata": {
        "id": "XFSSHWo6-b6i"
      },
      "source": [
        "`id` needs to be changed to integer and `session_date` needs to be changed to datetime. There are no null values.\n",
        "\n",
        "There are 13747 rows in `mb_used` that are '0.00'. Given that ese '0.00' values make up ~13% of the `mb_used` column this is not an overwhelming number but is also not an outlier and thus these unsual rows cannot be deleted without due thought. The most likely explanation for these rows is that users used data for a brief moment, perhaps opening a search browser or before their wifi kicked in. Given the nature of our analysis it would be unwise to replace the rows with '0.00' with a different value. To avoid these rows impacting the overall anlysis I will create a new dataframe without the '0.00' rows."
      ]
    },
    {
      "cell_type": "code",
      "execution_count": null,
      "metadata": {
        "id": "WPweIN5R-b6j"
      },
      "outputs": [],
      "source": [
        "internet_adjusted = internet[internet['mb_used'] != 0.00].copy()"
      ]
    },
    {
      "cell_type": "code",
      "execution_count": null,
      "metadata": {
        "scrolled": true,
        "id": "kjubtuX--b6k",
        "outputId": "7a9d7ee3-3819-4361-b044-0577f6bcf60d"
      },
      "outputs": [
        {
          "name": "stdout",
          "output_type": "stream",
          "text": [
            "<class 'pandas.core.frame.DataFrame'>\n",
            "Int64Index: 91078 entries, 0 to 104824\n",
            "Data columns (total 4 columns):\n",
            " #   Column        Non-Null Count  Dtype  \n",
            "---  ------        --------------  -----  \n",
            " 0   id            91078 non-null  object \n",
            " 1   user_id       91078 non-null  int64  \n",
            " 2   session_date  91078 non-null  object \n",
            " 3   mb_used       91078 non-null  float64\n",
            "dtypes: float64(1), int64(1), object(2)\n",
            "memory usage: 3.5+ MB\n"
          ]
        }
      ],
      "source": [
        "internet_adjusted.info()"
      ]
    },
    {
      "cell_type": "code",
      "execution_count": null,
      "metadata": {
        "scrolled": true,
        "id": "nULauvlt-b6m",
        "outputId": "e25ae423-40d6-421c-f435-90e253d5beb4"
      },
      "outputs": [
        {
          "data": {
            "text/plain": [
              "435.77    8\n",
              "414.46    8\n",
              "358.90    7\n",
              "131.28    7\n",
              "417.46    7\n",
              "         ..\n",
              "301.21    1\n",
              "108.62    1\n",
              "608.63    1\n",
              "212.02    1\n",
              "677.66    1\n",
              "Name: mb_used, Length: 57623, dtype: int64"
            ]
          },
          "execution_count": 30,
          "metadata": {},
          "output_type": "execute_result"
        }
      ],
      "source": [
        "internet_adjusted['mb_used'].value_counts()"
      ]
    },
    {
      "cell_type": "markdown",
      "metadata": {
        "id": "0XNELe15-b6o"
      },
      "source": [
        "### Fix data"
      ]
    },
    {
      "cell_type": "code",
      "execution_count": null,
      "metadata": {
        "id": "Ruh189l9-b6o"
      },
      "outputs": [],
      "source": [
        "internet_adjusted['session_date'] = pd.to_datetime(internet_adjusted['session_date'], format='%Y-%m-%d') "
      ]
    },
    {
      "cell_type": "code",
      "execution_count": null,
      "metadata": {
        "id": "vwu4eNZO-b6p"
      },
      "outputs": [],
      "source": [
        "internet_adjusted['id'] = internet_adjusted['id'].astype(int)"
      ]
    },
    {
      "cell_type": "markdown",
      "metadata": {
        "id": "lMoiwXaq-b6p"
      },
      "source": [
        "### Enrich data"
      ]
    },
    {
      "cell_type": "markdown",
      "metadata": {
        "id": "s2pZa0cZ-b6p"
      },
      "source": [
        "Below I will create a `month` column to ease later analysis."
      ]
    },
    {
      "cell_type": "code",
      "execution_count": null,
      "metadata": {
        "id": "GL-rT0gJ-b6q"
      },
      "outputs": [],
      "source": [
        "internet_adjusted['month'] = internet_adjusted['session_date'].dt.month"
      ]
    },
    {
      "cell_type": "code",
      "execution_count": null,
      "metadata": {
        "id": "56Zj3KtE-b6q",
        "outputId": "4774f5b2-db4f-49d4-d051-14aad8472954"
      },
      "outputs": [
        {
          "name": "stdout",
          "output_type": "stream",
          "text": [
            "<class 'pandas.core.frame.DataFrame'>\n",
            "Int64Index: 91078 entries, 0 to 104824\n",
            "Data columns (total 5 columns):\n",
            " #   Column        Non-Null Count  Dtype         \n",
            "---  ------        --------------  -----         \n",
            " 0   id            91078 non-null  int64         \n",
            " 1   user_id       91078 non-null  int64         \n",
            " 2   session_date  91078 non-null  datetime64[ns]\n",
            " 3   mb_used       91078 non-null  float64       \n",
            " 4   month         91078 non-null  int64         \n",
            "dtypes: datetime64[ns](1), float64(1), int64(3)\n",
            "memory usage: 4.2 MB\n"
          ]
        }
      ],
      "source": [
        "internet_adjusted.info()"
      ]
    },
    {
      "cell_type": "markdown",
      "metadata": {
        "id": "5K7zm9D0-b6r"
      },
      "source": [
        "## Study plan conditions"
      ]
    },
    {
      "cell_type": "code",
      "execution_count": null,
      "metadata": {
        "id": "BPgoqfzs-b6r",
        "outputId": "6d6cfaab-9967-4a6a-fd67-3f13bc9b958a"
      },
      "outputs": [
        {
          "data": {
            "text/html": [
              "<div>\n",
              "<style scoped>\n",
              "    .dataframe tbody tr th:only-of-type {\n",
              "        vertical-align: middle;\n",
              "    }\n",
              "\n",
              "    .dataframe tbody tr th {\n",
              "        vertical-align: top;\n",
              "    }\n",
              "\n",
              "    .dataframe thead th {\n",
              "        text-align: right;\n",
              "    }\n",
              "</style>\n",
              "<table border=\"1\" class=\"dataframe\">\n",
              "  <thead>\n",
              "    <tr style=\"text-align: right;\">\n",
              "      <th></th>\n",
              "      <th>messages_included</th>\n",
              "      <th>mb_per_month_included</th>\n",
              "      <th>minutes_included</th>\n",
              "      <th>usd_monthly_pay</th>\n",
              "      <th>usd_per_gb</th>\n",
              "      <th>usd_per_message</th>\n",
              "      <th>usd_per_minute</th>\n",
              "      <th>plan_name</th>\n",
              "    </tr>\n",
              "  </thead>\n",
              "  <tbody>\n",
              "    <tr>\n",
              "      <th>0</th>\n",
              "      <td>50</td>\n",
              "      <td>15360</td>\n",
              "      <td>500</td>\n",
              "      <td>20</td>\n",
              "      <td>10</td>\n",
              "      <td>0.03</td>\n",
              "      <td>0.03</td>\n",
              "      <td>surf</td>\n",
              "    </tr>\n",
              "    <tr>\n",
              "      <th>1</th>\n",
              "      <td>1000</td>\n",
              "      <td>30720</td>\n",
              "      <td>3000</td>\n",
              "      <td>70</td>\n",
              "      <td>7</td>\n",
              "      <td>0.01</td>\n",
              "      <td>0.01</td>\n",
              "      <td>ultimate</td>\n",
              "    </tr>\n",
              "  </tbody>\n",
              "</table>\n",
              "</div>"
            ],
            "text/plain": [
              "   messages_included  mb_per_month_included  minutes_included  \\\n",
              "0                 50                  15360               500   \n",
              "1               1000                  30720              3000   \n",
              "\n",
              "   usd_monthly_pay  usd_per_gb  usd_per_message  usd_per_minute plan_name  \n",
              "0               20          10             0.03            0.03      surf  \n",
              "1               70           7             0.01            0.01  ultimate  "
            ]
          },
          "execution_count": 35,
          "metadata": {},
          "output_type": "execute_result"
        }
      ],
      "source": [
        "# Print out the plan conditions and make sure they are clear for you\n",
        "\n",
        "plans.head()"
      ]
    },
    {
      "cell_type": "markdown",
      "metadata": {
        "id": "7d4qIHHI-b6s"
      },
      "source": [
        "## Aggregate data per user\n",
        "Now that my data preprocessing is completed I can begin to manipulate the data in the best format for analysis. To do this I will be creating pivot tables for each dataframe with the most relevent data. "
      ]
    },
    {
      "cell_type": "code",
      "execution_count": null,
      "metadata": {
        "scrolled": false,
        "id": "YimIjw2y-b6t",
        "outputId": "16e3e276-1d2e-45a4-bbd4-995a66963d9a"
      },
      "outputs": [
        {
          "data": {
            "text/html": [
              "<div>\n",
              "<style scoped>\n",
              "    .dataframe tbody tr th:only-of-type {\n",
              "        vertical-align: middle;\n",
              "    }\n",
              "\n",
              "    .dataframe tbody tr th {\n",
              "        vertical-align: top;\n",
              "    }\n",
              "\n",
              "    .dataframe thead tr th {\n",
              "        text-align: left;\n",
              "    }\n",
              "</style>\n",
              "<table border=\"1\" class=\"dataframe\">\n",
              "  <thead>\n",
              "    <tr>\n",
              "      <th></th>\n",
              "      <th>user_id</th>\n",
              "      <th>month</th>\n",
              "      <th>count</th>\n",
              "      <th>sum</th>\n",
              "    </tr>\n",
              "    <tr>\n",
              "      <th></th>\n",
              "      <th></th>\n",
              "      <th></th>\n",
              "      <th>duration</th>\n",
              "      <th>duration</th>\n",
              "    </tr>\n",
              "  </thead>\n",
              "  <tbody>\n",
              "    <tr>\n",
              "      <th>0</th>\n",
              "      <td>1000</td>\n",
              "      <td>12</td>\n",
              "      <td>16</td>\n",
              "      <td>124.0</td>\n",
              "    </tr>\n",
              "    <tr>\n",
              "      <th>1</th>\n",
              "      <td>1001</td>\n",
              "      <td>8</td>\n",
              "      <td>27</td>\n",
              "      <td>182.0</td>\n",
              "    </tr>\n",
              "    <tr>\n",
              "      <th>2</th>\n",
              "      <td>1001</td>\n",
              "      <td>9</td>\n",
              "      <td>49</td>\n",
              "      <td>315.0</td>\n",
              "    </tr>\n",
              "    <tr>\n",
              "      <th>3</th>\n",
              "      <td>1001</td>\n",
              "      <td>10</td>\n",
              "      <td>65</td>\n",
              "      <td>393.0</td>\n",
              "    </tr>\n",
              "    <tr>\n",
              "      <th>4</th>\n",
              "      <td>1001</td>\n",
              "      <td>11</td>\n",
              "      <td>64</td>\n",
              "      <td>426.0</td>\n",
              "    </tr>\n",
              "  </tbody>\n",
              "</table>\n",
              "</div>"
            ],
            "text/plain": [
              "  user_id month    count      sum\n",
              "                duration duration\n",
              "0    1000    12       16    124.0\n",
              "1    1001     8       27    182.0\n",
              "2    1001     9       49    315.0\n",
              "3    1001    10       65    393.0\n",
              "4    1001    11       64    426.0"
            ]
          },
          "execution_count": 36,
          "metadata": {},
          "output_type": "execute_result"
        }
      ],
      "source": [
        "# Calculate the number of calls made by each user per month. Save the result.\n",
        "\n",
        "calls_pivot = calls.pivot_table(index=['user_id', 'month'], values='duration', aggfunc= ['count', 'sum']).reset_index()\n",
        "\n",
        "calls_pivot.head(5)"
      ]
    },
    {
      "cell_type": "code",
      "execution_count": null,
      "metadata": {
        "id": "41p3MsaZ-b6u"
      },
      "outputs": [],
      "source": [
        "calls_pivot.columns = ['user_id', 'month', 'calls', 'duration']"
      ]
    },
    {
      "cell_type": "code",
      "execution_count": null,
      "metadata": {
        "id": "t4EPHYKO-b6u",
        "outputId": "17123903-204b-4347-cfa3-0b2e16e68d49"
      },
      "outputs": [
        {
          "data": {
            "text/html": [
              "<div>\n",
              "<style scoped>\n",
              "    .dataframe tbody tr th:only-of-type {\n",
              "        vertical-align: middle;\n",
              "    }\n",
              "\n",
              "    .dataframe tbody tr th {\n",
              "        vertical-align: top;\n",
              "    }\n",
              "\n",
              "    .dataframe thead th {\n",
              "        text-align: right;\n",
              "    }\n",
              "</style>\n",
              "<table border=\"1\" class=\"dataframe\">\n",
              "  <thead>\n",
              "    <tr style=\"text-align: right;\">\n",
              "      <th></th>\n",
              "      <th>user_id</th>\n",
              "      <th>month</th>\n",
              "      <th>calls</th>\n",
              "      <th>duration</th>\n",
              "    </tr>\n",
              "  </thead>\n",
              "  <tbody>\n",
              "    <tr>\n",
              "      <th>0</th>\n",
              "      <td>1000</td>\n",
              "      <td>12</td>\n",
              "      <td>16</td>\n",
              "      <td>124.0</td>\n",
              "    </tr>\n",
              "    <tr>\n",
              "      <th>1</th>\n",
              "      <td>1001</td>\n",
              "      <td>8</td>\n",
              "      <td>27</td>\n",
              "      <td>182.0</td>\n",
              "    </tr>\n",
              "    <tr>\n",
              "      <th>2</th>\n",
              "      <td>1001</td>\n",
              "      <td>9</td>\n",
              "      <td>49</td>\n",
              "      <td>315.0</td>\n",
              "    </tr>\n",
              "    <tr>\n",
              "      <th>3</th>\n",
              "      <td>1001</td>\n",
              "      <td>10</td>\n",
              "      <td>65</td>\n",
              "      <td>393.0</td>\n",
              "    </tr>\n",
              "    <tr>\n",
              "      <th>4</th>\n",
              "      <td>1001</td>\n",
              "      <td>11</td>\n",
              "      <td>64</td>\n",
              "      <td>426.0</td>\n",
              "    </tr>\n",
              "  </tbody>\n",
              "</table>\n",
              "</div>"
            ],
            "text/plain": [
              "   user_id  month  calls  duration\n",
              "0     1000     12     16     124.0\n",
              "1     1001      8     27     182.0\n",
              "2     1001      9     49     315.0\n",
              "3     1001     10     65     393.0\n",
              "4     1001     11     64     426.0"
            ]
          },
          "execution_count": 38,
          "metadata": {},
          "output_type": "execute_result"
        }
      ],
      "source": [
        "calls_pivot.head()"
      ]
    },
    {
      "cell_type": "code",
      "execution_count": null,
      "metadata": {
        "scrolled": true,
        "id": "zOYl-SEB-b6y",
        "outputId": "0be7b21d-7909-47f1-91f4-88f8fba28527"
      },
      "outputs": [
        {
          "data": {
            "text/html": [
              "<div>\n",
              "<style scoped>\n",
              "    .dataframe tbody tr th:only-of-type {\n",
              "        vertical-align: middle;\n",
              "    }\n",
              "\n",
              "    .dataframe tbody tr th {\n",
              "        vertical-align: top;\n",
              "    }\n",
              "\n",
              "    .dataframe thead th {\n",
              "        text-align: right;\n",
              "    }\n",
              "</style>\n",
              "<table border=\"1\" class=\"dataframe\">\n",
              "  <thead>\n",
              "    <tr style=\"text-align: right;\">\n",
              "      <th></th>\n",
              "      <th>user_id</th>\n",
              "      <th>month</th>\n",
              "      <th>id</th>\n",
              "    </tr>\n",
              "  </thead>\n",
              "  <tbody>\n",
              "    <tr>\n",
              "      <th>0</th>\n",
              "      <td>1000</td>\n",
              "      <td>12</td>\n",
              "      <td>11</td>\n",
              "    </tr>\n",
              "    <tr>\n",
              "      <th>1</th>\n",
              "      <td>1001</td>\n",
              "      <td>8</td>\n",
              "      <td>30</td>\n",
              "    </tr>\n",
              "    <tr>\n",
              "      <th>2</th>\n",
              "      <td>1001</td>\n",
              "      <td>9</td>\n",
              "      <td>44</td>\n",
              "    </tr>\n",
              "    <tr>\n",
              "      <th>3</th>\n",
              "      <td>1001</td>\n",
              "      <td>10</td>\n",
              "      <td>53</td>\n",
              "    </tr>\n",
              "    <tr>\n",
              "      <th>4</th>\n",
              "      <td>1001</td>\n",
              "      <td>11</td>\n",
              "      <td>36</td>\n",
              "    </tr>\n",
              "  </tbody>\n",
              "</table>\n",
              "</div>"
            ],
            "text/plain": [
              "   user_id  month  id\n",
              "0     1000     12  11\n",
              "1     1001      8  30\n",
              "2     1001      9  44\n",
              "3     1001     10  53\n",
              "4     1001     11  36"
            ]
          },
          "execution_count": 39,
          "metadata": {},
          "output_type": "execute_result"
        }
      ],
      "source": [
        "# Calculate the number of messages sent by each user per month. Save the result.\n",
        "\n",
        "message_pivot = message.pivot_table(index=['user_id', 'month'], values='id', aggfunc='count').reset_index()\n",
        "\n",
        "message_pivot.head(5)"
      ]
    },
    {
      "cell_type": "code",
      "execution_count": null,
      "metadata": {
        "id": "MfzYL-1H-b6z",
        "outputId": "f6755606-91e7-4f68-d2d4-b2531d0f112f"
      },
      "outputs": [
        {
          "data": {
            "text/html": [
              "<div>\n",
              "<style scoped>\n",
              "    .dataframe tbody tr th:only-of-type {\n",
              "        vertical-align: middle;\n",
              "    }\n",
              "\n",
              "    .dataframe tbody tr th {\n",
              "        vertical-align: top;\n",
              "    }\n",
              "\n",
              "    .dataframe thead th {\n",
              "        text-align: right;\n",
              "    }\n",
              "</style>\n",
              "<table border=\"1\" class=\"dataframe\">\n",
              "  <thead>\n",
              "    <tr style=\"text-align: right;\">\n",
              "      <th></th>\n",
              "      <th>user_id</th>\n",
              "      <th>month</th>\n",
              "      <th>texts</th>\n",
              "    </tr>\n",
              "  </thead>\n",
              "  <tbody>\n",
              "    <tr>\n",
              "      <th>0</th>\n",
              "      <td>1000</td>\n",
              "      <td>12</td>\n",
              "      <td>11</td>\n",
              "    </tr>\n",
              "    <tr>\n",
              "      <th>1</th>\n",
              "      <td>1001</td>\n",
              "      <td>8</td>\n",
              "      <td>30</td>\n",
              "    </tr>\n",
              "    <tr>\n",
              "      <th>2</th>\n",
              "      <td>1001</td>\n",
              "      <td>9</td>\n",
              "      <td>44</td>\n",
              "    </tr>\n",
              "    <tr>\n",
              "      <th>3</th>\n",
              "      <td>1001</td>\n",
              "      <td>10</td>\n",
              "      <td>53</td>\n",
              "    </tr>\n",
              "    <tr>\n",
              "      <th>4</th>\n",
              "      <td>1001</td>\n",
              "      <td>11</td>\n",
              "      <td>36</td>\n",
              "    </tr>\n",
              "  </tbody>\n",
              "</table>\n",
              "</div>"
            ],
            "text/plain": [
              "   user_id  month  texts\n",
              "0     1000     12     11\n",
              "1     1001      8     30\n",
              "2     1001      9     44\n",
              "3     1001     10     53\n",
              "4     1001     11     36"
            ]
          },
          "execution_count": 40,
          "metadata": {},
          "output_type": "execute_result"
        }
      ],
      "source": [
        "message_pivot['texts'] = message_pivot['id']\n",
        "message_pivot = message_pivot.drop('id', 1)\n",
        "message_pivot.head(5)"
      ]
    },
    {
      "cell_type": "code",
      "execution_count": null,
      "metadata": {
        "scrolled": false,
        "id": "ktQgaw3u-b60",
        "outputId": "32ee4454-8216-4ef9-af05-8bf53a94365a"
      },
      "outputs": [
        {
          "data": {
            "text/html": [
              "<div>\n",
              "<style scoped>\n",
              "    .dataframe tbody tr th:only-of-type {\n",
              "        vertical-align: middle;\n",
              "    }\n",
              "\n",
              "    .dataframe tbody tr th {\n",
              "        vertical-align: top;\n",
              "    }\n",
              "\n",
              "    .dataframe thead th {\n",
              "        text-align: right;\n",
              "    }\n",
              "</style>\n",
              "<table border=\"1\" class=\"dataframe\">\n",
              "  <thead>\n",
              "    <tr style=\"text-align: right;\">\n",
              "      <th></th>\n",
              "      <th>user_id</th>\n",
              "      <th>month</th>\n",
              "      <th>mb_used</th>\n",
              "    </tr>\n",
              "  </thead>\n",
              "  <tbody>\n",
              "    <tr>\n",
              "      <th>0</th>\n",
              "      <td>1000</td>\n",
              "      <td>12</td>\n",
              "      <td>1901.47</td>\n",
              "    </tr>\n",
              "    <tr>\n",
              "      <th>1</th>\n",
              "      <td>1001</td>\n",
              "      <td>8</td>\n",
              "      <td>6919.15</td>\n",
              "    </tr>\n",
              "    <tr>\n",
              "      <th>2</th>\n",
              "      <td>1001</td>\n",
              "      <td>9</td>\n",
              "      <td>13314.82</td>\n",
              "    </tr>\n",
              "    <tr>\n",
              "      <th>3</th>\n",
              "      <td>1001</td>\n",
              "      <td>10</td>\n",
              "      <td>22330.49</td>\n",
              "    </tr>\n",
              "    <tr>\n",
              "      <th>4</th>\n",
              "      <td>1001</td>\n",
              "      <td>11</td>\n",
              "      <td>18504.30</td>\n",
              "    </tr>\n",
              "  </tbody>\n",
              "</table>\n",
              "</div>"
            ],
            "text/plain": [
              "   user_id  month   mb_used\n",
              "0     1000     12   1901.47\n",
              "1     1001      8   6919.15\n",
              "2     1001      9  13314.82\n",
              "3     1001     10  22330.49\n",
              "4     1001     11  18504.30"
            ]
          },
          "execution_count": 41,
          "metadata": {},
          "output_type": "execute_result"
        }
      ],
      "source": [
        "# Calculate the volume of internet traffic used by each user per month. Save the result.\n",
        "\n",
        "internet_pivot = internet_adjusted.pivot_table(index=['user_id', 'month'], values='mb_used', aggfunc='sum').reset_index()\n",
        "\n",
        "internet_pivot.head(5)"
      ]
    },
    {
      "cell_type": "code",
      "execution_count": null,
      "metadata": {
        "id": "amXABrcw-b63"
      },
      "outputs": [],
      "source": [
        "internet_pivot['gb_used'] = internet_pivot['mb_used']/1024"
      ]
    },
    {
      "cell_type": "code",
      "execution_count": null,
      "metadata": {
        "scrolled": true,
        "id": "QBaK7xYz-b65"
      },
      "outputs": [],
      "source": [
        "internet_pivot['gb_used'] = internet_pivot['gb_used'].apply(np.ceil)"
      ]
    },
    {
      "cell_type": "code",
      "execution_count": null,
      "metadata": {
        "id": "d1ineVpb-b66",
        "outputId": "ec11d737-7f1f-4079-9bf2-4f4931f56c1f"
      },
      "outputs": [
        {
          "data": {
            "text/html": [
              "<div>\n",
              "<style scoped>\n",
              "    .dataframe tbody tr th:only-of-type {\n",
              "        vertical-align: middle;\n",
              "    }\n",
              "\n",
              "    .dataframe tbody tr th {\n",
              "        vertical-align: top;\n",
              "    }\n",
              "\n",
              "    .dataframe thead th {\n",
              "        text-align: right;\n",
              "    }\n",
              "</style>\n",
              "<table border=\"1\" class=\"dataframe\">\n",
              "  <thead>\n",
              "    <tr style=\"text-align: right;\">\n",
              "      <th></th>\n",
              "      <th>user_id</th>\n",
              "      <th>month</th>\n",
              "      <th>mb_used</th>\n",
              "      <th>gb_used</th>\n",
              "    </tr>\n",
              "  </thead>\n",
              "  <tbody>\n",
              "    <tr>\n",
              "      <th>0</th>\n",
              "      <td>1000</td>\n",
              "      <td>12</td>\n",
              "      <td>1901.47</td>\n",
              "      <td>2.0</td>\n",
              "    </tr>\n",
              "    <tr>\n",
              "      <th>1</th>\n",
              "      <td>1001</td>\n",
              "      <td>8</td>\n",
              "      <td>6919.15</td>\n",
              "      <td>7.0</td>\n",
              "    </tr>\n",
              "    <tr>\n",
              "      <th>2</th>\n",
              "      <td>1001</td>\n",
              "      <td>9</td>\n",
              "      <td>13314.82</td>\n",
              "      <td>14.0</td>\n",
              "    </tr>\n",
              "    <tr>\n",
              "      <th>3</th>\n",
              "      <td>1001</td>\n",
              "      <td>10</td>\n",
              "      <td>22330.49</td>\n",
              "      <td>22.0</td>\n",
              "    </tr>\n",
              "    <tr>\n",
              "      <th>4</th>\n",
              "      <td>1001</td>\n",
              "      <td>11</td>\n",
              "      <td>18504.30</td>\n",
              "      <td>19.0</td>\n",
              "    </tr>\n",
              "  </tbody>\n",
              "</table>\n",
              "</div>"
            ],
            "text/plain": [
              "   user_id  month   mb_used  gb_used\n",
              "0     1000     12   1901.47      2.0\n",
              "1     1001      8   6919.15      7.0\n",
              "2     1001      9  13314.82     14.0\n",
              "3     1001     10  22330.49     22.0\n",
              "4     1001     11  18504.30     19.0"
            ]
          },
          "execution_count": 44,
          "metadata": {},
          "output_type": "execute_result"
        }
      ],
      "source": [
        "internet_pivot.head()"
      ]
    },
    {
      "cell_type": "markdown",
      "metadata": {
        "id": "-tMttoeV-b67"
      },
      "source": [
        "Now that I have a created a collection of aggregate pivot tables and added a rounded `gb_used` column I need to merge them in to one dataframe so I can conduct my analysis. "
      ]
    },
    {
      "cell_type": "code",
      "execution_count": null,
      "metadata": {
        "id": "CHyJKKNi-b68"
      },
      "outputs": [],
      "source": [
        "# Merge the data for calls, minutes, messages, internet based on user_id and month\n",
        "\n",
        "#agg_plan_data1 = pd.merge(calls_total_pivot, calls_duration_pivot, 'left', on = ['user_id', 'month'])\n",
        "agg_plan_data1 = pd.merge(message_pivot, internet_pivot, 'outer', on = ['user_id', 'month'])\n",
        "agg_plan_data = pd.merge(agg_plan_data1, calls_pivot, 'left', on = ['user_id', 'month'])"
      ]
    },
    {
      "cell_type": "code",
      "execution_count": null,
      "metadata": {
        "scrolled": true,
        "id": "dQ0Syees-b69",
        "outputId": "9a619b17-3d37-4ad1-da59-60740f997c56"
      },
      "outputs": [
        {
          "name": "stdout",
          "output_type": "stream",
          "text": [
            "<class 'pandas.core.frame.DataFrame'>\n",
            "Int64Index: 2292 entries, 0 to 2291\n",
            "Data columns (total 7 columns):\n",
            " #   Column    Non-Null Count  Dtype  \n",
            "---  ------    --------------  -----  \n",
            " 0   user_id   2292 non-null   int64  \n",
            " 1   month     2292 non-null   int64  \n",
            " 2   texts     1806 non-null   float64\n",
            " 3   mb_used   2277 non-null   float64\n",
            " 4   gb_used   2277 non-null   float64\n",
            " 5   calls     2257 non-null   float64\n",
            " 6   duration  2257 non-null   float64\n",
            "dtypes: float64(5), int64(2)\n",
            "memory usage: 143.2 KB\n"
          ]
        }
      ],
      "source": [
        "agg_plan_data.info()"
      ]
    },
    {
      "cell_type": "code",
      "execution_count": null,
      "metadata": {
        "id": "UBGOlSlN-b6-"
      },
      "outputs": [],
      "source": [
        "plan_data_final = pd.merge(agg_plan_data, users, 'outer', on = ['user_id'])"
      ]
    },
    {
      "cell_type": "code",
      "execution_count": null,
      "metadata": {
        "scrolled": true,
        "id": "XuFiDOj--b6_",
        "outputId": "38f0b3dd-1f13-4200-b635-2e7bb1646d9b"
      },
      "outputs": [
        {
          "data": {
            "text/html": [
              "<div>\n",
              "<style scoped>\n",
              "    .dataframe tbody tr th:only-of-type {\n",
              "        vertical-align: middle;\n",
              "    }\n",
              "\n",
              "    .dataframe tbody tr th {\n",
              "        vertical-align: top;\n",
              "    }\n",
              "\n",
              "    .dataframe thead th {\n",
              "        text-align: right;\n",
              "    }\n",
              "</style>\n",
              "<table border=\"1\" class=\"dataframe\">\n",
              "  <thead>\n",
              "    <tr style=\"text-align: right;\">\n",
              "      <th></th>\n",
              "      <th>user_id</th>\n",
              "      <th>month</th>\n",
              "      <th>texts</th>\n",
              "      <th>mb_used</th>\n",
              "      <th>gb_used</th>\n",
              "      <th>calls</th>\n",
              "      <th>duration</th>\n",
              "      <th>first_name</th>\n",
              "      <th>last_name</th>\n",
              "      <th>age</th>\n",
              "      <th>city</th>\n",
              "      <th>reg_date</th>\n",
              "      <th>plan</th>\n",
              "      <th>churn_date</th>\n",
              "      <th>region</th>\n",
              "      <th>plan_types</th>\n",
              "    </tr>\n",
              "  </thead>\n",
              "  <tbody>\n",
              "    <tr>\n",
              "      <th>0</th>\n",
              "      <td>1000</td>\n",
              "      <td>12.0</td>\n",
              "      <td>11.0</td>\n",
              "      <td>1901.47</td>\n",
              "      <td>2.0</td>\n",
              "      <td>16.0</td>\n",
              "      <td>124.0</td>\n",
              "      <td>Anamaria</td>\n",
              "      <td>Bauer</td>\n",
              "      <td>45</td>\n",
              "      <td>Atlanta-Sandy Springs-Roswell, GA MSA</td>\n",
              "      <td>2018-12-24</td>\n",
              "      <td>ultimate</td>\n",
              "      <td>ongoing</td>\n",
              "      <td>Other</td>\n",
              "      <td>1</td>\n",
              "    </tr>\n",
              "    <tr>\n",
              "      <th>1</th>\n",
              "      <td>1001</td>\n",
              "      <td>8.0</td>\n",
              "      <td>30.0</td>\n",
              "      <td>6919.15</td>\n",
              "      <td>7.0</td>\n",
              "      <td>27.0</td>\n",
              "      <td>182.0</td>\n",
              "      <td>Mickey</td>\n",
              "      <td>Wilkerson</td>\n",
              "      <td>28</td>\n",
              "      <td>Seattle-Tacoma-Bellevue, WA MSA</td>\n",
              "      <td>2018-08-13</td>\n",
              "      <td>surf</td>\n",
              "      <td>ongoing</td>\n",
              "      <td>Other</td>\n",
              "      <td>0</td>\n",
              "    </tr>\n",
              "    <tr>\n",
              "      <th>2</th>\n",
              "      <td>1001</td>\n",
              "      <td>9.0</td>\n",
              "      <td>44.0</td>\n",
              "      <td>13314.82</td>\n",
              "      <td>14.0</td>\n",
              "      <td>49.0</td>\n",
              "      <td>315.0</td>\n",
              "      <td>Mickey</td>\n",
              "      <td>Wilkerson</td>\n",
              "      <td>28</td>\n",
              "      <td>Seattle-Tacoma-Bellevue, WA MSA</td>\n",
              "      <td>2018-08-13</td>\n",
              "      <td>surf</td>\n",
              "      <td>ongoing</td>\n",
              "      <td>Other</td>\n",
              "      <td>0</td>\n",
              "    </tr>\n",
              "    <tr>\n",
              "      <th>3</th>\n",
              "      <td>1001</td>\n",
              "      <td>10.0</td>\n",
              "      <td>53.0</td>\n",
              "      <td>22330.49</td>\n",
              "      <td>22.0</td>\n",
              "      <td>65.0</td>\n",
              "      <td>393.0</td>\n",
              "      <td>Mickey</td>\n",
              "      <td>Wilkerson</td>\n",
              "      <td>28</td>\n",
              "      <td>Seattle-Tacoma-Bellevue, WA MSA</td>\n",
              "      <td>2018-08-13</td>\n",
              "      <td>surf</td>\n",
              "      <td>ongoing</td>\n",
              "      <td>Other</td>\n",
              "      <td>0</td>\n",
              "    </tr>\n",
              "    <tr>\n",
              "      <th>4</th>\n",
              "      <td>1001</td>\n",
              "      <td>11.0</td>\n",
              "      <td>36.0</td>\n",
              "      <td>18504.30</td>\n",
              "      <td>19.0</td>\n",
              "      <td>64.0</td>\n",
              "      <td>426.0</td>\n",
              "      <td>Mickey</td>\n",
              "      <td>Wilkerson</td>\n",
              "      <td>28</td>\n",
              "      <td>Seattle-Tacoma-Bellevue, WA MSA</td>\n",
              "      <td>2018-08-13</td>\n",
              "      <td>surf</td>\n",
              "      <td>ongoing</td>\n",
              "      <td>Other</td>\n",
              "      <td>0</td>\n",
              "    </tr>\n",
              "    <tr>\n",
              "      <th>5</th>\n",
              "      <td>1001</td>\n",
              "      <td>12.0</td>\n",
              "      <td>44.0</td>\n",
              "      <td>19369.18</td>\n",
              "      <td>19.0</td>\n",
              "      <td>56.0</td>\n",
              "      <td>412.0</td>\n",
              "      <td>Mickey</td>\n",
              "      <td>Wilkerson</td>\n",
              "      <td>28</td>\n",
              "      <td>Seattle-Tacoma-Bellevue, WA MSA</td>\n",
              "      <td>2018-08-13</td>\n",
              "      <td>surf</td>\n",
              "      <td>ongoing</td>\n",
              "      <td>Other</td>\n",
              "      <td>0</td>\n",
              "    </tr>\n",
              "    <tr>\n",
              "      <th>6</th>\n",
              "      <td>1002</td>\n",
              "      <td>10.0</td>\n",
              "      <td>15.0</td>\n",
              "      <td>6552.01</td>\n",
              "      <td>7.0</td>\n",
              "      <td>11.0</td>\n",
              "      <td>59.0</td>\n",
              "      <td>Carlee</td>\n",
              "      <td>Hoffman</td>\n",
              "      <td>36</td>\n",
              "      <td>Las Vegas-Henderson-Paradise, NV MSA</td>\n",
              "      <td>2018-10-21</td>\n",
              "      <td>surf</td>\n",
              "      <td>ongoing</td>\n",
              "      <td>Other</td>\n",
              "      <td>0</td>\n",
              "    </tr>\n",
              "    <tr>\n",
              "      <th>7</th>\n",
              "      <td>1002</td>\n",
              "      <td>11.0</td>\n",
              "      <td>32.0</td>\n",
              "      <td>19345.08</td>\n",
              "      <td>19.0</td>\n",
              "      <td>55.0</td>\n",
              "      <td>386.0</td>\n",
              "      <td>Carlee</td>\n",
              "      <td>Hoffman</td>\n",
              "      <td>36</td>\n",
              "      <td>Las Vegas-Henderson-Paradise, NV MSA</td>\n",
              "      <td>2018-10-21</td>\n",
              "      <td>surf</td>\n",
              "      <td>ongoing</td>\n",
              "      <td>Other</td>\n",
              "      <td>0</td>\n",
              "    </tr>\n",
              "    <tr>\n",
              "      <th>8</th>\n",
              "      <td>1002</td>\n",
              "      <td>12.0</td>\n",
              "      <td>41.0</td>\n",
              "      <td>14396.24</td>\n",
              "      <td>15.0</td>\n",
              "      <td>47.0</td>\n",
              "      <td>384.0</td>\n",
              "      <td>Carlee</td>\n",
              "      <td>Hoffman</td>\n",
              "      <td>36</td>\n",
              "      <td>Las Vegas-Henderson-Paradise, NV MSA</td>\n",
              "      <td>2018-10-21</td>\n",
              "      <td>surf</td>\n",
              "      <td>ongoing</td>\n",
              "      <td>Other</td>\n",
              "      <td>0</td>\n",
              "    </tr>\n",
              "    <tr>\n",
              "      <th>9</th>\n",
              "      <td>1003</td>\n",
              "      <td>12.0</td>\n",
              "      <td>50.0</td>\n",
              "      <td>27044.14</td>\n",
              "      <td>27.0</td>\n",
              "      <td>149.0</td>\n",
              "      <td>1104.0</td>\n",
              "      <td>Reynaldo</td>\n",
              "      <td>Jenkins</td>\n",
              "      <td>52</td>\n",
              "      <td>Tulsa, OK MSA</td>\n",
              "      <td>2018-01-28</td>\n",
              "      <td>surf</td>\n",
              "      <td>ongoing</td>\n",
              "      <td>Other</td>\n",
              "      <td>0</td>\n",
              "    </tr>\n",
              "  </tbody>\n",
              "</table>\n",
              "</div>"
            ],
            "text/plain": [
              "   user_id  month  texts   mb_used  gb_used  calls  duration first_name  \\\n",
              "0     1000   12.0   11.0   1901.47      2.0   16.0     124.0   Anamaria   \n",
              "1     1001    8.0   30.0   6919.15      7.0   27.0     182.0     Mickey   \n",
              "2     1001    9.0   44.0  13314.82     14.0   49.0     315.0     Mickey   \n",
              "3     1001   10.0   53.0  22330.49     22.0   65.0     393.0     Mickey   \n",
              "4     1001   11.0   36.0  18504.30     19.0   64.0     426.0     Mickey   \n",
              "5     1001   12.0   44.0  19369.18     19.0   56.0     412.0     Mickey   \n",
              "6     1002   10.0   15.0   6552.01      7.0   11.0      59.0     Carlee   \n",
              "7     1002   11.0   32.0  19345.08     19.0   55.0     386.0     Carlee   \n",
              "8     1002   12.0   41.0  14396.24     15.0   47.0     384.0     Carlee   \n",
              "9     1003   12.0   50.0  27044.14     27.0  149.0    1104.0   Reynaldo   \n",
              "\n",
              "   last_name  age                                   city   reg_date      plan  \\\n",
              "0      Bauer   45  Atlanta-Sandy Springs-Roswell, GA MSA 2018-12-24  ultimate   \n",
              "1  Wilkerson   28        Seattle-Tacoma-Bellevue, WA MSA 2018-08-13      surf   \n",
              "2  Wilkerson   28        Seattle-Tacoma-Bellevue, WA MSA 2018-08-13      surf   \n",
              "3  Wilkerson   28        Seattle-Tacoma-Bellevue, WA MSA 2018-08-13      surf   \n",
              "4  Wilkerson   28        Seattle-Tacoma-Bellevue, WA MSA 2018-08-13      surf   \n",
              "5  Wilkerson   28        Seattle-Tacoma-Bellevue, WA MSA 2018-08-13      surf   \n",
              "6    Hoffman   36   Las Vegas-Henderson-Paradise, NV MSA 2018-10-21      surf   \n",
              "7    Hoffman   36   Las Vegas-Henderson-Paradise, NV MSA 2018-10-21      surf   \n",
              "8    Hoffman   36   Las Vegas-Henderson-Paradise, NV MSA 2018-10-21      surf   \n",
              "9    Jenkins   52                          Tulsa, OK MSA 2018-01-28      surf   \n",
              "\n",
              "  churn_date region  plan_types  \n",
              "0    ongoing  Other           1  \n",
              "1    ongoing  Other           0  \n",
              "2    ongoing  Other           0  \n",
              "3    ongoing  Other           0  \n",
              "4    ongoing  Other           0  \n",
              "5    ongoing  Other           0  \n",
              "6    ongoing  Other           0  \n",
              "7    ongoing  Other           0  \n",
              "8    ongoing  Other           0  \n",
              "9    ongoing  Other           0  "
            ]
          },
          "execution_count": 48,
          "metadata": {},
          "output_type": "execute_result"
        }
      ],
      "source": [
        "plan_data_final.head(10)"
      ]
    },
    {
      "cell_type": "code",
      "execution_count": null,
      "metadata": {
        "scrolled": false,
        "id": "JCeeBPdu-b7A",
        "outputId": "1d7e43f8-2211-4161-a8d7-66d35c28633c"
      },
      "outputs": [
        {
          "name": "stdout",
          "output_type": "stream",
          "text": [
            "<class 'pandas.core.frame.DataFrame'>\n",
            "Int64Index: 2302 entries, 0 to 2301\n",
            "Data columns (total 16 columns):\n",
            " #   Column      Non-Null Count  Dtype         \n",
            "---  ------      --------------  -----         \n",
            " 0   user_id     2302 non-null   int64         \n",
            " 1   month       2292 non-null   float64       \n",
            " 2   texts       1806 non-null   float64       \n",
            " 3   mb_used     2277 non-null   float64       \n",
            " 4   gb_used     2277 non-null   float64       \n",
            " 5   calls       2257 non-null   float64       \n",
            " 6   duration    2257 non-null   float64       \n",
            " 7   first_name  2302 non-null   object        \n",
            " 8   last_name   2302 non-null   object        \n",
            " 9   age         2302 non-null   int64         \n",
            " 10  city        2302 non-null   object        \n",
            " 11  reg_date    2302 non-null   datetime64[ns]\n",
            " 12  plan        2302 non-null   object        \n",
            " 13  churn_date  2302 non-null   object        \n",
            " 14  region      2302 non-null   object        \n",
            " 15  plan_types  2302 non-null   int64         \n",
            "dtypes: datetime64[ns](1), float64(6), int64(3), object(6)\n",
            "memory usage: 305.7+ KB\n"
          ]
        }
      ],
      "source": [
        "plan_data_final.info()"
      ]
    },
    {
      "cell_type": "markdown",
      "metadata": {
        "id": "fuH8x-_a-b7B"
      },
      "source": [
        "Now that I have compiled my final dataframe I was hoping to be able to jump right in to the analysis. Instead however, I can see that there are null values in `texts` and `mb_used`. I can infer these null values are appearing because the users never texted or used data for those respective months. For this reason I will quickly fill the null values with '0' to indicate as such. \n",
        "\n",
        "I will also drop the 10 rows that have null values in `month`. "
      ]
    },
    {
      "cell_type": "code",
      "execution_count": null,
      "metadata": {
        "scrolled": false,
        "id": "5UN_9e5y-b7B"
      },
      "outputs": [],
      "source": [
        "plan_data_final = plan_data_final.dropna(subset = ['month'])"
      ]
    },
    {
      "cell_type": "code",
      "execution_count": null,
      "metadata": {
        "id": "vQZyvNDe-b7C"
      },
      "outputs": [],
      "source": [
        "plan_data_final = plan_data_final.fillna(0)"
      ]
    },
    {
      "cell_type": "code",
      "execution_count": null,
      "metadata": {
        "scrolled": true,
        "id": "PoU30sM_-b7C",
        "outputId": "af7d7818-48d3-4442-8318-9b38c24ce341"
      },
      "outputs": [
        {
          "name": "stdout",
          "output_type": "stream",
          "text": [
            "<class 'pandas.core.frame.DataFrame'>\n",
            "Int64Index: 2292 entries, 0 to 2291\n",
            "Data columns (total 16 columns):\n",
            " #   Column      Non-Null Count  Dtype         \n",
            "---  ------      --------------  -----         \n",
            " 0   user_id     2292 non-null   int64         \n",
            " 1   month       2292 non-null   float64       \n",
            " 2   texts       2292 non-null   float64       \n",
            " 3   mb_used     2292 non-null   float64       \n",
            " 4   gb_used     2292 non-null   float64       \n",
            " 5   calls       2292 non-null   float64       \n",
            " 6   duration    2292 non-null   float64       \n",
            " 7   first_name  2292 non-null   object        \n",
            " 8   last_name   2292 non-null   object        \n",
            " 9   age         2292 non-null   int64         \n",
            " 10  city        2292 non-null   object        \n",
            " 11  reg_date    2292 non-null   datetime64[ns]\n",
            " 12  plan        2292 non-null   object        \n",
            " 13  churn_date  2292 non-null   object        \n",
            " 14  region      2292 non-null   object        \n",
            " 15  plan_types  2292 non-null   int64         \n",
            "dtypes: datetime64[ns](1), float64(6), int64(3), object(6)\n",
            "memory usage: 304.4+ KB\n"
          ]
        }
      ],
      "source": [
        "plan_data_final.info()"
      ]
    },
    {
      "cell_type": "code",
      "execution_count": null,
      "metadata": {
        "id": "bppwS_h6-b7C",
        "outputId": "61418d3a-9568-4b9e-b109-1eeaf4cb3214"
      },
      "outputs": [
        {
          "data": {
            "text/plain": [
              "12.0    469\n",
              "11.0    410\n",
              "10.0    343\n",
              "9.0     280\n",
              "8.0     232\n",
              "7.0     180\n",
              "6.0     144\n",
              "5.0     106\n",
              "4.0      71\n",
              "3.0      35\n",
              "2.0      16\n",
              "1.0       6\n",
              "Name: month, dtype: int64"
            ]
          },
          "execution_count": 53,
          "metadata": {},
          "output_type": "execute_result"
        }
      ],
      "source": [
        "plan_data_final['month'].value_counts()"
      ]
    },
    {
      "cell_type": "markdown",
      "metadata": {
        "id": "cUbOym7b-b7D"
      },
      "source": [
        "It worked! Now I can move into the actual analysis."
      ]
    },
    {
      "cell_type": "markdown",
      "metadata": {
        "id": "ApBbSxj5-b7E"
      },
      "source": [
        "The first step in this analysis journey is to create a column with the profit/month for each user. To do this I will create a function that iterates over each row and either returns the plan fee if the user did not surpass it or the total fee the user paid including any additional expenses incurred."
      ]
    },
    {
      "cell_type": "code",
      "execution_count": null,
      "metadata": {
        "id": "IGb6RLIo-b7E"
      },
      "outputs": [],
      "source": [
        "# Calculate the monthly revenue for each user\n",
        "\n",
        "def profit(row):\n",
        "    fee = 0\n",
        "    if row['plan'] == 'ultimate': \n",
        "        fee = 70\n",
        "        if row['duration'] > 3000:\n",
        "            fee += (row['duration'] - 3000) * 0.01\n",
        "        if row['texts'] > 1000:\n",
        "            fee += (row['texts'] - 1000) * 0.01\n",
        "        if row['mb_used'] > 30720:\n",
        "            fee += (row['mb_used'] - 30720) * 0.007\n",
        "        return fee\n",
        "    \n",
        "    elif row['plan'] == 'surf':\n",
        "        fee = 20\n",
        "        if row['duration'] > 500:\n",
        "            fee += (row['duration'] - 500) * 0.03\n",
        "        if row['texts'] > 50:\n",
        "            fee += (row['texts'] - 50) * 0.03\n",
        "        if row['mb_used'] > 15360:\n",
        "            fee += (row['mb_used'] - 15360) * 0.002\n",
        "        return fee"
      ]
    },
    {
      "cell_type": "code",
      "execution_count": null,
      "metadata": {
        "id": "nLRTFAKH-b7F"
      },
      "outputs": [],
      "source": [
        "plan_data_final['profit'] = plan_data_final.apply(profit, axis=1)"
      ]
    },
    {
      "cell_type": "code",
      "execution_count": null,
      "metadata": {
        "scrolled": false,
        "id": "wcvwgAln-b7G",
        "outputId": "3c3ded47-d0f4-4728-8a6a-6b0bb62c33b5"
      },
      "outputs": [
        {
          "data": {
            "text/html": [
              "<div>\n",
              "<style scoped>\n",
              "    .dataframe tbody tr th:only-of-type {\n",
              "        vertical-align: middle;\n",
              "    }\n",
              "\n",
              "    .dataframe tbody tr th {\n",
              "        vertical-align: top;\n",
              "    }\n",
              "\n",
              "    .dataframe thead th {\n",
              "        text-align: right;\n",
              "    }\n",
              "</style>\n",
              "<table border=\"1\" class=\"dataframe\">\n",
              "  <thead>\n",
              "    <tr style=\"text-align: right;\">\n",
              "      <th></th>\n",
              "      <th>user_id</th>\n",
              "      <th>month</th>\n",
              "      <th>texts</th>\n",
              "      <th>mb_used</th>\n",
              "      <th>gb_used</th>\n",
              "      <th>calls</th>\n",
              "      <th>duration</th>\n",
              "      <th>first_name</th>\n",
              "      <th>last_name</th>\n",
              "      <th>age</th>\n",
              "      <th>city</th>\n",
              "      <th>reg_date</th>\n",
              "      <th>plan</th>\n",
              "      <th>churn_date</th>\n",
              "      <th>region</th>\n",
              "      <th>plan_types</th>\n",
              "      <th>profit</th>\n",
              "    </tr>\n",
              "  </thead>\n",
              "  <tbody>\n",
              "    <tr>\n",
              "      <th>0</th>\n",
              "      <td>1000</td>\n",
              "      <td>12.0</td>\n",
              "      <td>11.0</td>\n",
              "      <td>1901.47</td>\n",
              "      <td>2.0</td>\n",
              "      <td>16.0</td>\n",
              "      <td>124.0</td>\n",
              "      <td>Anamaria</td>\n",
              "      <td>Bauer</td>\n",
              "      <td>45</td>\n",
              "      <td>Atlanta-Sandy Springs-Roswell, GA MSA</td>\n",
              "      <td>2018-12-24</td>\n",
              "      <td>ultimate</td>\n",
              "      <td>ongoing</td>\n",
              "      <td>Other</td>\n",
              "      <td>1</td>\n",
              "      <td>70.00000</td>\n",
              "    </tr>\n",
              "    <tr>\n",
              "      <th>1</th>\n",
              "      <td>1001</td>\n",
              "      <td>8.0</td>\n",
              "      <td>30.0</td>\n",
              "      <td>6919.15</td>\n",
              "      <td>7.0</td>\n",
              "      <td>27.0</td>\n",
              "      <td>182.0</td>\n",
              "      <td>Mickey</td>\n",
              "      <td>Wilkerson</td>\n",
              "      <td>28</td>\n",
              "      <td>Seattle-Tacoma-Bellevue, WA MSA</td>\n",
              "      <td>2018-08-13</td>\n",
              "      <td>surf</td>\n",
              "      <td>ongoing</td>\n",
              "      <td>Other</td>\n",
              "      <td>0</td>\n",
              "      <td>20.00000</td>\n",
              "    </tr>\n",
              "    <tr>\n",
              "      <th>2</th>\n",
              "      <td>1001</td>\n",
              "      <td>9.0</td>\n",
              "      <td>44.0</td>\n",
              "      <td>13314.82</td>\n",
              "      <td>14.0</td>\n",
              "      <td>49.0</td>\n",
              "      <td>315.0</td>\n",
              "      <td>Mickey</td>\n",
              "      <td>Wilkerson</td>\n",
              "      <td>28</td>\n",
              "      <td>Seattle-Tacoma-Bellevue, WA MSA</td>\n",
              "      <td>2018-08-13</td>\n",
              "      <td>surf</td>\n",
              "      <td>ongoing</td>\n",
              "      <td>Other</td>\n",
              "      <td>0</td>\n",
              "      <td>20.00000</td>\n",
              "    </tr>\n",
              "    <tr>\n",
              "      <th>3</th>\n",
              "      <td>1001</td>\n",
              "      <td>10.0</td>\n",
              "      <td>53.0</td>\n",
              "      <td>22330.49</td>\n",
              "      <td>22.0</td>\n",
              "      <td>65.0</td>\n",
              "      <td>393.0</td>\n",
              "      <td>Mickey</td>\n",
              "      <td>Wilkerson</td>\n",
              "      <td>28</td>\n",
              "      <td>Seattle-Tacoma-Bellevue, WA MSA</td>\n",
              "      <td>2018-08-13</td>\n",
              "      <td>surf</td>\n",
              "      <td>ongoing</td>\n",
              "      <td>Other</td>\n",
              "      <td>0</td>\n",
              "      <td>34.03098</td>\n",
              "    </tr>\n",
              "    <tr>\n",
              "      <th>4</th>\n",
              "      <td>1001</td>\n",
              "      <td>11.0</td>\n",
              "      <td>36.0</td>\n",
              "      <td>18504.30</td>\n",
              "      <td>19.0</td>\n",
              "      <td>64.0</td>\n",
              "      <td>426.0</td>\n",
              "      <td>Mickey</td>\n",
              "      <td>Wilkerson</td>\n",
              "      <td>28</td>\n",
              "      <td>Seattle-Tacoma-Bellevue, WA MSA</td>\n",
              "      <td>2018-08-13</td>\n",
              "      <td>surf</td>\n",
              "      <td>ongoing</td>\n",
              "      <td>Other</td>\n",
              "      <td>0</td>\n",
              "      <td>26.28860</td>\n",
              "    </tr>\n",
              "  </tbody>\n",
              "</table>\n",
              "</div>"
            ],
            "text/plain": [
              "   user_id  month  texts   mb_used  gb_used  calls  duration first_name  \\\n",
              "0     1000   12.0   11.0   1901.47      2.0   16.0     124.0   Anamaria   \n",
              "1     1001    8.0   30.0   6919.15      7.0   27.0     182.0     Mickey   \n",
              "2     1001    9.0   44.0  13314.82     14.0   49.0     315.0     Mickey   \n",
              "3     1001   10.0   53.0  22330.49     22.0   65.0     393.0     Mickey   \n",
              "4     1001   11.0   36.0  18504.30     19.0   64.0     426.0     Mickey   \n",
              "\n",
              "   last_name  age                                   city   reg_date      plan  \\\n",
              "0      Bauer   45  Atlanta-Sandy Springs-Roswell, GA MSA 2018-12-24  ultimate   \n",
              "1  Wilkerson   28        Seattle-Tacoma-Bellevue, WA MSA 2018-08-13      surf   \n",
              "2  Wilkerson   28        Seattle-Tacoma-Bellevue, WA MSA 2018-08-13      surf   \n",
              "3  Wilkerson   28        Seattle-Tacoma-Bellevue, WA MSA 2018-08-13      surf   \n",
              "4  Wilkerson   28        Seattle-Tacoma-Bellevue, WA MSA 2018-08-13      surf   \n",
              "\n",
              "  churn_date region  plan_types    profit  \n",
              "0    ongoing  Other           1  70.00000  \n",
              "1    ongoing  Other           0  20.00000  \n",
              "2    ongoing  Other           0  20.00000  \n",
              "3    ongoing  Other           0  34.03098  \n",
              "4    ongoing  Other           0  26.28860  "
            ]
          },
          "execution_count": 56,
          "metadata": {},
          "output_type": "execute_result"
        }
      ],
      "source": [
        "plan_data_final.head()"
      ]
    },
    {
      "cell_type": "markdown",
      "metadata": {
        "id": "IWLk7qbi-b7G"
      },
      "source": [
        "## Study user behaviour"
      ]
    },
    {
      "cell_type": "markdown",
      "metadata": {
        "id": "PzuGkg7k-b7H"
      },
      "source": [
        "Now begins the actual analysis! I will be examining each of the three aspects of the two plans (calls, messages, and internet) seperately to avoid any confusion and to ensure I can confidently make claims about the data. This will allow me to make effective claims about the profitability of each plan with regard to each specific aspect."
      ]
    },
    {
      "cell_type": "markdown",
      "metadata": {
        "id": "tqgpcqGL-b7H"
      },
      "source": [
        "### Calls"
      ]
    },
    {
      "cell_type": "code",
      "execution_count": null,
      "metadata": {
        "scrolled": false,
        "id": "u_XtZ1nY-b7I",
        "outputId": "28f2ad70-167b-4664-93f2-1a533f9fe66e"
      },
      "outputs": [
        {
          "data": {
            "text/plain": [
              "Text(0.5, 1.0, 'Average Call Duration per Month')"
            ]
          },
          "execution_count": 57,
          "metadata": {},
          "output_type": "execute_result"
        },
        {
          "data": {
            "image/png": "[encoded data removed]",
            "text/plain": [
              "<Figure size 720x864 with 1 Axes>"
            ]
          },
          "metadata": {
            "needs_background": "light"
          },
          "output_type": "display_data"
        }
      ],
      "source": [
        "# Compare average duration of calls per each plan per each distinct month. Plot a bar plat to visualize it.\n",
        "\n",
        "call_length_avg = plan_data_final.pivot_table(index = ['month', 'plan'], values = 'duration')\n",
        "call_length_avg.plot(kind = 'bar', figsize = (10,12))\n",
        "plt.title('Average Call Duration per Month')"
      ]
    },
    {
      "cell_type": "code",
      "execution_count": null,
      "metadata": {
        "scrolled": false,
        "id": "Xf_Co3mu-b7K",
        "outputId": "5b24d1f9-7228-47b1-a787-42b49cce7b42"
      },
      "outputs": [
        {
          "data": {
            "text/plain": [
              "Text(0.5, 1.0, 'Durations of Calls for each Plan')"
            ]
          },
          "execution_count": 58,
          "metadata": {},
          "output_type": "execute_result"
        },
        {
          "data": {
            "image/png": "[encoded data removed]",
            "text/plain": [
              "<Figure size 432x288 with 1 Axes>"
            ]
          },
          "metadata": {
            "needs_background": "light"
          },
          "output_type": "display_data"
        }
      ],
      "source": [
        "# Compare the number of minutes users of each plan require each month. Plot a histogram.\n",
        "\n",
        "surf_minutes_used = plan_data_final.query('plan == \"surf\"')\n",
        "ultimate_minutes_used = plan_data_final.query('plan == \"ultimate\"')\n",
        "\n",
        "surf_minutes_used['duration'].hist(bins = 20, alpha = .5, color = 'green')\n",
        "ultimate_minutes_used['duration'].hist(bins = 20, alpha = .5, color = 'red')\n",
        "plt.title('Durations of Calls for each Plan')"
      ]
    },
    {
      "cell_type": "code",
      "execution_count": null,
      "metadata": {
        "id": "fVyz8i0K-b7K",
        "outputId": "beb27e69-16fd-471f-8c55-fab57cb15b7a"
      },
      "outputs": [
        {
          "name": "stdout",
          "output_type": "stream",
          "text": [
            "                  duration\n",
            "month plan                \n",
            "1.0   surf      203.000000\n",
            "      ultimate  193.500000\n",
            "2.0   surf      297.000000\n",
            "      ultimate  403.142857\n",
            "3.0   surf      330.000000\n",
            "      ultimate  304.250000\n",
            "4.0   surf      351.540000\n",
            "      ultimate  336.857143\n",
            "5.0   surf      399.584416\n",
            "      ultimate  406.241379\n",
            "6.0   surf      431.298969\n",
            "      ultimate  370.957447\n",
            "7.0   surf      449.983471\n",
            "      ultimate  427.067797\n",
            "8.0   surf      412.577640\n",
            "      ultimate  421.436620\n",
            "9.0   surf      414.226804\n",
            "      ultimate  437.511628\n",
            "10.0  surf      429.729958\n",
            "      ultimate  450.735849\n",
            "11.0  surf      423.325088\n",
            "      ultimate  445.196850\n",
            "12.0  surf      473.836478\n",
            "      ultimate  459.099338\n",
            "\n",
            "duration    5429.312322\n",
            "dtype: float64\n"
          ]
        }
      ],
      "source": [
        "# Calculate the mean and the variance of the monthly call duration\n",
        "\n",
        "print(call_length_avg)\n",
        "print()\n",
        "variance = np.var(call_length_avg)\n",
        "print(variance)"
      ]
    },
    {
      "cell_type": "code",
      "execution_count": null,
      "metadata": {
        "scrolled": true,
        "id": "axIaOhit-b7L",
        "outputId": "1863f471-e287-4385-d4ac-a181bd0f891e"
      },
      "outputs": [
        {
          "data": {
            "text/plain": [
              "<AxesSubplot:>"
            ]
          },
          "execution_count": 60,
          "metadata": {},
          "output_type": "execute_result"
        },
        {
          "data": {
            "image/png": "[encoded data removed]",
            "text/plain": [
              "<Figure size 432x288 with 1 Axes>"
            ]
          },
          "metadata": {
            "needs_background": "light"
          },
          "output_type": "display_data"
        }
      ],
      "source": [
        "# Plot a boxplot to visualize the distribution of the monthly call duration\n",
        "\n",
        "call_length_avg.boxplot()"
      ]
    },
    {
      "cell_type": "code",
      "execution_count": null,
      "metadata": {
        "id": "BTc1q2Qi-b7M",
        "outputId": "f1dbec32-55e2-4568-806c-b7e071564487"
      },
      "outputs": [
        {
          "data": {
            "image/png": "[encoded data removed]",
            "text/plain": [
              "<Figure size 504x504 with 1 Axes>"
            ]
          },
          "metadata": {
            "needs_background": "light"
          },
          "output_type": "display_data"
        },
        {
          "data": {
            "image/png": "[encoded data removed]",
            "text/plain": [
              "<Figure size 504x504 with 1 Axes>"
            ]
          },
          "metadata": {
            "needs_background": "light"
          },
          "output_type": "display_data"
        }
      ],
      "source": [
        "#fig 1 is 'surf' fig 2 is 'ultimate'\n",
        "for calllength, calldata in plan_data_final.groupby('plan'):\n",
        "    calldata.boxplot(column = 'duration', by = 'month', figsize = (7,7))"
      ]
    },
    {
      "cell_type": "markdown",
      "metadata": {
        "id": "UJpT6vHs-b7M"
      },
      "source": [
        "**Conclusions**\n",
        "\n",
        "Analyzing the average call data for the two plans provides some interesting information:\n",
        "\n",
        "- There is very little difference in call duration between the the users of the two plans, and in fact users of the 'surf' plan have calls that are on average slightly longer than those on the 'ultimate' plan (with the exception of an outlier in February)\n",
        "- The duration of calls for users on both plans rises consistently throughout the year to level out between July and December.\n",
        "- This trend is represented again when looking at the total number of minutes used by users of both plans. But, unexpectedly, users of the 'surf' plan use roughly double the number of minutes on average per month than users of the 'ultimate' plan. \n",
        "- The average length of a call for both plans is just under 400 seconds. "
      ]
    },
    {
      "cell_type": "markdown",
      "metadata": {
        "id": "OIzk-9Vj-b7N"
      },
      "source": [
        " "
      ]
    },
    {
      "cell_type": "markdown",
      "metadata": {
        "id": "1D2j3frz-b7O"
      },
      "source": [
        "### Messages"
      ]
    },
    {
      "cell_type": "code",
      "execution_count": null,
      "metadata": {
        "scrolled": true,
        "id": "thCkNrDh-b7P",
        "outputId": "1f12a1b9-beb7-4f25-dad4-a7e1e9ef1027"
      },
      "outputs": [
        {
          "data": {
            "text/plain": [
              "Text(0.5, 1.0, 'Average Texts per Month by Plan')"
            ]
          },
          "execution_count": 62,
          "metadata": {},
          "output_type": "execute_result"
        },
        {
          "data": {
            "image/png": "[encoded data removed]",
            "text/plain": [
              "<Figure size 504x720 with 1 Axes>"
            ]
          },
          "metadata": {
            "needs_background": "light"
          },
          "output_type": "display_data"
        }
      ],
      "source": [
        "# Compare the number of messages users of each plan tend to send each month\n",
        "\n",
        "text_total_avg = plan_data_final.pivot_table(index = ['month', 'plan'], values = 'texts')\n",
        "text_total_avg.plot(kind = 'bar', figsize = (7,10))\n",
        "plt.title('Average Texts per Month by Plan')"
      ]
    },
    {
      "cell_type": "code",
      "execution_count": null,
      "metadata": {
        "id": "hTb3HLNq-b7P",
        "outputId": "381f26a3-05f8-4ce9-a1b1-fb92143c035d"
      },
      "outputs": [
        {
          "data": {
            "text/plain": [
              "Text(0.5, 1.0, 'Texts Used for each Plan')"
            ]
          },
          "execution_count": 63,
          "metadata": {},
          "output_type": "execute_result"
        },
        {
          "data": {
            "image/png": "[encoded data removed]",
            "text/plain": [
              "<Figure size 432x288 with 1 Axes>"
            ]
          },
          "metadata": {
            "needs_background": "light"
          },
          "output_type": "display_data"
        }
      ],
      "source": [
        "surf_texts = plan_data_final.query('plan == \"surf\"')\n",
        "ultimate_texts = plan_data_final.query('plan == \"ultimate\"')\n",
        "\n",
        "surf_minutes_used['texts'].hist(bins = 20, alpha = .5, color = 'green')\n",
        "ultimate_minutes_used['texts'].hist(bins = 20, alpha = .5, color = 'red')\n",
        "plt.title('Texts Used for each Plan')"
      ]
    },
    {
      "cell_type": "code",
      "execution_count": null,
      "metadata": {
        "id": "5ZWzJdsr-b7Q",
        "outputId": "38679107-9444-4164-e564-b3eeb1ef884f"
      },
      "outputs": [
        {
          "name": "stdout",
          "output_type": "stream",
          "text": [
            "                    texts\n",
            "month plan               \n",
            "1.0   surf      10.500000\n",
            "      ultimate  15.500000\n",
            "2.0   surf      12.000000\n",
            "      ultimate  21.571429\n",
            "3.0   surf      15.260870\n",
            "      ultimate  20.250000\n",
            "4.0   surf      17.400000\n",
            "      ultimate  22.047619\n",
            "5.0   surf      24.012987\n",
            "      ultimate  32.103448\n",
            "6.0   surf      25.298969\n",
            "      ultimate  29.340426\n",
            "7.0   surf      27.033058\n",
            "      ultimate  32.830508\n",
            "8.0   surf      28.956522\n",
            "      ultimate  38.478873\n",
            "9.0   surf      30.762887\n",
            "      ultimate  37.895349\n",
            "10.0  surf      33.839662\n",
            "      ultimate  39.443396\n",
            "11.0  surf      32.385159\n",
            "      ultimate  38.606299\n",
            "12.0  surf      38.600629\n",
            "      ultimate  45.006623\n",
            "\n",
            "texts    87.93185\n",
            "dtype: float64\n"
          ]
        }
      ],
      "source": [
        "# Calculate the mean and the variance of the total texts sent per plan\n",
        "\n",
        "print(text_total_avg)\n",
        "print()\n",
        "variance = np.var(text_total_avg)\n",
        "print(variance)"
      ]
    },
    {
      "cell_type": "code",
      "execution_count": null,
      "metadata": {
        "id": "4Sd5gPCa-b7Q",
        "outputId": "eface485-7709-4da6-9ae0-55a963ba9cb3"
      },
      "outputs": [
        {
          "data": {
            "image/png": "[encoded data removed]",
            "text/plain": [
              "<Figure size 504x504 with 1 Axes>"
            ]
          },
          "metadata": {
            "needs_background": "light"
          },
          "output_type": "display_data"
        },
        {
          "data": {
            "image/png": "[encoded data removed]",
            "text/plain": [
              "<Figure size 504x504 with 1 Axes>"
            ]
          },
          "metadata": {
            "needs_background": "light"
          },
          "output_type": "display_data"
        }
      ],
      "source": [
        "for textuse, textdata in plan_data_final.groupby('plan_types'):\n",
        "    textdata.boxplot(column = 'texts', by = 'plan', figsize = (7,7))"
      ]
    },
    {
      "cell_type": "markdown",
      "metadata": {
        "id": "xWXSOI9V-b7R"
      },
      "source": [
        "**Conclusions**\n",
        "\n",
        "When we examine texts divided by plans we see pretty much what we expected:\n",
        "\n",
        "- Users of the 'ultimate' plan send more texts per month than users of 'surf'\n",
        "- Like with calls, users escalate through the year, sending more than double the number of texts in December than in January\n",
        "- Users of the 'surf' plan are fairly likely to surpass their text limits, while the average use is lower than those on the ultimate plan, the outliers on surf actually text more than those on ultimate. "
      ]
    },
    {
      "cell_type": "markdown",
      "metadata": {
        "id": "pmjLt6_j-b7T"
      },
      "source": [
        "### Internet"
      ]
    },
    {
      "cell_type": "code",
      "execution_count": null,
      "metadata": {
        "scrolled": false,
        "id": "ej5oYRl5-b7U",
        "outputId": "b19d456c-2428-46a3-ebed-775c5bf0c85d"
      },
      "outputs": [
        {
          "data": {
            "text/plain": [
              "Text(0.5, 1.0, 'Average Internet Usage per Month by Plan')"
            ]
          },
          "execution_count": 66,
          "metadata": {},
          "output_type": "execute_result"
        },
        {
          "data": {
            "image/png": "[encoded data removed]",
            "text/plain": [
              "<Figure size 720x864 with 1 Axes>"
            ]
          },
          "metadata": {
            "needs_background": "light"
          },
          "output_type": "display_data"
        }
      ],
      "source": [
        "# Compare the amount of internet traffic consumed by users per plan\n",
        "\n",
        "internet_usage_avg = plan_data_final.pivot_table(index = ['month', 'plan'], values = 'gb_used')\n",
        "internet_usage_avg.plot(kind = 'bar', figsize = (10,12))\n",
        "plt.title('Average Internet Usage per Month by Plan')"
      ]
    },
    {
      "cell_type": "code",
      "execution_count": null,
      "metadata": {
        "id": "iMSZB7Y9-b7U",
        "outputId": "e6ff72c2-8f60-4a81-bd5d-c0d91e588041"
      },
      "outputs": [
        {
          "data": {
            "text/plain": [
              "Text(0.5, 1.0, 'Data Used for each Plan')"
            ]
          },
          "execution_count": 67,
          "metadata": {},
          "output_type": "execute_result"
        },
        {
          "data": {
            "image/png": "[encoded data removed]",
            "text/plain": [
              "<Figure size 432x288 with 1 Axes>"
            ]
          },
          "metadata": {
            "needs_background": "light"
          },
          "output_type": "display_data"
        }
      ],
      "source": [
        "surf_data_used = plan_data_final.query('plan == \"surf\"')\n",
        "ultimate_data_used = plan_data_final.query('plan == \"ultimate\"')\n",
        "\n",
        "surf_minutes_used['gb_used'].hist(bins = 20, alpha = .5, color = 'green')\n",
        "ultimate_minutes_used['gb_used'].hist(bins = 20, alpha = .5, color = 'red')\n",
        "plt.title('Data Used for each Plan')"
      ]
    },
    {
      "cell_type": "code",
      "execution_count": null,
      "metadata": {
        "id": "hIj2UF8F-b7V",
        "outputId": "0258709b-8866-44a0-d6fe-6d75ae3b944f"
      },
      "outputs": [
        {
          "name": "stdout",
          "output_type": "stream",
          "text": [
            "                  gb_used\n",
            "month plan               \n",
            "1.0   surf       5.000000\n",
            "      ultimate   7.250000\n",
            "2.0   surf      12.222222\n",
            "      ultimate  17.285714\n",
            "3.0   surf      13.565217\n",
            "      ultimate  18.416667\n",
            "4.0   surf      12.220000\n",
            "      ultimate  16.333333\n",
            "5.0   surf      14.116883\n",
            "      ultimate  16.862069\n",
            "6.0   surf      15.484536\n",
            "      ultimate  15.425532\n",
            "7.0   surf      16.876033\n",
            "      ultimate  16.491525\n",
            "8.0   surf      16.987578\n",
            "      ultimate  17.845070\n",
            "9.0   surf      16.690722\n",
            "      ultimate  17.011628\n",
            "10.0  surf      17.409283\n",
            "      ultimate  17.716981\n",
            "11.0  surf      16.431095\n",
            "      ultimate  17.118110\n",
            "12.0  surf      18.238994\n",
            "      ultimate  18.397351\n",
            "\n",
            "gb_used    10.914213\n",
            "dtype: float64\n"
          ]
        }
      ],
      "source": [
        "print(internet_usage_avg)\n",
        "print()\n",
        "variance = np.var(internet_usage_avg)\n",
        "print(variance)"
      ]
    },
    {
      "cell_type": "code",
      "execution_count": null,
      "metadata": {
        "id": "IE253N5q-b7V",
        "outputId": "a8c98fb3-119e-4ba2-8b65-7c0b29cedc56"
      },
      "outputs": [
        {
          "data": {
            "image/png": "[encoded data removed]",
            "text/plain": [
              "<Figure size 504x504 with 1 Axes>"
            ]
          },
          "metadata": {
            "needs_background": "light"
          },
          "output_type": "display_data"
        },
        {
          "data": {
            "image/png": "[encoded data removed]",
            "text/plain": [
              "<Figure size 504x504 with 1 Axes>"
            ]
          },
          "metadata": {
            "needs_background": "light"
          },
          "output_type": "display_data"
        }
      ],
      "source": [
        "for internetuse, internetdata in plan_data_final.groupby('plan_types'):\n",
        "    internetdata.boxplot(column = 'gb_used', by = 'plan', figsize = (7,7))"
      ]
    },
    {
      "cell_type": "markdown",
      "metadata": {
        "id": "UPNNFlUF-b7W"
      },
      "source": [
        "**Conclusions**\n",
        "\n",
        "The data from each plan's internet usage follows the same track as that of the text data:\n",
        "\n",
        "- Users on the 'ultimate' plan use a signifcant amount more data than those on 'surf'\n",
        "- All users increase their usage over the course of the year, though users on 'ultimate' have spikes in February and March.\n",
        "- The average expenditure of data is around 13k mb/month. \n",
        "- There are users on surf have higher outlier usages than those on ultimate"
      ]
    },
    {
      "cell_type": "markdown",
      "metadata": {
        "id": "e-J-ui6F-b7X"
      },
      "source": [
        " "
      ]
    },
    {
      "cell_type": "markdown",
      "metadata": {
        "id": "tb6-0Uwt-b7X"
      },
      "source": [
        "## Revenue"
      ]
    },
    {
      "cell_type": "code",
      "execution_count": null,
      "metadata": {
        "scrolled": false,
        "id": "wxQ43nzF-b7Y",
        "outputId": "99cb21e2-573a-487e-af9d-5a37c2225f68"
      },
      "outputs": [
        {
          "data": {
            "text/plain": [
              "Text(0.5, 1.0, 'Average Profit per Month by Plan')"
            ]
          },
          "execution_count": 70,
          "metadata": {},
          "output_type": "execute_result"
        },
        {
          "data": {
            "image/png": "[encoded data removed]",
            "text/plain": [
              "<Figure size 720x864 with 1 Axes>"
            ]
          },
          "metadata": {
            "needs_background": "light"
          },
          "output_type": "display_data"
        }
      ],
      "source": [
        "profit_avg = plan_data_final.pivot_table(index = ['month', 'plan'], values = 'profit')\n",
        "profit_avg.plot(kind = 'bar', figsize = (10,12))\n",
        "plt.title('Average Profit per Month by Plan')"
      ]
    },
    {
      "cell_type": "code",
      "execution_count": null,
      "metadata": {
        "id": "Qn4SdU-e-b7Y",
        "outputId": "21da7772-a3b5-4f40-cdc1-1cf8a5110b47"
      },
      "outputs": [
        {
          "data": {
            "text/plain": [
              "Text(0.5, 1.0, 'Total Revenue for each Plan')"
            ]
          },
          "execution_count": 71,
          "metadata": {},
          "output_type": "execute_result"
        },
        {
          "data": {
            "image/png": "[encoded data removed]",
            "text/plain": [
              "<Figure size 432x288 with 1 Axes>"
            ]
          },
          "metadata": {
            "needs_background": "light"
          },
          "output_type": "display_data"
        }
      ],
      "source": [
        "surf_revenue = plan_data_final.query('plan == \"surf\"')\n",
        "ultimate_revenue = plan_data_final.query('plan == \"ultimate\"')\n",
        "\n",
        "surf_minutes_used['profit'].hist(bins = 20, alpha = .5, color = 'green')\n",
        "ultimate_minutes_used['profit'].hist(bins = 20, alpha = .5, color = 'red')\n",
        "plt.title('Total Revenue for each Plan')"
      ]
    },
    {
      "cell_type": "code",
      "execution_count": null,
      "metadata": {
        "scrolled": false,
        "id": "UcnNLQZI-b7Y",
        "outputId": "d4716478-cb63-45d8-846e-5c9c8a493e48"
      },
      "outputs": [
        {
          "name": "stdout",
          "output_type": "stream",
          "text": [
            "                   profit\n",
            "month plan               \n",
            "1.0   surf      20.000000\n",
            "      ultimate  70.000000\n",
            "2.0   surf      23.537431\n",
            "      ultimate  70.000000\n",
            "3.0   surf      25.435525\n",
            "      ultimate  73.473867\n",
            "4.0   surf      24.781186\n",
            "      ultimate  72.837890\n",
            "5.0   surf      26.690107\n",
            "      ultimate  70.528097\n",
            "6.0   surf      26.771329\n",
            "      ultimate  71.512427\n",
            "7.0   surf      29.978396\n",
            "      ultimate  71.894824\n",
            "8.0   surf      29.916936\n",
            "      ultimate  72.744425\n",
            "9.0   surf      28.508334\n",
            "      ultimate  71.855805\n",
            "10.0  surf      30.232636\n",
            "      ultimate  72.141890\n",
            "11.0  surf      28.791065\n",
            "      ultimate  71.639633\n",
            "12.0  surf      31.856134\n",
            "      ultimate  73.118812\n",
            "\n",
            "profit    503.202209\n",
            "dtype: float64\n"
          ]
        }
      ],
      "source": [
        "print(profit_avg)\n",
        "print()\n",
        "variance = np.var(profit_avg)\n",
        "print(variance)"
      ]
    },
    {
      "cell_type": "code",
      "execution_count": null,
      "metadata": {
        "id": "lVDibhyr-b7Z",
        "outputId": "565ae76a-390c-44c4-8abd-e390a2a7d0cd"
      },
      "outputs": [
        {
          "data": {
            "image/png": "[encoded data removed]",
            "text/plain": [
              "<Figure size 504x504 with 1 Axes>"
            ]
          },
          "metadata": {
            "needs_background": "light"
          },
          "output_type": "display_data"
        },
        {
          "data": {
            "image/png": "[encoded data removed]",
            "text/plain": [
              "<Figure size 504x504 with 1 Axes>"
            ]
          },
          "metadata": {
            "needs_background": "light"
          },
          "output_type": "display_data"
        }
      ],
      "source": [
        "for plantype, plandata in plan_data_final.groupby('plan'):\n",
        "    plandata.boxplot(column = 'profit', by = 'plan_types', figsize = (7,7))\n",
        "    plt.ylabel(plantype)\n",
        "    plt.ylim([0,200])"
      ]
    },
    {
      "cell_type": "markdown",
      "metadata": {
        "id": "gKUE_6MJ-b7Z"
      },
      "source": [
        "**Conclusions**\n",
        "\n",
        "Given the large price differences between the surf and ultimate plans it is unsurprising that the ultimate plan appears more profitable. \n",
        "\n",
        "It appears however that there are more surf usersthat use calls/texts/data beyond their plan limits than users of the ultimate plan, though when looking at total expenditure, outlier users on the ultimate plan do end up spending more ($178 for ultimate vs $150 for surf)"
      ]
    },
    {
      "cell_type": "markdown",
      "metadata": {
        "id": "9If66_yg-b7c"
      },
      "source": [
        "## Test statistical hypotheses"
      ]
    },
    {
      "cell_type": "markdown",
      "metadata": {
        "id": "TqRrOJp7-b7d"
      },
      "source": [
        "Now that we've conducted analysis on each aspect of the plans it's time to do some overaching analysis on which plan is more profitable over all. My first hypothesis to test is:\n",
        "\n",
        "**Despite 'surf' users paying more than their base plan the 'ultimate' plan draws more revenue over all.**"
      ]
    },
    {
      "cell_type": "markdown",
      "metadata": {
        "id": "cCNuD3rn-b7d"
      },
      "source": [
        "I will be exploring this hypothesis by looking at monthly revenue averages for both plans and applying statistical analysis. "
      ]
    },
    {
      "cell_type": "code",
      "execution_count": null,
      "metadata": {
        "scrolled": false,
        "id": "VY1UmUCA-b7e",
        "outputId": "dac301fd-5bb3-4744-82a8-19a9cbb79a77"
      },
      "outputs": [
        {
          "name": "stdout",
          "output_type": "stream",
          "text": [
            "                   profit\n",
            "plan     month           \n",
            "surf     1.0    20.000000\n",
            "         2.0    23.537431\n",
            "         3.0    25.435525\n",
            "         4.0    24.781186\n",
            "         5.0    26.690107\n",
            "         6.0    26.771329\n",
            "         7.0    29.978396\n",
            "         8.0    29.916936\n",
            "         9.0    28.508334\n",
            "         10.0   30.232636\n",
            "         11.0   28.791065\n",
            "         12.0   31.856134\n",
            "ultimate 1.0    70.000000\n",
            "         2.0    70.000000\n",
            "         3.0    73.473867\n",
            "         4.0    72.837890\n",
            "         5.0    70.528097\n",
            "         6.0    71.512427\n",
            "         7.0    71.894824\n",
            "         8.0    72.744425\n",
            "         9.0    71.855805\n",
            "         10.0   72.141890\n",
            "         11.0   71.639633\n",
            "         12.0   73.118812\n"
          ]
        }
      ],
      "source": [
        "monthly_profit = plan_data_final.pivot_table(index = ['plan', 'month'], values = 'profit', aggfunc = 'mean')\n",
        "print(monthly_profit)"
      ]
    },
    {
      "cell_type": "code",
      "execution_count": null,
      "metadata": {
        "id": "Ksrwj9d5-b7e"
      },
      "outputs": [],
      "source": [
        "surf = monthly_profit.query('plan == \"surf\"')\n",
        "ultimate = monthly_profit.query('plan == \"ultimate\"')"
      ]
    },
    {
      "cell_type": "code",
      "execution_count": null,
      "metadata": {
        "id": "ZDVPUJCO-b7e",
        "outputId": "ddce5fde-b7ae-44f5-d7ba-dcdfa81c1bd0"
      },
      "outputs": [
        {
          "name": "stdout",
          "output_type": "stream",
          "text": [
            "p-value:  [5.89601673e-16]\n",
            "We reject the null hypothesis\n"
          ]
        }
      ],
      "source": [
        "# Test the hypotheses\n",
        "\n",
        "alpha = 0.05  # critical statistical significance level\n",
        "# if the p-value is less than alpha, we reject the hypothesis\n",
        "\n",
        "results = st.ttest_ind(surf, ultimate, equal_var = False)\n",
        "\n",
        "print('p-value: ', results.pvalue)\n",
        "\n",
        "if results.pvalue < alpha:\n",
        "    print(\"We reject the null hypothesis\")\n",
        "else:\n",
        "    print(\"We can't reject the null hypothesis\") "
      ]
    },
    {
      "cell_type": "markdown",
      "metadata": {
        "id": "b4LBmNbM-b7f"
      },
      "source": [
        "We must reject the null hypothesis! An unexpexted outcome but such is the nature of statistical analysis. We must forge forward. The rejecting of the null hypothesis tells us that we cannot assume that profit for 'ultimate' plans is higher than that of 'surf' plans. "
      ]
    },
    {
      "cell_type": "markdown",
      "metadata": {
        "id": "ocx7gM_u-b7f"
      },
      "source": [
        "Our next hypothesis to test is: \n",
        "\n",
        "**Users in the NY-NJ area spend significantly more on their plans than users in other regions** \n",
        "\n",
        "\n",
        "If true, this will have significant impacts on the way users in that area may be treated. \n",
        "\n",
        "If the hypothesis is rejected however that will show us that there is no particular difference in the usage trends between users in the NY-NJ area and the rest of the country meaning any actions by the supplier will be just as applicable in this region as any other. "
      ]
    },
    {
      "cell_type": "code",
      "execution_count": null,
      "metadata": {
        "id": "7d9j4Jea-b7g",
        "outputId": "83d1e7b2-a5f8-4cb6-f7f7-c287e4fc8dff"
      },
      "outputs": [
        {
          "name": "stdout",
          "output_type": "stream",
          "text": [
            "p-value:  [3.74077433e-06]\n",
            "We reject the null hypothesis\n"
          ]
        }
      ],
      "source": [
        "# Test the hypotheses\n",
        "\n",
        "region_test = plan_data_final.pivot_table(index = ['region', 'month'], values = 'profit', aggfunc = 'mean')\n",
        "\n",
        "NY_NJ_area = region_test.query('region == \"NY-NJ area\"')\n",
        "Other = region_test.query('region == \"Other\"')\n",
        "\n",
        "alpha = 0.05  # critical statistical significance level\n",
        "# if the p-value is less than alpha, we reject the hypothesis\n",
        "\n",
        "results = st.ttest_ind(NY_NJ_area, Other, equal_var = True)\n",
        "\n",
        "print('p-value: ', results.pvalue)\n",
        "\n",
        "if results.pvalue < alpha:\n",
        "    print(\"We reject the null hypothesis\")\n",
        "else:\n",
        "    print(\"We can't reject the null hypothesis\") "
      ]
    },
    {
      "cell_type": "markdown",
      "metadata": {
        "id": "iqnDe-wy-b7h"
      },
      "source": [
        "And we have rejected the hypothesis! This tells us that there are no major differences in revenue between the users in the NY-NJ area and the rest of the country. This is very helpful information as it allows the marketing team or product development teams valuable information for deciding how to rollout new products or what services may be most popular in different regions. "
      ]
    },
    {
      "cell_type": "markdown",
      "metadata": {
        "id": "dxqorxMo-b7h"
      },
      "source": [
        "## General conclusion\n",
        "\n",
        "**Conclusions**\n",
        "\n",
        "- Users of both surf and ultimate increased usage off all part of their plans over the course of the year, with the highest amout of texts sent, mbs used, and the longest call durations in december.\n",
        "- Generally users of both plans did not surpass the limits of their respective plans, though users on surf plans were far more likely to spend more than plans original cost due to over use of resources. \n",
        "- Users on surf spent more by the end of the year than at the beginning of the year while the expenditure of users on ultimate remained the same year-round \n",
        "- Users in the NY-NJ area did not generate any more revenue than users in other regions\n",
        "- Users on surf plans had signifcatly longer call durations than users on ultimate plans\n",
        "- Users on ultimate plans sent significantly more texts and used signifcantly more mbs than users on surf\n",
        "\n",
        "**The Journey**\n",
        "\n",
        "To reach these conclusions I had to take a number of steps:\n",
        "\n",
        "- Each of the individual dataframes had to be preprocessed to remove or fix data irregularities and to add any necessary data for the later analysis\n",
        "- The seperate dataframes had to be merged in to one complete dataframe so analysis could be conducted \n",
        "- I had to examine each aspect of the plans seperately (calls, texts, data) to see how user behavior differed between the two plans \n",
        "- I had to use SDA to examine how revenues differed between the two plans and between users in the NY-NJ area and the rest of the country."
      ]
    }
  ],
  "metadata": {
    "ExecuteTimeLog": [
      {
        "duration": 828,
        "start_time": "2021-11-16T09:21:11.304Z"
      },
      {
        "duration": 893,
        "start_time": "2021-11-16T09:21:17.728Z"
      },
      {
        "duration": 1150,
        "start_time": "2021-11-16T09:21:29.568Z"
      },
      {
        "duration": 3,
        "start_time": "2021-11-16T09:24:14.495Z"
      },
      {
        "duration": 120,
        "start_time": "2021-11-16T09:24:46.630Z"
      },
      {
        "duration": 3,
        "start_time": "2021-11-16T09:28:27.882Z"
      },
      {
        "duration": 4,
        "start_time": "2021-11-16T09:29:54.281Z"
      },
      {
        "duration": 3,
        "start_time": "2021-11-16T09:30:45.936Z"
      },
      {
        "duration": 4,
        "start_time": "2021-11-16T09:31:06.300Z"
      },
      {
        "duration": 113,
        "start_time": "2021-11-16T09:31:37.208Z"
      },
      {
        "duration": 143,
        "start_time": "2021-11-16T09:31:48.656Z"
      },
      {
        "duration": 98,
        "start_time": "2021-11-16T09:31:55.678Z"
      },
      {
        "duration": 3,
        "start_time": "2021-11-16T09:32:08.535Z"
      },
      {
        "duration": 111,
        "start_time": "2021-11-16T09:32:10.120Z"
      },
      {
        "duration": 3,
        "start_time": "2021-11-16T09:32:15.732Z"
      },
      {
        "duration": 4,
        "start_time": "2021-11-16T09:32:29.423Z"
      },
      {
        "duration": 3,
        "start_time": "2021-11-16T10:03:03.074Z"
      },
      {
        "duration": 3,
        "start_time": "2021-11-16T10:10:01.288Z"
      },
      {
        "duration": 3,
        "start_time": "2021-11-16T10:10:46.923Z"
      },
      {
        "duration": 121,
        "start_time": "2021-11-16T10:37:46.494Z"
      },
      {
        "duration": 125,
        "start_time": "2021-11-16T10:38:20.632Z"
      },
      {
        "duration": 112,
        "start_time": "2021-11-16T10:46:53.001Z"
      },
      {
        "duration": 110,
        "start_time": "2021-11-16T10:48:25.775Z"
      },
      {
        "duration": 3,
        "start_time": "2021-11-16T10:50:18.720Z"
      },
      {
        "duration": 4,
        "start_time": "2021-11-16T10:50:37.649Z"
      },
      {
        "duration": 2,
        "start_time": "2021-11-16T10:50:51.884Z"
      },
      {
        "duration": 3,
        "start_time": "2021-11-16T10:51:56.237Z"
      },
      {
        "duration": 101,
        "start_time": "2021-11-16T10:53:13.791Z"
      },
      {
        "duration": 3,
        "start_time": "2021-11-16T10:55:59.186Z"
      },
      {
        "duration": 3,
        "start_time": "2021-11-16T10:56:10.751Z"
      },
      {
        "duration": 3,
        "start_time": "2021-11-16T10:56:49.038Z"
      },
      {
        "duration": 3,
        "start_time": "2021-11-16T10:56:49.174Z"
      },
      {
        "duration": 4,
        "start_time": "2021-11-16T10:56:49.414Z"
      },
      {
        "duration": 3,
        "start_time": "2021-11-16T10:56:49.680Z"
      },
      {
        "duration": 3,
        "start_time": "2021-11-16T10:56:50.370Z"
      },
      {
        "duration": 114,
        "start_time": "2021-11-16T10:59:34.518Z"
      },
      {
        "duration": 3,
        "start_time": "2021-11-16T11:01:41.201Z"
      },
      {
        "duration": 116,
        "start_time": "2021-11-16T11:01:48.754Z"
      },
      {
        "duration": 3,
        "start_time": "2021-11-16T11:02:16.685Z"
      },
      {
        "duration": 3,
        "start_time": "2021-11-16T11:02:19.479Z"
      },
      {
        "duration": 3,
        "start_time": "2021-11-16T11:02:47.067Z"
      },
      {
        "duration": 3,
        "start_time": "2021-11-16T11:02:49.353Z"
      },
      {
        "duration": 3,
        "start_time": "2021-11-16T11:03:07.835Z"
      },
      {
        "duration": 3,
        "start_time": "2021-11-16T11:03:07.953Z"
      },
      {
        "duration": 112,
        "start_time": "2021-11-16T11:07:52.072Z"
      },
      {
        "duration": 187,
        "start_time": "2021-11-16T11:09:23.468Z"
      },
      {
        "duration": 4,
        "start_time": "2021-11-16T11:10:01.455Z"
      },
      {
        "duration": 3,
        "start_time": "2021-11-16T11:10:05.069Z"
      },
      {
        "duration": 4,
        "start_time": "2021-11-16T11:10:13.376Z"
      },
      {
        "duration": 3,
        "start_time": "2021-11-16T11:10:14.434Z"
      },
      {
        "duration": 3,
        "start_time": "2021-11-16T11:10:22.853Z"
      },
      {
        "duration": 4,
        "start_time": "2021-11-16T11:27:29.279Z"
      },
      {
        "duration": 4,
        "start_time": "2021-11-16T11:29:08.919Z"
      },
      {
        "duration": 118,
        "start_time": "2021-11-16T11:29:46.703Z"
      },
      {
        "duration": 437,
        "start_time": "2021-11-16T11:36:02.181Z"
      },
      {
        "duration": 157,
        "start_time": "2021-11-16T11:36:14.388Z"
      },
      {
        "duration": 207,
        "start_time": "2021-11-16T11:47:15.898Z"
      },
      {
        "duration": 3,
        "start_time": "2021-11-16T11:53:52.092Z"
      },
      {
        "duration": 3,
        "start_time": "2021-11-16T11:53:52.236Z"
      },
      {
        "duration": 3,
        "start_time": "2021-11-16T11:59:12.005Z"
      },
      {
        "duration": 112,
        "start_time": "2021-11-16T12:00:33.446Z"
      },
      {
        "duration": 3,
        "start_time": "2021-11-16T12:02:14.453Z"
      },
      {
        "duration": 3,
        "start_time": "2021-11-16T12:02:39.512Z"
      },
      {
        "duration": 106,
        "start_time": "2021-11-16T12:03:03.460Z"
      },
      {
        "duration": 3,
        "start_time": "2021-11-17T20:37:21.139Z"
      },
      {
        "duration": 3,
        "start_time": "2021-11-17T20:37:22.229Z"
      },
      {
        "duration": 3,
        "start_time": "2021-11-17T20:38:38.806Z"
      },
      {
        "duration": 3,
        "start_time": "2021-11-17T20:38:41.958Z"
      },
      {
        "duration": 3,
        "start_time": "2021-11-17T20:43:46.551Z"
      },
      {
        "duration": 4,
        "start_time": "2021-11-17T20:58:21.835Z"
      },
      {
        "duration": 3,
        "start_time": "2021-11-17T20:59:21.872Z"
      },
      {
        "duration": 4,
        "start_time": "2021-11-17T20:59:45.352Z"
      },
      {
        "duration": 4,
        "start_time": "2021-11-17T20:59:49.646Z"
      },
      {
        "duration": 159,
        "start_time": "2021-11-17T21:02:26.949Z"
      },
      {
        "duration": 3,
        "start_time": "2021-11-17T21:03:53.461Z"
      },
      {
        "duration": 3,
        "start_time": "2021-11-17T21:03:53.694Z"
      },
      {
        "duration": 3,
        "start_time": "2021-11-17T21:05:28.145Z"
      },
      {
        "duration": 116,
        "start_time": "2021-11-17T21:05:57.787Z"
      },
      {
        "duration": 3,
        "start_time": "2021-11-17T21:06:37.993Z"
      },
      {
        "duration": 3,
        "start_time": "2021-11-17T21:06:38.261Z"
      },
      {
        "duration": 3,
        "start_time": "2021-11-17T21:11:54.358Z"
      },
      {
        "duration": 3,
        "start_time": "2021-11-17T21:12:43.846Z"
      },
      {
        "duration": 4,
        "start_time": "2021-11-17T21:13:08.773Z"
      },
      {
        "duration": 3,
        "start_time": "2021-11-17T21:14:44.441Z"
      },
      {
        "duration": 3,
        "start_time": "2021-11-17T21:15:42.059Z"
      },
      {
        "duration": 4,
        "start_time": "2021-11-17T21:15:51.995Z"
      },
      {
        "duration": 3,
        "start_time": "2021-11-17T21:15:53.923Z"
      },
      {
        "duration": 3,
        "start_time": "2021-11-17T21:15:55.282Z"
      },
      {
        "duration": 3,
        "start_time": "2021-11-17T21:16:28.492Z"
      },
      {
        "duration": 3,
        "start_time": "2021-11-17T21:16:32.603Z"
      },
      {
        "duration": 3,
        "start_time": "2021-11-17T21:17:06.941Z"
      },
      {
        "duration": 98,
        "start_time": "2021-11-17T21:18:05.733Z"
      },
      {
        "duration": 4,
        "start_time": "2021-11-17T21:21:35.255Z"
      },
      {
        "duration": 3,
        "start_time": "2021-11-17T21:21:37.804Z"
      },
      {
        "duration": 4,
        "start_time": "2021-11-17T21:23:06.071Z"
      },
      {
        "duration": 3,
        "start_time": "2021-11-17T21:23:24.799Z"
      },
      {
        "duration": 3,
        "start_time": "2021-11-17T21:23:32.591Z"
      },
      {
        "duration": 98,
        "start_time": "2021-11-17T21:28:31.559Z"
      },
      {
        "duration": 3,
        "start_time": "2021-11-17T21:28:45.448Z"
      },
      {
        "duration": 3,
        "start_time": "2021-11-17T21:29:17.303Z"
      },
      {
        "duration": 3,
        "start_time": "2021-11-17T21:29:29.617Z"
      },
      {
        "duration": 3,
        "start_time": "2021-11-17T21:29:32.681Z"
      },
      {
        "duration": 3,
        "start_time": "2021-11-17T21:36:11.474Z"
      },
      {
        "duration": 3,
        "start_time": "2021-11-17T21:36:14.791Z"
      },
      {
        "duration": 3,
        "start_time": "2021-11-17T21:36:53.943Z"
      },
      {
        "duration": 3,
        "start_time": "2021-11-17T21:36:56.165Z"
      },
      {
        "duration": 4,
        "start_time": "2021-11-17T21:37:16.590Z"
      },
      {
        "duration": 3,
        "start_time": "2021-11-17T21:37:22.702Z"
      },
      {
        "duration": 4,
        "start_time": "2021-11-17T21:38:03.479Z"
      },
      {
        "duration": 3,
        "start_time": "2021-11-17T21:38:08.601Z"
      },
      {
        "duration": 3,
        "start_time": "2021-11-17T21:38:12.928Z"
      },
      {
        "duration": 3,
        "start_time": "2021-11-17T21:38:48.896Z"
      },
      {
        "duration": 2,
        "start_time": "2021-11-17T21:38:49.171Z"
      },
      {
        "duration": 4,
        "start_time": "2021-11-17T21:39:57.889Z"
      },
      {
        "duration": 3,
        "start_time": "2021-11-17T21:39:58.057Z"
      },
      {
        "duration": 3,
        "start_time": "2021-11-17T21:41:20.108Z"
      },
      {
        "duration": 3,
        "start_time": "2021-11-17T21:41:20.629Z"
      },
      {
        "duration": 3,
        "start_time": "2021-11-17T21:42:49.136Z"
      },
      {
        "duration": 3,
        "start_time": "2021-11-17T21:43:15.137Z"
      },
      {
        "duration": 4,
        "start_time": "2021-11-17T21:43:16.766Z"
      },
      {
        "duration": 4,
        "start_time": "2021-11-17T21:43:31.711Z"
      },
      {
        "duration": 3,
        "start_time": "2021-11-17T21:43:36.312Z"
      },
      {
        "duration": 4,
        "start_time": "2021-11-17T21:45:08.825Z"
      },
      {
        "duration": 4,
        "start_time": "2021-11-17T21:45:10.119Z"
      },
      {
        "duration": 4,
        "start_time": "2021-11-17T21:45:13.748Z"
      },
      {
        "duration": 3,
        "start_time": "2021-11-17T21:45:22.219Z"
      },
      {
        "duration": 3,
        "start_time": "2021-11-17T21:45:33.412Z"
      },
      {
        "duration": 2,
        "start_time": "2021-11-17T21:46:01.885Z"
      },
      {
        "duration": 3,
        "start_time": "2021-11-17T21:46:03.628Z"
      },
      {
        "duration": 107,
        "start_time": "2021-11-17T21:47:32.512Z"
      },
      {
        "duration": 103,
        "start_time": "2021-11-17T21:50:36.243Z"
      },
      {
        "duration": 3,
        "start_time": "2021-11-18T06:28:31.440Z"
      },
      {
        "duration": 3,
        "start_time": "2021-11-18T06:29:00.168Z"
      },
      {
        "duration": 3,
        "start_time": "2021-11-18T06:31:27.008Z"
      },
      {
        "duration": 2,
        "start_time": "2021-11-18T06:35:34.288Z"
      },
      {
        "duration": 2,
        "start_time": "2021-11-18T06:38:04.527Z"
      },
      {
        "duration": 1239,
        "start_time": "2022-04-05T18:16:48.248Z"
      },
      {
        "duration": 266,
        "start_time": "2022-04-05T18:19:00.807Z"
      },
      {
        "duration": 1145,
        "start_time": "2022-04-06T00:46:52.270Z"
      },
      {
        "duration": 518,
        "start_time": "2022-04-06T00:46:55.392Z"
      },
      {
        "duration": 18,
        "start_time": "2022-04-06T00:47:11.340Z"
      },
      {
        "duration": 16,
        "start_time": "2022-04-06T00:47:29.832Z"
      },
      {
        "duration": 11,
        "start_time": "2022-04-06T00:47:46.362Z"
      },
      {
        "duration": 19,
        "start_time": "2022-04-06T00:49:15.556Z"
      },
      {
        "duration": 14,
        "start_time": "2022-04-06T00:49:23.532Z"
      },
      {
        "duration": 7,
        "start_time": "2022-04-06T00:53:19.782Z"
      },
      {
        "duration": 14,
        "start_time": "2022-04-06T00:54:24.152Z"
      },
      {
        "duration": 10,
        "start_time": "2022-04-06T00:54:25.252Z"
      },
      {
        "duration": 9,
        "start_time": "2022-04-06T00:55:42.040Z"
      },
      {
        "duration": 83,
        "start_time": "2022-04-06T00:58:18.052Z"
      },
      {
        "duration": 8,
        "start_time": "2022-04-06T00:58:24.072Z"
      },
      {
        "duration": 37,
        "start_time": "2022-04-06T00:59:50.521Z"
      },
      {
        "duration": 62,
        "start_time": "2022-04-06T01:01:39.593Z"
      },
      {
        "duration": 10,
        "start_time": "2022-04-06T01:01:49.795Z"
      },
      {
        "duration": 14,
        "start_time": "2022-04-06T01:02:35.093Z"
      },
      {
        "duration": 53,
        "start_time": "2022-04-06T01:03:10.860Z"
      },
      {
        "duration": 29,
        "start_time": "2022-04-06T01:03:17.142Z"
      },
      {
        "duration": 3,
        "start_time": "2022-04-06T01:38:05.518Z"
      },
      {
        "duration": 1034,
        "start_time": "2022-04-06T01:38:21.796Z"
      },
      {
        "duration": 221,
        "start_time": "2022-04-06T01:38:22.832Z"
      },
      {
        "duration": 17,
        "start_time": "2022-04-06T01:38:23.054Z"
      },
      {
        "duration": 9,
        "start_time": "2022-04-06T01:38:23.073Z"
      },
      {
        "duration": 19,
        "start_time": "2022-04-06T01:38:23.083Z"
      },
      {
        "duration": 13,
        "start_time": "2022-04-06T01:38:23.104Z"
      },
      {
        "duration": 13,
        "start_time": "2022-04-06T01:38:23.119Z"
      },
      {
        "duration": 34,
        "start_time": "2022-04-06T01:38:23.134Z"
      },
      {
        "duration": 14,
        "start_time": "2022-04-06T01:38:23.169Z"
      },
      {
        "duration": 7,
        "start_time": "2022-04-06T01:38:23.185Z"
      },
      {
        "duration": 74,
        "start_time": "2022-04-06T01:38:23.193Z"
      },
      {
        "duration": 8,
        "start_time": "2022-04-06T01:38:23.269Z"
      },
      {
        "duration": 11,
        "start_time": "2022-04-06T01:38:23.278Z"
      },
      {
        "duration": 51,
        "start_time": "2022-04-06T01:38:23.291Z"
      },
      {
        "duration": 9,
        "start_time": "2022-04-06T01:41:06.386Z"
      },
      {
        "duration": 45,
        "start_time": "2022-04-06T22:41:46.997Z"
      },
      {
        "duration": 1651,
        "start_time": "2022-04-06T22:41:51.401Z"
      },
      {
        "duration": 398,
        "start_time": "2022-04-06T22:41:54.754Z"
      },
      {
        "duration": 20,
        "start_time": "2022-04-06T22:41:59.851Z"
      },
      {
        "duration": 10,
        "start_time": "2022-04-06T22:42:46.378Z"
      },
      {
        "duration": 16,
        "start_time": "2022-04-06T22:43:54.900Z"
      },
      {
        "duration": 11,
        "start_time": "2022-04-06T22:44:07.058Z"
      },
      {
        "duration": 21,
        "start_time": "2022-04-06T22:44:24.573Z"
      },
      {
        "duration": 30,
        "start_time": "2022-04-06T22:44:31.029Z"
      },
      {
        "duration": 10,
        "start_time": "2022-04-06T22:44:39.235Z"
      },
      {
        "duration": 12,
        "start_time": "2022-04-06T22:44:41.308Z"
      },
      {
        "duration": 9,
        "start_time": "2022-04-06T22:45:33.420Z"
      },
      {
        "duration": 29,
        "start_time": "2022-04-06T22:45:35.733Z"
      },
      {
        "duration": 9,
        "start_time": "2022-04-06T22:45:41.612Z"
      },
      {
        "duration": 32,
        "start_time": "2022-04-06T22:46:45.660Z"
      },
      {
        "duration": 10,
        "start_time": "2022-04-06T22:46:49.614Z"
      },
      {
        "duration": 4,
        "start_time": "2022-04-06T23:03:58.475Z"
      },
      {
        "duration": 1146,
        "start_time": "2022-04-06T23:16:28.992Z"
      },
      {
        "duration": 310,
        "start_time": "2022-04-06T23:16:30.140Z"
      },
      {
        "duration": 18,
        "start_time": "2022-04-06T23:16:30.452Z"
      },
      {
        "duration": 18,
        "start_time": "2022-04-06T23:16:30.471Z"
      },
      {
        "duration": 34,
        "start_time": "2022-04-06T23:16:30.491Z"
      },
      {
        "duration": 19,
        "start_time": "2022-04-06T23:16:30.527Z"
      },
      {
        "duration": 6,
        "start_time": "2022-04-06T23:16:37.914Z"
      },
      {
        "duration": 4,
        "start_time": "2022-04-06T23:23:12.322Z"
      },
      {
        "duration": 10,
        "start_time": "2022-04-06T23:23:41.803Z"
      },
      {
        "duration": 11,
        "start_time": "2022-04-06T23:25:06.513Z"
      },
      {
        "duration": 11,
        "start_time": "2022-04-06T23:25:10.406Z"
      },
      {
        "duration": 11,
        "start_time": "2022-04-06T23:25:20.558Z"
      },
      {
        "duration": 11,
        "start_time": "2022-04-06T23:25:23.108Z"
      },
      {
        "duration": 3,
        "start_time": "2022-04-06T23:31:40.585Z"
      },
      {
        "duration": 3634,
        "start_time": "2022-04-06T23:32:27.921Z"
      },
      {
        "duration": 3100,
        "start_time": "2022-04-06T23:32:37.106Z"
      },
      {
        "duration": 8,
        "start_time": "2022-04-06T23:32:55.719Z"
      },
      {
        "duration": 4,
        "start_time": "2022-04-06T23:33:01.407Z"
      },
      {
        "duration": 4,
        "start_time": "2022-04-06T23:33:02.629Z"
      },
      {
        "duration": 12,
        "start_time": "2022-04-06T23:33:04.038Z"
      },
      {
        "duration": 2,
        "start_time": "2022-04-06T23:33:22.042Z"
      },
      {
        "duration": 3,
        "start_time": "2022-04-06T23:33:28.302Z"
      },
      {
        "duration": 11,
        "start_time": "2022-04-06T23:33:35.266Z"
      },
      {
        "duration": 37,
        "start_time": "2022-04-06T23:36:40.128Z"
      },
      {
        "duration": 21,
        "start_time": "2022-04-06T23:40:34.871Z"
      },
      {
        "duration": 7,
        "start_time": "2022-04-06T23:40:37.059Z"
      },
      {
        "duration": 22,
        "start_time": "2022-04-06T23:44:50.656Z"
      },
      {
        "duration": 8,
        "start_time": "2022-04-07T00:03:15.649Z"
      },
      {
        "duration": 17,
        "start_time": "2022-04-07T00:03:22.917Z"
      },
      {
        "duration": 33,
        "start_time": "2022-04-07T00:03:53.212Z"
      },
      {
        "duration": 8,
        "start_time": "2022-04-07T00:04:06.362Z"
      },
      {
        "duration": 8,
        "start_time": "2022-04-07T00:04:28.738Z"
      },
      {
        "duration": 14,
        "start_time": "2022-04-07T00:05:18.809Z"
      },
      {
        "duration": 18,
        "start_time": "2022-04-07T00:05:23.464Z"
      },
      {
        "duration": 7,
        "start_time": "2022-04-07T00:05:27.371Z"
      },
      {
        "duration": 13,
        "start_time": "2022-04-07T00:05:31.984Z"
      },
      {
        "duration": 11,
        "start_time": "2022-04-07T00:08:17.227Z"
      },
      {
        "duration": 12,
        "start_time": "2022-04-07T00:08:41.293Z"
      },
      {
        "duration": 18,
        "start_time": "2022-04-07T00:09:18.397Z"
      },
      {
        "duration": 7,
        "start_time": "2022-04-07T00:09:32.069Z"
      },
      {
        "duration": 59,
        "start_time": "2022-04-07T00:18:47.606Z"
      },
      {
        "duration": 13,
        "start_time": "2022-04-07T00:18:53.167Z"
      },
      {
        "duration": 3100,
        "start_time": "2022-04-07T00:19:31.144Z"
      },
      {
        "duration": 13,
        "start_time": "2022-04-07T00:19:43.413Z"
      },
      {
        "duration": 21,
        "start_time": "2022-04-07T00:20:43.944Z"
      },
      {
        "duration": 14,
        "start_time": "2022-04-07T00:21:34.870Z"
      },
      {
        "duration": 13,
        "start_time": "2022-04-07T00:21:38.582Z"
      },
      {
        "duration": 15,
        "start_time": "2022-04-07T00:21:39.114Z"
      },
      {
        "duration": 7,
        "start_time": "2022-04-07T00:21:49.466Z"
      },
      {
        "duration": 51,
        "start_time": "2022-04-07T15:05:09.844Z"
      },
      {
        "duration": 1368,
        "start_time": "2022-04-07T15:07:05.505Z"
      },
      {
        "duration": 706,
        "start_time": "2022-04-07T15:07:06.875Z"
      },
      {
        "duration": 20,
        "start_time": "2022-04-07T15:07:07.583Z"
      },
      {
        "duration": 10,
        "start_time": "2022-04-07T15:07:07.606Z"
      },
      {
        "duration": 22,
        "start_time": "2022-04-07T15:07:07.618Z"
      },
      {
        "duration": 11,
        "start_time": "2022-04-07T15:07:07.642Z"
      },
      {
        "duration": 5,
        "start_time": "2022-04-07T15:07:07.655Z"
      },
      {
        "duration": 10,
        "start_time": "2022-04-07T15:07:07.661Z"
      },
      {
        "duration": 8,
        "start_time": "2022-04-07T15:07:07.672Z"
      },
      {
        "duration": 6,
        "start_time": "2022-04-07T15:07:07.682Z"
      },
      {
        "duration": 4,
        "start_time": "2022-04-07T15:07:07.708Z"
      },
      {
        "duration": 17,
        "start_time": "2022-04-07T15:07:07.714Z"
      },
      {
        "duration": 28,
        "start_time": "2022-04-07T15:07:07.733Z"
      },
      {
        "duration": 9,
        "start_time": "2022-04-07T15:07:07.762Z"
      },
      {
        "duration": 62,
        "start_time": "2022-04-07T15:07:07.773Z"
      },
      {
        "duration": 16,
        "start_time": "2022-04-07T15:07:07.836Z"
      },
      {
        "duration": 20,
        "start_time": "2022-04-07T15:07:07.854Z"
      },
      {
        "duration": 7,
        "start_time": "2022-04-07T15:07:07.876Z"
      },
      {
        "duration": 23,
        "start_time": "2022-04-07T15:07:07.909Z"
      },
      {
        "duration": 11,
        "start_time": "2022-04-07T15:07:07.934Z"
      },
      {
        "duration": 24,
        "start_time": "2022-04-07T15:07:07.947Z"
      },
      {
        "duration": 37,
        "start_time": "2022-04-07T15:07:07.973Z"
      },
      {
        "duration": 30,
        "start_time": "2022-04-07T15:07:08.012Z"
      },
      {
        "duration": 14,
        "start_time": "2022-04-07T15:07:08.044Z"
      },
      {
        "duration": 88,
        "start_time": "2022-04-07T15:07:08.059Z"
      },
      {
        "duration": 0,
        "start_time": "2022-04-07T15:07:08.149Z"
      },
      {
        "duration": 0,
        "start_time": "2022-04-07T15:07:08.151Z"
      },
      {
        "duration": 0,
        "start_time": "2022-04-07T15:07:08.152Z"
      },
      {
        "duration": 0,
        "start_time": "2022-04-07T15:07:08.154Z"
      },
      {
        "duration": 9,
        "start_time": "2022-04-07T15:07:30.487Z"
      },
      {
        "duration": 28,
        "start_time": "2022-04-07T15:07:33.392Z"
      },
      {
        "duration": 23,
        "start_time": "2022-04-07T15:07:33.837Z"
      },
      {
        "duration": 15,
        "start_time": "2022-04-07T15:07:34.286Z"
      },
      {
        "duration": 16,
        "start_time": "2022-04-07T15:07:34.731Z"
      },
      {
        "duration": 36,
        "start_time": "2022-04-07T15:13:33.675Z"
      },
      {
        "duration": 40,
        "start_time": "2022-04-07T15:13:44.981Z"
      },
      {
        "duration": 25,
        "start_time": "2022-04-07T15:14:22.104Z"
      },
      {
        "duration": 25,
        "start_time": "2022-04-07T15:14:23.831Z"
      },
      {
        "duration": 22,
        "start_time": "2022-04-07T15:16:13.017Z"
      },
      {
        "duration": 19,
        "start_time": "2022-04-07T15:16:14.761Z"
      },
      {
        "duration": 9,
        "start_time": "2022-04-07T15:17:04.236Z"
      },
      {
        "duration": 3,
        "start_time": "2022-04-07T15:17:11.149Z"
      },
      {
        "duration": 4,
        "start_time": "2022-04-07T15:17:32.857Z"
      },
      {
        "duration": 1205,
        "start_time": "2022-04-07T15:17:41.995Z"
      },
      {
        "duration": 1116,
        "start_time": "2022-04-07T15:18:16.262Z"
      },
      {
        "duration": 278,
        "start_time": "2022-04-07T15:18:17.380Z"
      },
      {
        "duration": 25,
        "start_time": "2022-04-07T15:18:17.660Z"
      },
      {
        "duration": 13,
        "start_time": "2022-04-07T15:18:17.687Z"
      },
      {
        "duration": 23,
        "start_time": "2022-04-07T15:18:17.702Z"
      },
      {
        "duration": 10,
        "start_time": "2022-04-07T15:18:17.727Z"
      },
      {
        "duration": 5,
        "start_time": "2022-04-07T15:18:17.739Z"
      },
      {
        "duration": 6,
        "start_time": "2022-04-07T15:18:17.745Z"
      },
      {
        "duration": 5,
        "start_time": "2022-04-07T15:18:17.752Z"
      },
      {
        "duration": 7,
        "start_time": "2022-04-07T15:18:17.759Z"
      },
      {
        "duration": 41,
        "start_time": "2022-04-07T15:18:17.768Z"
      },
      {
        "duration": 11,
        "start_time": "2022-04-07T15:18:17.811Z"
      },
      {
        "duration": 28,
        "start_time": "2022-04-07T15:18:17.824Z"
      },
      {
        "duration": 9,
        "start_time": "2022-04-07T15:18:17.855Z"
      },
      {
        "duration": 70,
        "start_time": "2022-04-07T15:18:17.865Z"
      },
      {
        "duration": 17,
        "start_time": "2022-04-07T15:18:17.937Z"
      },
      {
        "duration": 20,
        "start_time": "2022-04-07T15:18:17.956Z"
      },
      {
        "duration": 31,
        "start_time": "2022-04-07T15:18:17.978Z"
      },
      {
        "duration": 26,
        "start_time": "2022-04-07T15:18:18.011Z"
      },
      {
        "duration": 10,
        "start_time": "2022-04-07T15:18:18.039Z"
      },
      {
        "duration": 24,
        "start_time": "2022-04-07T15:18:18.051Z"
      },
      {
        "duration": 38,
        "start_time": "2022-04-07T15:18:18.076Z"
      },
      {
        "duration": 30,
        "start_time": "2022-04-07T15:18:18.115Z"
      },
      {
        "duration": 13,
        "start_time": "2022-04-07T15:18:18.147Z"
      },
      {
        "duration": 9,
        "start_time": "2022-04-07T15:18:18.162Z"
      },
      {
        "duration": 64,
        "start_time": "2022-04-07T15:18:18.172Z"
      },
      {
        "duration": 9,
        "start_time": "2022-04-07T15:18:29.585Z"
      },
      {
        "duration": 98,
        "start_time": "2022-04-07T15:19:11.795Z"
      },
      {
        "duration": 33,
        "start_time": "2022-04-07T15:19:25.686Z"
      },
      {
        "duration": 20,
        "start_time": "2022-04-07T15:19:26.981Z"
      },
      {
        "duration": 9,
        "start_time": "2022-04-07T15:19:28.395Z"
      },
      {
        "duration": 24,
        "start_time": "2022-04-07T15:19:34.257Z"
      },
      {
        "duration": 4,
        "start_time": "2022-04-07T16:21:59.242Z"
      },
      {
        "duration": 280,
        "start_time": "2022-04-07T16:21:59.248Z"
      },
      {
        "duration": 15,
        "start_time": "2022-04-07T16:21:59.530Z"
      },
      {
        "duration": 11,
        "start_time": "2022-04-07T16:21:59.547Z"
      },
      {
        "duration": 18,
        "start_time": "2022-04-07T16:21:59.560Z"
      },
      {
        "duration": 10,
        "start_time": "2022-04-07T16:21:59.580Z"
      },
      {
        "duration": 19,
        "start_time": "2022-04-07T16:21:59.592Z"
      },
      {
        "duration": 5,
        "start_time": "2022-04-07T16:21:59.613Z"
      },
      {
        "duration": 4,
        "start_time": "2022-04-07T16:21:59.620Z"
      },
      {
        "duration": 5,
        "start_time": "2022-04-07T16:21:59.626Z"
      },
      {
        "duration": 4,
        "start_time": "2022-04-07T16:21:59.634Z"
      },
      {
        "duration": 12,
        "start_time": "2022-04-07T16:21:59.639Z"
      },
      {
        "duration": 62,
        "start_time": "2022-04-07T16:21:59.653Z"
      },
      {
        "duration": 9,
        "start_time": "2022-04-07T16:21:59.716Z"
      },
      {
        "duration": 38,
        "start_time": "2022-04-07T16:21:59.726Z"
      },
      {
        "duration": 16,
        "start_time": "2022-04-07T16:21:59.766Z"
      },
      {
        "duration": 38,
        "start_time": "2022-04-07T16:21:59.784Z"
      },
      {
        "duration": 8,
        "start_time": "2022-04-07T16:21:59.825Z"
      },
      {
        "duration": 27,
        "start_time": "2022-04-07T16:21:59.834Z"
      },
      {
        "duration": 12,
        "start_time": "2022-04-07T16:21:59.863Z"
      },
      {
        "duration": 53,
        "start_time": "2022-04-07T16:21:59.876Z"
      },
      {
        "duration": 7,
        "start_time": "2022-04-07T16:21:59.931Z"
      },
      {
        "duration": 29,
        "start_time": "2022-04-07T16:21:59.939Z"
      },
      {
        "duration": 14,
        "start_time": "2022-04-07T16:21:59.970Z"
      },
      {
        "duration": 31,
        "start_time": "2022-04-07T16:21:59.985Z"
      },
      {
        "duration": 33,
        "start_time": "2022-04-07T16:22:00.018Z"
      },
      {
        "duration": 8,
        "start_time": "2022-04-07T16:22:00.053Z"
      },
      {
        "duration": 56,
        "start_time": "2022-04-07T16:22:00.062Z"
      },
      {
        "duration": 19,
        "start_time": "2022-04-07T16:22:00.121Z"
      },
      {
        "duration": 7,
        "start_time": "2022-04-07T16:22:00.142Z"
      },
      {
        "duration": 24,
        "start_time": "2022-04-07T16:22:11.573Z"
      },
      {
        "duration": 9,
        "start_time": "2022-04-07T16:22:13.528Z"
      },
      {
        "duration": 7,
        "start_time": "2022-04-07T16:25:38.973Z"
      },
      {
        "duration": 9,
        "start_time": "2022-04-07T16:25:49.993Z"
      },
      {
        "duration": 11,
        "start_time": "2022-04-07T16:26:49.801Z"
      },
      {
        "duration": 12,
        "start_time": "2022-04-07T16:27:25.417Z"
      },
      {
        "duration": 9,
        "start_time": "2022-04-07T16:27:32.239Z"
      },
      {
        "duration": 8,
        "start_time": "2022-04-07T16:30:54.158Z"
      },
      {
        "duration": 14,
        "start_time": "2022-04-07T16:31:02.609Z"
      },
      {
        "duration": 14,
        "start_time": "2022-04-07T16:31:22.184Z"
      },
      {
        "duration": 53,
        "start_time": "2022-04-07T16:31:26.119Z"
      },
      {
        "duration": 9,
        "start_time": "2022-04-07T16:31:32.145Z"
      },
      {
        "duration": 16,
        "start_time": "2022-04-07T16:31:33.029Z"
      },
      {
        "duration": 12,
        "start_time": "2022-04-07T16:36:33.213Z"
      },
      {
        "duration": 10,
        "start_time": "2022-04-07T16:36:47.423Z"
      },
      {
        "duration": 7,
        "start_time": "2022-04-07T16:37:12.771Z"
      },
      {
        "duration": 11,
        "start_time": "2022-04-07T16:43:07.101Z"
      },
      {
        "duration": 7,
        "start_time": "2022-04-07T16:43:19.631Z"
      },
      {
        "duration": 3,
        "start_time": "2022-04-07T16:43:47.364Z"
      },
      {
        "duration": 6,
        "start_time": "2022-04-07T16:43:56.789Z"
      },
      {
        "duration": 6,
        "start_time": "2022-04-07T16:44:39.968Z"
      },
      {
        "duration": 10,
        "start_time": "2022-04-07T16:44:47.416Z"
      },
      {
        "duration": 6,
        "start_time": "2022-04-07T16:45:04.114Z"
      },
      {
        "duration": 12,
        "start_time": "2022-04-07T16:45:04.763Z"
      },
      {
        "duration": 7,
        "start_time": "2022-04-07T16:45:33.890Z"
      },
      {
        "duration": 12,
        "start_time": "2022-04-07T16:45:34.772Z"
      },
      {
        "duration": 10,
        "start_time": "2022-04-07T16:45:56.012Z"
      },
      {
        "duration": 18,
        "start_time": "2022-04-07T16:45:56.726Z"
      },
      {
        "duration": 9,
        "start_time": "2022-04-07T16:46:08.345Z"
      },
      {
        "duration": 18,
        "start_time": "2022-04-07T16:46:09.156Z"
      },
      {
        "duration": 4,
        "start_time": "2022-04-07T16:48:00.949Z"
      },
      {
        "duration": 3,
        "start_time": "2022-04-07T16:48:06.029Z"
      },
      {
        "duration": 4,
        "start_time": "2022-04-07T16:48:14.619Z"
      },
      {
        "duration": 14,
        "start_time": "2022-04-07T16:48:25.294Z"
      },
      {
        "duration": 1025,
        "start_time": "2022-04-07T16:48:40.527Z"
      },
      {
        "duration": 257,
        "start_time": "2022-04-07T16:48:41.554Z"
      },
      {
        "duration": 18,
        "start_time": "2022-04-07T16:48:41.813Z"
      },
      {
        "duration": 10,
        "start_time": "2022-04-07T16:48:41.833Z"
      },
      {
        "duration": 16,
        "start_time": "2022-04-07T16:48:41.845Z"
      },
      {
        "duration": 10,
        "start_time": "2022-04-07T16:48:41.863Z"
      },
      {
        "duration": 34,
        "start_time": "2022-04-07T16:48:41.875Z"
      },
      {
        "duration": 4,
        "start_time": "2022-04-07T16:48:45.287Z"
      },
      {
        "duration": 3,
        "start_time": "2022-04-07T16:50:15.723Z"
      },
      {
        "duration": 3,
        "start_time": "2022-04-07T16:50:30.583Z"
      },
      {
        "duration": 312,
        "start_time": "2022-04-07T16:50:30.588Z"
      },
      {
        "duration": 13,
        "start_time": "2022-04-07T16:50:30.902Z"
      },
      {
        "duration": 12,
        "start_time": "2022-04-07T16:50:30.917Z"
      },
      {
        "duration": 22,
        "start_time": "2022-04-07T16:50:30.931Z"
      },
      {
        "duration": 10,
        "start_time": "2022-04-07T16:50:30.955Z"
      },
      {
        "duration": 16,
        "start_time": "2022-04-07T16:50:30.967Z"
      },
      {
        "duration": 5,
        "start_time": "2022-04-07T16:50:30.985Z"
      },
      {
        "duration": 17,
        "start_time": "2022-04-07T16:50:30.992Z"
      },
      {
        "duration": 3,
        "start_time": "2022-04-07T16:50:31.011Z"
      },
      {
        "duration": 8,
        "start_time": "2022-04-07T16:50:31.016Z"
      },
      {
        "duration": 9,
        "start_time": "2022-04-07T16:50:31.025Z"
      },
      {
        "duration": 6,
        "start_time": "2022-04-07T16:50:31.035Z"
      },
      {
        "duration": 11,
        "start_time": "2022-04-07T16:50:31.042Z"
      },
      {
        "duration": 7,
        "start_time": "2022-04-07T16:50:31.055Z"
      },
      {
        "duration": 23,
        "start_time": "2022-04-07T16:50:31.064Z"
      },
      {
        "duration": 37,
        "start_time": "2022-04-07T16:50:31.089Z"
      },
      {
        "duration": 8,
        "start_time": "2022-04-07T16:50:31.128Z"
      },
      {
        "duration": 47,
        "start_time": "2022-04-07T16:50:31.138Z"
      },
      {
        "duration": 30,
        "start_time": "2022-04-07T16:50:31.186Z"
      },
      {
        "duration": 20,
        "start_time": "2022-04-07T16:50:31.218Z"
      },
      {
        "duration": 7,
        "start_time": "2022-04-07T16:50:31.240Z"
      },
      {
        "duration": 24,
        "start_time": "2022-04-07T16:50:31.248Z"
      },
      {
        "duration": 36,
        "start_time": "2022-04-07T16:50:31.274Z"
      },
      {
        "duration": 25,
        "start_time": "2022-04-07T16:50:31.312Z"
      },
      {
        "duration": 8,
        "start_time": "2022-04-07T16:50:31.339Z"
      },
      {
        "duration": 31,
        "start_time": "2022-04-07T16:50:31.349Z"
      },
      {
        "duration": 39,
        "start_time": "2022-04-07T16:50:31.382Z"
      },
      {
        "duration": 10,
        "start_time": "2022-04-07T16:50:31.424Z"
      },
      {
        "duration": 38,
        "start_time": "2022-04-07T16:50:31.436Z"
      },
      {
        "duration": 9,
        "start_time": "2022-04-07T16:50:31.476Z"
      },
      {
        "duration": 35,
        "start_time": "2022-04-07T16:50:31.508Z"
      },
      {
        "duration": 20,
        "start_time": "2022-04-07T16:50:31.545Z"
      },
      {
        "duration": 9,
        "start_time": "2022-04-07T16:50:31.567Z"
      },
      {
        "duration": 49,
        "start_time": "2022-04-07T16:50:31.578Z"
      },
      {
        "duration": 13,
        "start_time": "2022-04-07T16:50:31.629Z"
      },
      {
        "duration": 12,
        "start_time": "2022-04-07T16:50:31.644Z"
      },
      {
        "duration": 8,
        "start_time": "2022-04-07T16:50:47.326Z"
      },
      {
        "duration": 16,
        "start_time": "2022-04-07T16:50:48.343Z"
      },
      {
        "duration": 7,
        "start_time": "2022-04-07T16:51:00.319Z"
      },
      {
        "duration": 15,
        "start_time": "2022-04-07T16:51:01.439Z"
      },
      {
        "duration": 5,
        "start_time": "2022-04-07T16:52:43.929Z"
      },
      {
        "duration": 13,
        "start_time": "2022-04-07T16:52:52.791Z"
      },
      {
        "duration": 13,
        "start_time": "2022-04-07T16:53:10.156Z"
      },
      {
        "duration": 11,
        "start_time": "2022-04-07T16:53:12.961Z"
      },
      {
        "duration": 9,
        "start_time": "2022-04-07T16:54:12.858Z"
      },
      {
        "duration": 4,
        "start_time": "2022-04-07T16:54:34.316Z"
      },
      {
        "duration": 3,
        "start_time": "2022-04-07T16:54:34.932Z"
      },
      {
        "duration": 4,
        "start_time": "2022-04-07T16:54:35.367Z"
      },
      {
        "duration": 4,
        "start_time": "2022-04-07T16:54:36.150Z"
      },
      {
        "duration": 3,
        "start_time": "2022-04-07T16:54:36.728Z"
      },
      {
        "duration": 9,
        "start_time": "2022-04-07T16:54:37.232Z"
      },
      {
        "duration": 1125,
        "start_time": "2022-04-07T16:56:08.238Z"
      },
      {
        "duration": 284,
        "start_time": "2022-04-07T16:56:09.365Z"
      },
      {
        "duration": 20,
        "start_time": "2022-04-07T16:56:09.651Z"
      },
      {
        "duration": 10,
        "start_time": "2022-04-07T16:56:09.673Z"
      },
      {
        "duration": 30,
        "start_time": "2022-04-07T16:56:09.685Z"
      },
      {
        "duration": 19,
        "start_time": "2022-04-07T16:56:09.717Z"
      },
      {
        "duration": 6,
        "start_time": "2022-04-07T16:56:09.738Z"
      },
      {
        "duration": 21,
        "start_time": "2022-04-07T16:56:09.745Z"
      },
      {
        "duration": 5,
        "start_time": "2022-04-07T16:56:09.768Z"
      },
      {
        "duration": 29,
        "start_time": "2022-04-07T16:56:09.776Z"
      },
      {
        "duration": 9,
        "start_time": "2022-04-07T16:56:09.809Z"
      },
      {
        "duration": 49,
        "start_time": "2022-04-07T16:56:09.820Z"
      },
      {
        "duration": 18,
        "start_time": "2022-04-07T16:56:09.871Z"
      },
      {
        "duration": 38,
        "start_time": "2022-04-07T16:56:09.891Z"
      },
      {
        "duration": 8,
        "start_time": "2022-04-07T16:56:09.931Z"
      },
      {
        "duration": 23,
        "start_time": "2022-04-07T16:56:09.941Z"
      },
      {
        "duration": 11,
        "start_time": "2022-04-07T16:56:09.966Z"
      },
      {
        "duration": 27,
        "start_time": "2022-04-07T16:56:10.008Z"
      },
      {
        "duration": 10,
        "start_time": "2022-04-07T16:56:10.037Z"
      },
      {
        "duration": 39,
        "start_time": "2022-04-07T16:56:10.049Z"
      },
      {
        "duration": 15,
        "start_time": "2022-04-07T16:56:10.109Z"
      },
      {
        "duration": 9,
        "start_time": "2022-04-07T16:56:10.126Z"
      },
      {
        "duration": 34,
        "start_time": "2022-04-07T16:56:10.137Z"
      },
      {
        "duration": 37,
        "start_time": "2022-04-07T16:56:10.172Z"
      },
      {
        "duration": 28,
        "start_time": "2022-04-07T16:56:10.211Z"
      },
      {
        "duration": 19,
        "start_time": "2022-04-07T16:56:10.242Z"
      },
      {
        "duration": 9,
        "start_time": "2022-04-07T16:56:10.263Z"
      },
      {
        "duration": 55,
        "start_time": "2022-04-07T16:56:10.275Z"
      },
      {
        "duration": 14,
        "start_time": "2022-04-07T16:56:10.331Z"
      },
      {
        "duration": 9,
        "start_time": "2022-04-07T16:56:10.347Z"
      },
      {
        "duration": 121,
        "start_time": "2022-04-07T16:56:10.357Z"
      },
      {
        "duration": 8,
        "start_time": "2022-04-07T16:57:02.558Z"
      },
      {
        "duration": 16,
        "start_time": "2022-04-07T16:57:03.490Z"
      },
      {
        "duration": 4,
        "start_time": "2022-04-07T16:57:36.313Z"
      },
      {
        "duration": 9,
        "start_time": "2022-04-07T16:57:41.304Z"
      },
      {
        "duration": 17,
        "start_time": "2022-04-07T16:57:41.906Z"
      },
      {
        "duration": 4,
        "start_time": "2022-04-07T16:58:06.851Z"
      },
      {
        "duration": 12,
        "start_time": "2022-04-07T16:58:11.021Z"
      },
      {
        "duration": 16,
        "start_time": "2022-04-07T16:58:11.551Z"
      },
      {
        "duration": 12,
        "start_time": "2022-04-07T17:01:50.395Z"
      },
      {
        "duration": 13,
        "start_time": "2022-04-07T17:13:04.403Z"
      },
      {
        "duration": 22,
        "start_time": "2022-04-07T17:16:33.183Z"
      },
      {
        "duration": 6,
        "start_time": "2022-04-07T17:16:45.219Z"
      },
      {
        "duration": 12,
        "start_time": "2022-04-07T17:16:53.773Z"
      },
      {
        "duration": 80,
        "start_time": "2022-04-07T17:48:51.833Z"
      },
      {
        "duration": 5,
        "start_time": "2022-04-07T17:48:57.787Z"
      },
      {
        "duration": 26,
        "start_time": "2022-04-07T17:50:10.712Z"
      },
      {
        "duration": 5,
        "start_time": "2022-04-07T17:51:11.333Z"
      },
      {
        "duration": 15,
        "start_time": "2022-04-07T17:51:12.012Z"
      },
      {
        "duration": 1152,
        "start_time": "2022-04-07T17:51:32.333Z"
      },
      {
        "duration": 302,
        "start_time": "2022-04-07T17:51:33.487Z"
      },
      {
        "duration": 18,
        "start_time": "2022-04-07T17:51:33.791Z"
      },
      {
        "duration": 10,
        "start_time": "2022-04-07T17:51:33.812Z"
      },
      {
        "duration": 18,
        "start_time": "2022-04-07T17:51:33.824Z"
      },
      {
        "duration": 11,
        "start_time": "2022-04-07T17:51:33.844Z"
      },
      {
        "duration": 7,
        "start_time": "2022-04-07T17:51:33.856Z"
      },
      {
        "duration": 6,
        "start_time": "2022-04-07T17:51:33.864Z"
      },
      {
        "duration": 5,
        "start_time": "2022-04-07T17:51:33.871Z"
      },
      {
        "duration": 32,
        "start_time": "2022-04-07T17:51:33.879Z"
      },
      {
        "duration": 28,
        "start_time": "2022-04-07T17:51:33.913Z"
      },
      {
        "duration": 8,
        "start_time": "2022-04-07T17:51:33.943Z"
      },
      {
        "duration": 57,
        "start_time": "2022-04-07T17:51:33.952Z"
      },
      {
        "duration": 17,
        "start_time": "2022-04-07T17:51:34.011Z"
      },
      {
        "duration": 20,
        "start_time": "2022-04-07T17:51:34.029Z"
      },
      {
        "duration": 7,
        "start_time": "2022-04-07T17:51:34.051Z"
      },
      {
        "duration": 54,
        "start_time": "2022-04-07T17:51:34.059Z"
      },
      {
        "duration": 11,
        "start_time": "2022-04-07T17:51:34.114Z"
      },
      {
        "duration": 24,
        "start_time": "2022-04-07T17:51:34.126Z"
      },
      {
        "duration": 8,
        "start_time": "2022-04-07T17:51:34.151Z"
      },
      {
        "duration": 55,
        "start_time": "2022-04-07T17:51:34.161Z"
      },
      {
        "duration": 14,
        "start_time": "2022-04-07T17:51:34.218Z"
      },
      {
        "duration": 9,
        "start_time": "2022-04-07T17:51:34.233Z"
      },
      {
        "duration": 38,
        "start_time": "2022-04-07T17:51:34.244Z"
      },
      {
        "duration": 30,
        "start_time": "2022-04-07T17:51:34.283Z"
      },
      {
        "duration": 29,
        "start_time": "2022-04-07T17:51:34.315Z"
      },
      {
        "duration": 19,
        "start_time": "2022-04-07T17:51:34.346Z"
      },
      {
        "duration": 9,
        "start_time": "2022-04-07T17:51:34.368Z"
      },
      {
        "duration": 49,
        "start_time": "2022-04-07T17:51:34.379Z"
      },
      {
        "duration": 13,
        "start_time": "2022-04-07T17:51:34.430Z"
      },
      {
        "duration": 10,
        "start_time": "2022-04-07T17:51:34.444Z"
      },
      {
        "duration": 10,
        "start_time": "2022-04-07T17:51:34.455Z"
      },
      {
        "duration": 21,
        "start_time": "2022-04-07T17:51:34.466Z"
      },
      {
        "duration": 13,
        "start_time": "2022-04-07T17:51:34.510Z"
      },
      {
        "duration": 5,
        "start_time": "2022-04-07T17:51:34.524Z"
      },
      {
        "duration": 3,
        "start_time": "2022-04-07T17:52:17.710Z"
      },
      {
        "duration": 104,
        "start_time": "2022-04-07T17:52:18.512Z"
      },
      {
        "duration": 804,
        "start_time": "2022-04-07T17:52:31.344Z"
      },
      {
        "duration": 0,
        "start_time": "2022-04-07T17:52:32.150Z"
      },
      {
        "duration": 3,
        "start_time": "2022-04-07T17:52:41.192Z"
      },
      {
        "duration": 698,
        "start_time": "2022-04-07T17:52:42.364Z"
      },
      {
        "duration": 879,
        "start_time": "2022-04-07T17:52:52.274Z"
      },
      {
        "duration": 1102,
        "start_time": "2022-04-07T17:53:25.063Z"
      },
      {
        "duration": 280,
        "start_time": "2022-04-07T17:53:26.167Z"
      },
      {
        "duration": 18,
        "start_time": "2022-04-07T17:53:26.449Z"
      },
      {
        "duration": 41,
        "start_time": "2022-04-07T17:53:26.470Z"
      },
      {
        "duration": 52,
        "start_time": "2022-04-07T17:53:26.513Z"
      },
      {
        "duration": 30,
        "start_time": "2022-04-07T17:53:26.567Z"
      },
      {
        "duration": 28,
        "start_time": "2022-04-07T17:53:26.599Z"
      },
      {
        "duration": 21,
        "start_time": "2022-04-07T17:53:26.629Z"
      },
      {
        "duration": 15,
        "start_time": "2022-04-07T17:53:26.651Z"
      },
      {
        "duration": 8,
        "start_time": "2022-04-07T17:53:26.669Z"
      },
      {
        "duration": 37,
        "start_time": "2022-04-07T17:53:26.679Z"
      },
      {
        "duration": 9,
        "start_time": "2022-04-07T17:53:26.717Z"
      },
      {
        "duration": 48,
        "start_time": "2022-04-07T17:53:26.728Z"
      },
      {
        "duration": 17,
        "start_time": "2022-04-07T17:53:26.778Z"
      },
      {
        "duration": 20,
        "start_time": "2022-04-07T17:53:26.809Z"
      },
      {
        "duration": 8,
        "start_time": "2022-04-07T17:53:26.831Z"
      },
      {
        "duration": 26,
        "start_time": "2022-04-07T17:53:26.841Z"
      },
      {
        "duration": 18,
        "start_time": "2022-04-07T17:53:26.869Z"
      },
      {
        "duration": 43,
        "start_time": "2022-04-07T17:53:26.889Z"
      },
      {
        "duration": 17,
        "start_time": "2022-04-07T17:53:26.934Z"
      },
      {
        "duration": 39,
        "start_time": "2022-04-07T17:53:26.953Z"
      },
      {
        "duration": 17,
        "start_time": "2022-04-07T17:53:26.994Z"
      },
      {
        "duration": 15,
        "start_time": "2022-04-07T17:53:27.013Z"
      },
      {
        "duration": 48,
        "start_time": "2022-04-07T17:53:27.030Z"
      },
      {
        "duration": 9,
        "start_time": "2022-04-07T17:53:27.080Z"
      },
      {
        "duration": 42,
        "start_time": "2022-04-07T17:53:27.090Z"
      },
      {
        "duration": 19,
        "start_time": "2022-04-07T17:53:27.134Z"
      },
      {
        "duration": 12,
        "start_time": "2022-04-07T17:53:27.156Z"
      },
      {
        "duration": 48,
        "start_time": "2022-04-07T17:53:27.169Z"
      },
      {
        "duration": 13,
        "start_time": "2022-04-07T17:53:27.218Z"
      },
      {
        "duration": 9,
        "start_time": "2022-04-07T17:53:27.232Z"
      },
      {
        "duration": 10,
        "start_time": "2022-04-07T17:53:27.242Z"
      },
      {
        "duration": 15,
        "start_time": "2022-04-07T17:53:27.254Z"
      },
      {
        "duration": 14,
        "start_time": "2022-04-07T17:53:38.909Z"
      },
      {
        "duration": 5,
        "start_time": "2022-04-07T17:56:36.134Z"
      },
      {
        "duration": 13,
        "start_time": "2022-04-07T17:56:37.030Z"
      },
      {
        "duration": 4,
        "start_time": "2022-04-07T17:56:41.431Z"
      },
      {
        "duration": 51,
        "start_time": "2022-04-07T17:56:43.414Z"
      },
      {
        "duration": 15,
        "start_time": "2022-04-07T17:56:53.876Z"
      },
      {
        "duration": 5,
        "start_time": "2022-04-07T18:01:26.825Z"
      },
      {
        "duration": 52,
        "start_time": "2022-04-07T18:01:28.419Z"
      },
      {
        "duration": 15,
        "start_time": "2022-04-07T18:01:29.405Z"
      },
      {
        "duration": 4,
        "start_time": "2022-04-07T20:23:04.062Z"
      },
      {
        "duration": 284,
        "start_time": "2022-04-07T20:23:04.068Z"
      },
      {
        "duration": 16,
        "start_time": "2022-04-07T20:23:04.354Z"
      },
      {
        "duration": 8,
        "start_time": "2022-04-07T20:23:04.372Z"
      },
      {
        "duration": 19,
        "start_time": "2022-04-07T20:23:04.382Z"
      },
      {
        "duration": 10,
        "start_time": "2022-04-07T20:23:04.403Z"
      },
      {
        "duration": 5,
        "start_time": "2022-04-07T20:23:04.415Z"
      },
      {
        "duration": 6,
        "start_time": "2022-04-07T20:23:04.422Z"
      },
      {
        "duration": 4,
        "start_time": "2022-04-07T20:23:04.430Z"
      },
      {
        "duration": 6,
        "start_time": "2022-04-07T20:23:04.435Z"
      },
      {
        "duration": 29,
        "start_time": "2022-04-07T20:23:04.442Z"
      },
      {
        "duration": 38,
        "start_time": "2022-04-07T20:23:04.472Z"
      },
      {
        "duration": 37,
        "start_time": "2022-04-07T20:23:04.512Z"
      },
      {
        "duration": 16,
        "start_time": "2022-04-07T20:23:04.551Z"
      },
      {
        "duration": 45,
        "start_time": "2022-04-07T20:23:04.569Z"
      },
      {
        "duration": 7,
        "start_time": "2022-04-07T20:23:04.616Z"
      },
      {
        "duration": 22,
        "start_time": "2022-04-07T20:23:04.625Z"
      },
      {
        "duration": 11,
        "start_time": "2022-04-07T20:23:04.649Z"
      },
      {
        "duration": 49,
        "start_time": "2022-04-07T20:23:04.661Z"
      },
      {
        "duration": 8,
        "start_time": "2022-04-07T20:23:04.712Z"
      },
      {
        "duration": 30,
        "start_time": "2022-04-07T20:23:04.722Z"
      },
      {
        "duration": 13,
        "start_time": "2022-04-07T20:23:04.754Z"
      },
      {
        "duration": 9,
        "start_time": "2022-04-07T20:23:04.769Z"
      },
      {
        "duration": 33,
        "start_time": "2022-04-07T20:23:04.808Z"
      },
      {
        "duration": 7,
        "start_time": "2022-04-07T20:23:04.843Z"
      },
      {
        "duration": 33,
        "start_time": "2022-04-07T20:23:04.852Z"
      },
      {
        "duration": 41,
        "start_time": "2022-04-07T20:23:04.886Z"
      },
      {
        "duration": 8,
        "start_time": "2022-04-07T20:23:04.928Z"
      },
      {
        "duration": 26,
        "start_time": "2022-04-07T20:23:04.938Z"
      },
      {
        "duration": 12,
        "start_time": "2022-04-07T20:23:04.966Z"
      },
      {
        "duration": 34,
        "start_time": "2022-04-07T20:23:04.980Z"
      },
      {
        "duration": 10,
        "start_time": "2022-04-07T20:23:05.016Z"
      },
      {
        "duration": 15,
        "start_time": "2022-04-07T20:23:05.027Z"
      },
      {
        "duration": 15,
        "start_time": "2022-04-07T20:23:05.043Z"
      },
      {
        "duration": 5,
        "start_time": "2022-04-07T20:23:05.059Z"
      },
      {
        "duration": 43,
        "start_time": "2022-04-07T20:23:05.066Z"
      },
      {
        "duration": 5,
        "start_time": "2022-04-07T20:23:05.111Z"
      },
      {
        "duration": 58,
        "start_time": "2022-04-07T20:23:05.117Z"
      },
      {
        "duration": 1018,
        "start_time": "2022-04-07T20:23:32.014Z"
      },
      {
        "duration": 254,
        "start_time": "2022-04-07T20:23:33.034Z"
      },
      {
        "duration": 19,
        "start_time": "2022-04-07T20:23:33.289Z"
      },
      {
        "duration": 9,
        "start_time": "2022-04-07T20:23:33.309Z"
      },
      {
        "duration": 17,
        "start_time": "2022-04-07T20:23:33.320Z"
      },
      {
        "duration": 9,
        "start_time": "2022-04-07T20:23:33.339Z"
      },
      {
        "duration": 5,
        "start_time": "2022-04-07T20:23:33.350Z"
      },
      {
        "duration": 5,
        "start_time": "2022-04-07T20:23:33.356Z"
      },
      {
        "duration": 7,
        "start_time": "2022-04-07T20:23:33.362Z"
      },
      {
        "duration": 5,
        "start_time": "2022-04-07T20:23:33.370Z"
      },
      {
        "duration": 46,
        "start_time": "2022-04-07T20:23:33.376Z"
      },
      {
        "duration": 8,
        "start_time": "2022-04-07T20:23:33.424Z"
      },
      {
        "duration": 36,
        "start_time": "2022-04-07T20:23:33.434Z"
      },
      {
        "duration": 36,
        "start_time": "2022-04-07T20:23:33.473Z"
      },
      {
        "duration": 19,
        "start_time": "2022-04-07T20:23:33.510Z"
      },
      {
        "duration": 7,
        "start_time": "2022-04-07T20:23:33.530Z"
      },
      {
        "duration": 22,
        "start_time": "2022-04-07T20:23:33.538Z"
      },
      {
        "duration": 9,
        "start_time": "2022-04-07T20:23:33.562Z"
      },
      {
        "duration": 48,
        "start_time": "2022-04-07T20:23:33.573Z"
      },
      {
        "duration": 8,
        "start_time": "2022-04-07T20:23:33.623Z"
      },
      {
        "duration": 31,
        "start_time": "2022-04-07T20:23:33.632Z"
      },
      {
        "duration": 14,
        "start_time": "2022-04-07T20:23:33.664Z"
      },
      {
        "duration": 32,
        "start_time": "2022-04-07T20:23:33.679Z"
      },
      {
        "duration": 35,
        "start_time": "2022-04-07T20:23:33.712Z"
      },
      {
        "duration": 7,
        "start_time": "2022-04-07T20:23:33.749Z"
      },
      {
        "duration": 27,
        "start_time": "2022-04-07T20:23:33.758Z"
      },
      {
        "duration": 18,
        "start_time": "2022-04-07T20:23:33.808Z"
      },
      {
        "duration": 7,
        "start_time": "2022-04-07T20:23:33.828Z"
      },
      {
        "duration": 24,
        "start_time": "2022-04-07T20:23:33.837Z"
      },
      {
        "duration": 12,
        "start_time": "2022-04-07T20:23:33.862Z"
      },
      {
        "duration": 34,
        "start_time": "2022-04-07T20:23:33.876Z"
      },
      {
        "duration": 11,
        "start_time": "2022-04-07T20:23:33.912Z"
      },
      {
        "duration": 15,
        "start_time": "2022-04-07T20:23:33.924Z"
      },
      {
        "duration": 13,
        "start_time": "2022-04-07T20:23:33.941Z"
      },
      {
        "duration": 5,
        "start_time": "2022-04-07T20:23:33.956Z"
      },
      {
        "duration": 14,
        "start_time": "2022-04-07T20:23:33.962Z"
      },
      {
        "duration": 5,
        "start_time": "2022-04-07T20:23:34.008Z"
      },
      {
        "duration": 57,
        "start_time": "2022-04-07T20:23:34.015Z"
      },
      {
        "duration": 14,
        "start_time": "2022-04-07T20:23:41.119Z"
      },
      {
        "duration": 106,
        "start_time": "2022-04-07T20:23:45.910Z"
      },
      {
        "duration": 150,
        "start_time": "2022-04-07T20:24:29.703Z"
      },
      {
        "duration": 160,
        "start_time": "2022-04-07T20:25:38.703Z"
      },
      {
        "duration": 149,
        "start_time": "2022-04-07T20:27:34.528Z"
      },
      {
        "duration": 250,
        "start_time": "2022-04-07T20:27:47.685Z"
      },
      {
        "duration": 169,
        "start_time": "2022-04-07T20:27:51.564Z"
      },
      {
        "duration": 157,
        "start_time": "2022-04-07T20:28:08.896Z"
      },
      {
        "duration": 63,
        "start_time": "2022-04-07T20:33:17.390Z"
      },
      {
        "duration": 165,
        "start_time": "2022-04-07T20:33:21.251Z"
      },
      {
        "duration": 117,
        "start_time": "2022-04-07T20:37:34.137Z"
      },
      {
        "duration": 1055,
        "start_time": "2022-04-07T20:38:02.361Z"
      },
      {
        "duration": 123,
        "start_time": "2022-04-07T20:38:17.879Z"
      },
      {
        "duration": 137,
        "start_time": "2022-04-07T20:38:21.690Z"
      },
      {
        "duration": 131,
        "start_time": "2022-04-07T20:38:25.247Z"
      },
      {
        "duration": 160,
        "start_time": "2022-04-07T20:38:50.209Z"
      },
      {
        "duration": 244,
        "start_time": "2022-04-07T20:38:58.408Z"
      },
      {
        "duration": 156,
        "start_time": "2022-04-07T20:39:23.276Z"
      },
      {
        "duration": 171,
        "start_time": "2022-04-07T20:40:45.377Z"
      },
      {
        "duration": 5,
        "start_time": "2022-04-07T20:44:36.754Z"
      },
      {
        "duration": 6,
        "start_time": "2022-04-07T20:45:31.553Z"
      },
      {
        "duration": 6,
        "start_time": "2022-04-07T20:45:38.513Z"
      },
      {
        "duration": 6,
        "start_time": "2022-04-07T20:45:41.709Z"
      },
      {
        "duration": 92,
        "start_time": "2022-04-07T20:47:52.669Z"
      },
      {
        "duration": 1012,
        "start_time": "2022-04-07T20:48:08.107Z"
      },
      {
        "duration": 95,
        "start_time": "2022-04-07T20:48:19.316Z"
      },
      {
        "duration": 110,
        "start_time": "2022-04-07T20:48:23.309Z"
      },
      {
        "duration": 117,
        "start_time": "2022-04-07T20:48:25.809Z"
      },
      {
        "duration": 97,
        "start_time": "2022-04-07T20:48:33.513Z"
      },
      {
        "duration": 266,
        "start_time": "2022-04-07T20:49:13.457Z"
      },
      {
        "duration": 63,
        "start_time": "2022-04-07T20:49:28.765Z"
      },
      {
        "duration": 66,
        "start_time": "2022-04-07T20:49:33.909Z"
      },
      {
        "duration": 64,
        "start_time": "2022-04-07T20:49:38.883Z"
      },
      {
        "duration": 266,
        "start_time": "2022-04-07T20:49:45.873Z"
      },
      {
        "duration": 7,
        "start_time": "2022-04-07T20:51:50.793Z"
      },
      {
        "duration": 1081,
        "start_time": "2022-04-07T20:52:09.029Z"
      },
      {
        "duration": 6,
        "start_time": "2022-04-07T20:52:15.671Z"
      },
      {
        "duration": 96,
        "start_time": "2022-04-07T20:52:17.537Z"
      },
      {
        "duration": 3,
        "start_time": "2022-04-07T21:16:12.814Z"
      },
      {
        "duration": 290,
        "start_time": "2022-04-07T21:16:12.818Z"
      },
      {
        "duration": 16,
        "start_time": "2022-04-07T21:16:13.109Z"
      },
      {
        "duration": 10,
        "start_time": "2022-04-07T21:16:13.127Z"
      },
      {
        "duration": 19,
        "start_time": "2022-04-07T21:16:13.139Z"
      },
      {
        "duration": 11,
        "start_time": "2022-04-07T21:16:13.160Z"
      },
      {
        "duration": 36,
        "start_time": "2022-04-07T21:16:13.173Z"
      },
      {
        "duration": 6,
        "start_time": "2022-04-07T21:16:13.211Z"
      },
      {
        "duration": 3,
        "start_time": "2022-04-07T21:16:13.220Z"
      },
      {
        "duration": 7,
        "start_time": "2022-04-07T21:16:13.225Z"
      },
      {
        "duration": 27,
        "start_time": "2022-04-07T21:16:13.234Z"
      },
      {
        "duration": 10,
        "start_time": "2022-04-07T21:16:13.263Z"
      },
      {
        "duration": 71,
        "start_time": "2022-04-07T21:16:13.275Z"
      },
      {
        "duration": 18,
        "start_time": "2022-04-07T21:16:13.348Z"
      },
      {
        "duration": 47,
        "start_time": "2022-04-07T21:16:13.368Z"
      },
      {
        "duration": 8,
        "start_time": "2022-04-07T21:16:13.416Z"
      },
      {
        "duration": 23,
        "start_time": "2022-04-07T21:16:13.426Z"
      },
      {
        "duration": 10,
        "start_time": "2022-04-07T21:16:13.451Z"
      },
      {
        "duration": 54,
        "start_time": "2022-04-07T21:16:13.463Z"
      },
      {
        "duration": 8,
        "start_time": "2022-04-07T21:16:13.519Z"
      },
      {
        "duration": 30,
        "start_time": "2022-04-07T21:16:13.529Z"
      },
      {
        "duration": 14,
        "start_time": "2022-04-07T21:16:13.561Z"
      },
      {
        "duration": 9,
        "start_time": "2022-04-07T21:16:13.576Z"
      },
      {
        "duration": 30,
        "start_time": "2022-04-07T21:16:13.611Z"
      },
      {
        "duration": 9,
        "start_time": "2022-04-07T21:16:13.643Z"
      },
      {
        "duration": 27,
        "start_time": "2022-04-07T21:16:13.654Z"
      },
      {
        "duration": 19,
        "start_time": "2022-04-07T21:16:13.709Z"
      },
      {
        "duration": 7,
        "start_time": "2022-04-07T21:16:13.730Z"
      },
      {
        "duration": 24,
        "start_time": "2022-04-07T21:16:13.739Z"
      },
      {
        "duration": 12,
        "start_time": "2022-04-07T21:16:13.765Z"
      },
      {
        "duration": 37,
        "start_time": "2022-04-07T21:16:13.779Z"
      },
      {
        "duration": 8,
        "start_time": "2022-04-07T21:16:13.818Z"
      },
      {
        "duration": 17,
        "start_time": "2022-04-07T21:16:13.827Z"
      },
      {
        "duration": 13,
        "start_time": "2022-04-07T21:16:13.846Z"
      },
      {
        "duration": 7,
        "start_time": "2022-04-07T21:16:13.861Z"
      },
      {
        "duration": 47,
        "start_time": "2022-04-07T21:16:13.870Z"
      },
      {
        "duration": 6,
        "start_time": "2022-04-07T21:16:13.919Z"
      },
      {
        "duration": 55,
        "start_time": "2022-04-07T21:16:13.927Z"
      },
      {
        "duration": 34,
        "start_time": "2022-04-07T21:16:13.984Z"
      },
      {
        "duration": 294,
        "start_time": "2022-04-07T21:16:14.020Z"
      },
      {
        "duration": 194,
        "start_time": "2022-04-07T21:16:14.316Z"
      },
      {
        "duration": 5,
        "start_time": "2022-04-07T21:16:14.512Z"
      },
      {
        "duration": 222,
        "start_time": "2022-04-07T21:17:08.052Z"
      },
      {
        "duration": 110,
        "start_time": "2022-04-07T21:17:35.857Z"
      },
      {
        "duration": 94,
        "start_time": "2022-04-07T21:18:07.386Z"
      },
      {
        "duration": 315,
        "start_time": "2022-04-07T21:19:00.444Z"
      },
      {
        "duration": 109,
        "start_time": "2022-04-07T21:19:12.272Z"
      },
      {
        "duration": 126,
        "start_time": "2022-04-07T21:19:20.324Z"
      },
      {
        "duration": 93,
        "start_time": "2022-04-07T21:19:44.858Z"
      },
      {
        "duration": 7,
        "start_time": "2022-04-07T21:26:38.225Z"
      },
      {
        "duration": 7,
        "start_time": "2022-04-07T21:26:43.939Z"
      },
      {
        "duration": 7,
        "start_time": "2022-04-07T21:26:59.615Z"
      },
      {
        "duration": 258,
        "start_time": "2022-04-07T21:39:52.388Z"
      },
      {
        "duration": 8,
        "start_time": "2022-04-07T21:41:03.780Z"
      },
      {
        "duration": 7,
        "start_time": "2022-04-07T21:41:43.687Z"
      },
      {
        "duration": 105,
        "start_time": "2022-04-07T21:41:56.715Z"
      },
      {
        "duration": 278,
        "start_time": "2022-04-07T21:51:01.862Z"
      },
      {
        "duration": 8,
        "start_time": "2022-04-07T21:52:00.205Z"
      },
      {
        "duration": 96,
        "start_time": "2022-04-07T21:52:13.514Z"
      },
      {
        "duration": 1617,
        "start_time": "2022-04-08T15:26:34.673Z"
      },
      {
        "duration": 641,
        "start_time": "2022-04-08T15:26:36.292Z"
      },
      {
        "duration": 27,
        "start_time": "2022-04-08T15:26:36.935Z"
      },
      {
        "duration": 23,
        "start_time": "2022-04-08T15:26:36.965Z"
      },
      {
        "duration": 32,
        "start_time": "2022-04-08T15:26:36.990Z"
      },
      {
        "duration": 19,
        "start_time": "2022-04-08T15:26:37.025Z"
      },
      {
        "duration": 9,
        "start_time": "2022-04-08T15:26:37.046Z"
      },
      {
        "duration": 13,
        "start_time": "2022-04-08T15:26:37.057Z"
      },
      {
        "duration": 5,
        "start_time": "2022-04-08T15:26:37.073Z"
      },
      {
        "duration": 6,
        "start_time": "2022-04-08T15:26:37.084Z"
      },
      {
        "duration": 37,
        "start_time": "2022-04-08T15:26:37.092Z"
      },
      {
        "duration": 12,
        "start_time": "2022-04-08T15:26:37.169Z"
      },
      {
        "duration": 54,
        "start_time": "2022-04-08T15:26:37.184Z"
      },
      {
        "duration": 43,
        "start_time": "2022-04-08T15:26:37.240Z"
      },
      {
        "duration": 29,
        "start_time": "2022-04-08T15:26:37.286Z"
      },
      {
        "duration": 50,
        "start_time": "2022-04-08T15:26:37.318Z"
      },
      {
        "duration": 31,
        "start_time": "2022-04-08T15:26:37.371Z"
      },
      {
        "duration": 14,
        "start_time": "2022-04-08T15:26:37.404Z"
      },
      {
        "duration": 60,
        "start_time": "2022-04-08T15:26:37.420Z"
      },
      {
        "duration": 12,
        "start_time": "2022-04-08T15:26:37.483Z"
      },
      {
        "duration": 69,
        "start_time": "2022-04-08T15:26:37.498Z"
      },
      {
        "duration": 19,
        "start_time": "2022-04-08T15:26:37.570Z"
      },
      {
        "duration": 15,
        "start_time": "2022-04-08T15:26:37.592Z"
      },
      {
        "duration": 80,
        "start_time": "2022-04-08T15:26:37.609Z"
      },
      {
        "duration": 12,
        "start_time": "2022-04-08T15:26:37.692Z"
      },
      {
        "duration": 62,
        "start_time": "2022-04-08T15:26:37.707Z"
      },
      {
        "duration": 28,
        "start_time": "2022-04-08T15:26:37.772Z"
      },
      {
        "duration": 13,
        "start_time": "2022-04-08T15:26:37.806Z"
      },
      {
        "duration": 67,
        "start_time": "2022-04-08T15:26:37.822Z"
      },
      {
        "duration": 19,
        "start_time": "2022-04-08T15:26:37.891Z"
      },
      {
        "duration": 12,
        "start_time": "2022-04-08T15:26:37.912Z"
      },
      {
        "duration": 41,
        "start_time": "2022-04-08T15:26:37.926Z"
      },
      {
        "duration": 22,
        "start_time": "2022-04-08T15:26:37.970Z"
      },
      {
        "duration": 18,
        "start_time": "2022-04-08T15:26:37.994Z"
      },
      {
        "duration": 6,
        "start_time": "2022-04-08T15:26:38.014Z"
      },
      {
        "duration": 50,
        "start_time": "2022-04-08T15:26:38.022Z"
      },
      {
        "duration": 8,
        "start_time": "2022-04-08T15:26:38.074Z"
      },
      {
        "duration": 100,
        "start_time": "2022-04-08T15:26:38.085Z"
      },
      {
        "duration": 22,
        "start_time": "2022-04-08T15:26:38.187Z"
      },
      {
        "duration": 445,
        "start_time": "2022-04-08T15:26:38.212Z"
      },
      {
        "duration": 273,
        "start_time": "2022-04-08T15:26:38.667Z"
      },
      {
        "duration": 11,
        "start_time": "2022-04-08T15:26:38.943Z"
      },
      {
        "duration": 171,
        "start_time": "2022-04-08T15:26:38.969Z"
      },
      {
        "duration": 419,
        "start_time": "2022-04-08T15:26:39.143Z"
      },
      {
        "duration": 10,
        "start_time": "2022-04-08T15:26:39.568Z"
      },
      {
        "duration": 176,
        "start_time": "2022-04-08T15:26:39.580Z"
      },
      {
        "duration": 450,
        "start_time": "2022-04-08T15:26:39.759Z"
      },
      {
        "duration": 10,
        "start_time": "2022-04-08T15:26:40.211Z"
      },
      {
        "duration": 169,
        "start_time": "2022-04-08T15:26:40.223Z"
      },
      {
        "duration": 426,
        "start_time": "2022-04-08T15:27:27.045Z"
      },
      {
        "duration": 11,
        "start_time": "2022-04-08T15:28:19.908Z"
      },
      {
        "duration": 155,
        "start_time": "2022-04-08T15:29:49.716Z"
      },
      {
        "duration": 369,
        "start_time": "2022-04-08T15:29:56.659Z"
      },
      {
        "duration": 171,
        "start_time": "2022-04-08T15:30:01.696Z"
      },
      {
        "duration": 153,
        "start_time": "2022-04-08T15:30:20.246Z"
      },
      {
        "duration": 369,
        "start_time": "2022-04-08T15:32:34.449Z"
      },
      {
        "duration": 281,
        "start_time": "2022-04-08T15:32:37.729Z"
      },
      {
        "duration": 1368,
        "start_time": "2022-04-08T15:34:39.945Z"
      },
      {
        "duration": 340,
        "start_time": "2022-04-08T15:34:41.315Z"
      },
      {
        "duration": 26,
        "start_time": "2022-04-08T15:34:41.657Z"
      },
      {
        "duration": 14,
        "start_time": "2022-04-08T15:34:41.686Z"
      },
      {
        "duration": 28,
        "start_time": "2022-04-08T15:34:41.701Z"
      },
      {
        "duration": 48,
        "start_time": "2022-04-08T15:34:41.732Z"
      },
      {
        "duration": 6,
        "start_time": "2022-04-08T15:34:41.783Z"
      },
      {
        "duration": 8,
        "start_time": "2022-04-08T15:34:41.791Z"
      },
      {
        "duration": 4,
        "start_time": "2022-04-08T15:34:41.802Z"
      },
      {
        "duration": 6,
        "start_time": "2022-04-08T15:34:41.809Z"
      },
      {
        "duration": 79,
        "start_time": "2022-04-08T15:34:41.816Z"
      },
      {
        "duration": 12,
        "start_time": "2022-04-08T15:34:41.897Z"
      },
      {
        "duration": 72,
        "start_time": "2022-04-08T15:34:41.911Z"
      },
      {
        "duration": 22,
        "start_time": "2022-04-08T15:34:41.985Z"
      },
      {
        "duration": 28,
        "start_time": "2022-04-08T15:34:42.009Z"
      },
      {
        "duration": 35,
        "start_time": "2022-04-08T15:34:42.039Z"
      },
      {
        "duration": 33,
        "start_time": "2022-04-08T15:34:42.076Z"
      },
      {
        "duration": 14,
        "start_time": "2022-04-08T15:34:42.111Z"
      },
      {
        "duration": 60,
        "start_time": "2022-04-08T15:34:42.127Z"
      },
      {
        "duration": 12,
        "start_time": "2022-04-08T15:34:42.189Z"
      },
      {
        "duration": 70,
        "start_time": "2022-04-08T15:34:42.203Z"
      },
      {
        "duration": 17,
        "start_time": "2022-04-08T15:34:42.276Z"
      },
      {
        "duration": 13,
        "start_time": "2022-04-08T15:34:42.296Z"
      },
      {
        "duration": 69,
        "start_time": "2022-04-08T15:34:42.311Z"
      },
      {
        "duration": 13,
        "start_time": "2022-04-08T15:34:42.383Z"
      },
      {
        "duration": 40,
        "start_time": "2022-04-08T15:34:42.398Z"
      },
      {
        "duration": 52,
        "start_time": "2022-04-08T15:34:42.440Z"
      },
      {
        "duration": 13,
        "start_time": "2022-04-08T15:34:42.497Z"
      },
      {
        "duration": 57,
        "start_time": "2022-04-08T15:34:42.513Z"
      },
      {
        "duration": 21,
        "start_time": "2022-04-08T15:34:42.573Z"
      },
      {
        "duration": 14,
        "start_time": "2022-04-08T15:34:42.596Z"
      },
      {
        "duration": 12,
        "start_time": "2022-04-08T15:34:42.612Z"
      },
      {
        "duration": 60,
        "start_time": "2022-04-08T15:34:42.626Z"
      },
      {
        "duration": 22,
        "start_time": "2022-04-08T15:34:42.688Z"
      },
      {
        "duration": 6,
        "start_time": "2022-04-08T15:34:42.712Z"
      },
      {
        "duration": 17,
        "start_time": "2022-04-08T15:34:42.720Z"
      },
      {
        "duration": 8,
        "start_time": "2022-04-08T15:34:42.769Z"
      },
      {
        "duration": 102,
        "start_time": "2022-04-08T15:34:42.779Z"
      },
      {
        "duration": 22,
        "start_time": "2022-04-08T15:34:42.883Z"
      },
      {
        "duration": 487,
        "start_time": "2022-04-08T15:34:42.908Z"
      },
      {
        "duration": 310,
        "start_time": "2022-04-08T15:34:43.398Z"
      },
      {
        "duration": 10,
        "start_time": "2022-04-08T15:34:43.711Z"
      },
      {
        "duration": 172,
        "start_time": "2022-04-08T15:34:43.723Z"
      },
      {
        "duration": 425,
        "start_time": "2022-04-08T15:34:43.898Z"
      },
      {
        "duration": 11,
        "start_time": "2022-04-08T15:34:44.325Z"
      },
      {
        "duration": 183,
        "start_time": "2022-04-08T15:34:44.338Z"
      },
      {
        "duration": 459,
        "start_time": "2022-04-08T15:34:44.523Z"
      },
      {
        "duration": 11,
        "start_time": "2022-04-08T15:34:44.985Z"
      },
      {
        "duration": 180,
        "start_time": "2022-04-08T15:34:44.999Z"
      },
      {
        "duration": 445,
        "start_time": "2022-04-08T15:34:45.181Z"
      },
      {
        "duration": 10,
        "start_time": "2022-04-08T15:34:45.628Z"
      },
      {
        "duration": 218,
        "start_time": "2022-04-08T15:35:02.362Z"
      },
      {
        "duration": 112,
        "start_time": "2022-04-08T15:35:55.456Z"
      },
      {
        "duration": 159,
        "start_time": "2022-04-08T15:35:58.156Z"
      },
      {
        "duration": 525,
        "start_time": "2022-04-08T15:36:10.582Z"
      },
      {
        "duration": 383,
        "start_time": "2022-04-08T15:37:14.342Z"
      },
      {
        "duration": 191,
        "start_time": "2022-04-08T15:37:55.541Z"
      },
      {
        "duration": 388,
        "start_time": "2022-04-08T15:39:00.431Z"
      },
      {
        "duration": 367,
        "start_time": "2022-04-08T15:39:07.578Z"
      },
      {
        "duration": 389,
        "start_time": "2022-04-08T15:40:24.190Z"
      },
      {
        "duration": 375,
        "start_time": "2022-04-08T15:41:13.996Z"
      },
      {
        "duration": 365,
        "start_time": "2022-04-08T15:42:08.902Z"
      },
      {
        "duration": 366,
        "start_time": "2022-04-08T15:42:23.587Z"
      },
      {
        "duration": 358,
        "start_time": "2022-04-08T15:42:48.103Z"
      },
      {
        "duration": 383,
        "start_time": "2022-04-08T15:42:57.863Z"
      },
      {
        "duration": 346,
        "start_time": "2022-04-08T15:45:40.795Z"
      },
      {
        "duration": 416,
        "start_time": "2022-04-08T15:45:54.199Z"
      },
      {
        "duration": 850,
        "start_time": "2022-04-08T15:46:20.561Z"
      },
      {
        "duration": 385,
        "start_time": "2022-04-08T15:46:38.873Z"
      },
      {
        "duration": 779,
        "start_time": "2022-04-08T15:46:43.511Z"
      },
      {
        "duration": 740,
        "start_time": "2022-04-08T15:46:49.785Z"
      },
      {
        "duration": 498,
        "start_time": "2022-04-08T15:48:12.786Z"
      },
      {
        "duration": 755,
        "start_time": "2022-04-08T15:48:26.071Z"
      },
      {
        "duration": 18,
        "start_time": "2022-04-08T16:13:32.758Z"
      },
      {
        "duration": 19,
        "start_time": "2022-04-08T16:14:17.627Z"
      },
      {
        "duration": 22,
        "start_time": "2022-04-08T16:41:40.839Z"
      },
      {
        "duration": 22,
        "start_time": "2022-04-08T16:41:46.537Z"
      },
      {
        "duration": 24,
        "start_time": "2022-04-08T16:42:00.346Z"
      },
      {
        "duration": 18,
        "start_time": "2022-04-08T16:42:18.882Z"
      },
      {
        "duration": 19,
        "start_time": "2022-04-08T16:44:07.696Z"
      },
      {
        "duration": 11,
        "start_time": "2022-04-08T16:44:23.840Z"
      },
      {
        "duration": 7,
        "start_time": "2022-04-08T16:44:29.221Z"
      },
      {
        "duration": 10,
        "start_time": "2022-04-08T16:44:33.117Z"
      },
      {
        "duration": 9,
        "start_time": "2022-04-08T16:44:50.963Z"
      },
      {
        "duration": 6,
        "start_time": "2022-04-08T16:48:18.964Z"
      },
      {
        "duration": 12,
        "start_time": "2022-04-08T16:56:06.128Z"
      },
      {
        "duration": 7,
        "start_time": "2022-04-08T16:56:09.934Z"
      },
      {
        "duration": 7,
        "start_time": "2022-04-08T16:58:18.043Z"
      },
      {
        "duration": 4,
        "start_time": "2022-04-08T17:00:22.495Z"
      },
      {
        "duration": 4,
        "start_time": "2022-04-08T17:00:24.978Z"
      },
      {
        "duration": 4,
        "start_time": "2022-04-08T17:04:04.715Z"
      },
      {
        "duration": 32,
        "start_time": "2022-04-08T17:05:11.146Z"
      },
      {
        "duration": 24,
        "start_time": "2022-04-08T17:05:13.517Z"
      },
      {
        "duration": 1311,
        "start_time": "2022-04-11T19:28:32.310Z"
      },
      {
        "duration": 277,
        "start_time": "2022-04-11T19:28:33.623Z"
      },
      {
        "duration": 20,
        "start_time": "2022-04-11T19:28:33.902Z"
      },
      {
        "duration": 11,
        "start_time": "2022-04-11T19:28:33.924Z"
      },
      {
        "duration": 19,
        "start_time": "2022-04-11T19:28:33.937Z"
      },
      {
        "duration": 15,
        "start_time": "2022-04-11T19:28:33.958Z"
      },
      {
        "duration": 34,
        "start_time": "2022-04-11T19:28:33.975Z"
      },
      {
        "duration": 5,
        "start_time": "2022-04-11T19:28:34.011Z"
      },
      {
        "duration": 8,
        "start_time": "2022-04-11T19:28:34.018Z"
      },
      {
        "duration": 8,
        "start_time": "2022-04-11T19:28:34.028Z"
      },
      {
        "duration": 8,
        "start_time": "2022-04-11T19:28:34.037Z"
      },
      {
        "duration": 32,
        "start_time": "2022-04-11T19:28:34.046Z"
      },
      {
        "duration": 8,
        "start_time": "2022-04-11T19:28:34.080Z"
      },
      {
        "duration": 38,
        "start_time": "2022-04-11T19:28:34.108Z"
      },
      {
        "duration": 16,
        "start_time": "2022-04-11T19:28:34.148Z"
      },
      {
        "duration": 44,
        "start_time": "2022-04-11T19:28:34.166Z"
      },
      {
        "duration": 11,
        "start_time": "2022-04-11T19:28:34.213Z"
      },
      {
        "duration": 23,
        "start_time": "2022-04-11T19:28:34.226Z"
      },
      {
        "duration": 11,
        "start_time": "2022-04-11T19:28:34.251Z"
      },
      {
        "duration": 58,
        "start_time": "2022-04-11T19:28:34.264Z"
      },
      {
        "duration": 8,
        "start_time": "2022-04-11T19:28:34.323Z"
      },
      {
        "duration": 30,
        "start_time": "2022-04-11T19:28:34.334Z"
      },
      {
        "duration": 14,
        "start_time": "2022-04-11T19:28:34.366Z"
      },
      {
        "duration": 34,
        "start_time": "2022-04-11T19:28:34.382Z"
      },
      {
        "duration": 37,
        "start_time": "2022-04-11T19:28:34.417Z"
      },
      {
        "duration": 9,
        "start_time": "2022-04-11T19:28:34.455Z"
      },
      {
        "duration": 58,
        "start_time": "2022-04-11T19:28:34.465Z"
      },
      {
        "duration": 19,
        "start_time": "2022-04-11T19:28:34.525Z"
      },
      {
        "duration": 8,
        "start_time": "2022-04-11T19:28:34.546Z"
      },
      {
        "duration": 23,
        "start_time": "2022-04-11T19:28:34.556Z"
      },
      {
        "duration": 38,
        "start_time": "2022-04-11T19:28:34.581Z"
      },
      {
        "duration": 10,
        "start_time": "2022-04-11T19:28:34.620Z"
      },
      {
        "duration": 9,
        "start_time": "2022-04-11T19:28:34.632Z"
      },
      {
        "duration": 14,
        "start_time": "2022-04-11T19:28:34.643Z"
      },
      {
        "duration": 14,
        "start_time": "2022-04-11T19:28:34.658Z"
      },
      {
        "duration": 6,
        "start_time": "2022-04-11T19:28:34.710Z"
      },
      {
        "duration": 13,
        "start_time": "2022-04-11T19:28:34.718Z"
      },
      {
        "duration": 5,
        "start_time": "2022-04-11T19:28:34.733Z"
      },
      {
        "duration": 92,
        "start_time": "2022-04-11T19:28:34.739Z"
      },
      {
        "duration": 14,
        "start_time": "2022-04-11T19:28:34.833Z"
      },
      {
        "duration": 322,
        "start_time": "2022-04-11T19:28:34.851Z"
      },
      {
        "duration": 212,
        "start_time": "2022-04-11T19:28:35.175Z"
      },
      {
        "duration": 9,
        "start_time": "2022-04-11T19:28:35.390Z"
      },
      {
        "duration": 128,
        "start_time": "2022-04-11T19:28:35.409Z"
      },
      {
        "duration": 511,
        "start_time": "2022-04-11T19:28:35.539Z"
      },
      {
        "duration": 286,
        "start_time": "2022-04-11T19:28:36.052Z"
      },
      {
        "duration": 7,
        "start_time": "2022-04-11T19:28:36.340Z"
      },
      {
        "duration": 238,
        "start_time": "2022-04-11T19:28:36.349Z"
      },
      {
        "duration": 375,
        "start_time": "2022-04-11T19:28:36.589Z"
      },
      {
        "duration": 8,
        "start_time": "2022-04-11T19:28:36.966Z"
      },
      {
        "duration": 254,
        "start_time": "2022-04-11T19:28:36.975Z"
      },
      {
        "duration": 281,
        "start_time": "2022-04-11T19:28:37.231Z"
      },
      {
        "duration": 7,
        "start_time": "2022-04-11T19:28:37.514Z"
      },
      {
        "duration": 265,
        "start_time": "2022-04-11T19:28:37.523Z"
      },
      {
        "duration": 25,
        "start_time": "2022-04-11T19:28:37.790Z"
      },
      {
        "duration": 6,
        "start_time": "2022-04-11T19:28:37.816Z"
      },
      {
        "duration": 9,
        "start_time": "2022-04-11T19:28:37.824Z"
      },
      {
        "duration": 98,
        "start_time": "2022-04-11T19:50:42.014Z"
      },
      {
        "duration": 10,
        "start_time": "2022-04-11T20:10:42.339Z"
      },
      {
        "duration": 10,
        "start_time": "2022-04-11T20:10:52.075Z"
      },
      {
        "duration": 3,
        "start_time": "2022-04-11T20:57:02.081Z"
      },
      {
        "duration": 17,
        "start_time": "2022-04-11T20:57:02.970Z"
      },
      {
        "duration": 6,
        "start_time": "2022-04-11T20:57:23.399Z"
      },
      {
        "duration": 1089,
        "start_time": "2022-04-11T21:03:35.574Z"
      },
      {
        "duration": 271,
        "start_time": "2022-04-11T21:03:36.665Z"
      },
      {
        "duration": 18,
        "start_time": "2022-04-11T21:03:36.938Z"
      },
      {
        "duration": 11,
        "start_time": "2022-04-11T21:03:36.959Z"
      },
      {
        "duration": 16,
        "start_time": "2022-04-11T21:03:36.972Z"
      },
      {
        "duration": 11,
        "start_time": "2022-04-11T21:03:36.990Z"
      },
      {
        "duration": 9,
        "start_time": "2022-04-11T21:03:37.002Z"
      },
      {
        "duration": 8,
        "start_time": "2022-04-11T21:03:37.013Z"
      },
      {
        "duration": 7,
        "start_time": "2022-04-11T21:03:37.022Z"
      },
      {
        "duration": 3,
        "start_time": "2022-04-11T21:03:37.032Z"
      },
      {
        "duration": 109,
        "start_time": "2022-04-11T21:03:37.036Z"
      },
      {
        "duration": 0,
        "start_time": "2022-04-11T21:03:37.149Z"
      },
      {
        "duration": 0,
        "start_time": "2022-04-11T21:03:37.150Z"
      },
      {
        "duration": 0,
        "start_time": "2022-04-11T21:03:37.151Z"
      },
      {
        "duration": 0,
        "start_time": "2022-04-11T21:03:37.152Z"
      },
      {
        "duration": 0,
        "start_time": "2022-04-11T21:03:37.153Z"
      },
      {
        "duration": 0,
        "start_time": "2022-04-11T21:03:37.154Z"
      },
      {
        "duration": 0,
        "start_time": "2022-04-11T21:03:37.155Z"
      },
      {
        "duration": 0,
        "start_time": "2022-04-11T21:03:37.156Z"
      },
      {
        "duration": 0,
        "start_time": "2022-04-11T21:03:37.157Z"
      },
      {
        "duration": 0,
        "start_time": "2022-04-11T21:03:37.158Z"
      },
      {
        "duration": 0,
        "start_time": "2022-04-11T21:03:37.159Z"
      },
      {
        "duration": 0,
        "start_time": "2022-04-11T21:03:37.160Z"
      },
      {
        "duration": 0,
        "start_time": "2022-04-11T21:03:37.161Z"
      },
      {
        "duration": 0,
        "start_time": "2022-04-11T21:03:37.163Z"
      },
      {
        "duration": 0,
        "start_time": "2022-04-11T21:03:37.163Z"
      },
      {
        "duration": 0,
        "start_time": "2022-04-11T21:03:37.165Z"
      },
      {
        "duration": 0,
        "start_time": "2022-04-11T21:03:37.166Z"
      },
      {
        "duration": 0,
        "start_time": "2022-04-11T21:03:37.167Z"
      },
      {
        "duration": 0,
        "start_time": "2022-04-11T21:03:37.168Z"
      },
      {
        "duration": 0,
        "start_time": "2022-04-11T21:03:37.169Z"
      },
      {
        "duration": 0,
        "start_time": "2022-04-11T21:03:37.170Z"
      },
      {
        "duration": 0,
        "start_time": "2022-04-11T21:03:37.208Z"
      },
      {
        "duration": 0,
        "start_time": "2022-04-11T21:03:37.210Z"
      },
      {
        "duration": 0,
        "start_time": "2022-04-11T21:03:37.211Z"
      },
      {
        "duration": 0,
        "start_time": "2022-04-11T21:03:37.212Z"
      },
      {
        "duration": 0,
        "start_time": "2022-04-11T21:03:37.213Z"
      },
      {
        "duration": 0,
        "start_time": "2022-04-11T21:03:37.214Z"
      },
      {
        "duration": 0,
        "start_time": "2022-04-11T21:03:37.215Z"
      },
      {
        "duration": 0,
        "start_time": "2022-04-11T21:03:37.216Z"
      },
      {
        "duration": 0,
        "start_time": "2022-04-11T21:03:37.217Z"
      },
      {
        "duration": 0,
        "start_time": "2022-04-11T21:03:37.218Z"
      },
      {
        "duration": 0,
        "start_time": "2022-04-11T21:03:37.219Z"
      },
      {
        "duration": 0,
        "start_time": "2022-04-11T21:03:37.220Z"
      },
      {
        "duration": 0,
        "start_time": "2022-04-11T21:03:37.221Z"
      },
      {
        "duration": 0,
        "start_time": "2022-04-11T21:03:37.222Z"
      },
      {
        "duration": 0,
        "start_time": "2022-04-11T21:03:37.223Z"
      },
      {
        "duration": 0,
        "start_time": "2022-04-11T21:03:37.224Z"
      },
      {
        "duration": 0,
        "start_time": "2022-04-11T21:03:37.225Z"
      },
      {
        "duration": 0,
        "start_time": "2022-04-11T21:03:37.227Z"
      },
      {
        "duration": 0,
        "start_time": "2022-04-11T21:03:37.228Z"
      },
      {
        "duration": 0,
        "start_time": "2022-04-11T21:03:37.229Z"
      },
      {
        "duration": 0,
        "start_time": "2022-04-11T21:03:37.230Z"
      },
      {
        "duration": 0,
        "start_time": "2022-04-11T21:03:37.231Z"
      },
      {
        "duration": 0,
        "start_time": "2022-04-11T21:03:37.232Z"
      },
      {
        "duration": 0,
        "start_time": "2022-04-11T21:03:37.233Z"
      },
      {
        "duration": 0,
        "start_time": "2022-04-11T21:03:37.234Z"
      },
      {
        "duration": 0,
        "start_time": "2022-04-11T21:03:37.235Z"
      },
      {
        "duration": 0,
        "start_time": "2022-04-11T21:03:37.236Z"
      },
      {
        "duration": 0,
        "start_time": "2022-04-11T21:03:37.237Z"
      },
      {
        "duration": 14,
        "start_time": "2022-04-11T21:04:11.353Z"
      },
      {
        "duration": 3,
        "start_time": "2022-04-11T21:04:22.754Z"
      },
      {
        "duration": 311,
        "start_time": "2022-04-11T21:04:22.762Z"
      },
      {
        "duration": 16,
        "start_time": "2022-04-11T21:04:23.075Z"
      },
      {
        "duration": 10,
        "start_time": "2022-04-11T21:04:23.094Z"
      },
      {
        "duration": 18,
        "start_time": "2022-04-11T21:04:23.106Z"
      },
      {
        "duration": 10,
        "start_time": "2022-04-11T21:04:23.126Z"
      },
      {
        "duration": 5,
        "start_time": "2022-04-11T21:04:23.138Z"
      },
      {
        "duration": 6,
        "start_time": "2022-04-11T21:04:23.144Z"
      },
      {
        "duration": 7,
        "start_time": "2022-04-11T21:04:23.151Z"
      },
      {
        "duration": 5,
        "start_time": "2022-04-11T21:04:23.159Z"
      },
      {
        "duration": 43,
        "start_time": "2022-04-11T21:04:23.166Z"
      },
      {
        "duration": 3,
        "start_time": "2022-04-11T21:04:23.210Z"
      },
      {
        "duration": 6,
        "start_time": "2022-04-11T21:04:23.214Z"
      },
      {
        "duration": 27,
        "start_time": "2022-04-11T21:04:23.222Z"
      },
      {
        "duration": 7,
        "start_time": "2022-04-11T21:04:23.252Z"
      },
      {
        "duration": 54,
        "start_time": "2022-04-11T21:04:23.261Z"
      },
      {
        "duration": 16,
        "start_time": "2022-04-11T21:04:23.316Z"
      },
      {
        "duration": 18,
        "start_time": "2022-04-11T21:04:23.333Z"
      },
      {
        "duration": 7,
        "start_time": "2022-04-11T21:04:23.352Z"
      },
      {
        "duration": 28,
        "start_time": "2022-04-11T21:04:23.360Z"
      },
      {
        "duration": 22,
        "start_time": "2022-04-11T21:04:23.390Z"
      },
      {
        "duration": 31,
        "start_time": "2022-04-11T21:04:23.414Z"
      },
      {
        "duration": 12,
        "start_time": "2022-04-11T21:04:23.446Z"
      },
      {
        "duration": 41,
        "start_time": "2022-04-11T21:04:23.459Z"
      },
      {
        "duration": 13,
        "start_time": "2022-04-11T21:04:23.502Z"
      },
      {
        "duration": 8,
        "start_time": "2022-04-11T21:04:23.517Z"
      },
      {
        "duration": 42,
        "start_time": "2022-04-11T21:04:23.526Z"
      },
      {
        "duration": 8,
        "start_time": "2022-04-11T21:04:23.570Z"
      },
      {
        "duration": 42,
        "start_time": "2022-04-11T21:04:23.579Z"
      },
      {
        "duration": 18,
        "start_time": "2022-04-11T21:04:23.622Z"
      },
      {
        "duration": 8,
        "start_time": "2022-04-11T21:04:23.642Z"
      },
      {
        "duration": 28,
        "start_time": "2022-04-11T21:04:23.651Z"
      },
      {
        "duration": 35,
        "start_time": "2022-04-11T21:04:23.681Z"
      },
      {
        "duration": 9,
        "start_time": "2022-04-11T21:04:23.717Z"
      },
      {
        "duration": 10,
        "start_time": "2022-04-11T21:04:23.727Z"
      },
      {
        "duration": 15,
        "start_time": "2022-04-11T21:04:23.739Z"
      },
      {
        "duration": 18,
        "start_time": "2022-04-11T21:04:23.755Z"
      },
      {
        "duration": 4,
        "start_time": "2022-04-11T21:04:23.775Z"
      },
      {
        "duration": 34,
        "start_time": "2022-04-11T21:04:23.781Z"
      },
      {
        "duration": 5,
        "start_time": "2022-04-11T21:04:23.817Z"
      },
      {
        "duration": 48,
        "start_time": "2022-04-11T21:04:23.823Z"
      },
      {
        "duration": 15,
        "start_time": "2022-04-11T21:04:23.875Z"
      },
      {
        "duration": 293,
        "start_time": "2022-04-11T21:04:23.909Z"
      },
      {
        "duration": 184,
        "start_time": "2022-04-11T21:04:24.204Z"
      },
      {
        "duration": 7,
        "start_time": "2022-04-11T21:04:24.390Z"
      },
      {
        "duration": 115,
        "start_time": "2022-04-11T21:04:24.399Z"
      },
      {
        "duration": 483,
        "start_time": "2022-04-11T21:04:24.515Z"
      },
      {
        "duration": 273,
        "start_time": "2022-04-11T21:04:25.000Z"
      },
      {
        "duration": 7,
        "start_time": "2022-04-11T21:04:25.275Z"
      },
      {
        "duration": 231,
        "start_time": "2022-04-11T21:04:25.284Z"
      },
      {
        "duration": 368,
        "start_time": "2022-04-11T21:04:25.517Z"
      },
      {
        "duration": 7,
        "start_time": "2022-04-11T21:04:25.887Z"
      },
      {
        "duration": 232,
        "start_time": "2022-04-11T21:04:25.896Z"
      },
      {
        "duration": 278,
        "start_time": "2022-04-11T21:04:26.130Z"
      },
      {
        "duration": 7,
        "start_time": "2022-04-11T21:04:26.410Z"
      },
      {
        "duration": 257,
        "start_time": "2022-04-11T21:04:26.419Z"
      },
      {
        "duration": 13,
        "start_time": "2022-04-11T21:04:26.678Z"
      },
      {
        "duration": 6,
        "start_time": "2022-04-11T21:04:26.708Z"
      },
      {
        "duration": 9,
        "start_time": "2022-04-11T21:04:26.716Z"
      },
      {
        "duration": 7,
        "start_time": "2022-04-11T21:04:26.726Z"
      },
      {
        "duration": 23,
        "start_time": "2022-04-11T21:06:55.693Z"
      },
      {
        "duration": 17,
        "start_time": "2022-04-11T21:07:00.011Z"
      },
      {
        "duration": 16,
        "start_time": "2022-04-11T21:08:04.931Z"
      },
      {
        "duration": 17,
        "start_time": "2022-04-11T21:08:21.359Z"
      },
      {
        "duration": 16,
        "start_time": "2022-04-11T21:09:55.073Z"
      },
      {
        "duration": 1763,
        "start_time": "2022-04-12T15:33:22.666Z"
      },
      {
        "duration": 388,
        "start_time": "2022-04-12T15:33:24.432Z"
      },
      {
        "duration": 29,
        "start_time": "2022-04-12T15:33:24.822Z"
      },
      {
        "duration": 19,
        "start_time": "2022-04-12T15:33:24.856Z"
      },
      {
        "duration": 29,
        "start_time": "2022-04-12T15:33:24.877Z"
      },
      {
        "duration": 46,
        "start_time": "2022-04-12T15:33:24.908Z"
      },
      {
        "duration": 21,
        "start_time": "2022-04-12T15:33:24.957Z"
      },
      {
        "duration": 7,
        "start_time": "2022-04-12T15:33:24.980Z"
      },
      {
        "duration": 12,
        "start_time": "2022-04-12T15:33:24.990Z"
      },
      {
        "duration": 6,
        "start_time": "2022-04-12T15:33:25.006Z"
      },
      {
        "duration": 41,
        "start_time": "2022-04-12T15:33:25.014Z"
      },
      {
        "duration": 15,
        "start_time": "2022-04-12T15:33:25.059Z"
      },
      {
        "duration": 16,
        "start_time": "2022-04-12T15:33:25.076Z"
      },
      {
        "duration": 39,
        "start_time": "2022-04-12T15:33:25.094Z"
      },
      {
        "duration": 31,
        "start_time": "2022-04-12T15:33:25.136Z"
      },
      {
        "duration": 57,
        "start_time": "2022-04-12T15:33:25.170Z"
      },
      {
        "duration": 48,
        "start_time": "2022-04-12T15:33:25.229Z"
      },
      {
        "duration": 27,
        "start_time": "2022-04-12T15:33:25.279Z"
      },
      {
        "duration": 10,
        "start_time": "2022-04-12T15:33:25.308Z"
      },
      {
        "duration": 66,
        "start_time": "2022-04-12T15:33:25.320Z"
      },
      {
        "duration": 15,
        "start_time": "2022-04-12T15:33:25.388Z"
      },
      {
        "duration": 62,
        "start_time": "2022-04-12T15:33:25.405Z"
      },
      {
        "duration": 11,
        "start_time": "2022-04-12T15:33:25.471Z"
      },
      {
        "duration": 43,
        "start_time": "2022-04-12T15:33:25.484Z"
      },
      {
        "duration": 22,
        "start_time": "2022-04-12T15:33:25.552Z"
      },
      {
        "duration": 17,
        "start_time": "2022-04-12T15:33:25.577Z"
      },
      {
        "duration": 83,
        "start_time": "2022-04-12T15:33:25.597Z"
      },
      {
        "duration": 14,
        "start_time": "2022-04-12T15:33:25.687Z"
      },
      {
        "duration": 57,
        "start_time": "2022-04-12T15:33:25.703Z"
      },
      {
        "duration": 30,
        "start_time": "2022-04-12T15:33:25.762Z"
      },
      {
        "duration": 13,
        "start_time": "2022-04-12T15:33:25.795Z"
      },
      {
        "duration": 67,
        "start_time": "2022-04-12T15:33:25.810Z"
      },
      {
        "duration": 19,
        "start_time": "2022-04-12T15:33:25.879Z"
      },
      {
        "duration": 14,
        "start_time": "2022-04-12T15:33:25.900Z"
      },
      {
        "duration": 40,
        "start_time": "2022-04-12T15:33:25.916Z"
      },
      {
        "duration": 25,
        "start_time": "2022-04-12T15:33:25.959Z"
      },
      {
        "duration": 22,
        "start_time": "2022-04-12T15:33:25.986Z"
      },
      {
        "duration": 42,
        "start_time": "2022-04-12T15:33:26.010Z"
      },
      {
        "duration": 20,
        "start_time": "2022-04-12T15:33:26.054Z"
      },
      {
        "duration": 18,
        "start_time": "2022-04-12T15:33:26.076Z"
      },
      {
        "duration": 127,
        "start_time": "2022-04-12T15:33:26.096Z"
      },
      {
        "duration": 31,
        "start_time": "2022-04-12T15:33:26.225Z"
      },
      {
        "duration": 596,
        "start_time": "2022-04-12T15:33:26.258Z"
      },
      {
        "duration": 382,
        "start_time": "2022-04-12T15:33:26.857Z"
      },
      {
        "duration": 17,
        "start_time": "2022-04-12T15:33:27.241Z"
      },
      {
        "duration": 177,
        "start_time": "2022-04-12T15:33:27.261Z"
      },
      {
        "duration": 823,
        "start_time": "2022-04-12T15:33:27.440Z"
      },
      {
        "duration": 459,
        "start_time": "2022-04-12T15:33:28.266Z"
      },
      {
        "duration": 10,
        "start_time": "2022-04-12T15:33:28.727Z"
      },
      {
        "duration": 418,
        "start_time": "2022-04-12T15:33:28.739Z"
      },
      {
        "duration": 512,
        "start_time": "2022-04-12T15:33:29.160Z"
      },
      {
        "duration": 10,
        "start_time": "2022-04-12T15:33:29.674Z"
      },
      {
        "duration": 545,
        "start_time": "2022-04-12T15:33:29.686Z"
      },
      {
        "duration": 509,
        "start_time": "2022-04-12T15:33:30.235Z"
      },
      {
        "duration": 23,
        "start_time": "2022-04-12T15:33:30.746Z"
      },
      {
        "duration": 488,
        "start_time": "2022-04-12T15:33:30.772Z"
      },
      {
        "duration": 23,
        "start_time": "2022-04-12T15:33:31.263Z"
      },
      {
        "duration": 9,
        "start_time": "2022-04-12T15:33:31.288Z"
      },
      {
        "duration": 18,
        "start_time": "2022-04-12T15:33:31.299Z"
      },
      {
        "duration": 55,
        "start_time": "2022-04-12T15:33:31.319Z"
      },
      {
        "duration": 29,
        "start_time": "2022-04-12T15:52:58.384Z"
      },
      {
        "duration": 20,
        "start_time": "2022-04-12T16:18:33.327Z"
      },
      {
        "duration": 36,
        "start_time": "2022-04-12T16:18:58.261Z"
      },
      {
        "duration": 19,
        "start_time": "2022-04-12T16:19:10.131Z"
      },
      {
        "duration": 6,
        "start_time": "2022-04-12T16:30:01.994Z"
      },
      {
        "duration": 6,
        "start_time": "2022-04-12T16:30:41.604Z"
      },
      {
        "duration": 287,
        "start_time": "2022-04-12T16:32:25.927Z"
      },
      {
        "duration": 356,
        "start_time": "2022-04-12T16:32:45.296Z"
      },
      {
        "duration": 13,
        "start_time": "2022-04-12T16:51:34.080Z"
      },
      {
        "duration": 1532,
        "start_time": "2022-04-12T16:56:52.005Z"
      },
      {
        "duration": 753,
        "start_time": "2022-04-12T16:56:53.551Z"
      },
      {
        "duration": 25,
        "start_time": "2022-04-12T16:56:54.306Z"
      },
      {
        "duration": 14,
        "start_time": "2022-04-12T16:56:54.335Z"
      },
      {
        "duration": 46,
        "start_time": "2022-04-12T16:56:54.351Z"
      },
      {
        "duration": 17,
        "start_time": "2022-04-12T16:56:54.399Z"
      },
      {
        "duration": 6,
        "start_time": "2022-04-12T16:56:54.418Z"
      },
      {
        "duration": 8,
        "start_time": "2022-04-12T16:56:54.426Z"
      },
      {
        "duration": 33,
        "start_time": "2022-04-12T16:56:54.436Z"
      },
      {
        "duration": 5,
        "start_time": "2022-04-12T16:56:54.474Z"
      },
      {
        "duration": 21,
        "start_time": "2022-04-12T16:56:54.483Z"
      },
      {
        "duration": 4,
        "start_time": "2022-04-12T16:56:54.506Z"
      },
      {
        "duration": 5,
        "start_time": "2022-04-12T16:56:54.516Z"
      },
      {
        "duration": 71,
        "start_time": "2022-04-12T16:56:54.523Z"
      },
      {
        "duration": 13,
        "start_time": "2022-04-12T16:56:54.596Z"
      },
      {
        "duration": 80,
        "start_time": "2022-04-12T16:56:54.611Z"
      },
      {
        "duration": 22,
        "start_time": "2022-04-12T16:56:54.694Z"
      },
      {
        "duration": 62,
        "start_time": "2022-04-12T16:56:54.718Z"
      },
      {
        "duration": 11,
        "start_time": "2022-04-12T16:56:54.782Z"
      },
      {
        "duration": 45,
        "start_time": "2022-04-12T16:56:54.796Z"
      },
      {
        "duration": 21,
        "start_time": "2022-04-12T16:56:54.843Z"
      },
      {
        "duration": 50,
        "start_time": "2022-04-12T16:56:54.867Z"
      },
      {
        "duration": 11,
        "start_time": "2022-04-12T16:56:54.920Z"
      },
      {
        "duration": 71,
        "start_time": "2022-04-12T16:56:54.934Z"
      },
      {
        "duration": 18,
        "start_time": "2022-04-12T16:56:55.007Z"
      },
      {
        "duration": 37,
        "start_time": "2022-04-12T16:56:55.027Z"
      },
      {
        "duration": 62,
        "start_time": "2022-04-12T16:56:55.066Z"
      },
      {
        "duration": 12,
        "start_time": "2022-04-12T16:56:55.131Z"
      },
      {
        "duration": 64,
        "start_time": "2022-04-12T16:56:55.145Z"
      },
      {
        "duration": 26,
        "start_time": "2022-04-12T16:56:55.211Z"
      },
      {
        "duration": 10,
        "start_time": "2022-04-12T16:56:55.239Z"
      },
      {
        "duration": 51,
        "start_time": "2022-04-12T16:56:55.256Z"
      },
      {
        "duration": 17,
        "start_time": "2022-04-12T16:56:55.309Z"
      },
      {
        "duration": 13,
        "start_time": "2022-04-12T16:56:55.328Z"
      },
      {
        "duration": 32,
        "start_time": "2022-04-12T16:56:55.343Z"
      },
      {
        "duration": 30,
        "start_time": "2022-04-12T16:56:55.379Z"
      },
      {
        "duration": 19,
        "start_time": "2022-04-12T16:56:55.412Z"
      },
      {
        "duration": 16,
        "start_time": "2022-04-12T16:56:55.455Z"
      },
      {
        "duration": 28,
        "start_time": "2022-04-12T16:56:55.475Z"
      },
      {
        "duration": 7,
        "start_time": "2022-04-12T16:56:55.509Z"
      },
      {
        "duration": 108,
        "start_time": "2022-04-12T16:56:55.518Z"
      },
      {
        "duration": 27,
        "start_time": "2022-04-12T16:56:55.628Z"
      },
      {
        "duration": 514,
        "start_time": "2022-04-12T16:56:55.658Z"
      },
      {
        "duration": 312,
        "start_time": "2022-04-12T16:56:56.176Z"
      },
      {
        "duration": 11,
        "start_time": "2022-04-12T16:56:56.490Z"
      },
      {
        "duration": 192,
        "start_time": "2022-04-12T16:56:56.503Z"
      },
      {
        "duration": 841,
        "start_time": "2022-04-12T16:56:56.698Z"
      },
      {
        "duration": 468,
        "start_time": "2022-04-12T16:56:57.542Z"
      },
      {
        "duration": 10,
        "start_time": "2022-04-12T16:56:58.012Z"
      },
      {
        "duration": 438,
        "start_time": "2022-04-12T16:56:58.025Z"
      },
      {
        "duration": 506,
        "start_time": "2022-04-12T16:56:58.466Z"
      },
      {
        "duration": 11,
        "start_time": "2022-04-12T16:56:58.977Z"
      },
      {
        "duration": 528,
        "start_time": "2022-04-12T16:56:58.990Z"
      },
      {
        "duration": 485,
        "start_time": "2022-04-12T16:56:59.521Z"
      },
      {
        "duration": 10,
        "start_time": "2022-04-12T16:57:00.008Z"
      },
      {
        "duration": 497,
        "start_time": "2022-04-12T16:57:00.021Z"
      },
      {
        "duration": 19,
        "start_time": "2022-04-12T16:57:00.520Z"
      },
      {
        "duration": 30,
        "start_time": "2022-04-12T16:57:00.540Z"
      },
      {
        "duration": 20,
        "start_time": "2022-04-12T16:57:00.574Z"
      },
      {
        "duration": 30,
        "start_time": "2022-04-12T16:57:00.596Z"
      },
      {
        "duration": 1366,
        "start_time": "2022-04-12T19:33:38.877Z"
      },
      {
        "duration": 235,
        "start_time": "2022-04-12T19:33:40.245Z"
      },
      {
        "duration": 11,
        "start_time": "2022-04-12T19:33:40.482Z"
      },
      {
        "duration": 14,
        "start_time": "2022-04-12T19:33:40.495Z"
      },
      {
        "duration": 15,
        "start_time": "2022-04-12T19:33:40.511Z"
      },
      {
        "duration": 16,
        "start_time": "2022-04-12T19:33:40.528Z"
      },
      {
        "duration": 67,
        "start_time": "2022-04-12T19:33:40.546Z"
      },
      {
        "duration": 25,
        "start_time": "2022-04-12T19:33:40.615Z"
      },
      {
        "duration": 14,
        "start_time": "2022-04-12T19:33:40.643Z"
      },
      {
        "duration": 8,
        "start_time": "2022-04-12T19:33:40.659Z"
      },
      {
        "duration": 8,
        "start_time": "2022-04-12T19:33:40.669Z"
      },
      {
        "duration": 15,
        "start_time": "2022-04-12T19:33:40.678Z"
      },
      {
        "duration": 6,
        "start_time": "2022-04-12T19:33:40.695Z"
      },
      {
        "duration": 8,
        "start_time": "2022-04-12T19:33:40.702Z"
      },
      {
        "duration": 26,
        "start_time": "2022-04-12T19:33:40.711Z"
      },
      {
        "duration": 8,
        "start_time": "2022-04-12T19:33:40.738Z"
      },
      {
        "duration": 39,
        "start_time": "2022-04-12T19:33:40.747Z"
      },
      {
        "duration": 15,
        "start_time": "2022-04-12T19:33:40.789Z"
      },
      {
        "duration": 30,
        "start_time": "2022-04-12T19:33:40.806Z"
      },
      {
        "duration": 7,
        "start_time": "2022-04-12T19:33:40.838Z"
      },
      {
        "duration": 36,
        "start_time": "2022-04-12T19:33:40.846Z"
      },
      {
        "duration": 13,
        "start_time": "2022-04-12T19:33:40.884Z"
      },
      {
        "duration": 33,
        "start_time": "2022-04-12T19:33:40.898Z"
      },
      {
        "duration": 10,
        "start_time": "2022-04-12T19:33:40.933Z"
      },
      {
        "duration": 53,
        "start_time": "2022-04-12T19:33:40.944Z"
      },
      {
        "duration": 13,
        "start_time": "2022-04-12T19:33:40.999Z"
      },
      {
        "duration": 14,
        "start_time": "2022-04-12T19:33:41.014Z"
      },
      {
        "duration": 61,
        "start_time": "2022-04-12T19:33:41.031Z"
      },
      {
        "duration": 7,
        "start_time": "2022-04-12T19:33:41.094Z"
      },
      {
        "duration": 37,
        "start_time": "2022-04-12T19:33:41.103Z"
      },
      {
        "duration": 18,
        "start_time": "2022-04-12T19:33:41.141Z"
      },
      {
        "duration": 9,
        "start_time": "2022-04-12T19:33:41.161Z"
      },
      {
        "duration": 28,
        "start_time": "2022-04-12T19:33:41.172Z"
      },
      {
        "duration": 28,
        "start_time": "2022-04-12T19:33:41.202Z"
      },
      {
        "duration": 9,
        "start_time": "2022-04-12T19:33:41.232Z"
      },
      {
        "duration": 13,
        "start_time": "2022-04-12T19:33:41.243Z"
      },
      {
        "duration": 33,
        "start_time": "2022-04-12T19:33:41.258Z"
      },
      {
        "duration": 17,
        "start_time": "2022-04-12T19:33:41.293Z"
      },
      {
        "duration": 5,
        "start_time": "2022-04-12T19:33:41.324Z"
      },
      {
        "duration": 16,
        "start_time": "2022-04-12T19:33:41.330Z"
      },
      {
        "duration": 7,
        "start_time": "2022-04-12T19:33:41.348Z"
      },
      {
        "duration": 56,
        "start_time": "2022-04-12T19:33:41.356Z"
      },
      {
        "duration": 14,
        "start_time": "2022-04-12T19:33:41.423Z"
      },
      {
        "duration": 262,
        "start_time": "2022-04-12T19:33:41.439Z"
      },
      {
        "duration": 164,
        "start_time": "2022-04-12T19:33:41.703Z"
      },
      {
        "duration": 7,
        "start_time": "2022-04-12T19:33:41.869Z"
      },
      {
        "duration": 104,
        "start_time": "2022-04-12T19:33:41.877Z"
      },
      {
        "duration": 462,
        "start_time": "2022-04-12T19:33:41.983Z"
      },
      {
        "duration": 240,
        "start_time": "2022-04-12T19:33:42.447Z"
      },
      {
        "duration": 8,
        "start_time": "2022-04-12T19:33:42.688Z"
      },
      {
        "duration": 213,
        "start_time": "2022-04-12T19:33:42.697Z"
      },
      {
        "duration": 322,
        "start_time": "2022-04-12T19:33:42.912Z"
      },
      {
        "duration": 7,
        "start_time": "2022-04-12T19:33:43.236Z"
      },
      {
        "duration": 213,
        "start_time": "2022-04-12T19:33:43.244Z"
      },
      {
        "duration": 254,
        "start_time": "2022-04-12T19:33:43.459Z"
      },
      {
        "duration": 13,
        "start_time": "2022-04-12T19:33:43.714Z"
      },
      {
        "duration": 232,
        "start_time": "2022-04-12T19:33:43.728Z"
      },
      {
        "duration": 11,
        "start_time": "2022-04-12T19:33:43.962Z"
      },
      {
        "duration": 6,
        "start_time": "2022-04-12T19:33:43.975Z"
      },
      {
        "duration": 8,
        "start_time": "2022-04-12T19:33:43.982Z"
      },
      {
        "duration": 36,
        "start_time": "2022-04-12T19:33:43.991Z"
      },
      {
        "duration": 8,
        "start_time": "2022-04-12T19:36:14.437Z"
      },
      {
        "duration": 135,
        "start_time": "2022-04-12T19:38:41.545Z"
      },
      {
        "duration": 2320,
        "start_time": "2022-04-12T19:38:44.673Z"
      },
      {
        "duration": 4,
        "start_time": "2022-04-12T19:39:40.025Z"
      },
      {
        "duration": 11,
        "start_time": "2022-04-12T19:44:19.650Z"
      },
      {
        "duration": 8,
        "start_time": "2022-04-12T19:45:39.507Z"
      },
      {
        "duration": 4,
        "start_time": "2022-04-12T19:45:43.712Z"
      },
      {
        "duration": 9,
        "start_time": "2022-04-12T19:45:54.472Z"
      },
      {
        "duration": 67,
        "start_time": "2022-04-12T19:47:10.727Z"
      },
      {
        "duration": 63,
        "start_time": "2022-04-12T19:49:39.570Z"
      },
      {
        "duration": 67,
        "start_time": "2022-04-12T19:49:45.333Z"
      },
      {
        "duration": 3,
        "start_time": "2022-04-12T19:49:50.503Z"
      },
      {
        "duration": 3,
        "start_time": "2022-04-12T19:49:55.243Z"
      },
      {
        "duration": 4,
        "start_time": "2022-04-12T19:50:07.186Z"
      },
      {
        "duration": 3,
        "start_time": "2022-04-12T19:50:15.540Z"
      },
      {
        "duration": 13,
        "start_time": "2022-04-12T19:51:11.425Z"
      },
      {
        "duration": 107,
        "start_time": "2022-04-12T19:51:15.671Z"
      },
      {
        "duration": 12,
        "start_time": "2022-04-12T19:51:28.502Z"
      },
      {
        "duration": 3,
        "start_time": "2022-04-12T20:00:05.429Z"
      },
      {
        "duration": 8,
        "start_time": "2022-04-12T20:02:42.252Z"
      },
      {
        "duration": 12,
        "start_time": "2022-04-12T20:02:58.212Z"
      },
      {
        "duration": 3,
        "start_time": "2022-04-12T20:03:31.278Z"
      },
      {
        "duration": 25,
        "start_time": "2022-04-12T20:09:33.780Z"
      },
      {
        "duration": 20,
        "start_time": "2022-04-12T20:09:47.412Z"
      },
      {
        "duration": 41,
        "start_time": "2022-04-12T20:11:44.472Z"
      },
      {
        "duration": 23,
        "start_time": "2022-04-12T20:12:47.828Z"
      },
      {
        "duration": 43,
        "start_time": "2022-04-12T20:13:32.127Z"
      },
      {
        "duration": 3,
        "start_time": "2022-04-12T20:14:20.418Z"
      },
      {
        "duration": 7,
        "start_time": "2022-04-12T20:14:32.460Z"
      },
      {
        "duration": 38,
        "start_time": "2022-04-12T20:14:35.758Z"
      },
      {
        "duration": 3,
        "start_time": "2022-04-12T20:14:36.993Z"
      },
      {
        "duration": 9,
        "start_time": "2022-04-12T20:14:37.713Z"
      },
      {
        "duration": 42,
        "start_time": "2022-04-12T20:14:54.908Z"
      },
      {
        "duration": 3,
        "start_time": "2022-04-12T20:14:56.353Z"
      },
      {
        "duration": 8,
        "start_time": "2022-04-12T20:14:57.061Z"
      },
      {
        "duration": 9,
        "start_time": "2022-04-12T20:15:53.705Z"
      },
      {
        "duration": 9,
        "start_time": "2022-04-12T20:15:55.055Z"
      },
      {
        "duration": 29,
        "start_time": "2022-04-12T20:21:08.669Z"
      },
      {
        "duration": 13,
        "start_time": "2022-04-12T20:21:17.872Z"
      },
      {
        "duration": 9,
        "start_time": "2022-04-12T20:23:53.328Z"
      },
      {
        "duration": 4,
        "start_time": "2022-04-12T20:24:40.536Z"
      },
      {
        "duration": 9,
        "start_time": "2022-04-12T20:24:50.086Z"
      },
      {
        "duration": 10,
        "start_time": "2022-04-12T20:25:03.545Z"
      },
      {
        "duration": 6,
        "start_time": "2022-04-12T20:25:26.215Z"
      },
      {
        "duration": 8,
        "start_time": "2022-04-12T20:25:41.016Z"
      },
      {
        "duration": 3,
        "start_time": "2022-04-12T20:25:57.441Z"
      },
      {
        "duration": 7,
        "start_time": "2022-04-12T20:25:58.489Z"
      },
      {
        "duration": 10,
        "start_time": "2022-04-12T20:26:13.745Z"
      },
      {
        "duration": 10,
        "start_time": "2022-04-12T20:26:14.414Z"
      },
      {
        "duration": 11,
        "start_time": "2022-04-12T20:27:49.613Z"
      },
      {
        "duration": 11,
        "start_time": "2022-04-12T20:27:50.341Z"
      },
      {
        "duration": 9,
        "start_time": "2022-04-12T20:28:05.513Z"
      },
      {
        "duration": 18,
        "start_time": "2022-04-12T20:28:06.270Z"
      },
      {
        "duration": 13,
        "start_time": "2022-04-12T20:28:15.142Z"
      },
      {
        "duration": 14,
        "start_time": "2022-04-12T20:29:07.705Z"
      },
      {
        "duration": 4,
        "start_time": "2022-04-12T20:33:33.529Z"
      },
      {
        "duration": 1010,
        "start_time": "2022-04-12T20:33:48.875Z"
      },
      {
        "duration": 233,
        "start_time": "2022-04-12T20:33:49.887Z"
      },
      {
        "duration": 11,
        "start_time": "2022-04-12T20:33:50.122Z"
      },
      {
        "duration": 13,
        "start_time": "2022-04-12T20:33:50.135Z"
      },
      {
        "duration": 10,
        "start_time": "2022-04-12T20:33:50.149Z"
      },
      {
        "duration": 17,
        "start_time": "2022-04-12T20:33:50.161Z"
      },
      {
        "duration": 11,
        "start_time": "2022-04-12T20:33:50.179Z"
      },
      {
        "duration": 6,
        "start_time": "2022-04-12T20:33:50.191Z"
      },
      {
        "duration": 31,
        "start_time": "2022-04-12T20:33:50.199Z"
      },
      {
        "duration": 10,
        "start_time": "2022-04-12T20:33:50.232Z"
      },
      {
        "duration": 6,
        "start_time": "2022-04-12T20:33:50.245Z"
      },
      {
        "duration": 17,
        "start_time": "2022-04-12T20:33:50.252Z"
      },
      {
        "duration": 6,
        "start_time": "2022-04-12T20:33:50.271Z"
      },
      {
        "duration": 9,
        "start_time": "2022-04-12T20:33:50.278Z"
      },
      {
        "duration": 26,
        "start_time": "2022-04-12T20:33:50.288Z"
      },
      {
        "duration": 8,
        "start_time": "2022-04-12T20:33:50.324Z"
      },
      {
        "duration": 39,
        "start_time": "2022-04-12T20:33:50.334Z"
      },
      {
        "duration": 14,
        "start_time": "2022-04-12T20:33:50.374Z"
      },
      {
        "duration": 4,
        "start_time": "2022-04-12T20:33:50.390Z"
      },
      {
        "duration": 38,
        "start_time": "2022-04-12T20:33:50.395Z"
      },
      {
        "duration": 6,
        "start_time": "2022-04-12T20:33:50.434Z"
      },
      {
        "duration": 20,
        "start_time": "2022-04-12T20:33:50.442Z"
      },
      {
        "duration": 10,
        "start_time": "2022-04-12T20:33:50.463Z"
      },
      {
        "duration": 21,
        "start_time": "2022-04-12T20:33:50.474Z"
      },
      {
        "duration": 8,
        "start_time": "2022-04-12T20:33:50.524Z"
      },
      {
        "duration": 42,
        "start_time": "2022-04-12T20:33:50.534Z"
      },
      {
        "duration": 3,
        "start_time": "2022-04-12T20:33:50.578Z"
      },
      {
        "duration": 14,
        "start_time": "2022-04-12T20:33:50.584Z"
      },
      {
        "duration": 13,
        "start_time": "2022-04-12T20:33:50.599Z"
      },
      {
        "duration": 25,
        "start_time": "2022-04-12T20:33:50.613Z"
      },
      {
        "duration": 13,
        "start_time": "2022-04-12T20:33:50.639Z"
      },
      {
        "duration": 9,
        "start_time": "2022-04-12T20:33:50.653Z"
      },
      {
        "duration": 70,
        "start_time": "2022-04-12T20:33:50.664Z"
      },
      {
        "duration": 3,
        "start_time": "2022-04-12T20:33:50.736Z"
      },
      {
        "duration": 8,
        "start_time": "2022-04-12T20:33:50.741Z"
      },
      {
        "duration": 18,
        "start_time": "2022-04-12T20:33:50.751Z"
      },
      {
        "duration": 8,
        "start_time": "2022-04-12T20:33:50.771Z"
      },
      {
        "duration": 119,
        "start_time": "2022-04-12T20:33:50.780Z"
      },
      {
        "duration": 0,
        "start_time": "2022-04-12T20:33:50.901Z"
      },
      {
        "duration": 0,
        "start_time": "2022-04-12T20:33:50.902Z"
      },
      {
        "duration": 0,
        "start_time": "2022-04-12T20:33:50.903Z"
      },
      {
        "duration": 0,
        "start_time": "2022-04-12T20:33:50.904Z"
      },
      {
        "duration": 0,
        "start_time": "2022-04-12T20:33:50.905Z"
      },
      {
        "duration": 0,
        "start_time": "2022-04-12T20:33:50.906Z"
      },
      {
        "duration": 0,
        "start_time": "2022-04-12T20:33:50.907Z"
      },
      {
        "duration": 0,
        "start_time": "2022-04-12T20:33:50.908Z"
      },
      {
        "duration": 23,
        "start_time": "2022-04-12T20:35:04.744Z"
      },
      {
        "duration": 13,
        "start_time": "2022-04-12T20:35:24.621Z"
      },
      {
        "duration": 259,
        "start_time": "2022-04-12T20:35:40.159Z"
      },
      {
        "duration": 31,
        "start_time": "2022-04-12T20:35:40.883Z"
      },
      {
        "duration": 961,
        "start_time": "2022-04-12T20:36:05.176Z"
      },
      {
        "duration": 219,
        "start_time": "2022-04-12T20:36:06.139Z"
      },
      {
        "duration": 11,
        "start_time": "2022-04-12T20:36:06.359Z"
      },
      {
        "duration": 10,
        "start_time": "2022-04-12T20:36:06.372Z"
      },
      {
        "duration": 9,
        "start_time": "2022-04-12T20:36:06.383Z"
      },
      {
        "duration": 15,
        "start_time": "2022-04-12T20:36:06.393Z"
      },
      {
        "duration": 15,
        "start_time": "2022-04-12T20:36:06.409Z"
      },
      {
        "duration": 4,
        "start_time": "2022-04-12T20:36:06.425Z"
      },
      {
        "duration": 5,
        "start_time": "2022-04-12T20:36:06.430Z"
      },
      {
        "duration": 8,
        "start_time": "2022-04-12T20:36:06.438Z"
      },
      {
        "duration": 5,
        "start_time": "2022-04-12T20:36:06.447Z"
      },
      {
        "duration": 13,
        "start_time": "2022-04-12T20:36:06.453Z"
      },
      {
        "duration": 5,
        "start_time": "2022-04-12T20:36:06.468Z"
      },
      {
        "duration": 7,
        "start_time": "2022-04-12T20:36:06.475Z"
      },
      {
        "duration": 24,
        "start_time": "2022-04-12T20:36:06.483Z"
      },
      {
        "duration": 21,
        "start_time": "2022-04-12T20:36:06.508Z"
      },
      {
        "duration": 32,
        "start_time": "2022-04-12T20:36:06.530Z"
      },
      {
        "duration": 15,
        "start_time": "2022-04-12T20:36:06.564Z"
      },
      {
        "duration": 4,
        "start_time": "2022-04-12T20:36:06.580Z"
      },
      {
        "duration": 39,
        "start_time": "2022-04-12T20:36:06.585Z"
      },
      {
        "duration": 6,
        "start_time": "2022-04-12T20:36:06.626Z"
      },
      {
        "duration": 20,
        "start_time": "2022-04-12T20:36:06.634Z"
      },
      {
        "duration": 9,
        "start_time": "2022-04-12T20:36:06.655Z"
      },
      {
        "duration": 18,
        "start_time": "2022-04-12T20:36:06.666Z"
      },
      {
        "duration": 8,
        "start_time": "2022-04-12T20:36:13.742Z"
      },
      {
        "duration": 12,
        "start_time": "2022-04-12T20:36:16.465Z"
      },
      {
        "duration": 3,
        "start_time": "2022-04-12T20:36:18.152Z"
      },
      {
        "duration": 97,
        "start_time": "2022-04-12T20:36:20.084Z"
      },
      {
        "duration": 7,
        "start_time": "2022-04-12T20:36:46.286Z"
      },
      {
        "duration": 7,
        "start_time": "2022-04-12T20:36:53.813Z"
      },
      {
        "duration": 12,
        "start_time": "2022-04-12T20:36:59.403Z"
      },
      {
        "duration": 23,
        "start_time": "2022-04-12T20:37:20.963Z"
      },
      {
        "duration": 11,
        "start_time": "2022-04-12T20:37:39.708Z"
      },
      {
        "duration": 12,
        "start_time": "2022-04-12T20:37:54.697Z"
      },
      {
        "duration": 1050,
        "start_time": "2022-04-12T20:38:08.478Z"
      },
      {
        "duration": 238,
        "start_time": "2022-04-12T20:38:09.530Z"
      },
      {
        "duration": 11,
        "start_time": "2022-04-12T20:38:09.769Z"
      },
      {
        "duration": 10,
        "start_time": "2022-04-12T20:38:09.782Z"
      },
      {
        "duration": 9,
        "start_time": "2022-04-12T20:38:09.793Z"
      },
      {
        "duration": 16,
        "start_time": "2022-04-12T20:38:09.803Z"
      },
      {
        "duration": 11,
        "start_time": "2022-04-12T20:38:09.822Z"
      },
      {
        "duration": 7,
        "start_time": "2022-04-12T20:38:09.835Z"
      },
      {
        "duration": 5,
        "start_time": "2022-04-12T20:38:09.844Z"
      },
      {
        "duration": 7,
        "start_time": "2022-04-12T20:38:09.852Z"
      },
      {
        "duration": 4,
        "start_time": "2022-04-12T20:38:09.861Z"
      },
      {
        "duration": 16,
        "start_time": "2022-04-12T20:38:09.867Z"
      },
      {
        "duration": 3,
        "start_time": "2022-04-12T20:38:09.885Z"
      },
      {
        "duration": 5,
        "start_time": "2022-04-12T20:38:09.890Z"
      },
      {
        "duration": 47,
        "start_time": "2022-04-12T20:38:09.896Z"
      },
      {
        "duration": 8,
        "start_time": "2022-04-12T20:38:09.946Z"
      },
      {
        "duration": 31,
        "start_time": "2022-04-12T20:38:09.956Z"
      },
      {
        "duration": 36,
        "start_time": "2022-04-12T20:38:09.988Z"
      },
      {
        "duration": 5,
        "start_time": "2022-04-12T20:38:10.025Z"
      },
      {
        "duration": 23,
        "start_time": "2022-04-12T20:38:10.031Z"
      },
      {
        "duration": 6,
        "start_time": "2022-04-12T20:38:10.056Z"
      },
      {
        "duration": 24,
        "start_time": "2022-04-12T20:38:10.064Z"
      },
      {
        "duration": 8,
        "start_time": "2022-04-12T20:38:10.090Z"
      },
      {
        "duration": 37,
        "start_time": "2022-04-12T20:38:10.100Z"
      },
      {
        "duration": 8,
        "start_time": "2022-04-12T20:38:10.138Z"
      },
      {
        "duration": 14,
        "start_time": "2022-04-12T20:38:10.147Z"
      },
      {
        "duration": 3,
        "start_time": "2022-04-12T20:38:10.163Z"
      },
      {
        "duration": 10,
        "start_time": "2022-04-12T20:38:10.168Z"
      },
      {
        "duration": 44,
        "start_time": "2022-04-12T20:38:10.180Z"
      },
      {
        "duration": 12,
        "start_time": "2022-04-12T20:38:10.226Z"
      },
      {
        "duration": 15,
        "start_time": "2022-04-12T20:38:10.240Z"
      },
      {
        "duration": 13,
        "start_time": "2022-04-12T20:38:39.218Z"
      },
      {
        "duration": 85,
        "start_time": "2022-04-12T20:39:24.870Z"
      },
      {
        "duration": 12,
        "start_time": "2022-04-12T20:39:30.940Z"
      },
      {
        "duration": 8,
        "start_time": "2022-04-12T20:45:12.348Z"
      },
      {
        "duration": 17,
        "start_time": "2022-04-12T20:45:13.227Z"
      },
      {
        "duration": 12,
        "start_time": "2022-04-12T20:45:18.129Z"
      },
      {
        "duration": 16,
        "start_time": "2022-04-12T20:45:26.738Z"
      },
      {
        "duration": 11,
        "start_time": "2022-04-12T20:46:55.683Z"
      },
      {
        "duration": 18,
        "start_time": "2022-04-12T20:46:56.560Z"
      },
      {
        "duration": 15,
        "start_time": "2022-04-12T20:47:12.508Z"
      },
      {
        "duration": 18,
        "start_time": "2022-04-12T20:47:17.742Z"
      },
      {
        "duration": 14,
        "start_time": "2022-04-12T20:47:20.515Z"
      },
      {
        "duration": 10,
        "start_time": "2022-04-12T20:47:31.270Z"
      },
      {
        "duration": 18,
        "start_time": "2022-04-12T20:47:39.444Z"
      },
      {
        "duration": 11,
        "start_time": "2022-04-12T20:48:35.410Z"
      },
      {
        "duration": 11,
        "start_time": "2022-04-12T20:48:39.422Z"
      },
      {
        "duration": 22,
        "start_time": "2022-04-12T21:08:54.953Z"
      },
      {
        "duration": 4,
        "start_time": "2022-04-12T21:08:59.888Z"
      },
      {
        "duration": 4,
        "start_time": "2022-04-12T21:09:00.694Z"
      },
      {
        "duration": 7,
        "start_time": "2022-04-12T21:09:01.521Z"
      },
      {
        "duration": 9,
        "start_time": "2022-04-12T21:09:06.523Z"
      },
      {
        "duration": 3,
        "start_time": "2022-04-12T21:09:17.135Z"
      },
      {
        "duration": 239,
        "start_time": "2022-04-12T21:09:17.140Z"
      },
      {
        "duration": 10,
        "start_time": "2022-04-12T21:09:17.381Z"
      },
      {
        "duration": 10,
        "start_time": "2022-04-12T21:09:17.392Z"
      },
      {
        "duration": 20,
        "start_time": "2022-04-12T21:09:17.404Z"
      },
      {
        "duration": 20,
        "start_time": "2022-04-12T21:09:17.426Z"
      },
      {
        "duration": 13,
        "start_time": "2022-04-12T21:09:17.448Z"
      },
      {
        "duration": 4,
        "start_time": "2022-04-12T21:09:17.463Z"
      },
      {
        "duration": 4,
        "start_time": "2022-04-12T21:09:17.469Z"
      },
      {
        "duration": 10,
        "start_time": "2022-04-12T21:09:17.475Z"
      },
      {
        "duration": 5,
        "start_time": "2022-04-12T21:09:17.487Z"
      },
      {
        "duration": 18,
        "start_time": "2022-04-12T21:09:17.524Z"
      },
      {
        "duration": 7,
        "start_time": "2022-04-12T21:09:17.544Z"
      },
      {
        "duration": 7,
        "start_time": "2022-04-12T21:09:17.552Z"
      },
      {
        "duration": 33,
        "start_time": "2022-04-12T21:09:17.560Z"
      },
      {
        "duration": 8,
        "start_time": "2022-04-12T21:09:17.595Z"
      },
      {
        "duration": 29,
        "start_time": "2022-04-12T21:09:17.623Z"
      },
      {
        "duration": 14,
        "start_time": "2022-04-12T21:09:17.653Z"
      },
      {
        "duration": 3,
        "start_time": "2022-04-12T21:09:17.669Z"
      },
      {
        "duration": 19,
        "start_time": "2022-04-12T21:09:17.674Z"
      },
      {
        "duration": 31,
        "start_time": "2022-04-12T21:09:17.694Z"
      },
      {
        "duration": 19,
        "start_time": "2022-04-12T21:09:17.726Z"
      },
      {
        "duration": 9,
        "start_time": "2022-04-12T21:09:17.746Z"
      },
      {
        "duration": 19,
        "start_time": "2022-04-12T21:09:17.756Z"
      },
      {
        "duration": 7,
        "start_time": "2022-04-12T21:09:17.776Z"
      },
      {
        "duration": 47,
        "start_time": "2022-04-12T21:09:17.784Z"
      },
      {
        "duration": 3,
        "start_time": "2022-04-12T21:09:17.833Z"
      },
      {
        "duration": 12,
        "start_time": "2022-04-12T21:09:17.838Z"
      },
      {
        "duration": 13,
        "start_time": "2022-04-12T21:09:17.855Z"
      },
      {
        "duration": 14,
        "start_time": "2022-04-12T21:09:17.870Z"
      },
      {
        "duration": 42,
        "start_time": "2022-04-12T21:09:17.886Z"
      },
      {
        "duration": 4,
        "start_time": "2022-04-12T21:09:17.930Z"
      },
      {
        "duration": 18,
        "start_time": "2022-04-12T21:09:17.935Z"
      },
      {
        "duration": 10,
        "start_time": "2022-04-12T21:09:17.954Z"
      },
      {
        "duration": 7,
        "start_time": "2022-04-12T21:09:17.965Z"
      },
      {
        "duration": 70,
        "start_time": "2022-04-12T21:09:17.974Z"
      },
      {
        "duration": 3,
        "start_time": "2022-04-12T21:09:18.045Z"
      },
      {
        "duration": 9,
        "start_time": "2022-04-12T21:09:18.050Z"
      },
      {
        "duration": 19,
        "start_time": "2022-04-12T21:09:18.061Z"
      },
      {
        "duration": 9,
        "start_time": "2022-04-12T21:09:18.082Z"
      },
      {
        "duration": 44,
        "start_time": "2022-04-12T21:09:18.092Z"
      },
      {
        "duration": 3,
        "start_time": "2022-04-12T21:09:18.137Z"
      },
      {
        "duration": 5,
        "start_time": "2022-04-12T21:09:18.142Z"
      },
      {
        "duration": 17,
        "start_time": "2022-04-12T21:09:18.148Z"
      },
      {
        "duration": 14,
        "start_time": "2022-04-12T21:09:18.167Z"
      },
      {
        "duration": 11,
        "start_time": "2022-04-12T21:09:18.183Z"
      },
      {
        "duration": 33,
        "start_time": "2022-04-12T21:09:18.196Z"
      },
      {
        "duration": 17,
        "start_time": "2022-04-12T21:09:18.231Z"
      },
      {
        "duration": 15,
        "start_time": "2022-04-12T21:09:18.250Z"
      },
      {
        "duration": 3,
        "start_time": "2022-04-12T21:09:18.266Z"
      },
      {
        "duration": 6,
        "start_time": "2022-04-12T21:09:18.271Z"
      },
      {
        "duration": 11,
        "start_time": "2022-04-12T21:09:18.278Z"
      },
      {
        "duration": 33,
        "start_time": "2022-04-12T21:09:18.290Z"
      },
      {
        "duration": 52,
        "start_time": "2022-04-12T21:09:18.325Z"
      },
      {
        "duration": 16,
        "start_time": "2022-04-12T21:09:18.379Z"
      },
      {
        "duration": 461,
        "start_time": "2022-04-12T21:09:18.396Z"
      },
      {
        "duration": 170,
        "start_time": "2022-04-12T21:09:18.859Z"
      },
      {
        "duration": 8,
        "start_time": "2022-04-12T21:09:19.031Z"
      },
      {
        "duration": 105,
        "start_time": "2022-04-12T21:09:19.041Z"
      },
      {
        "duration": 545,
        "start_time": "2022-04-12T21:09:19.148Z"
      },
      {
        "duration": 393,
        "start_time": "2022-04-12T21:09:19.695Z"
      },
      {
        "duration": 9,
        "start_time": "2022-04-12T21:09:20.090Z"
      },
      {
        "duration": 240,
        "start_time": "2022-04-12T21:09:20.100Z"
      },
      {
        "duration": 297,
        "start_time": "2022-04-12T21:09:20.341Z"
      },
      {
        "duration": 9,
        "start_time": "2022-04-12T21:09:20.640Z"
      },
      {
        "duration": 276,
        "start_time": "2022-04-12T21:09:20.651Z"
      },
      {
        "duration": 498,
        "start_time": "2022-04-12T21:09:20.929Z"
      },
      {
        "duration": 7,
        "start_time": "2022-04-12T21:09:21.430Z"
      },
      {
        "duration": 326,
        "start_time": "2022-04-12T21:09:21.439Z"
      },
      {
        "duration": 12,
        "start_time": "2022-04-12T21:09:21.766Z"
      },
      {
        "duration": 10,
        "start_time": "2022-04-12T21:09:21.780Z"
      },
      {
        "duration": 6,
        "start_time": "2022-04-12T21:09:21.791Z"
      },
      {
        "duration": 33,
        "start_time": "2022-04-12T21:09:21.799Z"
      },
      {
        "duration": 1039,
        "start_time": "2022-04-12T21:22:45.207Z"
      },
      {
        "duration": 223,
        "start_time": "2022-04-12T21:22:46.248Z"
      },
      {
        "duration": 10,
        "start_time": "2022-04-12T21:22:46.473Z"
      },
      {
        "duration": 9,
        "start_time": "2022-04-12T21:22:46.485Z"
      },
      {
        "duration": 8,
        "start_time": "2022-04-12T21:22:46.496Z"
      },
      {
        "duration": 19,
        "start_time": "2022-04-12T21:22:46.505Z"
      },
      {
        "duration": 9,
        "start_time": "2022-04-12T21:22:46.526Z"
      },
      {
        "duration": 5,
        "start_time": "2022-04-12T21:22:46.536Z"
      },
      {
        "duration": 5,
        "start_time": "2022-04-12T21:22:46.543Z"
      },
      {
        "duration": 6,
        "start_time": "2022-04-12T21:22:46.551Z"
      },
      {
        "duration": 8,
        "start_time": "2022-04-12T21:22:46.558Z"
      },
      {
        "duration": 13,
        "start_time": "2022-04-12T21:22:46.567Z"
      },
      {
        "duration": 6,
        "start_time": "2022-04-12T21:22:46.582Z"
      },
      {
        "duration": 5,
        "start_time": "2022-04-12T21:22:46.590Z"
      },
      {
        "duration": 39,
        "start_time": "2022-04-12T21:22:46.596Z"
      },
      {
        "duration": 7,
        "start_time": "2022-04-12T21:22:46.637Z"
      },
      {
        "duration": 33,
        "start_time": "2022-04-12T21:22:46.646Z"
      },
      {
        "duration": 14,
        "start_time": "2022-04-12T21:22:46.681Z"
      },
      {
        "duration": 3,
        "start_time": "2022-04-12T21:22:46.697Z"
      },
      {
        "duration": 38,
        "start_time": "2022-04-12T21:22:46.701Z"
      },
      {
        "duration": 13,
        "start_time": "2022-04-12T21:22:46.740Z"
      },
      {
        "duration": 23,
        "start_time": "2022-04-12T21:22:46.755Z"
      },
      {
        "duration": 9,
        "start_time": "2022-04-12T21:22:46.779Z"
      },
      {
        "duration": 35,
        "start_time": "2022-04-12T21:22:46.789Z"
      },
      {
        "duration": 8,
        "start_time": "2022-04-12T21:22:46.825Z"
      },
      {
        "duration": 13,
        "start_time": "2022-04-12T21:22:46.835Z"
      },
      {
        "duration": 3,
        "start_time": "2022-04-12T21:22:46.850Z"
      },
      {
        "duration": 104,
        "start_time": "2022-04-12T21:22:46.858Z"
      },
      {
        "duration": 0,
        "start_time": "2022-04-12T21:22:46.964Z"
      },
      {
        "duration": 0,
        "start_time": "2022-04-12T21:22:46.965Z"
      },
      {
        "duration": 0,
        "start_time": "2022-04-12T21:22:46.966Z"
      },
      {
        "duration": 0,
        "start_time": "2022-04-12T21:22:46.966Z"
      },
      {
        "duration": 0,
        "start_time": "2022-04-12T21:22:46.967Z"
      },
      {
        "duration": 0,
        "start_time": "2022-04-12T21:22:46.968Z"
      },
      {
        "duration": 0,
        "start_time": "2022-04-12T21:22:46.969Z"
      },
      {
        "duration": 0,
        "start_time": "2022-04-12T21:22:46.970Z"
      },
      {
        "duration": 0,
        "start_time": "2022-04-12T21:22:46.971Z"
      },
      {
        "duration": 0,
        "start_time": "2022-04-12T21:22:46.972Z"
      },
      {
        "duration": 0,
        "start_time": "2022-04-12T21:22:46.972Z"
      },
      {
        "duration": 0,
        "start_time": "2022-04-12T21:22:46.973Z"
      },
      {
        "duration": 0,
        "start_time": "2022-04-12T21:22:46.974Z"
      },
      {
        "duration": 0,
        "start_time": "2022-04-12T21:22:46.975Z"
      },
      {
        "duration": 0,
        "start_time": "2022-04-12T21:22:46.976Z"
      },
      {
        "duration": 0,
        "start_time": "2022-04-12T21:22:46.976Z"
      },
      {
        "duration": 0,
        "start_time": "2022-04-12T21:22:46.977Z"
      },
      {
        "duration": 0,
        "start_time": "2022-04-12T21:22:46.978Z"
      },
      {
        "duration": 0,
        "start_time": "2022-04-12T21:22:46.979Z"
      },
      {
        "duration": 0,
        "start_time": "2022-04-12T21:22:46.980Z"
      },
      {
        "duration": 0,
        "start_time": "2022-04-12T21:22:46.981Z"
      },
      {
        "duration": 11,
        "start_time": "2022-04-12T21:23:18.521Z"
      },
      {
        "duration": 14,
        "start_time": "2022-04-12T21:23:19.869Z"
      },
      {
        "duration": 12,
        "start_time": "2022-04-12T21:23:20.965Z"
      },
      {
        "duration": 15,
        "start_time": "2022-04-12T21:23:23.825Z"
      },
      {
        "duration": 11,
        "start_time": "2022-04-12T21:23:58.207Z"
      },
      {
        "duration": 1040,
        "start_time": "2022-04-12T21:24:22.900Z"
      },
      {
        "duration": 230,
        "start_time": "2022-04-12T21:24:23.942Z"
      },
      {
        "duration": 10,
        "start_time": "2022-04-12T21:24:24.174Z"
      },
      {
        "duration": 13,
        "start_time": "2022-04-12T21:24:24.186Z"
      },
      {
        "duration": 17,
        "start_time": "2022-04-12T21:24:24.201Z"
      },
      {
        "duration": 31,
        "start_time": "2022-04-12T21:24:24.220Z"
      },
      {
        "duration": 10,
        "start_time": "2022-04-12T21:24:24.253Z"
      },
      {
        "duration": 21,
        "start_time": "2022-04-12T21:24:24.264Z"
      },
      {
        "duration": 13,
        "start_time": "2022-04-12T21:24:24.286Z"
      },
      {
        "duration": 19,
        "start_time": "2022-04-12T21:24:24.301Z"
      },
      {
        "duration": 6,
        "start_time": "2022-04-12T21:24:24.321Z"
      },
      {
        "duration": 27,
        "start_time": "2022-04-12T21:24:24.328Z"
      },
      {
        "duration": 22,
        "start_time": "2022-04-12T21:24:24.356Z"
      },
      {
        "duration": 21,
        "start_time": "2022-04-12T21:24:24.380Z"
      },
      {
        "duration": 33,
        "start_time": "2022-04-12T21:24:24.402Z"
      },
      {
        "duration": 8,
        "start_time": "2022-04-12T21:24:24.437Z"
      },
      {
        "duration": 42,
        "start_time": "2022-04-12T21:24:24.447Z"
      },
      {
        "duration": 14,
        "start_time": "2022-04-12T21:24:24.490Z"
      },
      {
        "duration": 7,
        "start_time": "2022-04-12T21:24:24.506Z"
      },
      {
        "duration": 25,
        "start_time": "2022-04-12T21:24:24.515Z"
      },
      {
        "duration": 12,
        "start_time": "2022-04-12T21:24:24.541Z"
      },
      {
        "duration": 31,
        "start_time": "2022-04-12T21:24:24.554Z"
      },
      {
        "duration": 10,
        "start_time": "2022-04-12T21:24:24.587Z"
      },
      {
        "duration": 31,
        "start_time": "2022-04-12T21:24:24.598Z"
      },
      {
        "duration": 7,
        "start_time": "2022-04-12T21:24:24.631Z"
      },
      {
        "duration": 34,
        "start_time": "2022-04-12T21:24:24.640Z"
      },
      {
        "duration": 9,
        "start_time": "2022-04-12T21:24:24.676Z"
      },
      {
        "duration": 11,
        "start_time": "2022-04-12T21:24:30.406Z"
      },
      {
        "duration": 83,
        "start_time": "2022-04-12T21:24:31.247Z"
      },
      {
        "duration": 14,
        "start_time": "2022-04-12T21:24:40.605Z"
      },
      {
        "duration": 12,
        "start_time": "2022-04-12T21:24:46.994Z"
      },
      {
        "duration": 15,
        "start_time": "2022-04-12T21:24:56.283Z"
      },
      {
        "duration": 8,
        "start_time": "2022-04-12T21:25:09.993Z"
      },
      {
        "duration": 9,
        "start_time": "2022-04-12T21:25:14.152Z"
      },
      {
        "duration": 12,
        "start_time": "2022-04-12T21:25:14.855Z"
      },
      {
        "duration": 10,
        "start_time": "2022-04-12T21:25:18.083Z"
      },
      {
        "duration": 13,
        "start_time": "2022-04-12T21:25:25.144Z"
      },
      {
        "duration": 10,
        "start_time": "2022-04-12T21:25:26.592Z"
      },
      {
        "duration": 8,
        "start_time": "2022-04-12T21:25:34.314Z"
      },
      {
        "duration": 13,
        "start_time": "2022-04-12T21:25:35.106Z"
      },
      {
        "duration": 11,
        "start_time": "2022-04-12T21:25:36.155Z"
      },
      {
        "duration": 12,
        "start_time": "2022-04-12T21:25:38.696Z"
      },
      {
        "duration": 11,
        "start_time": "2022-04-12T21:25:39.450Z"
      },
      {
        "duration": 12,
        "start_time": "2022-04-12T21:25:41.381Z"
      },
      {
        "duration": 14,
        "start_time": "2022-04-12T21:25:42.140Z"
      },
      {
        "duration": 8,
        "start_time": "2022-04-12T21:26:00.820Z"
      },
      {
        "duration": 65,
        "start_time": "2022-04-12T21:26:00.830Z"
      },
      {
        "duration": 3,
        "start_time": "2022-04-12T21:26:00.896Z"
      },
      {
        "duration": 29,
        "start_time": "2022-04-12T21:26:00.901Z"
      },
      {
        "duration": 33,
        "start_time": "2022-04-12T21:26:00.934Z"
      },
      {
        "duration": 10,
        "start_time": "2022-04-12T21:26:00.969Z"
      },
      {
        "duration": 29,
        "start_time": "2022-04-12T21:26:00.980Z"
      },
      {
        "duration": 4,
        "start_time": "2022-04-12T21:26:01.023Z"
      },
      {
        "duration": 18,
        "start_time": "2022-04-12T21:26:01.029Z"
      },
      {
        "duration": 13,
        "start_time": "2022-04-12T21:26:01.048Z"
      },
      {
        "duration": 25,
        "start_time": "2022-04-12T21:26:01.063Z"
      },
      {
        "duration": 19,
        "start_time": "2022-04-12T21:26:01.090Z"
      },
      {
        "duration": 12,
        "start_time": "2022-04-12T21:26:01.112Z"
      },
      {
        "duration": 24,
        "start_time": "2022-04-12T21:26:01.125Z"
      },
      {
        "duration": 18,
        "start_time": "2022-04-12T21:26:01.151Z"
      },
      {
        "duration": 17,
        "start_time": "2022-04-12T21:26:01.170Z"
      },
      {
        "duration": 0,
        "start_time": "2022-04-12T21:26:01.189Z"
      },
      {
        "duration": 0,
        "start_time": "2022-04-12T21:26:01.190Z"
      },
      {
        "duration": 0,
        "start_time": "2022-04-12T21:26:01.191Z"
      },
      {
        "duration": 0,
        "start_time": "2022-04-12T21:26:01.192Z"
      },
      {
        "duration": 0,
        "start_time": "2022-04-12T21:26:01.193Z"
      },
      {
        "duration": 0,
        "start_time": "2022-04-12T21:26:01.194Z"
      },
      {
        "duration": 0,
        "start_time": "2022-04-12T21:26:01.195Z"
      },
      {
        "duration": 0,
        "start_time": "2022-04-12T21:26:01.196Z"
      },
      {
        "duration": 0,
        "start_time": "2022-04-12T21:26:01.197Z"
      },
      {
        "duration": 0,
        "start_time": "2022-04-12T21:26:01.198Z"
      },
      {
        "duration": 0,
        "start_time": "2022-04-12T21:26:01.199Z"
      },
      {
        "duration": 0,
        "start_time": "2022-04-12T21:26:01.200Z"
      },
      {
        "duration": 0,
        "start_time": "2022-04-12T21:26:01.201Z"
      },
      {
        "duration": 0,
        "start_time": "2022-04-12T21:26:01.202Z"
      },
      {
        "duration": 0,
        "start_time": "2022-04-12T21:26:01.203Z"
      },
      {
        "duration": 0,
        "start_time": "2022-04-12T21:26:01.224Z"
      },
      {
        "duration": 0,
        "start_time": "2022-04-12T21:26:01.225Z"
      },
      {
        "duration": 0,
        "start_time": "2022-04-12T21:26:01.227Z"
      },
      {
        "duration": 0,
        "start_time": "2022-04-12T21:26:01.228Z"
      },
      {
        "duration": 0,
        "start_time": "2022-04-12T21:26:01.229Z"
      },
      {
        "duration": 0,
        "start_time": "2022-04-12T21:26:01.230Z"
      },
      {
        "duration": 0,
        "start_time": "2022-04-12T21:26:01.231Z"
      },
      {
        "duration": 0,
        "start_time": "2022-04-12T21:26:01.232Z"
      },
      {
        "duration": 0,
        "start_time": "2022-04-12T21:26:01.233Z"
      },
      {
        "duration": 4,
        "start_time": "2022-04-12T21:26:45.195Z"
      },
      {
        "duration": 4,
        "start_time": "2022-04-12T21:26:46.703Z"
      },
      {
        "duration": 6,
        "start_time": "2022-04-12T21:26:52.649Z"
      },
      {
        "duration": 13,
        "start_time": "2022-04-12T21:26:53.430Z"
      },
      {
        "duration": 6,
        "start_time": "2022-04-12T21:27:19.869Z"
      },
      {
        "duration": 1055,
        "start_time": "2022-04-12T21:29:55.131Z"
      },
      {
        "duration": 228,
        "start_time": "2022-04-12T21:29:56.188Z"
      },
      {
        "duration": 10,
        "start_time": "2022-04-12T21:29:56.418Z"
      },
      {
        "duration": 11,
        "start_time": "2022-04-12T21:29:56.431Z"
      },
      {
        "duration": 8,
        "start_time": "2022-04-12T21:29:56.443Z"
      },
      {
        "duration": 16,
        "start_time": "2022-04-12T21:29:56.452Z"
      },
      {
        "duration": 9,
        "start_time": "2022-04-12T21:29:56.469Z"
      },
      {
        "duration": 6,
        "start_time": "2022-04-12T21:29:56.480Z"
      },
      {
        "duration": 6,
        "start_time": "2022-04-12T21:29:56.487Z"
      },
      {
        "duration": 6,
        "start_time": "2022-04-12T21:29:56.496Z"
      },
      {
        "duration": 3,
        "start_time": "2022-04-12T21:29:56.524Z"
      },
      {
        "duration": 16,
        "start_time": "2022-04-12T21:29:56.529Z"
      },
      {
        "duration": 3,
        "start_time": "2022-04-12T21:29:56.547Z"
      },
      {
        "duration": 5,
        "start_time": "2022-04-12T21:29:56.552Z"
      },
      {
        "duration": 32,
        "start_time": "2022-04-12T21:29:56.559Z"
      },
      {
        "duration": 34,
        "start_time": "2022-04-12T21:29:56.593Z"
      },
      {
        "duration": 31,
        "start_time": "2022-04-12T21:29:56.628Z"
      },
      {
        "duration": 14,
        "start_time": "2022-04-12T21:29:56.660Z"
      },
      {
        "duration": 4,
        "start_time": "2022-04-12T21:29:56.676Z"
      },
      {
        "duration": 42,
        "start_time": "2022-04-12T21:29:56.681Z"
      },
      {
        "duration": 6,
        "start_time": "2022-04-12T21:29:56.725Z"
      },
      {
        "duration": 19,
        "start_time": "2022-04-12T21:29:56.733Z"
      },
      {
        "duration": 9,
        "start_time": "2022-04-12T21:29:56.753Z"
      },
      {
        "duration": 20,
        "start_time": "2022-04-12T21:29:56.763Z"
      },
      {
        "duration": 7,
        "start_time": "2022-04-12T21:29:56.784Z"
      },
      {
        "duration": 12,
        "start_time": "2022-04-12T21:29:56.824Z"
      },
      {
        "duration": 3,
        "start_time": "2022-04-12T21:29:56.837Z"
      },
      {
        "duration": 10,
        "start_time": "2022-04-12T21:29:56.844Z"
      },
      {
        "duration": 14,
        "start_time": "2022-04-12T21:29:56.855Z"
      },
      {
        "duration": 11,
        "start_time": "2022-04-12T21:29:56.871Z"
      },
      {
        "duration": 44,
        "start_time": "2022-04-12T21:29:56.883Z"
      },
      {
        "duration": 10,
        "start_time": "2022-04-12T21:29:56.929Z"
      },
      {
        "duration": 14,
        "start_time": "2022-04-12T21:29:56.940Z"
      },
      {
        "duration": 10,
        "start_time": "2022-04-12T21:29:56.955Z"
      },
      {
        "duration": 8,
        "start_time": "2022-04-12T21:29:56.966Z"
      },
      {
        "duration": 76,
        "start_time": "2022-04-12T21:29:56.975Z"
      },
      {
        "duration": 2,
        "start_time": "2022-04-12T21:29:57.053Z"
      },
      {
        "duration": 9,
        "start_time": "2022-04-12T21:29:57.057Z"
      },
      {
        "duration": 18,
        "start_time": "2022-04-12T21:29:57.067Z"
      },
      {
        "duration": 7,
        "start_time": "2022-04-12T21:29:57.086Z"
      },
      {
        "duration": 40,
        "start_time": "2022-04-12T21:29:57.095Z"
      },
      {
        "duration": 3,
        "start_time": "2022-04-12T21:29:57.136Z"
      },
      {
        "duration": 6,
        "start_time": "2022-04-12T21:29:57.141Z"
      },
      {
        "duration": 9,
        "start_time": "2022-04-12T21:29:57.148Z"
      },
      {
        "duration": 10,
        "start_time": "2022-04-12T21:29:57.159Z"
      },
      {
        "duration": 10,
        "start_time": "2022-04-12T21:29:57.170Z"
      },
      {
        "duration": 10,
        "start_time": "2022-04-12T21:29:57.181Z"
      },
      {
        "duration": 42,
        "start_time": "2022-04-12T21:29:57.192Z"
      },
      {
        "duration": 11,
        "start_time": "2022-04-12T21:29:57.236Z"
      },
      {
        "duration": 102,
        "start_time": "2022-04-12T21:29:57.249Z"
      },
      {
        "duration": 0,
        "start_time": "2022-04-12T21:29:57.353Z"
      },
      {
        "duration": 0,
        "start_time": "2022-04-12T21:29:57.355Z"
      },
      {
        "duration": 0,
        "start_time": "2022-04-12T21:29:57.356Z"
      },
      {
        "duration": 0,
        "start_time": "2022-04-12T21:29:57.357Z"
      },
      {
        "duration": 0,
        "start_time": "2022-04-12T21:29:57.358Z"
      },
      {
        "duration": 0,
        "start_time": "2022-04-12T21:29:57.359Z"
      },
      {
        "duration": 0,
        "start_time": "2022-04-12T21:29:57.360Z"
      },
      {
        "duration": 0,
        "start_time": "2022-04-12T21:29:57.361Z"
      },
      {
        "duration": 0,
        "start_time": "2022-04-12T21:29:57.362Z"
      },
      {
        "duration": 0,
        "start_time": "2022-04-12T21:29:57.363Z"
      },
      {
        "duration": 0,
        "start_time": "2022-04-12T21:29:57.364Z"
      },
      {
        "duration": 0,
        "start_time": "2022-04-12T21:29:57.366Z"
      },
      {
        "duration": 0,
        "start_time": "2022-04-12T21:29:57.367Z"
      },
      {
        "duration": 0,
        "start_time": "2022-04-12T21:29:57.368Z"
      },
      {
        "duration": 0,
        "start_time": "2022-04-12T21:29:57.369Z"
      },
      {
        "duration": 0,
        "start_time": "2022-04-12T21:29:57.370Z"
      },
      {
        "duration": 0,
        "start_time": "2022-04-12T21:29:57.371Z"
      },
      {
        "duration": 0,
        "start_time": "2022-04-12T21:29:57.373Z"
      },
      {
        "duration": 0,
        "start_time": "2022-04-12T21:29:57.374Z"
      },
      {
        "duration": 0,
        "start_time": "2022-04-12T21:29:57.375Z"
      },
      {
        "duration": 0,
        "start_time": "2022-04-12T21:29:57.376Z"
      },
      {
        "duration": 0,
        "start_time": "2022-04-12T21:29:57.377Z"
      },
      {
        "duration": 0,
        "start_time": "2022-04-12T21:29:57.378Z"
      },
      {
        "duration": 0,
        "start_time": "2022-04-12T21:29:57.379Z"
      },
      {
        "duration": 15,
        "start_time": "2022-04-12T21:30:52.724Z"
      },
      {
        "duration": 11,
        "start_time": "2022-04-12T21:31:35.739Z"
      },
      {
        "duration": 42,
        "start_time": "2022-04-12T21:33:05.648Z"
      },
      {
        "duration": 3,
        "start_time": "2022-04-12T21:33:07.876Z"
      },
      {
        "duration": 12,
        "start_time": "2022-04-12T21:33:13.764Z"
      },
      {
        "duration": 6,
        "start_time": "2022-04-12T21:33:48.424Z"
      },
      {
        "duration": 11,
        "start_time": "2022-04-12T21:33:52.472Z"
      },
      {
        "duration": 4,
        "start_time": "2022-04-12T21:33:56.164Z"
      },
      {
        "duration": 13,
        "start_time": "2022-04-12T21:33:56.931Z"
      },
      {
        "duration": 6,
        "start_time": "2022-04-12T21:33:59.596Z"
      },
      {
        "duration": 5,
        "start_time": "2022-04-12T21:37:39.724Z"
      },
      {
        "duration": 50,
        "start_time": "2022-04-12T21:37:39.731Z"
      },
      {
        "duration": 16,
        "start_time": "2022-04-12T21:37:39.782Z"
      },
      {
        "duration": 273,
        "start_time": "2022-04-12T21:37:39.800Z"
      },
      {
        "duration": 149,
        "start_time": "2022-04-12T21:37:40.074Z"
      },
      {
        "duration": 7,
        "start_time": "2022-04-12T21:37:40.225Z"
      },
      {
        "duration": 98,
        "start_time": "2022-04-12T21:37:40.233Z"
      },
      {
        "duration": 450,
        "start_time": "2022-04-12T21:37:40.333Z"
      },
      {
        "duration": 239,
        "start_time": "2022-04-12T21:37:40.784Z"
      },
      {
        "duration": 10,
        "start_time": "2022-04-12T21:37:41.027Z"
      },
      {
        "duration": 303,
        "start_time": "2022-04-12T21:37:41.039Z"
      },
      {
        "duration": 459,
        "start_time": "2022-04-12T21:37:41.344Z"
      },
      {
        "duration": 9,
        "start_time": "2022-04-12T21:37:41.805Z"
      },
      {
        "duration": 311,
        "start_time": "2022-04-12T21:37:41.823Z"
      },
      {
        "duration": 310,
        "start_time": "2022-04-12T21:37:42.136Z"
      },
      {
        "duration": 9,
        "start_time": "2022-04-12T21:37:42.448Z"
      },
      {
        "duration": 340,
        "start_time": "2022-04-12T21:37:42.459Z"
      },
      {
        "duration": 23,
        "start_time": "2022-04-12T21:37:42.802Z"
      },
      {
        "duration": 7,
        "start_time": "2022-04-12T21:37:42.827Z"
      },
      {
        "duration": 7,
        "start_time": "2022-04-12T21:37:42.836Z"
      },
      {
        "duration": 17,
        "start_time": "2022-04-12T21:37:42.844Z"
      },
      {
        "duration": 246,
        "start_time": "2022-04-12T21:39:51.272Z"
      },
      {
        "duration": 9,
        "start_time": "2022-04-12T21:39:58.746Z"
      },
      {
        "duration": 188,
        "start_time": "2022-04-12T21:40:04.480Z"
      },
      {
        "duration": 144,
        "start_time": "2022-04-12T21:43:21.212Z"
      },
      {
        "duration": 229,
        "start_time": "2022-04-12T21:43:38.258Z"
      },
      {
        "duration": 127,
        "start_time": "2022-04-12T21:43:41.948Z"
      },
      {
        "duration": 239,
        "start_time": "2022-04-12T21:43:45.410Z"
      },
      {
        "duration": 256,
        "start_time": "2022-04-12T21:43:50.961Z"
      },
      {
        "duration": 2471,
        "start_time": "2022-04-12T21:48:33.196Z"
      },
      {
        "duration": 340,
        "start_time": "2022-04-12T21:48:49.900Z"
      },
      {
        "duration": 218,
        "start_time": "2022-04-12T21:49:33.230Z"
      },
      {
        "duration": 146,
        "start_time": "2022-04-12T21:51:47.308Z"
      },
      {
        "duration": 233,
        "start_time": "2022-04-12T21:52:18.626Z"
      },
      {
        "duration": 51,
        "start_time": "2022-04-13T17:30:58.243Z"
      },
      {
        "duration": 1176,
        "start_time": "2022-04-13T17:31:08.740Z"
      },
      {
        "duration": 601,
        "start_time": "2022-04-13T17:31:09.918Z"
      },
      {
        "duration": 14,
        "start_time": "2022-04-13T17:31:10.521Z"
      },
      {
        "duration": 18,
        "start_time": "2022-04-13T17:31:10.537Z"
      },
      {
        "duration": 17,
        "start_time": "2022-04-13T17:31:10.556Z"
      },
      {
        "duration": 23,
        "start_time": "2022-04-13T17:31:10.575Z"
      },
      {
        "duration": 12,
        "start_time": "2022-04-13T17:31:10.619Z"
      },
      {
        "duration": 9,
        "start_time": "2022-04-13T17:31:10.633Z"
      },
      {
        "duration": 9,
        "start_time": "2022-04-13T17:31:10.644Z"
      },
      {
        "duration": 11,
        "start_time": "2022-04-13T17:31:10.657Z"
      },
      {
        "duration": 8,
        "start_time": "2022-04-13T17:31:10.670Z"
      },
      {
        "duration": 40,
        "start_time": "2022-04-13T17:31:10.680Z"
      },
      {
        "duration": 6,
        "start_time": "2022-04-13T17:31:10.723Z"
      },
      {
        "duration": 14,
        "start_time": "2022-04-13T17:31:10.731Z"
      },
      {
        "duration": 34,
        "start_time": "2022-04-13T17:31:10.747Z"
      },
      {
        "duration": 9,
        "start_time": "2022-04-13T17:31:10.783Z"
      },
      {
        "duration": 58,
        "start_time": "2022-04-13T17:31:10.794Z"
      },
      {
        "duration": 17,
        "start_time": "2022-04-13T17:31:10.854Z"
      },
      {
        "duration": 6,
        "start_time": "2022-04-13T17:31:10.873Z"
      },
      {
        "duration": 40,
        "start_time": "2022-04-13T17:31:10.880Z"
      },
      {
        "duration": 9,
        "start_time": "2022-04-13T17:31:10.922Z"
      },
      {
        "duration": 35,
        "start_time": "2022-04-13T17:31:10.933Z"
      },
      {
        "duration": 12,
        "start_time": "2022-04-13T17:31:10.969Z"
      },
      {
        "duration": 50,
        "start_time": "2022-04-13T17:31:10.983Z"
      },
      {
        "duration": 9,
        "start_time": "2022-04-13T17:31:11.035Z"
      },
      {
        "duration": 36,
        "start_time": "2022-04-13T17:31:11.046Z"
      },
      {
        "duration": 4,
        "start_time": "2022-04-13T17:31:11.084Z"
      },
      {
        "duration": 21,
        "start_time": "2022-04-13T17:31:11.092Z"
      },
      {
        "duration": 20,
        "start_time": "2022-04-13T17:31:11.115Z"
      },
      {
        "duration": 15,
        "start_time": "2022-04-13T17:31:11.137Z"
      },
      {
        "duration": 20,
        "start_time": "2022-04-13T17:31:11.154Z"
      },
      {
        "duration": 45,
        "start_time": "2022-04-13T17:31:11.176Z"
      },
      {
        "duration": 20,
        "start_time": "2022-04-13T17:31:11.223Z"
      },
      {
        "duration": 15,
        "start_time": "2022-04-13T17:31:11.245Z"
      },
      {
        "duration": 10,
        "start_time": "2022-04-13T17:31:11.262Z"
      },
      {
        "duration": 86,
        "start_time": "2022-04-13T17:31:11.274Z"
      },
      {
        "duration": 4,
        "start_time": "2022-04-13T17:31:11.362Z"
      },
      {
        "duration": 14,
        "start_time": "2022-04-13T17:31:11.368Z"
      },
      {
        "duration": 40,
        "start_time": "2022-04-13T17:31:11.384Z"
      },
      {
        "duration": 10,
        "start_time": "2022-04-13T17:31:11.426Z"
      },
      {
        "duration": 32,
        "start_time": "2022-04-13T17:31:11.438Z"
      },
      {
        "duration": 4,
        "start_time": "2022-04-13T17:31:11.471Z"
      },
      {
        "duration": 11,
        "start_time": "2022-04-13T17:31:11.477Z"
      },
      {
        "duration": 33,
        "start_time": "2022-04-13T17:31:11.489Z"
      },
      {
        "duration": 18,
        "start_time": "2022-04-13T17:31:11.523Z"
      },
      {
        "duration": 12,
        "start_time": "2022-04-13T17:31:11.543Z"
      },
      {
        "duration": 10,
        "start_time": "2022-04-13T17:31:11.556Z"
      },
      {
        "duration": 22,
        "start_time": "2022-04-13T17:31:11.568Z"
      },
      {
        "duration": 38,
        "start_time": "2022-04-13T17:31:11.592Z"
      },
      {
        "duration": 10,
        "start_time": "2022-04-13T17:31:11.632Z"
      },
      {
        "duration": 8,
        "start_time": "2022-04-13T17:31:11.644Z"
      },
      {
        "duration": 21,
        "start_time": "2022-04-13T17:31:11.654Z"
      },
      {
        "duration": 6,
        "start_time": "2022-04-13T17:31:11.677Z"
      },
      {
        "duration": 33,
        "start_time": "2022-04-13T17:31:11.685Z"
      },
      {
        "duration": 61,
        "start_time": "2022-04-13T17:31:11.720Z"
      },
      {
        "duration": 18,
        "start_time": "2022-04-13T17:31:11.783Z"
      },
      {
        "duration": 327,
        "start_time": "2022-04-13T17:31:11.819Z"
      },
      {
        "duration": 189,
        "start_time": "2022-04-13T17:31:12.147Z"
      },
      {
        "duration": 9,
        "start_time": "2022-04-13T17:31:12.338Z"
      },
      {
        "duration": 115,
        "start_time": "2022-04-13T17:31:12.349Z"
      },
      {
        "duration": 513,
        "start_time": "2022-04-13T17:31:12.466Z"
      },
      {
        "duration": 397,
        "start_time": "2022-04-13T17:31:12.981Z"
      },
      {
        "duration": 10,
        "start_time": "2022-04-13T17:31:13.380Z"
      },
      {
        "duration": 249,
        "start_time": "2022-04-13T17:31:13.392Z"
      },
      {
        "duration": 473,
        "start_time": "2022-04-13T17:31:13.643Z"
      },
      {
        "duration": 9,
        "start_time": "2022-04-13T17:31:14.118Z"
      },
      {
        "duration": 240,
        "start_time": "2022-04-13T17:31:14.129Z"
      },
      {
        "duration": 388,
        "start_time": "2022-04-13T17:31:14.371Z"
      },
      {
        "duration": 10,
        "start_time": "2022-04-13T17:31:14.761Z"
      },
      {
        "duration": 279,
        "start_time": "2022-04-13T17:31:14.773Z"
      },
      {
        "duration": 16,
        "start_time": "2022-04-13T17:31:15.054Z"
      },
      {
        "duration": 18,
        "start_time": "2022-04-13T17:31:15.071Z"
      },
      {
        "duration": 16,
        "start_time": "2022-04-13T17:31:15.091Z"
      },
      {
        "duration": 17,
        "start_time": "2022-04-13T17:31:15.118Z"
      },
      {
        "duration": 29,
        "start_time": "2022-04-13T17:31:33.178Z"
      },
      {
        "duration": 8,
        "start_time": "2022-04-13T17:32:23.731Z"
      },
      {
        "duration": 7,
        "start_time": "2022-04-13T17:33:17.388Z"
      },
      {
        "duration": 29,
        "start_time": "2022-04-13T17:33:20.539Z"
      },
      {
        "duration": 174,
        "start_time": "2022-04-13T17:33:41.764Z"
      },
      {
        "duration": 12,
        "start_time": "2022-04-13T17:44:20.645Z"
      },
      {
        "duration": 296,
        "start_time": "2022-04-13T17:44:39.677Z"
      },
      {
        "duration": 576,
        "start_time": "2022-04-13T17:44:50.181Z"
      },
      {
        "duration": 159,
        "start_time": "2022-04-13T17:46:46.550Z"
      },
      {
        "duration": 159,
        "start_time": "2022-04-13T17:46:48.983Z"
      },
      {
        "duration": 28,
        "start_time": "2022-04-13T17:47:10.614Z"
      },
      {
        "duration": 9,
        "start_time": "2022-04-13T17:47:47.958Z"
      },
      {
        "duration": 295,
        "start_time": "2022-04-13T17:47:54.601Z"
      },
      {
        "duration": 11,
        "start_time": "2022-04-13T17:47:57.103Z"
      },
      {
        "duration": 29,
        "start_time": "2022-04-13T17:48:02.624Z"
      },
      {
        "duration": 131,
        "start_time": "2022-04-13T17:48:42.145Z"
      },
      {
        "duration": 134,
        "start_time": "2022-04-13T17:49:00.201Z"
      },
      {
        "duration": 159,
        "start_time": "2022-04-13T17:49:08.952Z"
      },
      {
        "duration": 380,
        "start_time": "2022-04-13T17:49:14.338Z"
      },
      {
        "duration": 430,
        "start_time": "2022-04-13T17:49:18.153Z"
      },
      {
        "duration": 7,
        "start_time": "2022-04-13T17:53:04.523Z"
      },
      {
        "duration": 30,
        "start_time": "2022-04-13T17:53:16.348Z"
      },
      {
        "duration": 28,
        "start_time": "2022-04-13T17:53:52.564Z"
      },
      {
        "duration": 1410,
        "start_time": "2022-04-14T02:20:06.924Z"
      },
      {
        "duration": 1410,
        "start_time": "2022-04-14T02:20:08.336Z"
      },
      {
        "duration": 11,
        "start_time": "2022-04-14T02:20:09.748Z"
      },
      {
        "duration": 10,
        "start_time": "2022-04-14T02:20:09.761Z"
      },
      {
        "duration": 9,
        "start_time": "2022-04-14T02:20:09.772Z"
      },
      {
        "duration": 18,
        "start_time": "2022-04-14T02:20:09.782Z"
      },
      {
        "duration": 9,
        "start_time": "2022-04-14T02:20:09.801Z"
      },
      {
        "duration": 6,
        "start_time": "2022-04-14T02:20:09.811Z"
      },
      {
        "duration": 5,
        "start_time": "2022-04-14T02:20:09.819Z"
      },
      {
        "duration": 6,
        "start_time": "2022-04-14T02:20:09.826Z"
      },
      {
        "duration": 3,
        "start_time": "2022-04-14T02:20:09.834Z"
      },
      {
        "duration": 15,
        "start_time": "2022-04-14T02:20:09.838Z"
      },
      {
        "duration": 5,
        "start_time": "2022-04-14T02:20:09.854Z"
      },
      {
        "duration": 9,
        "start_time": "2022-04-14T02:20:09.861Z"
      },
      {
        "duration": 44,
        "start_time": "2022-04-14T02:20:09.871Z"
      },
      {
        "duration": 7,
        "start_time": "2022-04-14T02:20:09.916Z"
      },
      {
        "duration": 35,
        "start_time": "2022-04-14T02:20:09.924Z"
      },
      {
        "duration": 15,
        "start_time": "2022-04-14T02:20:09.961Z"
      },
      {
        "duration": 24,
        "start_time": "2022-04-14T02:20:09.977Z"
      },
      {
        "duration": 18,
        "start_time": "2022-04-14T02:20:10.003Z"
      },
      {
        "duration": 8,
        "start_time": "2022-04-14T02:20:10.022Z"
      },
      {
        "duration": 22,
        "start_time": "2022-04-14T02:20:10.032Z"
      },
      {
        "duration": 10,
        "start_time": "2022-04-14T02:20:10.055Z"
      },
      {
        "duration": 48,
        "start_time": "2022-04-14T02:20:10.066Z"
      },
      {
        "duration": 6,
        "start_time": "2022-04-14T02:20:10.116Z"
      },
      {
        "duration": 17,
        "start_time": "2022-04-14T02:20:10.123Z"
      },
      {
        "duration": 3,
        "start_time": "2022-04-14T02:20:10.141Z"
      },
      {
        "duration": 14,
        "start_time": "2022-04-14T02:20:10.148Z"
      },
      {
        "duration": 14,
        "start_time": "2022-04-14T02:20:10.164Z"
      },
      {
        "duration": 11,
        "start_time": "2022-04-14T02:20:10.200Z"
      },
      {
        "duration": 27,
        "start_time": "2022-04-14T02:20:10.212Z"
      },
      {
        "duration": 27,
        "start_time": "2022-04-14T02:20:10.241Z"
      },
      {
        "duration": 28,
        "start_time": "2022-04-14T02:20:10.270Z"
      },
      {
        "duration": 29,
        "start_time": "2022-04-14T02:20:10.300Z"
      },
      {
        "duration": 8,
        "start_time": "2022-04-14T02:20:10.330Z"
      },
      {
        "duration": 55,
        "start_time": "2022-04-14T02:20:10.340Z"
      },
      {
        "duration": 3,
        "start_time": "2022-04-14T02:20:10.396Z"
      },
      {
        "duration": 19,
        "start_time": "2022-04-14T02:20:10.401Z"
      },
      {
        "duration": 41,
        "start_time": "2022-04-14T02:20:10.422Z"
      },
      {
        "duration": 13,
        "start_time": "2022-04-14T02:20:10.465Z"
      },
      {
        "duration": 34,
        "start_time": "2022-04-14T02:20:10.480Z"
      },
      {
        "duration": 4,
        "start_time": "2022-04-14T02:20:10.516Z"
      },
      {
        "duration": 19,
        "start_time": "2022-04-14T02:20:10.521Z"
      },
      {
        "duration": 39,
        "start_time": "2022-04-14T02:20:10.542Z"
      },
      {
        "duration": 22,
        "start_time": "2022-04-14T02:20:10.582Z"
      },
      {
        "duration": 23,
        "start_time": "2022-04-14T02:20:10.606Z"
      },
      {
        "duration": 22,
        "start_time": "2022-04-14T02:20:10.630Z"
      },
      {
        "duration": 27,
        "start_time": "2022-04-14T02:20:10.654Z"
      },
      {
        "duration": 32,
        "start_time": "2022-04-14T02:20:10.682Z"
      },
      {
        "duration": 28,
        "start_time": "2022-04-14T02:20:10.716Z"
      },
      {
        "duration": 9,
        "start_time": "2022-04-14T02:20:10.746Z"
      },
      {
        "duration": 36,
        "start_time": "2022-04-14T02:20:10.756Z"
      },
      {
        "duration": 8,
        "start_time": "2022-04-14T02:20:10.794Z"
      },
      {
        "duration": 9,
        "start_time": "2022-04-14T02:20:10.803Z"
      },
      {
        "duration": 69,
        "start_time": "2022-04-14T02:20:10.814Z"
      },
      {
        "duration": 15,
        "start_time": "2022-04-14T02:20:10.885Z"
      },
      {
        "duration": 281,
        "start_time": "2022-04-14T02:20:10.901Z"
      },
      {
        "duration": 167,
        "start_time": "2022-04-14T02:20:11.184Z"
      },
      {
        "duration": 6,
        "start_time": "2022-04-14T02:20:11.353Z"
      },
      {
        "duration": 90,
        "start_time": "2022-04-14T02:20:11.361Z"
      },
      {
        "duration": 424,
        "start_time": "2022-04-14T02:20:11.453Z"
      },
      {
        "duration": 246,
        "start_time": "2022-04-14T02:20:11.879Z"
      },
      {
        "duration": 7,
        "start_time": "2022-04-14T02:20:12.127Z"
      },
      {
        "duration": 210,
        "start_time": "2022-04-14T02:20:12.135Z"
      },
      {
        "duration": 324,
        "start_time": "2022-04-14T02:20:12.347Z"
      },
      {
        "duration": 7,
        "start_time": "2022-04-14T02:20:12.673Z"
      },
      {
        "duration": 207,
        "start_time": "2022-04-14T02:20:12.682Z"
      },
      {
        "duration": 256,
        "start_time": "2022-04-14T02:20:12.891Z"
      },
      {
        "duration": 7,
        "start_time": "2022-04-14T02:20:13.148Z"
      },
      {
        "duration": 217,
        "start_time": "2022-04-14T02:20:13.157Z"
      },
      {
        "duration": 12,
        "start_time": "2022-04-14T02:20:13.376Z"
      },
      {
        "duration": 5,
        "start_time": "2022-04-14T02:20:13.401Z"
      },
      {
        "duration": 7,
        "start_time": "2022-04-14T02:20:13.408Z"
      },
      {
        "duration": 13,
        "start_time": "2022-04-14T02:20:13.417Z"
      },
      {
        "duration": 139,
        "start_time": "2022-04-14T02:21:18.646Z"
      },
      {
        "duration": 151,
        "start_time": "2022-04-14T02:21:57.517Z"
      },
      {
        "duration": 150,
        "start_time": "2022-04-14T02:22:07.638Z"
      },
      {
        "duration": 160,
        "start_time": "2022-04-14T02:22:39.944Z"
      },
      {
        "duration": 159,
        "start_time": "2022-04-14T02:22:58.090Z"
      },
      {
        "duration": 255,
        "start_time": "2022-04-14T02:23:11.774Z"
      },
      {
        "duration": 244,
        "start_time": "2022-04-14T02:23:20.179Z"
      },
      {
        "duration": 435,
        "start_time": "2022-04-14T02:23:24.941Z"
      },
      {
        "duration": 1113,
        "start_time": "2022-04-14T22:02:45.089Z"
      },
      {
        "duration": 284,
        "start_time": "2022-04-14T22:02:46.204Z"
      },
      {
        "duration": 12,
        "start_time": "2022-04-14T22:02:46.489Z"
      },
      {
        "duration": 10,
        "start_time": "2022-04-14T22:02:46.504Z"
      },
      {
        "duration": 10,
        "start_time": "2022-04-14T22:02:46.515Z"
      },
      {
        "duration": 17,
        "start_time": "2022-04-14T22:02:46.527Z"
      },
      {
        "duration": 20,
        "start_time": "2022-04-14T22:02:46.546Z"
      },
      {
        "duration": 8,
        "start_time": "2022-04-14T22:02:46.568Z"
      },
      {
        "duration": 8,
        "start_time": "2022-04-14T22:02:46.577Z"
      },
      {
        "duration": 6,
        "start_time": "2022-04-14T22:02:46.588Z"
      },
      {
        "duration": 3,
        "start_time": "2022-04-14T22:02:46.596Z"
      },
      {
        "duration": 15,
        "start_time": "2022-04-14T22:02:46.600Z"
      },
      {
        "duration": 4,
        "start_time": "2022-04-14T22:02:46.616Z"
      },
      {
        "duration": 6,
        "start_time": "2022-04-14T22:02:46.621Z"
      },
      {
        "duration": 65,
        "start_time": "2022-04-14T22:02:46.629Z"
      },
      {
        "duration": 9,
        "start_time": "2022-04-14T22:02:46.695Z"
      },
      {
        "duration": 34,
        "start_time": "2022-04-14T22:02:46.705Z"
      },
      {
        "duration": 34,
        "start_time": "2022-04-14T22:02:46.741Z"
      },
      {
        "duration": 4,
        "start_time": "2022-04-14T22:02:46.776Z"
      },
      {
        "duration": 18,
        "start_time": "2022-04-14T22:02:46.782Z"
      },
      {
        "duration": 10,
        "start_time": "2022-04-14T22:02:46.802Z"
      },
      {
        "duration": 42,
        "start_time": "2022-04-14T22:02:46.814Z"
      },
      {
        "duration": 12,
        "start_time": "2022-04-14T22:02:46.859Z"
      },
      {
        "duration": 23,
        "start_time": "2022-04-14T22:02:46.873Z"
      },
      {
        "duration": 8,
        "start_time": "2022-04-14T22:02:46.897Z"
      },
      {
        "duration": 13,
        "start_time": "2022-04-14T22:02:46.906Z"
      },
      {
        "duration": 3,
        "start_time": "2022-04-14T22:02:46.921Z"
      },
      {
        "duration": 19,
        "start_time": "2022-04-14T22:02:46.954Z"
      },
      {
        "duration": 16,
        "start_time": "2022-04-14T22:02:46.975Z"
      },
      {
        "duration": 11,
        "start_time": "2022-04-14T22:02:46.992Z"
      },
      {
        "duration": 16,
        "start_time": "2022-04-14T22:02:47.005Z"
      },
      {
        "duration": 35,
        "start_time": "2022-04-14T22:02:47.023Z"
      },
      {
        "duration": 14,
        "start_time": "2022-04-14T22:02:47.060Z"
      },
      {
        "duration": 10,
        "start_time": "2022-04-14T22:02:47.076Z"
      },
      {
        "duration": 8,
        "start_time": "2022-04-14T22:02:47.087Z"
      },
      {
        "duration": 78,
        "start_time": "2022-04-14T22:02:47.097Z"
      },
      {
        "duration": 3,
        "start_time": "2022-04-14T22:02:47.177Z"
      },
      {
        "duration": 9,
        "start_time": "2022-04-14T22:02:47.181Z"
      },
      {
        "duration": 21,
        "start_time": "2022-04-14T22:02:47.192Z"
      },
      {
        "duration": 7,
        "start_time": "2022-04-14T22:02:47.215Z"
      },
      {
        "duration": 42,
        "start_time": "2022-04-14T22:02:47.223Z"
      },
      {
        "duration": 4,
        "start_time": "2022-04-14T22:02:47.267Z"
      },
      {
        "duration": 9,
        "start_time": "2022-04-14T22:02:47.273Z"
      },
      {
        "duration": 9,
        "start_time": "2022-04-14T22:02:47.284Z"
      },
      {
        "duration": 11,
        "start_time": "2022-04-14T22:02:47.294Z"
      },
      {
        "duration": 10,
        "start_time": "2022-04-14T22:02:47.307Z"
      },
      {
        "duration": 10,
        "start_time": "2022-04-14T22:02:47.318Z"
      },
      {
        "duration": 50,
        "start_time": "2022-04-14T22:02:47.329Z"
      },
      {
        "duration": 11,
        "start_time": "2022-04-14T22:02:47.381Z"
      },
      {
        "duration": 5,
        "start_time": "2022-04-14T22:02:47.394Z"
      },
      {
        "duration": 5,
        "start_time": "2022-04-14T22:02:47.400Z"
      },
      {
        "duration": 13,
        "start_time": "2022-04-14T22:02:47.406Z"
      },
      {
        "duration": 5,
        "start_time": "2022-04-14T22:02:47.420Z"
      },
      {
        "duration": 30,
        "start_time": "2022-04-14T22:02:47.426Z"
      },
      {
        "duration": 60,
        "start_time": "2022-04-14T22:02:47.464Z"
      },
      {
        "duration": 16,
        "start_time": "2022-04-14T22:02:47.526Z"
      },
      {
        "duration": 278,
        "start_time": "2022-04-14T22:02:47.544Z"
      },
      {
        "duration": 163,
        "start_time": "2022-04-14T22:02:47.824Z"
      },
      {
        "duration": 7,
        "start_time": "2022-04-14T22:02:47.989Z"
      },
      {
        "duration": 103,
        "start_time": "2022-04-14T22:02:47.998Z"
      },
      {
        "duration": 448,
        "start_time": "2022-04-14T22:02:48.103Z"
      },
      {
        "duration": 253,
        "start_time": "2022-04-14T22:02:48.554Z"
      },
      {
        "duration": 157,
        "start_time": "2022-04-14T22:02:48.809Z"
      },
      {
        "duration": 8,
        "start_time": "2022-04-14T22:02:48.967Z"
      },
      {
        "duration": 284,
        "start_time": "2022-04-14T22:02:48.977Z"
      },
      {
        "duration": 728,
        "start_time": "2022-04-14T22:02:49.263Z"
      },
      {
        "duration": 399,
        "start_time": "2022-04-14T22:02:49.993Z"
      },
      {
        "duration": 7,
        "start_time": "2022-04-14T22:02:50.394Z"
      },
      {
        "duration": 485,
        "start_time": "2022-04-14T22:02:50.402Z"
      },
      {
        "duration": 574,
        "start_time": "2022-04-14T22:02:50.888Z"
      },
      {
        "duration": 530,
        "start_time": "2022-04-14T22:02:51.464Z"
      },
      {
        "duration": 64,
        "start_time": "2022-04-14T22:02:51.996Z"
      },
      {
        "duration": 499,
        "start_time": "2022-04-14T22:02:52.063Z"
      },
      {
        "duration": 15,
        "start_time": "2022-04-14T22:02:52.565Z"
      },
      {
        "duration": 35,
        "start_time": "2022-04-14T22:02:52.582Z"
      },
      {
        "duration": 13,
        "start_time": "2022-04-14T22:02:52.657Z"
      },
      {
        "duration": 35,
        "start_time": "2022-04-14T22:02:52.672Z"
      },
      {
        "duration": 21,
        "start_time": "2022-04-14T22:03:09.942Z"
      }
    ],
    "kernelspec": {
      "display_name": "Python 3 (ipykernel)",
      "language": "python",
      "name": "python3"
    },
    "language_info": {
      "codemirror_mode": {
        "name": "ipython",
        "version": 3
      },
      "file_extension": ".py",
      "mimetype": "text/x-python",
      "name": "python",
      "nbconvert_exporter": "python",
      "pygments_lexer": "ipython3",
      "version": "3.9.5"
    },
    "toc": {
      "base_numbering": 1,
      "nav_menu": {},
      "number_sections": true,
      "sideBar": true,
      "skip_h1_title": false,
      "title_cell": "Table of Contents",
      "title_sidebar": "Contents",
      "toc_cell": false,
      "toc_position": {
        "height": "calc(100% - 180px)",
        "left": "10px",
        "top": "150px",
        "width": "165px"
      },
      "toc_section_display": true,
      "toc_window_display": true
    },
    "colab": {
      "name": "cellular_plan_comparison",
      "provenance": []
    }
  },
  "nbformat": 4,
  "nbformat_minor": 0
}