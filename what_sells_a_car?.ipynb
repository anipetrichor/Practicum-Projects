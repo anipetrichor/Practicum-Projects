{
  "cells": [
    {
      "cell_type": "markdown",
      "metadata": {
        "id": "caX9n-QMztL8"
      },
      "source": [
        "# What sells a car?\n",
        "\n",
        "You're an analyst at Crankshaft List. Hundreds of free advertisements for vehicles are published on your site every day. You need to study data collected over the last few years and determine which factors influence the price of a vehicle."
      ]
    },
    {
      "cell_type": "markdown",
      "metadata": {
        "id": "ttS7vQhDztL-"
      },
      "source": [
        "**Action Plan**\n",
        "Through the course of this project I will be conducting EDA on data collected from vehicles advertisements to assess what factors most impact the price the vehicle. My project will begin with the neccessary data preprocessing to deal with data irregularities like missing values, incorrect datatypes, etc. From there I will use graphs to analyze the ways that different aspects of vehicles impact the cars sale price.\n",
        "\n",
        "**Hypotheses**\n",
        "The biggest impacts on a car's sale price is the model year, condition of the car, and its milage.  \n",
        "\n",
        "A car's transmission type and whether is is 4wd or not will also have an impact but both of these factors are more niche and will thus not be as impactful to overall trends. "
      ]
    },
    {
      "cell_type": "markdown",
      "metadata": {
        "id": "wDbgvADKztMA"
      },
      "source": [
        "## Initialization"
      ]
    },
    {
      "cell_type": "markdown",
      "metadata": {
        "id": "O9Hwo7NOztMA"
      },
      "source": [
        "To complete this project I will need both the Pandas library as well as MatPlotLib to most effectivly utilize a variety of graphs in my EDA.  "
      ]
    },
    {
      "cell_type": "code",
      "execution_count": null,
      "metadata": {
        "id": "pXlbqawvztMB"
      },
      "outputs": [],
      "source": [
        "# Loading all the libraries\n",
        "import pandas as pd\n",
        "# importing the library using the standard name plt\n",
        "import matplotlib.pyplot as plt \n",
        "\n"
      ]
    },
    {
      "cell_type": "markdown",
      "metadata": {
        "id": "T8cubPGeztMD"
      },
      "source": [
        "### Load data"
      ]
    },
    {
      "cell_type": "markdown",
      "metadata": {
        "id": "qbnVijlmztME"
      },
      "source": [
        "The first step is of course to the load the CSV file in question and ensure that it is properly formatted (values are in fact seperated by commas and not spaces or some other value). From there I'll assess any missing data or incorrect data types. "
      ]
    },
    {
      "cell_type": "code",
      "execution_count": null,
      "metadata": {
        "id": "31aScw8AztMF"
      },
      "outputs": [],
      "source": [
        "# Load the data file into a DataFrame\n",
        "\n",
        "data = pd.read_csv('/datasets/vehicles_us.csv')"
      ]
    },
    {
      "cell_type": "markdown",
      "metadata": {
        "id": "CSXyYiEtztMG"
      },
      "source": [
        "### Explore initial data"
      ]
    },
    {
      "cell_type": "markdown",
      "metadata": {
        "id": "gyyox4vSztMH"
      },
      "source": [
        "The dataset contains the following fields:\n",
        "- `price`\n",
        "- `model_year`\n",
        "- `model`\n",
        "- `condition`\n",
        "- `cylinders`\n",
        "- `fuel` — gas, diesel, etc.\n",
        "- `odometer` — the vehicle's mileage when the ad was published\n",
        "- `transmission`\n",
        "- `paint_color`\n",
        "- `is_4wd` — whether the vehicle has 4-wheel drive (Boolean type)\n",
        "- `date_posted` — the date the ad was published\n",
        "- `days_listed` — from publication to removal"
      ]
    },
    {
      "cell_type": "code",
      "execution_count": null,
      "metadata": {
        "id": "51OuhTaDztMI",
        "outputId": "47572af0-f1c8-40a7-8be7-80effb7d6329"
      },
      "outputs": [
        {
          "name": "stdout",
          "output_type": "stream",
          "text": [
            "<class 'pandas.core.frame.DataFrame'>\n",
            "RangeIndex: 51525 entries, 0 to 51524\n",
            "Data columns (total 13 columns):\n",
            " #   Column        Non-Null Count  Dtype  \n",
            "---  ------        --------------  -----  \n",
            " 0   price         51525 non-null  int64  \n",
            " 1   model_year    47906 non-null  float64\n",
            " 2   model         51525 non-null  object \n",
            " 3   condition     51525 non-null  object \n",
            " 4   cylinders     46265 non-null  float64\n",
            " 5   fuel          51525 non-null  object \n",
            " 6   odometer      43633 non-null  float64\n",
            " 7   transmission  51525 non-null  object \n",
            " 8   type          51525 non-null  object \n",
            " 9   paint_color   42258 non-null  object \n",
            " 10  is_4wd        25572 non-null  float64\n",
            " 11  date_posted   51525 non-null  object \n",
            " 12  days_listed   51525 non-null  int64  \n",
            "dtypes: float64(4), int64(2), object(7)\n",
            "memory usage: 5.1+ MB\n"
          ]
        }
      ],
      "source": [
        "# print the general/summary information about the DataFrame\n",
        "\n",
        "data.info()"
      ]
    },
    {
      "cell_type": "code",
      "execution_count": null,
      "metadata": {
        "scrolled": true,
        "id": "VqpWGw1wztMV",
        "outputId": "e4749ba8-fd73-4fca-9d06-f951e97e780f"
      },
      "outputs": [
        {
          "data": {
            "text/html": [
              "<div>\n",
              "<style scoped>\n",
              "    .dataframe tbody tr th:only-of-type {\n",
              "        vertical-align: middle;\n",
              "    }\n",
              "\n",
              "    .dataframe tbody tr th {\n",
              "        vertical-align: top;\n",
              "    }\n",
              "\n",
              "    .dataframe thead th {\n",
              "        text-align: right;\n",
              "    }\n",
              "</style>\n",
              "<table border=\"1\" class=\"dataframe\">\n",
              "  <thead>\n",
              "    <tr style=\"text-align: right;\">\n",
              "      <th></th>\n",
              "      <th>price</th>\n",
              "      <th>model_year</th>\n",
              "      <th>model</th>\n",
              "      <th>condition</th>\n",
              "      <th>cylinders</th>\n",
              "      <th>fuel</th>\n",
              "      <th>odometer</th>\n",
              "      <th>transmission</th>\n",
              "      <th>type</th>\n",
              "      <th>paint_color</th>\n",
              "      <th>is_4wd</th>\n",
              "      <th>date_posted</th>\n",
              "      <th>days_listed</th>\n",
              "    </tr>\n",
              "  </thead>\n",
              "  <tbody>\n",
              "    <tr>\n",
              "      <th>0</th>\n",
              "      <td>9400</td>\n",
              "      <td>2011.0</td>\n",
              "      <td>bmw x5</td>\n",
              "      <td>good</td>\n",
              "      <td>6.0</td>\n",
              "      <td>gas</td>\n",
              "      <td>145000.0</td>\n",
              "      <td>automatic</td>\n",
              "      <td>SUV</td>\n",
              "      <td>NaN</td>\n",
              "      <td>1.0</td>\n",
              "      <td>2018-06-23</td>\n",
              "      <td>19</td>\n",
              "    </tr>\n",
              "    <tr>\n",
              "      <th>1</th>\n",
              "      <td>25500</td>\n",
              "      <td>NaN</td>\n",
              "      <td>ford f-150</td>\n",
              "      <td>good</td>\n",
              "      <td>6.0</td>\n",
              "      <td>gas</td>\n",
              "      <td>88705.0</td>\n",
              "      <td>automatic</td>\n",
              "      <td>pickup</td>\n",
              "      <td>white</td>\n",
              "      <td>1.0</td>\n",
              "      <td>2018-10-19</td>\n",
              "      <td>50</td>\n",
              "    </tr>\n",
              "    <tr>\n",
              "      <th>2</th>\n",
              "      <td>5500</td>\n",
              "      <td>2013.0</td>\n",
              "      <td>hyundai sonata</td>\n",
              "      <td>like new</td>\n",
              "      <td>4.0</td>\n",
              "      <td>gas</td>\n",
              "      <td>110000.0</td>\n",
              "      <td>automatic</td>\n",
              "      <td>sedan</td>\n",
              "      <td>red</td>\n",
              "      <td>NaN</td>\n",
              "      <td>2019-02-07</td>\n",
              "      <td>79</td>\n",
              "    </tr>\n",
              "    <tr>\n",
              "      <th>3</th>\n",
              "      <td>1500</td>\n",
              "      <td>2003.0</td>\n",
              "      <td>ford f-150</td>\n",
              "      <td>fair</td>\n",
              "      <td>8.0</td>\n",
              "      <td>gas</td>\n",
              "      <td>NaN</td>\n",
              "      <td>automatic</td>\n",
              "      <td>pickup</td>\n",
              "      <td>NaN</td>\n",
              "      <td>NaN</td>\n",
              "      <td>2019-03-22</td>\n",
              "      <td>9</td>\n",
              "    </tr>\n",
              "    <tr>\n",
              "      <th>4</th>\n",
              "      <td>14900</td>\n",
              "      <td>2017.0</td>\n",
              "      <td>chrysler 200</td>\n",
              "      <td>excellent</td>\n",
              "      <td>4.0</td>\n",
              "      <td>gas</td>\n",
              "      <td>80903.0</td>\n",
              "      <td>automatic</td>\n",
              "      <td>sedan</td>\n",
              "      <td>black</td>\n",
              "      <td>NaN</td>\n",
              "      <td>2019-04-02</td>\n",
              "      <td>28</td>\n",
              "    </tr>\n",
              "    <tr>\n",
              "      <th>5</th>\n",
              "      <td>14990</td>\n",
              "      <td>2014.0</td>\n",
              "      <td>chrysler 300</td>\n",
              "      <td>excellent</td>\n",
              "      <td>6.0</td>\n",
              "      <td>gas</td>\n",
              "      <td>57954.0</td>\n",
              "      <td>automatic</td>\n",
              "      <td>sedan</td>\n",
              "      <td>black</td>\n",
              "      <td>1.0</td>\n",
              "      <td>2018-06-20</td>\n",
              "      <td>15</td>\n",
              "    </tr>\n",
              "    <tr>\n",
              "      <th>6</th>\n",
              "      <td>12990</td>\n",
              "      <td>2015.0</td>\n",
              "      <td>toyota camry</td>\n",
              "      <td>excellent</td>\n",
              "      <td>4.0</td>\n",
              "      <td>gas</td>\n",
              "      <td>79212.0</td>\n",
              "      <td>automatic</td>\n",
              "      <td>sedan</td>\n",
              "      <td>white</td>\n",
              "      <td>NaN</td>\n",
              "      <td>2018-12-27</td>\n",
              "      <td>73</td>\n",
              "    </tr>\n",
              "    <tr>\n",
              "      <th>7</th>\n",
              "      <td>15990</td>\n",
              "      <td>2013.0</td>\n",
              "      <td>honda pilot</td>\n",
              "      <td>excellent</td>\n",
              "      <td>6.0</td>\n",
              "      <td>gas</td>\n",
              "      <td>109473.0</td>\n",
              "      <td>automatic</td>\n",
              "      <td>SUV</td>\n",
              "      <td>black</td>\n",
              "      <td>1.0</td>\n",
              "      <td>2019-01-07</td>\n",
              "      <td>68</td>\n",
              "    </tr>\n",
              "    <tr>\n",
              "      <th>8</th>\n",
              "      <td>11500</td>\n",
              "      <td>2012.0</td>\n",
              "      <td>kia sorento</td>\n",
              "      <td>excellent</td>\n",
              "      <td>4.0</td>\n",
              "      <td>gas</td>\n",
              "      <td>104174.0</td>\n",
              "      <td>automatic</td>\n",
              "      <td>SUV</td>\n",
              "      <td>NaN</td>\n",
              "      <td>1.0</td>\n",
              "      <td>2018-07-16</td>\n",
              "      <td>19</td>\n",
              "    </tr>\n",
              "    <tr>\n",
              "      <th>9</th>\n",
              "      <td>9200</td>\n",
              "      <td>2008.0</td>\n",
              "      <td>honda pilot</td>\n",
              "      <td>excellent</td>\n",
              "      <td>NaN</td>\n",
              "      <td>gas</td>\n",
              "      <td>147191.0</td>\n",
              "      <td>automatic</td>\n",
              "      <td>SUV</td>\n",
              "      <td>blue</td>\n",
              "      <td>1.0</td>\n",
              "      <td>2019-02-15</td>\n",
              "      <td>17</td>\n",
              "    </tr>\n",
              "  </tbody>\n",
              "</table>\n",
              "</div>"
            ],
            "text/plain": [
              "   price  model_year           model  condition  cylinders fuel  odometer  \\\n",
              "0   9400      2011.0          bmw x5       good        6.0  gas  145000.0   \n",
              "1  25500         NaN      ford f-150       good        6.0  gas   88705.0   \n",
              "2   5500      2013.0  hyundai sonata   like new        4.0  gas  110000.0   \n",
              "3   1500      2003.0      ford f-150       fair        8.0  gas       NaN   \n",
              "4  14900      2017.0    chrysler 200  excellent        4.0  gas   80903.0   \n",
              "5  14990      2014.0    chrysler 300  excellent        6.0  gas   57954.0   \n",
              "6  12990      2015.0    toyota camry  excellent        4.0  gas   79212.0   \n",
              "7  15990      2013.0     honda pilot  excellent        6.0  gas  109473.0   \n",
              "8  11500      2012.0     kia sorento  excellent        4.0  gas  104174.0   \n",
              "9   9200      2008.0     honda pilot  excellent        NaN  gas  147191.0   \n",
              "\n",
              "  transmission    type paint_color  is_4wd date_posted  days_listed  \n",
              "0    automatic     SUV         NaN     1.0  2018-06-23           19  \n",
              "1    automatic  pickup       white     1.0  2018-10-19           50  \n",
              "2    automatic   sedan         red     NaN  2019-02-07           79  \n",
              "3    automatic  pickup         NaN     NaN  2019-03-22            9  \n",
              "4    automatic   sedan       black     NaN  2019-04-02           28  \n",
              "5    automatic   sedan       black     1.0  2018-06-20           15  \n",
              "6    automatic   sedan       white     NaN  2018-12-27           73  \n",
              "7    automatic     SUV       black     1.0  2019-01-07           68  \n",
              "8    automatic     SUV         NaN     1.0  2018-07-16           19  \n",
              "9    automatic     SUV        blue     1.0  2019-02-15           17  "
            ]
          },
          "execution_count": 26,
          "metadata": {},
          "output_type": "execute_result"
        }
      ],
      "source": [
        "# print a sample of data\n",
        "data.head(10)\n"
      ]
    },
    {
      "cell_type": "markdown",
      "metadata": {
        "id": "YyQw0MF4ztMz"
      },
      "source": [
        "**First Glance:**\n",
        "\n",
        "`model_year`, `cylinders`, `odometer`, `paint_color`, and `is_4wd` are all missing values\n",
        "\n",
        "`date_posted` is an object when it should be in datetime\n",
        "\n",
        "`condition` will need to be convered to a number 0 through 5 scale (0 being salvage and 5 being new)"
      ]
    },
    {
      "cell_type": "code",
      "execution_count": null,
      "metadata": {
        "scrolled": true,
        "id": "UrJcE6X9ztM1",
        "outputId": "2063426c-ecfd-44e2-befd-9172affa4c60"
      },
      "outputs": [
        {
          "data": {
            "text/plain": [
              "1.0    25572\n",
              "Name: is_4wd, dtype: int64"
            ]
          },
          "execution_count": 27,
          "metadata": {},
          "output_type": "execute_result"
        }
      ],
      "source": [
        "data['is_4wd'].value_counts()"
      ]
    },
    {
      "cell_type": "code",
      "execution_count": null,
      "metadata": {
        "id": "Ke-24WlOztM2",
        "outputId": "de77c9bc-6755-44cd-cb6f-78a4ca60d2a3"
      },
      "outputs": [
        {
          "data": {
            "text/plain": [
              "17.985443959243085"
            ]
          },
          "execution_count": 28,
          "metadata": {},
          "output_type": "execute_result"
        }
      ],
      "source": [
        "len(data[data['paint_color'].isnull()])/len(data['paint_color'])*100"
      ]
    },
    {
      "cell_type": "markdown",
      "metadata": {
        "id": "qiyHqbGYztM3"
      },
      "source": [
        "[Are there missing values across all columns or just a few? What columns contain the most missing values? Briefly describe what you see in 1-2 sentences.]\n",
        "\n",
        "`model_year`, `cylinders`, `odometer`, `paint_color`, and `is_4wd` all have missing values. I expect the most impactful of these in my analysis will be `model_year` and `odometer` as these cannot be filled with by using context clues. \n",
        "\n",
        "`paint_color` is unlikely to signifcatly impact the sale price of a car and can likely be filled with 'unknown'. Given that the missing values are only 17% of the data this should be fine. \n",
        "\n",
        "The exisiting values for `is_4wd` appear to be a numeric scale that was only half filled, likely due to a data entry error. The missing values can be filled with '0' to indicate the car is not 4wd capable. "
      ]
    },
    {
      "cell_type": "code",
      "execution_count": null,
      "metadata": {
        "scrolled": true,
        "id": "iXZEyoxrztM4",
        "outputId": "7f93d465-38b8-40c2-b27f-159220e36f68"
      },
      "outputs": [
        {
          "data": {
            "text/plain": [
              "7.023774866569626"
            ]
          },
          "execution_count": 29,
          "metadata": {},
          "output_type": "execute_result"
        }
      ],
      "source": [
        "len(data[data['model_year'].isnull()])/len(data['model_year'])*100"
      ]
    },
    {
      "cell_type": "code",
      "execution_count": null,
      "metadata": {
        "scrolled": false,
        "id": "W_qG7NFeztM6",
        "outputId": "6c2606b4-cd13-473b-c0fb-d7ae55d52e25"
      },
      "outputs": [
        {
          "data": {
            "text/plain": [
              "10.208636584182436"
            ]
          },
          "execution_count": 30,
          "metadata": {},
          "output_type": "execute_result"
        }
      ],
      "source": [
        "len(data[data['cylinders'].isnull()])/len(data['cylinders'])*100"
      ]
    },
    {
      "cell_type": "code",
      "execution_count": null,
      "metadata": {
        "id": "pIOKLJTkztM7",
        "outputId": "4f7fec58-a47a-42c7-a7c5-bfcd179fc02a"
      },
      "outputs": [
        {
          "data": {
            "text/plain": [
              "15.316836487142163"
            ]
          },
          "execution_count": 31,
          "metadata": {},
          "output_type": "execute_result"
        }
      ],
      "source": [
        "len(data[data['odometer'].isnull()])/len(data['odometer'])*100"
      ]
    },
    {
      "cell_type": "markdown",
      "metadata": {
        "id": "Em3XocBQztM9"
      },
      "source": [
        "### Conclusions and further steps\n",
        "\n",
        "Looking at the percentages of missing values in the affected columns I can tell that removing the missing values in `model_year` will be most useful for my data analysis. Given that only 7% of the values are Null removing them will have a negligable effect on the data. \n",
        "\n",
        "Null values in `Cylinders` can be filled with 'unknown'. Given that the null values are only 10% of the total data they could also be removed but the number of cylinders is unlikely to impact a car's sale price as much as the model year or odometer. \n",
        "\n",
        "`Odometer` requires further analysis. The missing values are 15% of the total data which is higher than ideal for removing those rows. What I feel will be most usefull will be to fill the Null valus with the milage averages from the car's applicable year.\n",
        "\n",
        "I will also need to update `condition` to a numerical scale. \n"
      ]
    },
    {
      "cell_type": "code",
      "execution_count": null,
      "metadata": {
        "scrolled": true,
        "id": "Xionx0RVztNA",
        "outputId": "4b8fd309-6e9f-492e-bf05-3c3fa0660c33"
      },
      "outputs": [
        {
          "name": "stdout",
          "output_type": "stream",
          "text": [
            "                           odometer\n",
            "model_year cylinders               \n",
            "1908.0     8.0        169328.000000\n",
            "1936.0     6.0         30000.000000\n",
            "1948.0     8.0          4000.000000\n",
            "1955.0     6.0         47180.000000\n",
            "1958.0     8.0         32991.500000\n",
            "...                             ...\n",
            "2018.0     10.0        21685.060606\n",
            "2019.0     4.0         15538.208955\n",
            "           6.0         19285.606061\n",
            "           8.0         16045.500000\n",
            "           10.0        10841.000000\n",
            "\n",
            "[204 rows x 1 columns]\n"
          ]
        }
      ],
      "source": [
        "mean_mileage = data.pivot_table(index = ['model_year', 'cylinders'], values = 'odometer')\n",
        "print(mean_mileage)"
      ]
    },
    {
      "cell_type": "code",
      "execution_count": null,
      "metadata": {
        "scrolled": true,
        "id": "gJ1nI8KuztNB",
        "outputId": "d40e0cc8-b39e-4fd5-c71f-887ea61616af"
      },
      "outputs": [
        {
          "name": "stdout",
          "output_type": "stream",
          "text": [
            "            odometer\n",
            "model_year          \n",
            "1908.0      169328.0\n",
            "1936.0       30000.0\n",
            "1948.0        4000.0\n",
            "1949.0        1800.0\n",
            "1954.0        3565.0\n",
            "...              ...\n",
            "2015.0       78514.0\n",
            "2016.0       54000.0\n",
            "2017.0       41000.0\n",
            "2018.0       20627.0\n",
            "2019.0       14151.5\n",
            "\n",
            "[67 rows x 1 columns]\n"
          ]
        }
      ],
      "source": [
        "median_mileage = data.pivot_table(index = 'model_year', values = 'odometer', aggfunc = 'median')\n",
        "print(median_mileage)"
      ]
    },
    {
      "cell_type": "markdown",
      "metadata": {
        "id": "cucqziSGztNB"
      },
      "source": [
        "I will fill the Null values in `odometer` with the median values to ensure I am avoiding any hidden outliers. It is always possible that there are cars on the market with unusually high or low milage regardless of year. "
      ]
    },
    {
      "cell_type": "markdown",
      "metadata": {
        "id": "xA3GvclZztNC"
      },
      "source": [
        "## Treat missing values (if any)"
      ]
    },
    {
      "cell_type": "code",
      "execution_count": null,
      "metadata": {
        "id": "QpGnTrQQztND"
      },
      "outputs": [],
      "source": [
        "data['paint_color'] = data['paint_color'].fillna('unknown')"
      ]
    },
    {
      "cell_type": "code",
      "execution_count": null,
      "metadata": {
        "id": "t9zKNW0xztND"
      },
      "outputs": [],
      "source": [
        "data['is_4wd'] = data['is_4wd'].fillna(0)"
      ]
    },
    {
      "cell_type": "code",
      "execution_count": null,
      "metadata": {
        "id": "O6e-jhKrztNE"
      },
      "outputs": [],
      "source": [
        "def avg_cylinders(row):\n",
        "    \n",
        "    cylinders = row['cylinders']\n",
        "    model = row['model']\n",
        "    age = row['model_year']\n",
        "    try:\n",
        "        avg_cylinders = data[(data['model_year'] == age) & (data['model'] == model) & ~(data['cylinders'].isna())]['cylinders'].mean()\n",
        "        return avg_cylinders\n",
        "    except:\n",
        "        return"
      ]
    },
    {
      "cell_type": "code",
      "execution_count": null,
      "metadata": {
        "id": "yb_WN5qBztNG"
      },
      "outputs": [],
      "source": [
        "data.loc[data['cylinders'].isna(), 'cylinders'] = data[data['cylinders'].isna()].apply(avg_cylinders, axis = 1)\n"
      ]
    },
    {
      "cell_type": "code",
      "execution_count": null,
      "metadata": {
        "scrolled": false,
        "id": "tK8xRnnWztNG",
        "outputId": "d4538968-72aa-420c-b56c-1b324d2f8094"
      },
      "outputs": [
        {
          "data": {
            "text/html": [
              "<div>\n",
              "<style scoped>\n",
              "    .dataframe tbody tr th:only-of-type {\n",
              "        vertical-align: middle;\n",
              "    }\n",
              "\n",
              "    .dataframe tbody tr th {\n",
              "        vertical-align: top;\n",
              "    }\n",
              "\n",
              "    .dataframe thead th {\n",
              "        text-align: right;\n",
              "    }\n",
              "</style>\n",
              "<table border=\"1\" class=\"dataframe\">\n",
              "  <thead>\n",
              "    <tr style=\"text-align: right;\">\n",
              "      <th></th>\n",
              "      <th>price</th>\n",
              "      <th>model_year</th>\n",
              "      <th>model</th>\n",
              "      <th>condition</th>\n",
              "      <th>cylinders</th>\n",
              "      <th>fuel</th>\n",
              "      <th>odometer</th>\n",
              "      <th>transmission</th>\n",
              "      <th>type</th>\n",
              "      <th>paint_color</th>\n",
              "      <th>is_4wd</th>\n",
              "      <th>date_posted</th>\n",
              "      <th>days_listed</th>\n",
              "    </tr>\n",
              "  </thead>\n",
              "  <tbody>\n",
              "    <tr>\n",
              "      <th>72</th>\n",
              "      <td>3650</td>\n",
              "      <td>NaN</td>\n",
              "      <td>subaru impreza</td>\n",
              "      <td>excellent</td>\n",
              "      <td>NaN</td>\n",
              "      <td>gas</td>\n",
              "      <td>74000.0</td>\n",
              "      <td>automatic</td>\n",
              "      <td>sedan</td>\n",
              "      <td>blue</td>\n",
              "      <td>1.0</td>\n",
              "      <td>2018-08-07</td>\n",
              "      <td>60</td>\n",
              "    </tr>\n",
              "    <tr>\n",
              "      <th>159</th>\n",
              "      <td>23300</td>\n",
              "      <td>NaN</td>\n",
              "      <td>nissan frontier crew cab sv</td>\n",
              "      <td>good</td>\n",
              "      <td>NaN</td>\n",
              "      <td>gas</td>\n",
              "      <td>NaN</td>\n",
              "      <td>other</td>\n",
              "      <td>pickup</td>\n",
              "      <td>grey</td>\n",
              "      <td>1.0</td>\n",
              "      <td>2018-07-24</td>\n",
              "      <td>73</td>\n",
              "    </tr>\n",
              "    <tr>\n",
              "      <th>370</th>\n",
              "      <td>4700</td>\n",
              "      <td>NaN</td>\n",
              "      <td>kia soul</td>\n",
              "      <td>good</td>\n",
              "      <td>NaN</td>\n",
              "      <td>gas</td>\n",
              "      <td>NaN</td>\n",
              "      <td>manual</td>\n",
              "      <td>sedan</td>\n",
              "      <td>white</td>\n",
              "      <td>0.0</td>\n",
              "      <td>2019-01-14</td>\n",
              "      <td>50</td>\n",
              "    </tr>\n",
              "    <tr>\n",
              "      <th>418</th>\n",
              "      <td>4998</td>\n",
              "      <td>NaN</td>\n",
              "      <td>toyota corolla</td>\n",
              "      <td>good</td>\n",
              "      <td>NaN</td>\n",
              "      <td>gas</td>\n",
              "      <td>44442.0</td>\n",
              "      <td>automatic</td>\n",
              "      <td>sedan</td>\n",
              "      <td>grey</td>\n",
              "      <td>0.0</td>\n",
              "      <td>2019-04-19</td>\n",
              "      <td>12</td>\n",
              "    </tr>\n",
              "    <tr>\n",
              "      <th>664</th>\n",
              "      <td>5000</td>\n",
              "      <td>NaN</td>\n",
              "      <td>toyota highlander</td>\n",
              "      <td>excellent</td>\n",
              "      <td>NaN</td>\n",
              "      <td>gas</td>\n",
              "      <td>NaN</td>\n",
              "      <td>automatic</td>\n",
              "      <td>SUV</td>\n",
              "      <td>blue</td>\n",
              "      <td>0.0</td>\n",
              "      <td>2018-06-27</td>\n",
              "      <td>14</td>\n",
              "    </tr>\n",
              "    <tr>\n",
              "      <th>...</th>\n",
              "      <td>...</td>\n",
              "      <td>...</td>\n",
              "      <td>...</td>\n",
              "      <td>...</td>\n",
              "      <td>...</td>\n",
              "      <td>...</td>\n",
              "      <td>...</td>\n",
              "      <td>...</td>\n",
              "      <td>...</td>\n",
              "      <td>...</td>\n",
              "      <td>...</td>\n",
              "      <td>...</td>\n",
              "      <td>...</td>\n",
              "    </tr>\n",
              "    <tr>\n",
              "      <th>50643</th>\n",
              "      <td>21499</td>\n",
              "      <td>NaN</td>\n",
              "      <td>ram 2500</td>\n",
              "      <td>good</td>\n",
              "      <td>NaN</td>\n",
              "      <td>diesel</td>\n",
              "      <td>165831.0</td>\n",
              "      <td>manual</td>\n",
              "      <td>truck</td>\n",
              "      <td>red</td>\n",
              "      <td>1.0</td>\n",
              "      <td>2018-08-14</td>\n",
              "      <td>91</td>\n",
              "    </tr>\n",
              "    <tr>\n",
              "      <th>50836</th>\n",
              "      <td>39488</td>\n",
              "      <td>NaN</td>\n",
              "      <td>ford f350</td>\n",
              "      <td>like new</td>\n",
              "      <td>NaN</td>\n",
              "      <td>gas</td>\n",
              "      <td>32000.0</td>\n",
              "      <td>automatic</td>\n",
              "      <td>truck</td>\n",
              "      <td>unknown</td>\n",
              "      <td>1.0</td>\n",
              "      <td>2018-06-23</td>\n",
              "      <td>6</td>\n",
              "    </tr>\n",
              "    <tr>\n",
              "      <th>50924</th>\n",
              "      <td>1999</td>\n",
              "      <td>NaN</td>\n",
              "      <td>jeep grand cherokee laredo</td>\n",
              "      <td>good</td>\n",
              "      <td>NaN</td>\n",
              "      <td>gas</td>\n",
              "      <td>199312.0</td>\n",
              "      <td>automatic</td>\n",
              "      <td>SUV</td>\n",
              "      <td>blue</td>\n",
              "      <td>1.0</td>\n",
              "      <td>2019-01-05</td>\n",
              "      <td>69</td>\n",
              "    </tr>\n",
              "    <tr>\n",
              "      <th>51125</th>\n",
              "      <td>20900</td>\n",
              "      <td>NaN</td>\n",
              "      <td>ford f-150</td>\n",
              "      <td>excellent</td>\n",
              "      <td>NaN</td>\n",
              "      <td>gas</td>\n",
              "      <td>53209.0</td>\n",
              "      <td>automatic</td>\n",
              "      <td>pickup</td>\n",
              "      <td>unknown</td>\n",
              "      <td>1.0</td>\n",
              "      <td>2018-08-04</td>\n",
              "      <td>87</td>\n",
              "    </tr>\n",
              "    <tr>\n",
              "      <th>51351</th>\n",
              "      <td>23900</td>\n",
              "      <td>NaN</td>\n",
              "      <td>chevrolet silverado 2500hd</td>\n",
              "      <td>good</td>\n",
              "      <td>NaN</td>\n",
              "      <td>diesel</td>\n",
              "      <td>166053.0</td>\n",
              "      <td>automatic</td>\n",
              "      <td>truck</td>\n",
              "      <td>silver</td>\n",
              "      <td>1.0</td>\n",
              "      <td>2018-08-31</td>\n",
              "      <td>47</td>\n",
              "    </tr>\n",
              "  </tbody>\n",
              "</table>\n",
              "<p>389 rows × 13 columns</p>\n",
              "</div>"
            ],
            "text/plain": [
              "       price  model_year                        model  condition  cylinders  \\\n",
              "72      3650         NaN               subaru impreza  excellent        NaN   \n",
              "159    23300         NaN  nissan frontier crew cab sv       good        NaN   \n",
              "370     4700         NaN                     kia soul       good        NaN   \n",
              "418     4998         NaN               toyota corolla       good        NaN   \n",
              "664     5000         NaN            toyota highlander  excellent        NaN   \n",
              "...      ...         ...                          ...        ...        ...   \n",
              "50643  21499         NaN                     ram 2500       good        NaN   \n",
              "50836  39488         NaN                    ford f350   like new        NaN   \n",
              "50924   1999         NaN   jeep grand cherokee laredo       good        NaN   \n",
              "51125  20900         NaN                   ford f-150  excellent        NaN   \n",
              "51351  23900         NaN   chevrolet silverado 2500hd       good        NaN   \n",
              "\n",
              "         fuel  odometer transmission    type paint_color  is_4wd date_posted  \\\n",
              "72        gas   74000.0    automatic   sedan        blue     1.0  2018-08-07   \n",
              "159       gas       NaN        other  pickup        grey     1.0  2018-07-24   \n",
              "370       gas       NaN       manual   sedan       white     0.0  2019-01-14   \n",
              "418       gas   44442.0    automatic   sedan        grey     0.0  2019-04-19   \n",
              "664       gas       NaN    automatic     SUV        blue     0.0  2018-06-27   \n",
              "...       ...       ...          ...     ...         ...     ...         ...   \n",
              "50643  diesel  165831.0       manual   truck         red     1.0  2018-08-14   \n",
              "50836     gas   32000.0    automatic   truck     unknown     1.0  2018-06-23   \n",
              "50924     gas  199312.0    automatic     SUV        blue     1.0  2019-01-05   \n",
              "51125     gas   53209.0    automatic  pickup     unknown     1.0  2018-08-04   \n",
              "51351  diesel  166053.0    automatic   truck      silver     1.0  2018-08-31   \n",
              "\n",
              "       days_listed  \n",
              "72              60  \n",
              "159             73  \n",
              "370             50  \n",
              "418             12  \n",
              "664             14  \n",
              "...            ...  \n",
              "50643           91  \n",
              "50836            6  \n",
              "50924           69  \n",
              "51125           87  \n",
              "51351           47  \n",
              "\n",
              "[389 rows x 13 columns]"
            ]
          },
          "execution_count": 38,
          "metadata": {},
          "output_type": "execute_result"
        }
      ],
      "source": [
        "data[data['cylinders'].isna()]"
      ]
    },
    {
      "cell_type": "code",
      "execution_count": null,
      "metadata": {
        "id": "NJg1MCEDztNH"
      },
      "outputs": [],
      "source": [
        "data = data.dropna(subset = ['cylinders'])"
      ]
    },
    {
      "cell_type": "code",
      "execution_count": null,
      "metadata": {
        "scrolled": true,
        "id": "hzkMJRtvztNH",
        "outputId": "76200ceb-2a41-4352-c851-292f0eb0cc9b"
      },
      "outputs": [
        {
          "data": {
            "text/plain": [
              "model\n",
              "acura tl             2007.0\n",
              "bmw x5               2010.0\n",
              "buick enclave        2012.0\n",
              "cadillac escalade    2009.0\n",
              "chevrolet camaro     2013.0\n",
              "                      ...  \n",
              "toyota sienna        2008.0\n",
              "toyota tacoma        2010.0\n",
              "toyota tundra        2009.0\n",
              "volkswagen jetta     2012.0\n",
              "volkswagen passat    2013.0\n",
              "Name: model_year, Length: 100, dtype: float64"
            ]
          },
          "execution_count": 40,
          "metadata": {},
          "output_type": "execute_result"
        }
      ],
      "source": [
        "data.groupby('model')['model_year'].median()"
      ]
    },
    {
      "cell_type": "code",
      "execution_count": null,
      "metadata": {
        "id": "pmOPSALGztNI"
      },
      "outputs": [],
      "source": [
        "def avg_model_year(row):\n",
        "    \n",
        "    model = row['model']\n",
        "    try:\n",
        "        avg_model_year = data[(data['model'] == model) & ~(data['model_year'].isna())]['model_year'].median()\n",
        "        return avg_model_year\n",
        "    except:\n",
        "        return"
      ]
    },
    {
      "cell_type": "code",
      "execution_count": null,
      "metadata": {
        "id": "OAQrsoZrztNJ"
      },
      "outputs": [],
      "source": [
        "data.loc[data['model_year'].isna(), 'model_year'] = data[data['model_year'].isna()].apply(avg_model_year, axis = 1)\n"
      ]
    },
    {
      "cell_type": "code",
      "execution_count": null,
      "metadata": {
        "scrolled": true,
        "id": "3Kg3XoCkztNJ",
        "outputId": "a1737417-6968-44a1-f22b-647293926c8b"
      },
      "outputs": [
        {
          "data": {
            "text/html": [
              "<div>\n",
              "<style scoped>\n",
              "    .dataframe tbody tr th:only-of-type {\n",
              "        vertical-align: middle;\n",
              "    }\n",
              "\n",
              "    .dataframe tbody tr th {\n",
              "        vertical-align: top;\n",
              "    }\n",
              "\n",
              "    .dataframe thead th {\n",
              "        text-align: right;\n",
              "    }\n",
              "</style>\n",
              "<table border=\"1\" class=\"dataframe\">\n",
              "  <thead>\n",
              "    <tr style=\"text-align: right;\">\n",
              "      <th></th>\n",
              "      <th>price</th>\n",
              "      <th>model_year</th>\n",
              "      <th>model</th>\n",
              "      <th>condition</th>\n",
              "      <th>cylinders</th>\n",
              "      <th>fuel</th>\n",
              "      <th>odometer</th>\n",
              "      <th>transmission</th>\n",
              "      <th>type</th>\n",
              "      <th>paint_color</th>\n",
              "      <th>is_4wd</th>\n",
              "      <th>date_posted</th>\n",
              "      <th>days_listed</th>\n",
              "    </tr>\n",
              "  </thead>\n",
              "  <tbody>\n",
              "    <tr>\n",
              "      <th>0</th>\n",
              "      <td>9400</td>\n",
              "      <td>2011.0</td>\n",
              "      <td>bmw x5</td>\n",
              "      <td>good</td>\n",
              "      <td>6.0</td>\n",
              "      <td>gas</td>\n",
              "      <td>145000.0</td>\n",
              "      <td>automatic</td>\n",
              "      <td>SUV</td>\n",
              "      <td>unknown</td>\n",
              "      <td>1.0</td>\n",
              "      <td>2018-06-23</td>\n",
              "      <td>19</td>\n",
              "    </tr>\n",
              "    <tr>\n",
              "      <th>1</th>\n",
              "      <td>25500</td>\n",
              "      <td>2011.0</td>\n",
              "      <td>ford f-150</td>\n",
              "      <td>good</td>\n",
              "      <td>6.0</td>\n",
              "      <td>gas</td>\n",
              "      <td>88705.0</td>\n",
              "      <td>automatic</td>\n",
              "      <td>pickup</td>\n",
              "      <td>white</td>\n",
              "      <td>1.0</td>\n",
              "      <td>2018-10-19</td>\n",
              "      <td>50</td>\n",
              "    </tr>\n",
              "    <tr>\n",
              "      <th>2</th>\n",
              "      <td>5500</td>\n",
              "      <td>2013.0</td>\n",
              "      <td>hyundai sonata</td>\n",
              "      <td>like new</td>\n",
              "      <td>4.0</td>\n",
              "      <td>gas</td>\n",
              "      <td>110000.0</td>\n",
              "      <td>automatic</td>\n",
              "      <td>sedan</td>\n",
              "      <td>red</td>\n",
              "      <td>0.0</td>\n",
              "      <td>2019-02-07</td>\n",
              "      <td>79</td>\n",
              "    </tr>\n",
              "    <tr>\n",
              "      <th>3</th>\n",
              "      <td>1500</td>\n",
              "      <td>2003.0</td>\n",
              "      <td>ford f-150</td>\n",
              "      <td>fair</td>\n",
              "      <td>8.0</td>\n",
              "      <td>gas</td>\n",
              "      <td>NaN</td>\n",
              "      <td>automatic</td>\n",
              "      <td>pickup</td>\n",
              "      <td>unknown</td>\n",
              "      <td>0.0</td>\n",
              "      <td>2019-03-22</td>\n",
              "      <td>9</td>\n",
              "    </tr>\n",
              "    <tr>\n",
              "      <th>4</th>\n",
              "      <td>14900</td>\n",
              "      <td>2017.0</td>\n",
              "      <td>chrysler 200</td>\n",
              "      <td>excellent</td>\n",
              "      <td>4.0</td>\n",
              "      <td>gas</td>\n",
              "      <td>80903.0</td>\n",
              "      <td>automatic</td>\n",
              "      <td>sedan</td>\n",
              "      <td>black</td>\n",
              "      <td>0.0</td>\n",
              "      <td>2019-04-02</td>\n",
              "      <td>28</td>\n",
              "    </tr>\n",
              "    <tr>\n",
              "      <th>5</th>\n",
              "      <td>14990</td>\n",
              "      <td>2014.0</td>\n",
              "      <td>chrysler 300</td>\n",
              "      <td>excellent</td>\n",
              "      <td>6.0</td>\n",
              "      <td>gas</td>\n",
              "      <td>57954.0</td>\n",
              "      <td>automatic</td>\n",
              "      <td>sedan</td>\n",
              "      <td>black</td>\n",
              "      <td>1.0</td>\n",
              "      <td>2018-06-20</td>\n",
              "      <td>15</td>\n",
              "    </tr>\n",
              "    <tr>\n",
              "      <th>6</th>\n",
              "      <td>12990</td>\n",
              "      <td>2015.0</td>\n",
              "      <td>toyota camry</td>\n",
              "      <td>excellent</td>\n",
              "      <td>4.0</td>\n",
              "      <td>gas</td>\n",
              "      <td>79212.0</td>\n",
              "      <td>automatic</td>\n",
              "      <td>sedan</td>\n",
              "      <td>white</td>\n",
              "      <td>0.0</td>\n",
              "      <td>2018-12-27</td>\n",
              "      <td>73</td>\n",
              "    </tr>\n",
              "    <tr>\n",
              "      <th>7</th>\n",
              "      <td>15990</td>\n",
              "      <td>2013.0</td>\n",
              "      <td>honda pilot</td>\n",
              "      <td>excellent</td>\n",
              "      <td>6.0</td>\n",
              "      <td>gas</td>\n",
              "      <td>109473.0</td>\n",
              "      <td>automatic</td>\n",
              "      <td>SUV</td>\n",
              "      <td>black</td>\n",
              "      <td>1.0</td>\n",
              "      <td>2019-01-07</td>\n",
              "      <td>68</td>\n",
              "    </tr>\n",
              "    <tr>\n",
              "      <th>8</th>\n",
              "      <td>11500</td>\n",
              "      <td>2012.0</td>\n",
              "      <td>kia sorento</td>\n",
              "      <td>excellent</td>\n",
              "      <td>4.0</td>\n",
              "      <td>gas</td>\n",
              "      <td>104174.0</td>\n",
              "      <td>automatic</td>\n",
              "      <td>SUV</td>\n",
              "      <td>unknown</td>\n",
              "      <td>1.0</td>\n",
              "      <td>2018-07-16</td>\n",
              "      <td>19</td>\n",
              "    </tr>\n",
              "    <tr>\n",
              "      <th>9</th>\n",
              "      <td>9200</td>\n",
              "      <td>2008.0</td>\n",
              "      <td>honda pilot</td>\n",
              "      <td>excellent</td>\n",
              "      <td>6.0</td>\n",
              "      <td>gas</td>\n",
              "      <td>147191.0</td>\n",
              "      <td>automatic</td>\n",
              "      <td>SUV</td>\n",
              "      <td>blue</td>\n",
              "      <td>1.0</td>\n",
              "      <td>2019-02-15</td>\n",
              "      <td>17</td>\n",
              "    </tr>\n",
              "  </tbody>\n",
              "</table>\n",
              "</div>"
            ],
            "text/plain": [
              "   price  model_year           model  condition  cylinders fuel  odometer  \\\n",
              "0   9400      2011.0          bmw x5       good        6.0  gas  145000.0   \n",
              "1  25500      2011.0      ford f-150       good        6.0  gas   88705.0   \n",
              "2   5500      2013.0  hyundai sonata   like new        4.0  gas  110000.0   \n",
              "3   1500      2003.0      ford f-150       fair        8.0  gas       NaN   \n",
              "4  14900      2017.0    chrysler 200  excellent        4.0  gas   80903.0   \n",
              "5  14990      2014.0    chrysler 300  excellent        6.0  gas   57954.0   \n",
              "6  12990      2015.0    toyota camry  excellent        4.0  gas   79212.0   \n",
              "7  15990      2013.0     honda pilot  excellent        6.0  gas  109473.0   \n",
              "8  11500      2012.0     kia sorento  excellent        4.0  gas  104174.0   \n",
              "9   9200      2008.0     honda pilot  excellent        6.0  gas  147191.0   \n",
              "\n",
              "  transmission    type paint_color  is_4wd date_posted  days_listed  \n",
              "0    automatic     SUV     unknown     1.0  2018-06-23           19  \n",
              "1    automatic  pickup       white     1.0  2018-10-19           50  \n",
              "2    automatic   sedan         red     0.0  2019-02-07           79  \n",
              "3    automatic  pickup     unknown     0.0  2019-03-22            9  \n",
              "4    automatic   sedan       black     0.0  2019-04-02           28  \n",
              "5    automatic   sedan       black     1.0  2018-06-20           15  \n",
              "6    automatic   sedan       white     0.0  2018-12-27           73  \n",
              "7    automatic     SUV       black     1.0  2019-01-07           68  \n",
              "8    automatic     SUV     unknown     1.0  2018-07-16           19  \n",
              "9    automatic     SUV        blue     1.0  2019-02-15           17  "
            ]
          },
          "execution_count": 43,
          "metadata": {},
          "output_type": "execute_result"
        }
      ],
      "source": [
        "data.head(10)"
      ]
    },
    {
      "cell_type": "code",
      "execution_count": null,
      "metadata": {
        "scrolled": true,
        "id": "PTZYDzB6ztNK",
        "outputId": "b5dc1096-663f-4be9-bedf-7969d19389cf"
      },
      "outputs": [
        {
          "name": "stdout",
          "output_type": "stream",
          "text": [
            "<class 'pandas.core.frame.DataFrame'>\n",
            "Int64Index: 51136 entries, 0 to 51524\n",
            "Data columns (total 13 columns):\n",
            " #   Column        Non-Null Count  Dtype  \n",
            "---  ------        --------------  -----  \n",
            " 0   price         51136 non-null  int64  \n",
            " 1   model_year    51136 non-null  float64\n",
            " 2   model         51136 non-null  object \n",
            " 3   condition     51136 non-null  object \n",
            " 4   cylinders     51136 non-null  float64\n",
            " 5   fuel          51136 non-null  object \n",
            " 6   odometer      43310 non-null  float64\n",
            " 7   transmission  51136 non-null  object \n",
            " 8   type          51136 non-null  object \n",
            " 9   paint_color   51136 non-null  object \n",
            " 10  is_4wd        51136 non-null  float64\n",
            " 11  date_posted   51136 non-null  object \n",
            " 12  days_listed   51136 non-null  int64  \n",
            "dtypes: float64(4), int64(2), object(7)\n",
            "memory usage: 5.5+ MB\n"
          ]
        }
      ],
      "source": [
        "data.info()"
      ]
    },
    {
      "cell_type": "code",
      "execution_count": null,
      "metadata": {
        "id": "iHjLCUmuztNL",
        "outputId": "6a6cd23d-0494-4b7b-bed9-477bbd113787"
      },
      "outputs": [
        {
          "data": {
            "text/plain": [
              "15.304286608260325"
            ]
          },
          "execution_count": 45,
          "metadata": {},
          "output_type": "execute_result"
        }
      ],
      "source": [
        "len(data[data['odometer'].isnull()])/len(data['odometer'])*100"
      ]
    },
    {
      "cell_type": "code",
      "execution_count": null,
      "metadata": {
        "id": "OQb0ICTbztNL"
      },
      "outputs": [],
      "source": [
        "def median_mileage(row):\n",
        "    \n",
        "    age = row['model_year']\n",
        "    model = row['model']\n",
        "    condition = row['condition']\n",
        "    kind = row['type']\n",
        "    try:\n",
        "        median_value = data[(data['model_year'] == age) & (data['model'] == model) & (data['condition'] == condition) & (data['type'] == kind) & ~(data['odometer'].isna())]['odometer'].median()\n",
        "        return median_value\n",
        "    except:\n",
        "        return\n",
        "        "
      ]
    },
    {
      "cell_type": "code",
      "execution_count": null,
      "metadata": {
        "id": "8YWIEU1yztNM"
      },
      "outputs": [],
      "source": [
        "data.loc[data['odometer'].isna(), 'odometer'] = data[data['odometer'].isna()].apply(median_mileage, axis = 1)\n"
      ]
    },
    {
      "cell_type": "code",
      "execution_count": null,
      "metadata": {
        "scrolled": false,
        "id": "aXSVmpWmztNN",
        "outputId": "08f7d490-a5a5-453a-d41e-88024b6c7183"
      },
      "outputs": [
        {
          "data": {
            "text/html": [
              "<div>\n",
              "<style scoped>\n",
              "    .dataframe tbody tr th:only-of-type {\n",
              "        vertical-align: middle;\n",
              "    }\n",
              "\n",
              "    .dataframe tbody tr th {\n",
              "        vertical-align: top;\n",
              "    }\n",
              "\n",
              "    .dataframe thead th {\n",
              "        text-align: right;\n",
              "    }\n",
              "</style>\n",
              "<table border=\"1\" class=\"dataframe\">\n",
              "  <thead>\n",
              "    <tr style=\"text-align: right;\">\n",
              "      <th></th>\n",
              "      <th>price</th>\n",
              "      <th>model_year</th>\n",
              "      <th>model</th>\n",
              "      <th>condition</th>\n",
              "      <th>cylinders</th>\n",
              "      <th>fuel</th>\n",
              "      <th>odometer</th>\n",
              "      <th>transmission</th>\n",
              "      <th>type</th>\n",
              "      <th>paint_color</th>\n",
              "      <th>is_4wd</th>\n",
              "      <th>date_posted</th>\n",
              "      <th>days_listed</th>\n",
              "    </tr>\n",
              "  </thead>\n",
              "  <tbody>\n",
              "    <tr>\n",
              "      <th>24</th>\n",
              "      <td>3950</td>\n",
              "      <td>2009.0</td>\n",
              "      <td>chrysler 200</td>\n",
              "      <td>excellent</td>\n",
              "      <td>4.000000</td>\n",
              "      <td>gas</td>\n",
              "      <td>NaN</td>\n",
              "      <td>automatic</td>\n",
              "      <td>sedan</td>\n",
              "      <td>red</td>\n",
              "      <td>0.0</td>\n",
              "      <td>2018-06-11</td>\n",
              "      <td>40</td>\n",
              "    </tr>\n",
              "    <tr>\n",
              "      <th>42</th>\n",
              "      <td>34900</td>\n",
              "      <td>2013.0</td>\n",
              "      <td>mercedes-benz benze sprinter 2500</td>\n",
              "      <td>excellent</td>\n",
              "      <td>6.000000</td>\n",
              "      <td>diesel</td>\n",
              "      <td>NaN</td>\n",
              "      <td>automatic</td>\n",
              "      <td>van</td>\n",
              "      <td>black</td>\n",
              "      <td>0.0</td>\n",
              "      <td>2019-01-15</td>\n",
              "      <td>16</td>\n",
              "    </tr>\n",
              "    <tr>\n",
              "      <th>119</th>\n",
              "      <td>14800</td>\n",
              "      <td>2016.0</td>\n",
              "      <td>kia sorento</td>\n",
              "      <td>like new</td>\n",
              "      <td>4.352941</td>\n",
              "      <td>gas</td>\n",
              "      <td>NaN</td>\n",
              "      <td>automatic</td>\n",
              "      <td>SUV</td>\n",
              "      <td>brown</td>\n",
              "      <td>0.0</td>\n",
              "      <td>2019-02-27</td>\n",
              "      <td>93</td>\n",
              "    </tr>\n",
              "    <tr>\n",
              "      <th>310</th>\n",
              "      <td>32000</td>\n",
              "      <td>2016.0</td>\n",
              "      <td>gmc yukon</td>\n",
              "      <td>good</td>\n",
              "      <td>8.000000</td>\n",
              "      <td>gas</td>\n",
              "      <td>NaN</td>\n",
              "      <td>automatic</td>\n",
              "      <td>SUV</td>\n",
              "      <td>black</td>\n",
              "      <td>1.0</td>\n",
              "      <td>2019-03-19</td>\n",
              "      <td>37</td>\n",
              "    </tr>\n",
              "    <tr>\n",
              "      <th>462</th>\n",
              "      <td>4290</td>\n",
              "      <td>2005.0</td>\n",
              "      <td>subaru outback</td>\n",
              "      <td>good</td>\n",
              "      <td>4.000000</td>\n",
              "      <td>gas</td>\n",
              "      <td>NaN</td>\n",
              "      <td>automatic</td>\n",
              "      <td>hatchback</td>\n",
              "      <td>silver</td>\n",
              "      <td>1.0</td>\n",
              "      <td>2018-12-18</td>\n",
              "      <td>81</td>\n",
              "    </tr>\n",
              "    <tr>\n",
              "      <th>...</th>\n",
              "      <td>...</td>\n",
              "      <td>...</td>\n",
              "      <td>...</td>\n",
              "      <td>...</td>\n",
              "      <td>...</td>\n",
              "      <td>...</td>\n",
              "      <td>...</td>\n",
              "      <td>...</td>\n",
              "      <td>...</td>\n",
              "      <td>...</td>\n",
              "      <td>...</td>\n",
              "      <td>...</td>\n",
              "      <td>...</td>\n",
              "    </tr>\n",
              "    <tr>\n",
              "      <th>51324</th>\n",
              "      <td>18995</td>\n",
              "      <td>2018.0</td>\n",
              "      <td>dodge grand caravan</td>\n",
              "      <td>new</td>\n",
              "      <td>6.000000</td>\n",
              "      <td>gas</td>\n",
              "      <td>NaN</td>\n",
              "      <td>automatic</td>\n",
              "      <td>mini-van</td>\n",
              "      <td>grey</td>\n",
              "      <td>0.0</td>\n",
              "      <td>2018-06-20</td>\n",
              "      <td>60</td>\n",
              "    </tr>\n",
              "    <tr>\n",
              "      <th>51347</th>\n",
              "      <td>5999</td>\n",
              "      <td>2008.0</td>\n",
              "      <td>nissan rogue</td>\n",
              "      <td>excellent</td>\n",
              "      <td>4.000000</td>\n",
              "      <td>gas</td>\n",
              "      <td>NaN</td>\n",
              "      <td>automatic</td>\n",
              "      <td>wagon</td>\n",
              "      <td>custom</td>\n",
              "      <td>1.0</td>\n",
              "      <td>2018-12-27</td>\n",
              "      <td>39</td>\n",
              "    </tr>\n",
              "    <tr>\n",
              "      <th>51406</th>\n",
              "      <td>7495</td>\n",
              "      <td>2010.0</td>\n",
              "      <td>chevrolet equinox</td>\n",
              "      <td>good</td>\n",
              "      <td>4.545455</td>\n",
              "      <td>gas</td>\n",
              "      <td>NaN</td>\n",
              "      <td>automatic</td>\n",
              "      <td>wagon</td>\n",
              "      <td>black</td>\n",
              "      <td>0.0</td>\n",
              "      <td>2019-04-19</td>\n",
              "      <td>34</td>\n",
              "    </tr>\n",
              "    <tr>\n",
              "      <th>51472</th>\n",
              "      <td>3900</td>\n",
              "      <td>2003.0</td>\n",
              "      <td>chrysler town &amp; country</td>\n",
              "      <td>excellent</td>\n",
              "      <td>6.000000</td>\n",
              "      <td>gas</td>\n",
              "      <td>NaN</td>\n",
              "      <td>automatic</td>\n",
              "      <td>van</td>\n",
              "      <td>silver</td>\n",
              "      <td>0.0</td>\n",
              "      <td>2019-01-16</td>\n",
              "      <td>64</td>\n",
              "    </tr>\n",
              "    <tr>\n",
              "      <th>51486</th>\n",
              "      <td>5895</td>\n",
              "      <td>2009.0</td>\n",
              "      <td>hyundai santa fe</td>\n",
              "      <td>excellent</td>\n",
              "      <td>6.000000</td>\n",
              "      <td>gas</td>\n",
              "      <td>NaN</td>\n",
              "      <td>automatic</td>\n",
              "      <td>other</td>\n",
              "      <td>blue</td>\n",
              "      <td>0.0</td>\n",
              "      <td>2018-06-30</td>\n",
              "      <td>44</td>\n",
              "    </tr>\n",
              "  </tbody>\n",
              "</table>\n",
              "<p>597 rows × 13 columns</p>\n",
              "</div>"
            ],
            "text/plain": [
              "       price  model_year                              model  condition  \\\n",
              "24      3950      2009.0                       chrysler 200  excellent   \n",
              "42     34900      2013.0  mercedes-benz benze sprinter 2500  excellent   \n",
              "119    14800      2016.0                        kia sorento   like new   \n",
              "310    32000      2016.0                          gmc yukon       good   \n",
              "462     4290      2005.0                     subaru outback       good   \n",
              "...      ...         ...                                ...        ...   \n",
              "51324  18995      2018.0                dodge grand caravan        new   \n",
              "51347   5999      2008.0                       nissan rogue  excellent   \n",
              "51406   7495      2010.0                  chevrolet equinox       good   \n",
              "51472   3900      2003.0            chrysler town & country  excellent   \n",
              "51486   5895      2009.0                   hyundai santa fe  excellent   \n",
              "\n",
              "       cylinders    fuel  odometer transmission       type paint_color  \\\n",
              "24      4.000000     gas       NaN    automatic      sedan         red   \n",
              "42      6.000000  diesel       NaN    automatic        van       black   \n",
              "119     4.352941     gas       NaN    automatic        SUV       brown   \n",
              "310     8.000000     gas       NaN    automatic        SUV       black   \n",
              "462     4.000000     gas       NaN    automatic  hatchback      silver   \n",
              "...          ...     ...       ...          ...        ...         ...   \n",
              "51324   6.000000     gas       NaN    automatic   mini-van        grey   \n",
              "51347   4.000000     gas       NaN    automatic      wagon      custom   \n",
              "51406   4.545455     gas       NaN    automatic      wagon       black   \n",
              "51472   6.000000     gas       NaN    automatic        van      silver   \n",
              "51486   6.000000     gas       NaN    automatic      other        blue   \n",
              "\n",
              "       is_4wd date_posted  days_listed  \n",
              "24        0.0  2018-06-11           40  \n",
              "42        0.0  2019-01-15           16  \n",
              "119       0.0  2019-02-27           93  \n",
              "310       1.0  2019-03-19           37  \n",
              "462       1.0  2018-12-18           81  \n",
              "...       ...         ...          ...  \n",
              "51324     0.0  2018-06-20           60  \n",
              "51347     1.0  2018-12-27           39  \n",
              "51406     0.0  2019-04-19           34  \n",
              "51472     0.0  2019-01-16           64  \n",
              "51486     0.0  2018-06-30           44  \n",
              "\n",
              "[597 rows x 13 columns]"
            ]
          },
          "execution_count": 48,
          "metadata": {},
          "output_type": "execute_result"
        }
      ],
      "source": [
        "data[data['odometer'].isna()]"
      ]
    },
    {
      "cell_type": "code",
      "execution_count": null,
      "metadata": {
        "id": "dSbOK5_nztNN"
      },
      "outputs": [],
      "source": [
        "data = data.dropna(subset = ['odometer'])"
      ]
    },
    {
      "cell_type": "code",
      "execution_count": null,
      "metadata": {
        "id": "XLL9LnlPztNO",
        "outputId": "8bf500d4-6c0e-4c36-ca4e-8d51e5c849a6"
      },
      "outputs": [
        {
          "data": {
            "text/html": [
              "<div>\n",
              "<style scoped>\n",
              "    .dataframe tbody tr th:only-of-type {\n",
              "        vertical-align: middle;\n",
              "    }\n",
              "\n",
              "    .dataframe tbody tr th {\n",
              "        vertical-align: top;\n",
              "    }\n",
              "\n",
              "    .dataframe thead th {\n",
              "        text-align: right;\n",
              "    }\n",
              "</style>\n",
              "<table border=\"1\" class=\"dataframe\">\n",
              "  <thead>\n",
              "    <tr style=\"text-align: right;\">\n",
              "      <th></th>\n",
              "      <th>price</th>\n",
              "      <th>model_year</th>\n",
              "      <th>model</th>\n",
              "      <th>condition</th>\n",
              "      <th>cylinders</th>\n",
              "      <th>fuel</th>\n",
              "      <th>odometer</th>\n",
              "      <th>transmission</th>\n",
              "      <th>type</th>\n",
              "      <th>paint_color</th>\n",
              "      <th>is_4wd</th>\n",
              "      <th>date_posted</th>\n",
              "      <th>days_listed</th>\n",
              "    </tr>\n",
              "  </thead>\n",
              "  <tbody>\n",
              "    <tr>\n",
              "      <th>0</th>\n",
              "      <td>9400</td>\n",
              "      <td>2011.0</td>\n",
              "      <td>bmw x5</td>\n",
              "      <td>good</td>\n",
              "      <td>6.0</td>\n",
              "      <td>gas</td>\n",
              "      <td>145000.0</td>\n",
              "      <td>automatic</td>\n",
              "      <td>SUV</td>\n",
              "      <td>unknown</td>\n",
              "      <td>1.0</td>\n",
              "      <td>2018-06-23</td>\n",
              "      <td>19</td>\n",
              "    </tr>\n",
              "    <tr>\n",
              "      <th>1</th>\n",
              "      <td>25500</td>\n",
              "      <td>2011.0</td>\n",
              "      <td>ford f-150</td>\n",
              "      <td>good</td>\n",
              "      <td>6.0</td>\n",
              "      <td>gas</td>\n",
              "      <td>88705.0</td>\n",
              "      <td>automatic</td>\n",
              "      <td>pickup</td>\n",
              "      <td>white</td>\n",
              "      <td>1.0</td>\n",
              "      <td>2018-10-19</td>\n",
              "      <td>50</td>\n",
              "    </tr>\n",
              "    <tr>\n",
              "      <th>2</th>\n",
              "      <td>5500</td>\n",
              "      <td>2013.0</td>\n",
              "      <td>hyundai sonata</td>\n",
              "      <td>like new</td>\n",
              "      <td>4.0</td>\n",
              "      <td>gas</td>\n",
              "      <td>110000.0</td>\n",
              "      <td>automatic</td>\n",
              "      <td>sedan</td>\n",
              "      <td>red</td>\n",
              "      <td>0.0</td>\n",
              "      <td>2019-02-07</td>\n",
              "      <td>79</td>\n",
              "    </tr>\n",
              "    <tr>\n",
              "      <th>3</th>\n",
              "      <td>1500</td>\n",
              "      <td>2003.0</td>\n",
              "      <td>ford f-150</td>\n",
              "      <td>fair</td>\n",
              "      <td>8.0</td>\n",
              "      <td>gas</td>\n",
              "      <td>233000.0</td>\n",
              "      <td>automatic</td>\n",
              "      <td>pickup</td>\n",
              "      <td>unknown</td>\n",
              "      <td>0.0</td>\n",
              "      <td>2019-03-22</td>\n",
              "      <td>9</td>\n",
              "    </tr>\n",
              "    <tr>\n",
              "      <th>4</th>\n",
              "      <td>14900</td>\n",
              "      <td>2017.0</td>\n",
              "      <td>chrysler 200</td>\n",
              "      <td>excellent</td>\n",
              "      <td>4.0</td>\n",
              "      <td>gas</td>\n",
              "      <td>80903.0</td>\n",
              "      <td>automatic</td>\n",
              "      <td>sedan</td>\n",
              "      <td>black</td>\n",
              "      <td>0.0</td>\n",
              "      <td>2019-04-02</td>\n",
              "      <td>28</td>\n",
              "    </tr>\n",
              "  </tbody>\n",
              "</table>\n",
              "</div>"
            ],
            "text/plain": [
              "   price  model_year           model  condition  cylinders fuel  odometer  \\\n",
              "0   9400      2011.0          bmw x5       good        6.0  gas  145000.0   \n",
              "1  25500      2011.0      ford f-150       good        6.0  gas   88705.0   \n",
              "2   5500      2013.0  hyundai sonata   like new        4.0  gas  110000.0   \n",
              "3   1500      2003.0      ford f-150       fair        8.0  gas  233000.0   \n",
              "4  14900      2017.0    chrysler 200  excellent        4.0  gas   80903.0   \n",
              "\n",
              "  transmission    type paint_color  is_4wd date_posted  days_listed  \n",
              "0    automatic     SUV     unknown     1.0  2018-06-23           19  \n",
              "1    automatic  pickup       white     1.0  2018-10-19           50  \n",
              "2    automatic   sedan         red     0.0  2019-02-07           79  \n",
              "3    automatic  pickup     unknown     0.0  2019-03-22            9  \n",
              "4    automatic   sedan       black     0.0  2019-04-02           28  "
            ]
          },
          "execution_count": 50,
          "metadata": {},
          "output_type": "execute_result"
        }
      ],
      "source": [
        "data.head()"
      ]
    },
    {
      "cell_type": "code",
      "execution_count": null,
      "metadata": {
        "scrolled": false,
        "id": "c00Ue7SRztNO",
        "outputId": "00b121dc-0ff4-43ac-f8b3-9b0105dbdfda"
      },
      "outputs": [
        {
          "name": "stdout",
          "output_type": "stream",
          "text": [
            "<class 'pandas.core.frame.DataFrame'>\n",
            "Int64Index: 50539 entries, 0 to 51524\n",
            "Data columns (total 13 columns):\n",
            " #   Column        Non-Null Count  Dtype  \n",
            "---  ------        --------------  -----  \n",
            " 0   price         50539 non-null  int64  \n",
            " 1   model_year    50539 non-null  float64\n",
            " 2   model         50539 non-null  object \n",
            " 3   condition     50539 non-null  object \n",
            " 4   cylinders     50539 non-null  float64\n",
            " 5   fuel          50539 non-null  object \n",
            " 6   odometer      50539 non-null  float64\n",
            " 7   transmission  50539 non-null  object \n",
            " 8   type          50539 non-null  object \n",
            " 9   paint_color   50539 non-null  object \n",
            " 10  is_4wd        50539 non-null  float64\n",
            " 11  date_posted   50539 non-null  object \n",
            " 12  days_listed   50539 non-null  int64  \n",
            "dtypes: float64(4), int64(2), object(7)\n",
            "memory usage: 5.4+ MB\n"
          ]
        }
      ],
      "source": [
        "data.info()"
      ]
    },
    {
      "cell_type": "markdown",
      "metadata": {
        "id": "flyCujgEztNP"
      },
      "source": [
        "I have no dealt with the various null values in the dataframe in the following ways:\n",
        "\n",
        "- `paint_color`: filled the null values with 'unknown' as there is no way to fill those values with the available data\n",
        "- `odometer`: used a function to fill the null values with the median mileage found based off the `model`, `model_year`, `condition` and `type` columns. I dropped the remaining 307 rows the function couldn't fill.\n",
        "- `cylinders`: used a function to fill the null values based average cylinders from `model` and `model_year` columns. I dropped the remaining 386 rows the function couldn't fill. \n",
        "- `model_year`: used a function to fill the null values with the average age based `model` column. "
      ]
    },
    {
      "cell_type": "markdown",
      "metadata": {
        "id": "m0Ur3HdpztNR"
      },
      "source": [
        "## Fix data types"
      ]
    },
    {
      "cell_type": "code",
      "execution_count": null,
      "metadata": {
        "id": "rP8zIHl4ztNR"
      },
      "outputs": [],
      "source": [
        "data['date_posted'] = pd.to_datetime(data['date_posted'], format='%Y-%m-%d')"
      ]
    },
    {
      "cell_type": "markdown",
      "metadata": {
        "id": "CT-pXj0IztNS"
      },
      "source": [
        "`date_posted` was the only column with an incorrect data type and this is easily fixed with `pd.to_datetime`"
      ]
    },
    {
      "cell_type": "code",
      "execution_count": null,
      "metadata": {
        "id": "VH_aInUcztNS"
      },
      "outputs": [],
      "source": [
        "data['cylinders'] = data['cylinders'].astype(int)"
      ]
    },
    {
      "cell_type": "code",
      "execution_count": null,
      "metadata": {
        "id": "ei3IdSfjztNT"
      },
      "outputs": [],
      "source": [
        "data['model_year'] = data['model_year'].astype(int)"
      ]
    },
    {
      "cell_type": "code",
      "execution_count": null,
      "metadata": {
        "id": "mipVoIkbztNT"
      },
      "outputs": [],
      "source": [
        "data['is_4wd'] = data['is_4wd'].astype(int)"
      ]
    },
    {
      "cell_type": "code",
      "execution_count": null,
      "metadata": {
        "id": "lpAvzECbztNU",
        "outputId": "5bec067b-3edd-4974-e712-c13ad71a5b64"
      },
      "outputs": [
        {
          "name": "stdout",
          "output_type": "stream",
          "text": [
            "<class 'pandas.core.frame.DataFrame'>\n",
            "Int64Index: 50539 entries, 0 to 51524\n",
            "Data columns (total 13 columns):\n",
            " #   Column        Non-Null Count  Dtype         \n",
            "---  ------        --------------  -----         \n",
            " 0   price         50539 non-null  int64         \n",
            " 1   model_year    50539 non-null  int64         \n",
            " 2   model         50539 non-null  object        \n",
            " 3   condition     50539 non-null  object        \n",
            " 4   cylinders     50539 non-null  int64         \n",
            " 5   fuel          50539 non-null  object        \n",
            " 6   odometer      50539 non-null  float64       \n",
            " 7   transmission  50539 non-null  object        \n",
            " 8   type          50539 non-null  object        \n",
            " 9   paint_color   50539 non-null  object        \n",
            " 10  is_4wd        50539 non-null  int64         \n",
            " 11  date_posted   50539 non-null  datetime64[ns]\n",
            " 12  days_listed   50539 non-null  int64         \n",
            "dtypes: datetime64[ns](1), float64(1), int64(5), object(6)\n",
            "memory usage: 5.4+ MB\n"
          ]
        }
      ],
      "source": [
        "data.info()"
      ]
    },
    {
      "cell_type": "markdown",
      "metadata": {
        "id": "FW04l0JSztNU"
      },
      "source": [
        "Now that I have filled or removed Null values as applicable and fixed the incorrect data type for `date_posted`, `is_4wd`, `cylinders`, and `model_year` I can move forward into enriching my data and beginning my analysis. "
      ]
    },
    {
      "cell_type": "markdown",
      "metadata": {
        "id": "sOMqoDXFztNW"
      },
      "source": [
        "## Enrich data"
      ]
    },
    {
      "cell_type": "markdown",
      "metadata": {
        "id": "Ddlv2KqUztNW"
      },
      "source": [
        "To make my later analysis easier and cleaner I will add several columns; `month_posted`, `vehicle_age`, and `mileage_per_year`. I will also convert the `condition` column to a numerical scale for ease of analysis. "
      ]
    },
    {
      "cell_type": "code",
      "execution_count": null,
      "metadata": {
        "id": "TFYT-awdztNX"
      },
      "outputs": [],
      "source": [
        "# Add a month_posted column to make analysis easier\n",
        "\n",
        "data['month_posted'] = data['date_posted'].dt.month"
      ]
    },
    {
      "cell_type": "code",
      "execution_count": null,
      "metadata": {
        "id": "HccUigUmztNX"
      },
      "outputs": [],
      "source": [
        "# Add the vehicle's age when the ad was placed\n",
        "year_posted = data['date_posted'].dt.year\n",
        "\n",
        "data['vehicle_age'] = year_posted - data['model_year'] +1"
      ]
    },
    {
      "cell_type": "code",
      "execution_count": null,
      "metadata": {
        "id": "SWjf0G-MztNY"
      },
      "outputs": [],
      "source": [
        "# Add the vehicle's average mileage per year\n",
        "\n",
        "data['mileage_per_year'] = data['odometer']/data['vehicle_age']"
      ]
    },
    {
      "cell_type": "code",
      "execution_count": null,
      "metadata": {
        "id": "qmSRmsfuztNZ"
      },
      "outputs": [],
      "source": [
        "# It might help to replace the condition values with something that can be manipulated more easily\n",
        "\n",
        "def condition_scale(condition):\n",
        "    if condition == 'salvage':\n",
        "        return 0\n",
        "    if condition == 'fair':\n",
        "        return 1\n",
        "    if condition == 'good':\n",
        "        return 2\n",
        "    if condition == 'excellent':\n",
        "        return 3\n",
        "    if condition == 'like new':\n",
        "        return 4\n",
        "    if condition == 'new':\n",
        "        return 5\n"
      ]
    },
    {
      "cell_type": "code",
      "execution_count": null,
      "metadata": {
        "id": "e-n2OraqztNa"
      },
      "outputs": [],
      "source": [
        "data['condition_rating'] = data['condition'].apply(condition_scale)"
      ]
    },
    {
      "cell_type": "code",
      "execution_count": null,
      "metadata": {
        "scrolled": false,
        "id": "rz7ncLkCztNa",
        "outputId": "3a73ed22-f2e3-4d7a-87d9-f1b9dc852e16"
      },
      "outputs": [
        {
          "data": {
            "text/html": [
              "<div>\n",
              "<style scoped>\n",
              "    .dataframe tbody tr th:only-of-type {\n",
              "        vertical-align: middle;\n",
              "    }\n",
              "\n",
              "    .dataframe tbody tr th {\n",
              "        vertical-align: top;\n",
              "    }\n",
              "\n",
              "    .dataframe thead th {\n",
              "        text-align: right;\n",
              "    }\n",
              "</style>\n",
              "<table border=\"1\" class=\"dataframe\">\n",
              "  <thead>\n",
              "    <tr style=\"text-align: right;\">\n",
              "      <th></th>\n",
              "      <th>price</th>\n",
              "      <th>model_year</th>\n",
              "      <th>model</th>\n",
              "      <th>condition</th>\n",
              "      <th>cylinders</th>\n",
              "      <th>fuel</th>\n",
              "      <th>odometer</th>\n",
              "      <th>transmission</th>\n",
              "      <th>type</th>\n",
              "      <th>paint_color</th>\n",
              "      <th>is_4wd</th>\n",
              "      <th>date_posted</th>\n",
              "      <th>days_listed</th>\n",
              "      <th>month_posted</th>\n",
              "      <th>vehicle_age</th>\n",
              "      <th>mileage_per_year</th>\n",
              "      <th>condition_rating</th>\n",
              "    </tr>\n",
              "  </thead>\n",
              "  <tbody>\n",
              "    <tr>\n",
              "      <th>0</th>\n",
              "      <td>9400</td>\n",
              "      <td>2011</td>\n",
              "      <td>bmw x5</td>\n",
              "      <td>good</td>\n",
              "      <td>6</td>\n",
              "      <td>gas</td>\n",
              "      <td>145000.0</td>\n",
              "      <td>automatic</td>\n",
              "      <td>SUV</td>\n",
              "      <td>unknown</td>\n",
              "      <td>1</td>\n",
              "      <td>2018-06-23</td>\n",
              "      <td>19</td>\n",
              "      <td>6</td>\n",
              "      <td>8</td>\n",
              "      <td>18125.000000</td>\n",
              "      <td>2</td>\n",
              "    </tr>\n",
              "    <tr>\n",
              "      <th>1</th>\n",
              "      <td>25500</td>\n",
              "      <td>2011</td>\n",
              "      <td>ford f-150</td>\n",
              "      <td>good</td>\n",
              "      <td>6</td>\n",
              "      <td>gas</td>\n",
              "      <td>88705.0</td>\n",
              "      <td>automatic</td>\n",
              "      <td>pickup</td>\n",
              "      <td>white</td>\n",
              "      <td>1</td>\n",
              "      <td>2018-10-19</td>\n",
              "      <td>50</td>\n",
              "      <td>10</td>\n",
              "      <td>8</td>\n",
              "      <td>11088.125000</td>\n",
              "      <td>2</td>\n",
              "    </tr>\n",
              "    <tr>\n",
              "      <th>2</th>\n",
              "      <td>5500</td>\n",
              "      <td>2013</td>\n",
              "      <td>hyundai sonata</td>\n",
              "      <td>like new</td>\n",
              "      <td>4</td>\n",
              "      <td>gas</td>\n",
              "      <td>110000.0</td>\n",
              "      <td>automatic</td>\n",
              "      <td>sedan</td>\n",
              "      <td>red</td>\n",
              "      <td>0</td>\n",
              "      <td>2019-02-07</td>\n",
              "      <td>79</td>\n",
              "      <td>2</td>\n",
              "      <td>7</td>\n",
              "      <td>15714.285714</td>\n",
              "      <td>4</td>\n",
              "    </tr>\n",
              "    <tr>\n",
              "      <th>3</th>\n",
              "      <td>1500</td>\n",
              "      <td>2003</td>\n",
              "      <td>ford f-150</td>\n",
              "      <td>fair</td>\n",
              "      <td>8</td>\n",
              "      <td>gas</td>\n",
              "      <td>233000.0</td>\n",
              "      <td>automatic</td>\n",
              "      <td>pickup</td>\n",
              "      <td>unknown</td>\n",
              "      <td>0</td>\n",
              "      <td>2019-03-22</td>\n",
              "      <td>9</td>\n",
              "      <td>3</td>\n",
              "      <td>17</td>\n",
              "      <td>13705.882353</td>\n",
              "      <td>1</td>\n",
              "    </tr>\n",
              "    <tr>\n",
              "      <th>4</th>\n",
              "      <td>14900</td>\n",
              "      <td>2017</td>\n",
              "      <td>chrysler 200</td>\n",
              "      <td>excellent</td>\n",
              "      <td>4</td>\n",
              "      <td>gas</td>\n",
              "      <td>80903.0</td>\n",
              "      <td>automatic</td>\n",
              "      <td>sedan</td>\n",
              "      <td>black</td>\n",
              "      <td>0</td>\n",
              "      <td>2019-04-02</td>\n",
              "      <td>28</td>\n",
              "      <td>4</td>\n",
              "      <td>3</td>\n",
              "      <td>26967.666667</td>\n",
              "      <td>3</td>\n",
              "    </tr>\n",
              "  </tbody>\n",
              "</table>\n",
              "</div>"
            ],
            "text/plain": [
              "   price  model_year           model  condition  cylinders fuel  odometer  \\\n",
              "0   9400        2011          bmw x5       good          6  gas  145000.0   \n",
              "1  25500        2011      ford f-150       good          6  gas   88705.0   \n",
              "2   5500        2013  hyundai sonata   like new          4  gas  110000.0   \n",
              "3   1500        2003      ford f-150       fair          8  gas  233000.0   \n",
              "4  14900        2017    chrysler 200  excellent          4  gas   80903.0   \n",
              "\n",
              "  transmission    type paint_color  is_4wd date_posted  days_listed  \\\n",
              "0    automatic     SUV     unknown       1  2018-06-23           19   \n",
              "1    automatic  pickup       white       1  2018-10-19           50   \n",
              "2    automatic   sedan         red       0  2019-02-07           79   \n",
              "3    automatic  pickup     unknown       0  2019-03-22            9   \n",
              "4    automatic   sedan       black       0  2019-04-02           28   \n",
              "\n",
              "   month_posted  vehicle_age  mileage_per_year  condition_rating  \n",
              "0             6            8      18125.000000                 2  \n",
              "1            10            8      11088.125000                 2  \n",
              "2             2            7      15714.285714                 4  \n",
              "3             3           17      13705.882353                 1  \n",
              "4             4            3      26967.666667                 3  "
            ]
          },
          "execution_count": 62,
          "metadata": {},
          "output_type": "execute_result"
        }
      ],
      "source": [
        "data.head()"
      ]
    },
    {
      "cell_type": "markdown",
      "metadata": {
        "id": "uJcnd8VFztNb"
      },
      "source": [
        "## Check clean data"
      ]
    },
    {
      "cell_type": "markdown",
      "metadata": {
        "id": "2pngdFaJztNc"
      },
      "source": [
        "Now that I have finished all the data preprocessing I am ready to get in to the meat of my analysis. There are no more Null values and the new columns I need to streamline my analysis have been added."
      ]
    },
    {
      "cell_type": "code",
      "execution_count": null,
      "metadata": {
        "id": "Pjkj6KSvztNc",
        "outputId": "98d5afbb-03bf-4d68-f8c1-2f7d393a4ab0"
      },
      "outputs": [
        {
          "name": "stdout",
          "output_type": "stream",
          "text": [
            "<class 'pandas.core.frame.DataFrame'>\n",
            "Int64Index: 50539 entries, 0 to 51524\n",
            "Data columns (total 17 columns):\n",
            " #   Column            Non-Null Count  Dtype         \n",
            "---  ------            --------------  -----         \n",
            " 0   price             50539 non-null  int64         \n",
            " 1   model_year        50539 non-null  int64         \n",
            " 2   model             50539 non-null  object        \n",
            " 3   condition         50539 non-null  object        \n",
            " 4   cylinders         50539 non-null  int64         \n",
            " 5   fuel              50539 non-null  object        \n",
            " 6   odometer          50539 non-null  float64       \n",
            " 7   transmission      50539 non-null  object        \n",
            " 8   type              50539 non-null  object        \n",
            " 9   paint_color       50539 non-null  object        \n",
            " 10  is_4wd            50539 non-null  int64         \n",
            " 11  date_posted       50539 non-null  datetime64[ns]\n",
            " 12  days_listed       50539 non-null  int64         \n",
            " 13  month_posted      50539 non-null  int64         \n",
            " 14  vehicle_age       50539 non-null  int64         \n",
            " 15  mileage_per_year  50539 non-null  float64       \n",
            " 16  condition_rating  50539 non-null  int64         \n",
            "dtypes: datetime64[ns](1), float64(2), int64(8), object(6)\n",
            "memory usage: 6.9+ MB\n"
          ]
        }
      ],
      "source": [
        "# print the general/summary information about the DataFrame\n",
        "data.info()\n"
      ]
    },
    {
      "cell_type": "code",
      "execution_count": null,
      "metadata": {
        "id": "h4Dmt_yoztNd",
        "outputId": "3479014e-6798-4e6b-b7c7-4208012ede53"
      },
      "outputs": [
        {
          "data": {
            "text/html": [
              "<div>\n",
              "<style scoped>\n",
              "    .dataframe tbody tr th:only-of-type {\n",
              "        vertical-align: middle;\n",
              "    }\n",
              "\n",
              "    .dataframe tbody tr th {\n",
              "        vertical-align: top;\n",
              "    }\n",
              "\n",
              "    .dataframe thead th {\n",
              "        text-align: right;\n",
              "    }\n",
              "</style>\n",
              "<table border=\"1\" class=\"dataframe\">\n",
              "  <thead>\n",
              "    <tr style=\"text-align: right;\">\n",
              "      <th></th>\n",
              "      <th>price</th>\n",
              "      <th>model_year</th>\n",
              "      <th>model</th>\n",
              "      <th>condition</th>\n",
              "      <th>cylinders</th>\n",
              "      <th>fuel</th>\n",
              "      <th>odometer</th>\n",
              "      <th>transmission</th>\n",
              "      <th>type</th>\n",
              "      <th>paint_color</th>\n",
              "      <th>is_4wd</th>\n",
              "      <th>date_posted</th>\n",
              "      <th>days_listed</th>\n",
              "      <th>month_posted</th>\n",
              "      <th>vehicle_age</th>\n",
              "      <th>mileage_per_year</th>\n",
              "      <th>condition_rating</th>\n",
              "    </tr>\n",
              "  </thead>\n",
              "  <tbody>\n",
              "    <tr>\n",
              "      <th>0</th>\n",
              "      <td>9400</td>\n",
              "      <td>2011</td>\n",
              "      <td>bmw x5</td>\n",
              "      <td>good</td>\n",
              "      <td>6</td>\n",
              "      <td>gas</td>\n",
              "      <td>145000.0</td>\n",
              "      <td>automatic</td>\n",
              "      <td>SUV</td>\n",
              "      <td>unknown</td>\n",
              "      <td>1</td>\n",
              "      <td>2018-06-23</td>\n",
              "      <td>19</td>\n",
              "      <td>6</td>\n",
              "      <td>8</td>\n",
              "      <td>18125.000000</td>\n",
              "      <td>2</td>\n",
              "    </tr>\n",
              "    <tr>\n",
              "      <th>1</th>\n",
              "      <td>25500</td>\n",
              "      <td>2011</td>\n",
              "      <td>ford f-150</td>\n",
              "      <td>good</td>\n",
              "      <td>6</td>\n",
              "      <td>gas</td>\n",
              "      <td>88705.0</td>\n",
              "      <td>automatic</td>\n",
              "      <td>pickup</td>\n",
              "      <td>white</td>\n",
              "      <td>1</td>\n",
              "      <td>2018-10-19</td>\n",
              "      <td>50</td>\n",
              "      <td>10</td>\n",
              "      <td>8</td>\n",
              "      <td>11088.125000</td>\n",
              "      <td>2</td>\n",
              "    </tr>\n",
              "    <tr>\n",
              "      <th>2</th>\n",
              "      <td>5500</td>\n",
              "      <td>2013</td>\n",
              "      <td>hyundai sonata</td>\n",
              "      <td>like new</td>\n",
              "      <td>4</td>\n",
              "      <td>gas</td>\n",
              "      <td>110000.0</td>\n",
              "      <td>automatic</td>\n",
              "      <td>sedan</td>\n",
              "      <td>red</td>\n",
              "      <td>0</td>\n",
              "      <td>2019-02-07</td>\n",
              "      <td>79</td>\n",
              "      <td>2</td>\n",
              "      <td>7</td>\n",
              "      <td>15714.285714</td>\n",
              "      <td>4</td>\n",
              "    </tr>\n",
              "    <tr>\n",
              "      <th>3</th>\n",
              "      <td>1500</td>\n",
              "      <td>2003</td>\n",
              "      <td>ford f-150</td>\n",
              "      <td>fair</td>\n",
              "      <td>8</td>\n",
              "      <td>gas</td>\n",
              "      <td>233000.0</td>\n",
              "      <td>automatic</td>\n",
              "      <td>pickup</td>\n",
              "      <td>unknown</td>\n",
              "      <td>0</td>\n",
              "      <td>2019-03-22</td>\n",
              "      <td>9</td>\n",
              "      <td>3</td>\n",
              "      <td>17</td>\n",
              "      <td>13705.882353</td>\n",
              "      <td>1</td>\n",
              "    </tr>\n",
              "    <tr>\n",
              "      <th>4</th>\n",
              "      <td>14900</td>\n",
              "      <td>2017</td>\n",
              "      <td>chrysler 200</td>\n",
              "      <td>excellent</td>\n",
              "      <td>4</td>\n",
              "      <td>gas</td>\n",
              "      <td>80903.0</td>\n",
              "      <td>automatic</td>\n",
              "      <td>sedan</td>\n",
              "      <td>black</td>\n",
              "      <td>0</td>\n",
              "      <td>2019-04-02</td>\n",
              "      <td>28</td>\n",
              "      <td>4</td>\n",
              "      <td>3</td>\n",
              "      <td>26967.666667</td>\n",
              "      <td>3</td>\n",
              "    </tr>\n",
              "    <tr>\n",
              "      <th>5</th>\n",
              "      <td>14990</td>\n",
              "      <td>2014</td>\n",
              "      <td>chrysler 300</td>\n",
              "      <td>excellent</td>\n",
              "      <td>6</td>\n",
              "      <td>gas</td>\n",
              "      <td>57954.0</td>\n",
              "      <td>automatic</td>\n",
              "      <td>sedan</td>\n",
              "      <td>black</td>\n",
              "      <td>1</td>\n",
              "      <td>2018-06-20</td>\n",
              "      <td>15</td>\n",
              "      <td>6</td>\n",
              "      <td>5</td>\n",
              "      <td>11590.800000</td>\n",
              "      <td>3</td>\n",
              "    </tr>\n",
              "    <tr>\n",
              "      <th>6</th>\n",
              "      <td>12990</td>\n",
              "      <td>2015</td>\n",
              "      <td>toyota camry</td>\n",
              "      <td>excellent</td>\n",
              "      <td>4</td>\n",
              "      <td>gas</td>\n",
              "      <td>79212.0</td>\n",
              "      <td>automatic</td>\n",
              "      <td>sedan</td>\n",
              "      <td>white</td>\n",
              "      <td>0</td>\n",
              "      <td>2018-12-27</td>\n",
              "      <td>73</td>\n",
              "      <td>12</td>\n",
              "      <td>4</td>\n",
              "      <td>19803.000000</td>\n",
              "      <td>3</td>\n",
              "    </tr>\n",
              "    <tr>\n",
              "      <th>7</th>\n",
              "      <td>15990</td>\n",
              "      <td>2013</td>\n",
              "      <td>honda pilot</td>\n",
              "      <td>excellent</td>\n",
              "      <td>6</td>\n",
              "      <td>gas</td>\n",
              "      <td>109473.0</td>\n",
              "      <td>automatic</td>\n",
              "      <td>SUV</td>\n",
              "      <td>black</td>\n",
              "      <td>1</td>\n",
              "      <td>2019-01-07</td>\n",
              "      <td>68</td>\n",
              "      <td>1</td>\n",
              "      <td>7</td>\n",
              "      <td>15639.000000</td>\n",
              "      <td>3</td>\n",
              "    </tr>\n",
              "    <tr>\n",
              "      <th>8</th>\n",
              "      <td>11500</td>\n",
              "      <td>2012</td>\n",
              "      <td>kia sorento</td>\n",
              "      <td>excellent</td>\n",
              "      <td>4</td>\n",
              "      <td>gas</td>\n",
              "      <td>104174.0</td>\n",
              "      <td>automatic</td>\n",
              "      <td>SUV</td>\n",
              "      <td>unknown</td>\n",
              "      <td>1</td>\n",
              "      <td>2018-07-16</td>\n",
              "      <td>19</td>\n",
              "      <td>7</td>\n",
              "      <td>7</td>\n",
              "      <td>14882.000000</td>\n",
              "      <td>3</td>\n",
              "    </tr>\n",
              "    <tr>\n",
              "      <th>9</th>\n",
              "      <td>9200</td>\n",
              "      <td>2008</td>\n",
              "      <td>honda pilot</td>\n",
              "      <td>excellent</td>\n",
              "      <td>6</td>\n",
              "      <td>gas</td>\n",
              "      <td>147191.0</td>\n",
              "      <td>automatic</td>\n",
              "      <td>SUV</td>\n",
              "      <td>blue</td>\n",
              "      <td>1</td>\n",
              "      <td>2019-02-15</td>\n",
              "      <td>17</td>\n",
              "      <td>2</td>\n",
              "      <td>12</td>\n",
              "      <td>12265.916667</td>\n",
              "      <td>3</td>\n",
              "    </tr>\n",
              "  </tbody>\n",
              "</table>\n",
              "</div>"
            ],
            "text/plain": [
              "   price  model_year           model  condition  cylinders fuel  odometer  \\\n",
              "0   9400        2011          bmw x5       good          6  gas  145000.0   \n",
              "1  25500        2011      ford f-150       good          6  gas   88705.0   \n",
              "2   5500        2013  hyundai sonata   like new          4  gas  110000.0   \n",
              "3   1500        2003      ford f-150       fair          8  gas  233000.0   \n",
              "4  14900        2017    chrysler 200  excellent          4  gas   80903.0   \n",
              "5  14990        2014    chrysler 300  excellent          6  gas   57954.0   \n",
              "6  12990        2015    toyota camry  excellent          4  gas   79212.0   \n",
              "7  15990        2013     honda pilot  excellent          6  gas  109473.0   \n",
              "8  11500        2012     kia sorento  excellent          4  gas  104174.0   \n",
              "9   9200        2008     honda pilot  excellent          6  gas  147191.0   \n",
              "\n",
              "  transmission    type paint_color  is_4wd date_posted  days_listed  \\\n",
              "0    automatic     SUV     unknown       1  2018-06-23           19   \n",
              "1    automatic  pickup       white       1  2018-10-19           50   \n",
              "2    automatic   sedan         red       0  2019-02-07           79   \n",
              "3    automatic  pickup     unknown       0  2019-03-22            9   \n",
              "4    automatic   sedan       black       0  2019-04-02           28   \n",
              "5    automatic   sedan       black       1  2018-06-20           15   \n",
              "6    automatic   sedan       white       0  2018-12-27           73   \n",
              "7    automatic     SUV       black       1  2019-01-07           68   \n",
              "8    automatic     SUV     unknown       1  2018-07-16           19   \n",
              "9    automatic     SUV        blue       1  2019-02-15           17   \n",
              "\n",
              "   month_posted  vehicle_age  mileage_per_year  condition_rating  \n",
              "0             6            8      18125.000000                 2  \n",
              "1            10            8      11088.125000                 2  \n",
              "2             2            7      15714.285714                 4  \n",
              "3             3           17      13705.882353                 1  \n",
              "4             4            3      26967.666667                 3  \n",
              "5             6            5      11590.800000                 3  \n",
              "6            12            4      19803.000000                 3  \n",
              "7             1            7      15639.000000                 3  \n",
              "8             7            7      14882.000000                 3  \n",
              "9             2           12      12265.916667                 3  "
            ]
          },
          "execution_count": 64,
          "metadata": {},
          "output_type": "execute_result"
        }
      ],
      "source": [
        "# print a sample of data\n",
        "data.head(10)\n"
      ]
    },
    {
      "cell_type": "markdown",
      "metadata": {
        "id": "5FcqxyeUztNe"
      },
      "source": [
        "## Study core parameters\n",
        "\n",
        "Given that my initial hypotheses were that the biggest factors in the sale price of a car were age, condition and milage I will use those three factors as the crux of my analysis. To locate outliers I will first utilize boxplots and then move to histograms or bar graphsas necessary. I may also use a scatter matrix is applicable. \n",
        "\n",
        "The parameters are\n",
        "- Price\n",
        "- The vehicle's age when the ad was placed\n",
        "- Mileage\n",
        "- Number of cylinders\n",
        "- Condition"
      ]
    },
    {
      "cell_type": "markdown",
      "metadata": {
        "id": "2ejnjnQxztNe"
      },
      "source": [
        "[If you find that you need to repeat the same jobs multiple times, think about what coding instrument might be helpful for such a thing to avoid duplicating your code.]"
      ]
    },
    {
      "cell_type": "code",
      "execution_count": null,
      "metadata": {
        "scrolled": false,
        "id": "KyrRdch9ztNf",
        "outputId": "4279743a-94ec-46fb-f325-31efffb13051"
      },
      "outputs": [
        {
          "data": {
            "text/plain": [
              "<AxesSubplot:>"
            ]
          },
          "execution_count": 65,
          "metadata": {},
          "output_type": "execute_result"
        },
        {
          "data": {
            "image/png": "[encoded data removed]",
            "text/plain": [
              "<Figure size 432x288 with 1 Axes>"
            ]
          },
          "metadata": {
            "needs_background": "light"
          },
          "output_type": "display_data"
        }
      ],
      "source": [
        "data.boxplot('price')"
      ]
    },
    {
      "cell_type": "markdown",
      "metadata": {
        "id": "ovyUaoWXztNf"
      },
      "source": [
        "This rough boxplot of price shows me that there are a great deal of high-cost outliers but no low cost outliers. I will need to identify why these outliers are occuring and decide how to deal with them. "
      ]
    },
    {
      "cell_type": "code",
      "execution_count": null,
      "metadata": {
        "scrolled": false,
        "id": "jjrA_v-UztNg",
        "outputId": "acf0dad7-aee7-4f6b-e26d-d67e7f2bad03"
      },
      "outputs": [
        {
          "data": {
            "text/plain": [
              "<AxesSubplot:ylabel='Frequency'>"
            ]
          },
          "execution_count": 66,
          "metadata": {},
          "output_type": "execute_result"
        },
        {
          "data": {
            "image/png": "[encoded data removed]",
            "text/plain": [
              "<Figure size 432x288 with 1 Axes>"
            ]
          },
          "metadata": {
            "needs_background": "light"
          },
          "output_type": "display_data"
        }
      ],
      "source": [
        "#lets start with a histogram of price v age as a test\n",
        "\n",
        "data.plot(x = 'vehicle_age', y = 'price', kind = 'hist', bins = 75, grid = True, range = (0, 100000))\n"
      ]
    },
    {
      "cell_type": "code",
      "execution_count": null,
      "metadata": {
        "id": "sW6HyD3iztNh",
        "outputId": "1be44578-8f88-4752-9589-8a5e4e5b3da9"
      },
      "outputs": [
        {
          "data": {
            "text/html": [
              "<div>\n",
              "<style scoped>\n",
              "    .dataframe tbody tr th:only-of-type {\n",
              "        vertical-align: middle;\n",
              "    }\n",
              "\n",
              "    .dataframe tbody tr th {\n",
              "        vertical-align: top;\n",
              "    }\n",
              "\n",
              "    .dataframe thead th {\n",
              "        text-align: right;\n",
              "    }\n",
              "</style>\n",
              "<table border=\"1\" class=\"dataframe\">\n",
              "  <thead>\n",
              "    <tr style=\"text-align: right;\">\n",
              "      <th></th>\n",
              "      <th>price</th>\n",
              "      <th>model_year</th>\n",
              "      <th>model</th>\n",
              "      <th>condition</th>\n",
              "      <th>cylinders</th>\n",
              "      <th>fuel</th>\n",
              "      <th>odometer</th>\n",
              "      <th>transmission</th>\n",
              "      <th>type</th>\n",
              "      <th>paint_color</th>\n",
              "      <th>is_4wd</th>\n",
              "      <th>date_posted</th>\n",
              "      <th>days_listed</th>\n",
              "      <th>month_posted</th>\n",
              "      <th>vehicle_age</th>\n",
              "      <th>mileage_per_year</th>\n",
              "      <th>condition_rating</th>\n",
              "    </tr>\n",
              "  </thead>\n",
              "  <tbody>\n",
              "    <tr>\n",
              "      <th>405</th>\n",
              "      <td>1</td>\n",
              "      <td>2014</td>\n",
              "      <td>chevrolet camaro</td>\n",
              "      <td>excellent</td>\n",
              "      <td>6</td>\n",
              "      <td>gas</td>\n",
              "      <td>71310.0</td>\n",
              "      <td>automatic</td>\n",
              "      <td>coupe</td>\n",
              "      <td>unknown</td>\n",
              "      <td>0</td>\n",
              "      <td>2018-07-14</td>\n",
              "      <td>29</td>\n",
              "      <td>7</td>\n",
              "      <td>5</td>\n",
              "      <td>14262.000000</td>\n",
              "      <td>3</td>\n",
              "    </tr>\n",
              "    <tr>\n",
              "      <th>3063</th>\n",
              "      <td>1</td>\n",
              "      <td>1998</td>\n",
              "      <td>chevrolet silverado</td>\n",
              "      <td>good</td>\n",
              "      <td>8</td>\n",
              "      <td>gas</td>\n",
              "      <td>164000.0</td>\n",
              "      <td>automatic</td>\n",
              "      <td>pickup</td>\n",
              "      <td>unknown</td>\n",
              "      <td>1</td>\n",
              "      <td>2018-10-11</td>\n",
              "      <td>49</td>\n",
              "      <td>10</td>\n",
              "      <td>21</td>\n",
              "      <td>7809.523810</td>\n",
              "      <td>2</td>\n",
              "    </tr>\n",
              "    <tr>\n",
              "      <th>3808</th>\n",
              "      <td>1</td>\n",
              "      <td>2007</td>\n",
              "      <td>chevrolet tahoe</td>\n",
              "      <td>good</td>\n",
              "      <td>8</td>\n",
              "      <td>gas</td>\n",
              "      <td>200.0</td>\n",
              "      <td>automatic</td>\n",
              "      <td>SUV</td>\n",
              "      <td>red</td>\n",
              "      <td>0</td>\n",
              "      <td>2019-03-18</td>\n",
              "      <td>63</td>\n",
              "      <td>3</td>\n",
              "      <td>13</td>\n",
              "      <td>15.384615</td>\n",
              "      <td>2</td>\n",
              "    </tr>\n",
              "    <tr>\n",
              "      <th>3902</th>\n",
              "      <td>1</td>\n",
              "      <td>1996</td>\n",
              "      <td>ford f-150</td>\n",
              "      <td>fair</td>\n",
              "      <td>7</td>\n",
              "      <td>gas</td>\n",
              "      <td>163000.0</td>\n",
              "      <td>manual</td>\n",
              "      <td>truck</td>\n",
              "      <td>white</td>\n",
              "      <td>0</td>\n",
              "      <td>2019-02-23</td>\n",
              "      <td>54</td>\n",
              "      <td>2</td>\n",
              "      <td>24</td>\n",
              "      <td>6791.666667</td>\n",
              "      <td>1</td>\n",
              "    </tr>\n",
              "    <tr>\n",
              "      <th>4140</th>\n",
              "      <td>1</td>\n",
              "      <td>2004</td>\n",
              "      <td>chevrolet silverado</td>\n",
              "      <td>excellent</td>\n",
              "      <td>8</td>\n",
              "      <td>diesel</td>\n",
              "      <td>83000.0</td>\n",
              "      <td>automatic</td>\n",
              "      <td>pickup</td>\n",
              "      <td>unknown</td>\n",
              "      <td>1</td>\n",
              "      <td>2019-02-04</td>\n",
              "      <td>14</td>\n",
              "      <td>2</td>\n",
              "      <td>16</td>\n",
              "      <td>5187.500000</td>\n",
              "      <td>3</td>\n",
              "    </tr>\n",
              "    <tr>\n",
              "      <th>4737</th>\n",
              "      <td>69</td>\n",
              "      <td>2016</td>\n",
              "      <td>honda odyssey</td>\n",
              "      <td>excellent</td>\n",
              "      <td>6</td>\n",
              "      <td>gas</td>\n",
              "      <td>70988.0</td>\n",
              "      <td>automatic</td>\n",
              "      <td>van</td>\n",
              "      <td>grey</td>\n",
              "      <td>0</td>\n",
              "      <td>2019-01-10</td>\n",
              "      <td>31</td>\n",
              "      <td>1</td>\n",
              "      <td>4</td>\n",
              "      <td>17747.000000</td>\n",
              "      <td>3</td>\n",
              "    </tr>\n",
              "    <tr>\n",
              "      <th>4738</th>\n",
              "      <td>69</td>\n",
              "      <td>2018</td>\n",
              "      <td>hyundai elantra</td>\n",
              "      <td>excellent</td>\n",
              "      <td>4</td>\n",
              "      <td>gas</td>\n",
              "      <td>28089.0</td>\n",
              "      <td>automatic</td>\n",
              "      <td>sedan</td>\n",
              "      <td>silver</td>\n",
              "      <td>0</td>\n",
              "      <td>2018-12-16</td>\n",
              "      <td>16</td>\n",
              "      <td>12</td>\n",
              "      <td>1</td>\n",
              "      <td>28089.000000</td>\n",
              "      <td>3</td>\n",
              "    </tr>\n",
              "    <tr>\n",
              "      <th>4739</th>\n",
              "      <td>69</td>\n",
              "      <td>2016</td>\n",
              "      <td>ford explorer</td>\n",
              "      <td>excellent</td>\n",
              "      <td>6</td>\n",
              "      <td>gas</td>\n",
              "      <td>70269.0</td>\n",
              "      <td>automatic</td>\n",
              "      <td>SUV</td>\n",
              "      <td>silver</td>\n",
              "      <td>1</td>\n",
              "      <td>2018-08-06</td>\n",
              "      <td>20</td>\n",
              "      <td>8</td>\n",
              "      <td>3</td>\n",
              "      <td>23423.000000</td>\n",
              "      <td>3</td>\n",
              "    </tr>\n",
              "    <tr>\n",
              "      <th>4771</th>\n",
              "      <td>69</td>\n",
              "      <td>2018</td>\n",
              "      <td>ford escape</td>\n",
              "      <td>excellent</td>\n",
              "      <td>4</td>\n",
              "      <td>gas</td>\n",
              "      <td>70057.0</td>\n",
              "      <td>automatic</td>\n",
              "      <td>SUV</td>\n",
              "      <td>white</td>\n",
              "      <td>1</td>\n",
              "      <td>2018-05-29</td>\n",
              "      <td>12</td>\n",
              "      <td>5</td>\n",
              "      <td>1</td>\n",
              "      <td>70057.000000</td>\n",
              "      <td>3</td>\n",
              "    </tr>\n",
              "    <tr>\n",
              "      <th>4772</th>\n",
              "      <td>69</td>\n",
              "      <td>2018</td>\n",
              "      <td>ford fusion</td>\n",
              "      <td>excellent</td>\n",
              "      <td>4</td>\n",
              "      <td>gas</td>\n",
              "      <td>52187.0</td>\n",
              "      <td>automatic</td>\n",
              "      <td>sedan</td>\n",
              "      <td>white</td>\n",
              "      <td>0</td>\n",
              "      <td>2018-05-22</td>\n",
              "      <td>30</td>\n",
              "      <td>5</td>\n",
              "      <td>1</td>\n",
              "      <td>52187.000000</td>\n",
              "      <td>3</td>\n",
              "    </tr>\n",
              "  </tbody>\n",
              "</table>\n",
              "</div>"
            ],
            "text/plain": [
              "      price  model_year                model  condition  cylinders    fuel  \\\n",
              "405       1        2014     chevrolet camaro  excellent          6     gas   \n",
              "3063      1        1998  chevrolet silverado       good          8     gas   \n",
              "3808      1        2007      chevrolet tahoe       good          8     gas   \n",
              "3902      1        1996           ford f-150       fair          7     gas   \n",
              "4140      1        2004  chevrolet silverado  excellent          8  diesel   \n",
              "4737     69        2016        honda odyssey  excellent          6     gas   \n",
              "4738     69        2018      hyundai elantra  excellent          4     gas   \n",
              "4739     69        2016        ford explorer  excellent          6     gas   \n",
              "4771     69        2018          ford escape  excellent          4     gas   \n",
              "4772     69        2018          ford fusion  excellent          4     gas   \n",
              "\n",
              "      odometer transmission    type paint_color  is_4wd date_posted  \\\n",
              "405    71310.0    automatic   coupe     unknown       0  2018-07-14   \n",
              "3063  164000.0    automatic  pickup     unknown       1  2018-10-11   \n",
              "3808     200.0    automatic     SUV         red       0  2019-03-18   \n",
              "3902  163000.0       manual   truck       white       0  2019-02-23   \n",
              "4140   83000.0    automatic  pickup     unknown       1  2019-02-04   \n",
              "4737   70988.0    automatic     van        grey       0  2019-01-10   \n",
              "4738   28089.0    automatic   sedan      silver       0  2018-12-16   \n",
              "4739   70269.0    automatic     SUV      silver       1  2018-08-06   \n",
              "4771   70057.0    automatic     SUV       white       1  2018-05-29   \n",
              "4772   52187.0    automatic   sedan       white       0  2018-05-22   \n",
              "\n",
              "      days_listed  month_posted  vehicle_age  mileage_per_year  \\\n",
              "405            29             7            5      14262.000000   \n",
              "3063           49            10           21       7809.523810   \n",
              "3808           63             3           13         15.384615   \n",
              "3902           54             2           24       6791.666667   \n",
              "4140           14             2           16       5187.500000   \n",
              "4737           31             1            4      17747.000000   \n",
              "4738           16            12            1      28089.000000   \n",
              "4739           20             8            3      23423.000000   \n",
              "4771           12             5            1      70057.000000   \n",
              "4772           30             5            1      52187.000000   \n",
              "\n",
              "      condition_rating  \n",
              "405                  3  \n",
              "3063                 2  \n",
              "3808                 2  \n",
              "3902                 1  \n",
              "4140                 3  \n",
              "4737                 3  \n",
              "4738                 3  \n",
              "4739                 3  \n",
              "4771                 3  \n",
              "4772                 3  "
            ]
          },
          "execution_count": 67,
          "metadata": {},
          "output_type": "execute_result"
        }
      ],
      "source": [
        "free_cars = data.query('price <= 100')\n",
        "free_cars.head(10)"
      ]
    },
    {
      "cell_type": "code",
      "execution_count": null,
      "metadata": {
        "scrolled": true,
        "id": "RN57TrKDztNh",
        "outputId": "4fcc5041-9002-4f01-abeb-f9ac10a32529"
      },
      "outputs": [
        {
          "data": {
            "text/plain": [
              "excellent    778\n",
              "like new      30\n",
              "good          30\n",
              "fair          10\n",
              "new            3\n",
              "Name: condition, dtype: int64"
            ]
          },
          "execution_count": 68,
          "metadata": {},
          "output_type": "execute_result"
        }
      ],
      "source": [
        "free_cars['condition'].value_counts()"
      ]
    },
    {
      "cell_type": "code",
      "execution_count": null,
      "metadata": {
        "id": "wT1YnLOZztNi",
        "outputId": "c9286bfe-4ee3-4561-dcad-130f38469f51"
      },
      "outputs": [
        {
          "data": {
            "text/plain": [
              "1     272\n",
              "2     121\n",
              "3     107\n",
              "4     101\n",
              "5      72\n",
              "6      37\n",
              "7      28\n",
              "8      17\n",
              "12     15\n",
              "13     14\n",
              "10     14\n",
              "11     12\n",
              "9       8\n",
              "16      6\n",
              "14      4\n",
              "20      4\n",
              "15      3\n",
              "18      3\n",
              "19      3\n",
              "21      3\n",
              "24      2\n",
              "42      2\n",
              "17      1\n",
              "23      1\n",
              "54      1\n",
              "Name: vehicle_age, dtype: int64"
            ]
          },
          "execution_count": 69,
          "metadata": {},
          "output_type": "execute_result"
        }
      ],
      "source": [
        "free_cars['vehicle_age'].value_counts()"
      ]
    },
    {
      "cell_type": "markdown",
      "metadata": {
        "id": "gYhIS7HjztNj"
      },
      "source": [
        "We can immediatly see there is a generally negative correlation between price and age: for the most part the older the car the cheaper it is. Strangely however there is a large spice of cars at and around '0' on the price axis. Upon further investigation these cars are predominantly newer and higher quality, implying this is a error in data entry. "
      ]
    },
    {
      "cell_type": "code",
      "execution_count": null,
      "metadata": {
        "scrolled": true,
        "id": "ZyQ-YhjnztNm",
        "outputId": "84916599-396f-46eb-da54-aa36dc3aac5a"
      },
      "outputs": [
        {
          "data": {
            "text/plain": [
              "<AxesSubplot:ylabel='Frequency'>"
            ]
          },
          "execution_count": 70,
          "metadata": {},
          "output_type": "execute_result"
        },
        {
          "data": {
            "image/png": "[encoded data removed]",
            "text/plain": [
              "<Figure size 432x288 with 1 Axes>"
            ]
          },
          "metadata": {
            "needs_background": "light"
          },
          "output_type": "display_data"
        }
      ],
      "source": [
        "data.plot(x = 'vehicle_age', y = 'price', kind = 'hist', bins = 75, grid = True, range = (0, 5_000))"
      ]
    },
    {
      "cell_type": "markdown",
      "metadata": {
        "id": "JNG6celaztNm"
      },
      "source": [
        "Zooming in around '0' in `price` on the x axis shows that there is a big spike at zero and it gradually increases from there. For the sake of this analysis I will remove all values in price below 1000. "
      ]
    },
    {
      "cell_type": "code",
      "execution_count": null,
      "metadata": {
        "scrolled": true,
        "id": "A54dTDmRztNn",
        "outputId": "cdaa79bd-0875-48e7-a6e5-7b8f81c4e6d7"
      },
      "outputs": [
        {
          "data": {
            "text/plain": [
              "Text(0.5, 0, 'Price')"
            ]
          },
          "execution_count": 71,
          "metadata": {},
          "output_type": "execute_result"
        },
        {
          "data": {
            "image/png": "[encoded data removed]",
            "text/plain": [
              "<Figure size 288x360 with 1 Axes>"
            ]
          },
          "metadata": {
            "needs_background": "light"
          },
          "output_type": "display_data"
        }
      ],
      "source": [
        "# trying out a point graph to see distribution\n",
        "data.plot(x='price', y='vehicle_age', style='x', xlim=(0, 100000), figsize = (4, 5), grid=True)\n",
        "plt.ylabel('Vehicle Age')\n",
        "plt.xlabel('Price')\n",
        "\n"
      ]
    },
    {
      "cell_type": "code",
      "execution_count": null,
      "metadata": {
        "scrolled": true,
        "id": "k4QzGHhAztNn",
        "outputId": "06487691-a8eb-4ba6-9bb5-dd683815cbbb"
      },
      "outputs": [
        {
          "data": {
            "text/plain": [
              "<AxesSubplot:xlabel='vehicle_age', ylabel='price'>"
            ]
          },
          "execution_count": 72,
          "metadata": {},
          "output_type": "execute_result"
        },
        {
          "data": {
            "image/png": "[encoded data removed]",
            "text/plain": [
              "<Figure size 432x288 with 2 Axes>"
            ]
          },
          "metadata": {
            "needs_background": "light"
          },
          "output_type": "display_data"
        }
      ],
      "source": [
        "# doing the same graph as a hexbin\n",
        "data.plot(x='vehicle_age', y='price', kind='hexbin', gridsize=25, sharex=False)\n"
      ]
    },
    {
      "cell_type": "markdown",
      "metadata": {
        "id": "tciRN9ZzztNo"
      },
      "source": [
        "The last two graphs show me that price and age are concentrated towards newer and lower cost points on the x and y axises but from the first graph we can see there are outliers in both `price` and `vehicle_age`."
      ]
    },
    {
      "cell_type": "code",
      "execution_count": null,
      "metadata": {
        "scrolled": false,
        "id": "x2MrALvOztNo",
        "outputId": "f4da79a3-d730-48a6-cd10-5a65a4240605"
      },
      "outputs": [
        {
          "data": {
            "text/plain": [
              "<AxesSubplot:xlabel='vehicle_age'>"
            ]
          },
          "execution_count": 73,
          "metadata": {},
          "output_type": "execute_result"
        },
        {
          "data": {
            "image/png": "[encoded data removed]",
            "text/plain": [
              "<Figure size 1080x360 with 1 Axes>"
            ]
          },
          "metadata": {
            "needs_background": "light"
          },
          "output_type": "display_data"
        }
      ],
      "source": [
        "# lets look at the relationship between average mileage and vehicle age \n",
        "# using median as I filled Null values with median values\n",
        "\n",
        "avg_mileage = data.pivot_table(index = 'vehicle_age', values = 'odometer', aggfunc = 'median')\n",
        "avg_mileage.plot(kind = 'bar', figsize = (15,5), grid = True)\n"
      ]
    },
    {
      "cell_type": "code",
      "execution_count": null,
      "metadata": {
        "id": "24cF9vKHztNp",
        "outputId": "0ca83082-a015-4689-9fcf-5e7f5d38e839"
      },
      "outputs": [
        {
          "data": {
            "text/plain": [
              "<AxesSubplot:>"
            ]
          },
          "execution_count": 74,
          "metadata": {},
          "output_type": "execute_result"
        },
        {
          "data": {
            "image/png": "[encoded data removed]",
            "text/plain": [
              "<Figure size 432x288 with 1 Axes>"
            ]
          },
          "metadata": {
            "needs_background": "light"
          },
          "output_type": "display_data"
        }
      ],
      "source": [
        "avg_mileage.boxplot()"
      ]
    },
    {
      "cell_type": "markdown",
      "metadata": {
        "id": "Go37yKSgztNq"
      },
      "source": [
        "This shows us some interesting information: as we might expect the average mileage rises as cars get older until it hits 16 years, then it fluctates a litte before trending back down. \n",
        "\n",
        "We can assume from this that for very old cars only those with low mileage have remained in good enough condition to continue to be viable for sale. Looking at the bar chart there is a dramatic outlier both for age and mileage; 110 years at around 170K miles. But when examined in a boxplot we see no outliers, indicating that value is fine to leave in the dataset. "
      ]
    },
    {
      "cell_type": "code",
      "execution_count": null,
      "metadata": {
        "id": "AWHExjBGztNr",
        "outputId": "ff1d784f-aca9-4219-9ffc-493e87bdb9c9"
      },
      "outputs": [
        {
          "data": {
            "text/plain": [
              "<AxesSubplot:xlabel='condition_rating'>"
            ]
          },
          "execution_count": 75,
          "metadata": {},
          "output_type": "execute_result"
        },
        {
          "data": {
            "image/png": "[encoded data removed]",
            "text/plain": [
              "<Figure size 432x288 with 1 Axes>"
            ]
          },
          "metadata": {
            "needs_background": "light"
          },
          "output_type": "display_data"
        }
      ],
      "source": [
        "# lets compare condition to price\n",
        "vehicle_condition = data.pivot_table(index = 'condition_rating', values = 'price')\n",
        "vehicle_condition.plot(kind = 'bar', grid = True)\n"
      ]
    },
    {
      "cell_type": "markdown",
      "metadata": {
        "id": "s8b9wRHbztNs"
      },
      "source": [
        "This gives us a very clear positive correlation between the condition of the car and its sale price. Interestingly cars rated for 'salvage' appear to cost a little more than cars listed as 'fair' but this could be a reporting quirk where the quality line between 'salvage' and 'fair' is indistinct enough that some there is overlap.  "
      ]
    },
    {
      "cell_type": "code",
      "execution_count": null,
      "metadata": {
        "id": "ockWmRMTztNt",
        "outputId": "0315419f-9f11-45d1-91c1-9c1fe2b75526"
      },
      "outputs": [
        {
          "data": {
            "text/plain": [
              "<AxesSubplot:xlabel='cylinders'>"
            ]
          },
          "execution_count": 76,
          "metadata": {},
          "output_type": "execute_result"
        },
        {
          "data": {
            "image/png": "[encoded data removed]",
            "text/plain": [
              "<Figure size 432x288 with 1 Axes>"
            ]
          },
          "metadata": {
            "needs_background": "light"
          },
          "output_type": "display_data"
        }
      ],
      "source": [
        "# Lets do a final check of price v cylinders \n",
        "\n",
        "cylinder_num = data.pivot_table(index = 'cylinders', values = 'price')\n",
        "cylinder_num.plot(kind = 'bar', grid = True)\n"
      ]
    },
    {
      "cell_type": "markdown",
      "metadata": {
        "id": "vmN3aXMiztNt"
      },
      "source": [
        "This will require a bit more diving to establish what kind of cars are represented by their cylinder numbers. Presumably a 12 cylinder vehicle is not an everyday sedan but some kind of industrial vehicle, explaining the high cost. "
      ]
    },
    {
      "cell_type": "code",
      "execution_count": null,
      "metadata": {
        "scrolled": true,
        "id": "WEhHRs3UztNu",
        "outputId": "3ed59f38-b55b-4511-e297-61e56e35c9c7"
      },
      "outputs": [
        {
          "data": {
            "text/plain": [
              "array([[<AxesSubplot:title={'center':'price'}>]], dtype=object)"
            ]
          },
          "execution_count": 77,
          "metadata": {},
          "output_type": "execute_result"
        },
        {
          "data": {
            "image/png": "[encoded data removed]",
            "text/plain": [
              "<Figure size 432x288 with 1 Axes>"
            ]
          },
          "metadata": {
            "needs_background": "light"
          },
          "output_type": "display_data"
        }
      ],
      "source": [
        "data.hist('price', bins = 100, range = (0,75_000))"
      ]
    },
    {
      "cell_type": "markdown",
      "metadata": {
        "id": "VQmiR4qlztNv"
      },
      "source": [
        "This histogram shows us that the majority of the cars available on the site are between 5k and 20k but there are cars available as expnesive as 65K. Strangely, there is also a peak at 0 which will need to be removed. "
      ]
    },
    {
      "cell_type": "code",
      "execution_count": null,
      "metadata": {
        "scrolled": true,
        "id": "IhzMwiawztNv",
        "outputId": "7d3a3f81-df46-4024-a7ec-4921513a858a"
      },
      "outputs": [
        {
          "data": {
            "text/plain": [
              "array([[<AxesSubplot:title={'center':'vehicle_age'}>]], dtype=object)"
            ]
          },
          "execution_count": 78,
          "metadata": {},
          "output_type": "execute_result"
        },
        {
          "data": {
            "image/png": "[encoded data removed]",
            "text/plain": [
              "<Figure size 432x288 with 1 Axes>"
            ]
          },
          "metadata": {
            "needs_background": "light"
          },
          "output_type": "display_data"
        }
      ],
      "source": [
        "data.hist('vehicle_age', bins = 100)"
      ]
    },
    {
      "cell_type": "markdown",
      "metadata": {
        "id": "C6sgtgrNztNw"
      },
      "source": [
        "This histogram shows us that the majority of the cars availabe are between 0 and 17years old, with peaks at 0 and around 17years. Outliers are greater than 30 years."
      ]
    },
    {
      "cell_type": "code",
      "execution_count": null,
      "metadata": {
        "scrolled": false,
        "id": "vkbJ_cdqztNw",
        "outputId": "02f6e1bb-2708-4877-b151-52dbe5d6ed82"
      },
      "outputs": [
        {
          "data": {
            "text/plain": [
              "array([[<AxesSubplot:title={'center':'odometer'}>]], dtype=object)"
            ]
          },
          "execution_count": 79,
          "metadata": {},
          "output_type": "execute_result"
        },
        {
          "data": {
            "image/png": "[encoded data removed]",
            "text/plain": [
              "<Figure size 432x288 with 1 Axes>"
            ]
          },
          "metadata": {
            "needs_background": "light"
          },
          "output_type": "display_data"
        }
      ],
      "source": [
        "data.hist('odometer', bins = 100)"
      ]
    },
    {
      "cell_type": "markdown",
      "metadata": {
        "id": "RcVkF3tKztNx"
      },
      "source": [
        "This histogram shows a slight peak at 0 then rises steadily before dropping, no notable outliers."
      ]
    },
    {
      "cell_type": "code",
      "execution_count": null,
      "metadata": {
        "id": "FGPojmI4ztNx",
        "outputId": "d1a12fcf-a271-4d88-ef1b-60ec1a33283f"
      },
      "outputs": [
        {
          "data": {
            "text/plain": [
              "array([[<AxesSubplot:title={'center':'cylinders'}>]], dtype=object)"
            ]
          },
          "execution_count": 80,
          "metadata": {},
          "output_type": "execute_result"
        },
        {
          "data": {
            "image/png": "[encoded data removed]",
            "text/plain": [
              "<Figure size 432x288 with 1 Axes>"
            ]
          },
          "metadata": {
            "needs_background": "light"
          },
          "output_type": "display_data"
        }
      ],
      "source": [
        "data.hist('cylinders', bins = 100)"
      ]
    },
    {
      "cell_type": "markdown",
      "metadata": {
        "id": "0tbZbf1kztNy"
      },
      "source": [
        "This histogram shows the majority of vehicles listed have 4, 6, or 8 cylinders with very few having 3, 5, 7, 10, or 12"
      ]
    },
    {
      "cell_type": "code",
      "execution_count": null,
      "metadata": {
        "id": "8gEJ5f2gztNy",
        "outputId": "b123420e-0ce7-43b5-fe2e-813f2fc395ac"
      },
      "outputs": [
        {
          "data": {
            "text/plain": [
              "array([[<AxesSubplot:title={'center':'condition_rating'}>]], dtype=object)"
            ]
          },
          "execution_count": 81,
          "metadata": {},
          "output_type": "execute_result"
        },
        {
          "data": {
            "image/png": "[encoded data removed]",
            "text/plain": [
              "<Figure size 432x288 with 1 Axes>"
            ]
          },
          "metadata": {
            "needs_background": "light"
          },
          "output_type": "display_data"
        }
      ],
      "source": [
        "data.hist('condition_rating', bins = 100)"
      ]
    },
    {
      "cell_type": "markdown",
      "metadata": {
        "id": "GltiGeH1ztNz"
      },
      "source": [
        "This histogram shows that the majority of the vehicles listed are between 'good' and 'like new'."
      ]
    },
    {
      "cell_type": "markdown",
      "metadata": {
        "id": "A94ELSbrztN0"
      },
      "source": [
        "## Study and treat outliers\n",
        "\n",
        "[Given the results above, determine what columns may contain outliers, and create a DataFrame without those outliers. Hint: Outliers can be identified by defining the lower/upper limits for normal range of values.]"
      ]
    },
    {
      "cell_type": "code",
      "execution_count": null,
      "metadata": {
        "id": "U6V6nnLGztN0",
        "outputId": "63eefd7d-a76f-400d-d61d-45e3aaca32e5"
      },
      "outputs": [
        {
          "name": "stdout",
          "output_type": "stream",
          "text": [
            "Empty DataFrame\n",
            "Columns: [price, model_year, model, condition, cylinders, fuel, odometer, transmission, type, paint_color, is_4wd, date_posted, days_listed, month_posted, vehicle_age, mileage_per_year, condition_rating]\n",
            "Index: []\n"
          ]
        }
      ],
      "source": [
        "# Determine the lower limits for outliers\n",
        "print(data.query('price < 0'))"
      ]
    },
    {
      "cell_type": "code",
      "execution_count": null,
      "metadata": {
        "scrolled": true,
        "id": "uBjdgP2tztN1",
        "outputId": "2afd2180-20fb-48bf-9a34-dac5387b6b1b"
      },
      "outputs": [
        {
          "data": {
            "text/plain": [
              "array([[<AxesSubplot:title={'center':'price'}>]], dtype=object)"
            ]
          },
          "execution_count": 83,
          "metadata": {},
          "output_type": "execute_result"
        },
        {
          "data": {
            "image/png": "[encoded data removed]",
            "text/plain": [
              "<Figure size 432x288 with 1 Axes>"
            ]
          },
          "metadata": {
            "needs_background": "light"
          },
          "output_type": "display_data"
        }
      ],
      "source": [
        "# Determine the upper limits for outliers\n",
        "price_range = data.query('1_000 <= price <= 50_000')\n",
        "price_range.hist('price', bins = 100, range = (0,50_000))"
      ]
    },
    {
      "cell_type": "code",
      "execution_count": null,
      "metadata": {
        "scrolled": false,
        "id": "yTN7duoGztN1",
        "outputId": "5064fb9c-2d54-4c95-ca2e-a547f6b33a80"
      },
      "outputs": [
        {
          "data": {
            "text/plain": [
              "array([[<AxesSubplot:title={'center':'price'}>]], dtype=object)"
            ]
          },
          "execution_count": 84,
          "metadata": {},
          "output_type": "execute_result"
        },
        {
          "data": {
            "image/png": "[encoded data removed]",
            "text/plain": [
              "<Figure size 432x288 with 1 Axes>"
            ]
          },
          "metadata": {
            "needs_background": "light"
          },
          "output_type": "display_data"
        }
      ],
      "source": [
        "price_range.query('price <= 30_000').hist('price', bins = 100)\n",
        "                                        "
      ]
    },
    {
      "cell_type": "code",
      "execution_count": null,
      "metadata": {
        "id": "Oy6DrfuvztN2"
      },
      "outputs": [],
      "source": [
        "price_range = price_range.query('1_000 <= price <= 30_000')"
      ]
    },
    {
      "cell_type": "markdown",
      "metadata": {
        "id": "Q3VFBZv9ztN2"
      },
      "source": [
        "I've now isolated the price ranges that are free of outliers, now it's time remove the 'outliers' in `vehicle_age`"
      ]
    },
    {
      "cell_type": "code",
      "execution_count": null,
      "metadata": {
        "id": "CWb6yo41ztN3",
        "outputId": "faaa985c-1da3-4af4-b5c1-2c2e73b924e1"
      },
      "outputs": [
        {
          "data": {
            "text/plain": [
              "array([[<AxesSubplot:title={'center':'vehicle_age'}>]], dtype=object)"
            ]
          },
          "execution_count": 86,
          "metadata": {},
          "output_type": "execute_result"
        },
        {
          "data": {
            "image/png": "[encoded data removed]",
            "text/plain": [
              "<Figure size 432x288 with 1 Axes>"
            ]
          },
          "metadata": {
            "needs_background": "light"
          },
          "output_type": "display_data"
        }
      ],
      "source": [
        "data_true = price_range.query('0 <= vehicle_age <= 30')\n",
        "data_true.hist('vehicle_age', bins = 100)"
      ]
    },
    {
      "cell_type": "code",
      "execution_count": null,
      "metadata": {
        "scrolled": false,
        "id": "cgruKiEcztN3",
        "outputId": "9593f31d-c700-479e-e5db-617c1c83cbef"
      },
      "outputs": [
        {
          "data": {
            "text/html": [
              "<div>\n",
              "<style scoped>\n",
              "    .dataframe tbody tr th:only-of-type {\n",
              "        vertical-align: middle;\n",
              "    }\n",
              "\n",
              "    .dataframe tbody tr th {\n",
              "        vertical-align: top;\n",
              "    }\n",
              "\n",
              "    .dataframe thead th {\n",
              "        text-align: right;\n",
              "    }\n",
              "</style>\n",
              "<table border=\"1\" class=\"dataframe\">\n",
              "  <thead>\n",
              "    <tr style=\"text-align: right;\">\n",
              "      <th></th>\n",
              "      <th>price</th>\n",
              "      <th>model_year</th>\n",
              "      <th>model</th>\n",
              "      <th>condition</th>\n",
              "      <th>cylinders</th>\n",
              "      <th>fuel</th>\n",
              "      <th>odometer</th>\n",
              "      <th>transmission</th>\n",
              "      <th>type</th>\n",
              "      <th>paint_color</th>\n",
              "      <th>is_4wd</th>\n",
              "      <th>date_posted</th>\n",
              "      <th>days_listed</th>\n",
              "      <th>month_posted</th>\n",
              "      <th>vehicle_age</th>\n",
              "      <th>mileage_per_year</th>\n",
              "      <th>condition_rating</th>\n",
              "    </tr>\n",
              "  </thead>\n",
              "  <tbody>\n",
              "    <tr>\n",
              "      <th>0</th>\n",
              "      <td>9400</td>\n",
              "      <td>2011</td>\n",
              "      <td>bmw x5</td>\n",
              "      <td>good</td>\n",
              "      <td>6</td>\n",
              "      <td>gas</td>\n",
              "      <td>145000.0</td>\n",
              "      <td>automatic</td>\n",
              "      <td>SUV</td>\n",
              "      <td>unknown</td>\n",
              "      <td>1</td>\n",
              "      <td>2018-06-23</td>\n",
              "      <td>19</td>\n",
              "      <td>6</td>\n",
              "      <td>8</td>\n",
              "      <td>18125.000000</td>\n",
              "      <td>2</td>\n",
              "    </tr>\n",
              "    <tr>\n",
              "      <th>1</th>\n",
              "      <td>25500</td>\n",
              "      <td>2011</td>\n",
              "      <td>ford f-150</td>\n",
              "      <td>good</td>\n",
              "      <td>6</td>\n",
              "      <td>gas</td>\n",
              "      <td>88705.0</td>\n",
              "      <td>automatic</td>\n",
              "      <td>pickup</td>\n",
              "      <td>white</td>\n",
              "      <td>1</td>\n",
              "      <td>2018-10-19</td>\n",
              "      <td>50</td>\n",
              "      <td>10</td>\n",
              "      <td>8</td>\n",
              "      <td>11088.125000</td>\n",
              "      <td>2</td>\n",
              "    </tr>\n",
              "    <tr>\n",
              "      <th>2</th>\n",
              "      <td>5500</td>\n",
              "      <td>2013</td>\n",
              "      <td>hyundai sonata</td>\n",
              "      <td>like new</td>\n",
              "      <td>4</td>\n",
              "      <td>gas</td>\n",
              "      <td>110000.0</td>\n",
              "      <td>automatic</td>\n",
              "      <td>sedan</td>\n",
              "      <td>red</td>\n",
              "      <td>0</td>\n",
              "      <td>2019-02-07</td>\n",
              "      <td>79</td>\n",
              "      <td>2</td>\n",
              "      <td>7</td>\n",
              "      <td>15714.285714</td>\n",
              "      <td>4</td>\n",
              "    </tr>\n",
              "    <tr>\n",
              "      <th>3</th>\n",
              "      <td>1500</td>\n",
              "      <td>2003</td>\n",
              "      <td>ford f-150</td>\n",
              "      <td>fair</td>\n",
              "      <td>8</td>\n",
              "      <td>gas</td>\n",
              "      <td>233000.0</td>\n",
              "      <td>automatic</td>\n",
              "      <td>pickup</td>\n",
              "      <td>unknown</td>\n",
              "      <td>0</td>\n",
              "      <td>2019-03-22</td>\n",
              "      <td>9</td>\n",
              "      <td>3</td>\n",
              "      <td>17</td>\n",
              "      <td>13705.882353</td>\n",
              "      <td>1</td>\n",
              "    </tr>\n",
              "    <tr>\n",
              "      <th>4</th>\n",
              "      <td>14900</td>\n",
              "      <td>2017</td>\n",
              "      <td>chrysler 200</td>\n",
              "      <td>excellent</td>\n",
              "      <td>4</td>\n",
              "      <td>gas</td>\n",
              "      <td>80903.0</td>\n",
              "      <td>automatic</td>\n",
              "      <td>sedan</td>\n",
              "      <td>black</td>\n",
              "      <td>0</td>\n",
              "      <td>2019-04-02</td>\n",
              "      <td>28</td>\n",
              "      <td>4</td>\n",
              "      <td>3</td>\n",
              "      <td>26967.666667</td>\n",
              "      <td>3</td>\n",
              "    </tr>\n",
              "    <tr>\n",
              "      <th>5</th>\n",
              "      <td>14990</td>\n",
              "      <td>2014</td>\n",
              "      <td>chrysler 300</td>\n",
              "      <td>excellent</td>\n",
              "      <td>6</td>\n",
              "      <td>gas</td>\n",
              "      <td>57954.0</td>\n",
              "      <td>automatic</td>\n",
              "      <td>sedan</td>\n",
              "      <td>black</td>\n",
              "      <td>1</td>\n",
              "      <td>2018-06-20</td>\n",
              "      <td>15</td>\n",
              "      <td>6</td>\n",
              "      <td>5</td>\n",
              "      <td>11590.800000</td>\n",
              "      <td>3</td>\n",
              "    </tr>\n",
              "    <tr>\n",
              "      <th>6</th>\n",
              "      <td>12990</td>\n",
              "      <td>2015</td>\n",
              "      <td>toyota camry</td>\n",
              "      <td>excellent</td>\n",
              "      <td>4</td>\n",
              "      <td>gas</td>\n",
              "      <td>79212.0</td>\n",
              "      <td>automatic</td>\n",
              "      <td>sedan</td>\n",
              "      <td>white</td>\n",
              "      <td>0</td>\n",
              "      <td>2018-12-27</td>\n",
              "      <td>73</td>\n",
              "      <td>12</td>\n",
              "      <td>4</td>\n",
              "      <td>19803.000000</td>\n",
              "      <td>3</td>\n",
              "    </tr>\n",
              "    <tr>\n",
              "      <th>7</th>\n",
              "      <td>15990</td>\n",
              "      <td>2013</td>\n",
              "      <td>honda pilot</td>\n",
              "      <td>excellent</td>\n",
              "      <td>6</td>\n",
              "      <td>gas</td>\n",
              "      <td>109473.0</td>\n",
              "      <td>automatic</td>\n",
              "      <td>SUV</td>\n",
              "      <td>black</td>\n",
              "      <td>1</td>\n",
              "      <td>2019-01-07</td>\n",
              "      <td>68</td>\n",
              "      <td>1</td>\n",
              "      <td>7</td>\n",
              "      <td>15639.000000</td>\n",
              "      <td>3</td>\n",
              "    </tr>\n",
              "    <tr>\n",
              "      <th>8</th>\n",
              "      <td>11500</td>\n",
              "      <td>2012</td>\n",
              "      <td>kia sorento</td>\n",
              "      <td>excellent</td>\n",
              "      <td>4</td>\n",
              "      <td>gas</td>\n",
              "      <td>104174.0</td>\n",
              "      <td>automatic</td>\n",
              "      <td>SUV</td>\n",
              "      <td>unknown</td>\n",
              "      <td>1</td>\n",
              "      <td>2018-07-16</td>\n",
              "      <td>19</td>\n",
              "      <td>7</td>\n",
              "      <td>7</td>\n",
              "      <td>14882.000000</td>\n",
              "      <td>3</td>\n",
              "    </tr>\n",
              "    <tr>\n",
              "      <th>9</th>\n",
              "      <td>9200</td>\n",
              "      <td>2008</td>\n",
              "      <td>honda pilot</td>\n",
              "      <td>excellent</td>\n",
              "      <td>6</td>\n",
              "      <td>gas</td>\n",
              "      <td>147191.0</td>\n",
              "      <td>automatic</td>\n",
              "      <td>SUV</td>\n",
              "      <td>blue</td>\n",
              "      <td>1</td>\n",
              "      <td>2019-02-15</td>\n",
              "      <td>17</td>\n",
              "      <td>2</td>\n",
              "      <td>12</td>\n",
              "      <td>12265.916667</td>\n",
              "      <td>3</td>\n",
              "    </tr>\n",
              "  </tbody>\n",
              "</table>\n",
              "</div>"
            ],
            "text/plain": [
              "   price  model_year           model  condition  cylinders fuel  odometer  \\\n",
              "0   9400        2011          bmw x5       good          6  gas  145000.0   \n",
              "1  25500        2011      ford f-150       good          6  gas   88705.0   \n",
              "2   5500        2013  hyundai sonata   like new          4  gas  110000.0   \n",
              "3   1500        2003      ford f-150       fair          8  gas  233000.0   \n",
              "4  14900        2017    chrysler 200  excellent          4  gas   80903.0   \n",
              "5  14990        2014    chrysler 300  excellent          6  gas   57954.0   \n",
              "6  12990        2015    toyota camry  excellent          4  gas   79212.0   \n",
              "7  15990        2013     honda pilot  excellent          6  gas  109473.0   \n",
              "8  11500        2012     kia sorento  excellent          4  gas  104174.0   \n",
              "9   9200        2008     honda pilot  excellent          6  gas  147191.0   \n",
              "\n",
              "  transmission    type paint_color  is_4wd date_posted  days_listed  \\\n",
              "0    automatic     SUV     unknown       1  2018-06-23           19   \n",
              "1    automatic  pickup       white       1  2018-10-19           50   \n",
              "2    automatic   sedan         red       0  2019-02-07           79   \n",
              "3    automatic  pickup     unknown       0  2019-03-22            9   \n",
              "4    automatic   sedan       black       0  2019-04-02           28   \n",
              "5    automatic   sedan       black       1  2018-06-20           15   \n",
              "6    automatic   sedan       white       0  2018-12-27           73   \n",
              "7    automatic     SUV       black       1  2019-01-07           68   \n",
              "8    automatic     SUV     unknown       1  2018-07-16           19   \n",
              "9    automatic     SUV        blue       1  2019-02-15           17   \n",
              "\n",
              "   month_posted  vehicle_age  mileage_per_year  condition_rating  \n",
              "0             6            8      18125.000000                 2  \n",
              "1            10            8      11088.125000                 2  \n",
              "2             2            7      15714.285714                 4  \n",
              "3             3           17      13705.882353                 1  \n",
              "4             4            3      26967.666667                 3  \n",
              "5             6            5      11590.800000                 3  \n",
              "6            12            4      19803.000000                 3  \n",
              "7             1            7      15639.000000                 3  \n",
              "8             7            7      14882.000000                 3  \n",
              "9             2           12      12265.916667                 3  "
            ]
          },
          "execution_count": 87,
          "metadata": {},
          "output_type": "execute_result"
        }
      ],
      "source": [
        "# Final check of data without outliers in the new DataFrame 'data_true'\n",
        "\n",
        "data_true.head(10)"
      ]
    },
    {
      "cell_type": "code",
      "execution_count": null,
      "metadata": {
        "scrolled": false,
        "id": "KrDeUCb7ztN4",
        "outputId": "72df2c86-bedd-455c-eb5b-2e03627a4cac"
      },
      "outputs": [
        {
          "name": "stdout",
          "output_type": "stream",
          "text": [
            "<class 'pandas.core.frame.DataFrame'>\n",
            "Int64Index: 46320 entries, 0 to 51524\n",
            "Data columns (total 17 columns):\n",
            " #   Column            Non-Null Count  Dtype         \n",
            "---  ------            --------------  -----         \n",
            " 0   price             46320 non-null  int64         \n",
            " 1   model_year        46320 non-null  int64         \n",
            " 2   model             46320 non-null  object        \n",
            " 3   condition         46320 non-null  object        \n",
            " 4   cylinders         46320 non-null  int64         \n",
            " 5   fuel              46320 non-null  object        \n",
            " 6   odometer          46320 non-null  float64       \n",
            " 7   transmission      46320 non-null  object        \n",
            " 8   type              46320 non-null  object        \n",
            " 9   paint_color       46320 non-null  object        \n",
            " 10  is_4wd            46320 non-null  int64         \n",
            " 11  date_posted       46320 non-null  datetime64[ns]\n",
            " 12  days_listed       46320 non-null  int64         \n",
            " 13  month_posted      46320 non-null  int64         \n",
            " 14  vehicle_age       46320 non-null  int64         \n",
            " 15  mileage_per_year  46320 non-null  float64       \n",
            " 16  condition_rating  46320 non-null  int64         \n",
            "dtypes: datetime64[ns](1), float64(2), int64(8), object(6)\n",
            "memory usage: 6.4+ MB\n"
          ]
        }
      ],
      "source": [
        "data_true.info()"
      ]
    },
    {
      "cell_type": "code",
      "execution_count": null,
      "metadata": {
        "id": "LO_AQK9SztN4",
        "outputId": "fcb823b6-2d4e-411a-942e-b0309f137058"
      },
      "outputs": [
        {
          "name": "stdout",
          "output_type": "stream",
          "text": [
            "91.65199153129267\n"
          ]
        }
      ],
      "source": [
        "print(len(data_true)/len(data)*100)"
      ]
    },
    {
      "cell_type": "markdown",
      "metadata": {
        "id": "6A8DI3e3ztN5"
      },
      "source": [
        "Comparing the new outlier-free data frame (`data_true`) to the original data frame (`data`) we have a dataframe 96% as long as the original. Only 4% was removed between irregular data and outliers. Pretty good!"
      ]
    },
    {
      "cell_type": "markdown",
      "metadata": {
        "id": "mre8h7qfztN6"
      },
      "source": [
        "## Study core parameters without outliers"
      ]
    },
    {
      "cell_type": "code",
      "execution_count": null,
      "metadata": {
        "scrolled": true,
        "id": "zkXNsKO1ztN6",
        "outputId": "a0316ca3-86a4-4e8e-b81a-5604717a0d7b"
      },
      "outputs": [
        {
          "data": {
            "text/plain": [
              "Text(0.5, 0, 'Vehicle Age')"
            ]
          },
          "execution_count": 90,
          "metadata": {},
          "output_type": "execute_result"
        },
        {
          "data": {
            "image/png": "[encoded data removed]",
            "text/plain": [
              "<Figure size 432x288 with 1 Axes>"
            ]
          },
          "metadata": {
            "needs_background": "light"
          },
          "output_type": "display_data"
        }
      ],
      "source": [
        "data_true.plot(x = 'vehicle_age', y = 'price', kind = 'hist', bins = 75, grid = True, range = (0, 32_000))\n",
        "plt.title('A Histogram of Price and Vehicle Age')\n",
        "plt.ylabel('Price')\n",
        "plt.xlabel('Vehicle Age')"
      ]
    },
    {
      "cell_type": "code",
      "execution_count": null,
      "metadata": {
        "scrolled": false,
        "id": "WO4hTu0VztN6",
        "outputId": "8bfed6b1-8fd7-4abf-e538-7cd99b438e56"
      },
      "outputs": [
        {
          "data": {
            "text/plain": [
              "Text(0.5, 0, 'Vehicle Age')"
            ]
          },
          "execution_count": 91,
          "metadata": {},
          "output_type": "execute_result"
        },
        {
          "data": {
            "image/png": "[encoded data removed]",
            "text/plain": [
              "<Figure size 432x288 with 2 Axes>"
            ]
          },
          "metadata": {
            "needs_background": "light"
          },
          "output_type": "display_data"
        }
      ],
      "source": [
        "data_true.plot(x='vehicle_age', y='price', kind='hexbin', gridsize=25, sharex=False)\n",
        "plt.title('The Relationship between Price and Vehicle Age')\n",
        "plt.ylabel('Price')\n",
        "plt.xlabel('Vehicle Age')"
      ]
    },
    {
      "cell_type": "code",
      "execution_count": null,
      "metadata": {
        "id": "6HbiNQ5oztN7",
        "outputId": "2246690a-b2e9-4270-804b-efa63cfd3a64"
      },
      "outputs": [
        {
          "name": "stdout",
          "output_type": "stream",
          "text": [
            "-0.5470184519068209\n"
          ]
        }
      ],
      "source": [
        "print(data_true['price'].corr(data_true['vehicle_age']))"
      ]
    },
    {
      "cell_type": "code",
      "execution_count": null,
      "metadata": {
        "id": "3RjssTxkztN7",
        "outputId": "6f453231-2c3b-4391-ed13-44ee5d614d49"
      },
      "outputs": [
        {
          "data": {
            "text/plain": [
              "Text(0.5, 0, 'Vehicle Age')"
            ]
          },
          "execution_count": 93,
          "metadata": {},
          "output_type": "execute_result"
        },
        {
          "data": {
            "image/png": "[encoded data removed]",
            "text/plain": [
              "<Figure size 1080x360 with 1 Axes>"
            ]
          },
          "metadata": {
            "needs_background": "light"
          },
          "output_type": "display_data"
        }
      ],
      "source": [
        "avg_mileage_true = data_true.pivot_table(index = 'vehicle_age', values = 'odometer', aggfunc = 'median')\n",
        "avg_mileage_true.plot(kind = 'bar', figsize = (15,5), grid = True)\n",
        "plt.title('Median Mileage by Vehicle Age')\n",
        "plt.ylabel('Mileage')\n",
        "plt.xlabel('Vehicle Age')"
      ]
    },
    {
      "cell_type": "code",
      "execution_count": null,
      "metadata": {
        "scrolled": true,
        "id": "QFfqFUgeztN9",
        "outputId": "e00fd254-da34-48d9-927b-670b19907bb0"
      },
      "outputs": [
        {
          "data": {
            "text/plain": [
              "Text(0.5, 0, 'Cylinders')"
            ]
          },
          "execution_count": 94,
          "metadata": {},
          "output_type": "execute_result"
        },
        {
          "data": {
            "image/png": "[encoded data removed]",
            "text/plain": [
              "<Figure size 432x288 with 1 Axes>"
            ]
          },
          "metadata": {
            "needs_background": "light"
          },
          "output_type": "display_data"
        }
      ],
      "source": [
        "cylinder_num_true = data_true.pivot_table(index = 'cylinders', values = 'price')\n",
        "cylinder_num_true.plot(kind = 'bar')\n",
        "plt.title('The Affect of Cylinders on Price')\n",
        "plt.ylabel('Price')\n",
        "plt.xlabel('Cylinders')"
      ]
    },
    {
      "cell_type": "markdown",
      "metadata": {
        "id": "gk24lobWztN-"
      },
      "source": [
        "**Conclusion**\n",
        "\n",
        "Now that I have removed the outliers from the data frame (creating `data_true`) I'm able to better look at the realtionships revealed by the graphs. The graph that is most helpful is the hexbin showing the relationship between `vehicle_age` and `price`. The hexbin very clearly shows us that the vast majority of cars being sold through website are concentrated between 5 and 15 years and between 5 and 15K. The negative correlation (-0.5651538) shows that the older the car the lower the price. \n",
        "\n",
        "Removing the outliers from `price` and `vehicle_age` makes the first histogram look far more logical, showing us the majority of cars available on the website are between 3K and 10K. "
      ]
    },
    {
      "cell_type": "markdown",
      "metadata": {
        "id": "iun6ySrXztN_"
      },
      "source": [
        "## Ads lifetime"
      ]
    },
    {
      "cell_type": "code",
      "execution_count": null,
      "metadata": {
        "id": "VCgx9XWXztOA",
        "outputId": "6a164fb0-8e41-42cc-d111-1c5de97d75b8"
      },
      "outputs": [
        {
          "data": {
            "text/plain": [
              "<AxesSubplot:>"
            ]
          },
          "execution_count": 95,
          "metadata": {},
          "output_type": "execute_result"
        },
        {
          "data": {
            "image/png": "[encoded data removed]",
            "text/plain": [
              "<Figure size 432x288 with 1 Axes>"
            ]
          },
          "metadata": {
            "needs_background": "light"
          },
          "output_type": "display_data"
        }
      ],
      "source": [
        "data_true.boxplot('days_listed')"
      ]
    },
    {
      "cell_type": "code",
      "execution_count": null,
      "metadata": {
        "id": "rEh1sUojztOA",
        "outputId": "35264cba-83b0-4268-8afe-81ccbc422417"
      },
      "outputs": [
        {
          "data": {
            "text/plain": [
              "array([[<AxesSubplot:title={'center':'days_listed'}>]], dtype=object)"
            ]
          },
          "execution_count": 96,
          "metadata": {},
          "output_type": "execute_result"
        },
        {
          "data": {
            "image/png": "[encoded data removed]",
            "text/plain": [
              "<Figure size 432x288 with 1 Axes>"
            ]
          },
          "metadata": {
            "needs_background": "light"
          },
          "output_type": "display_data"
        }
      ],
      "source": [
        "data_true.hist('days_listed', bins = 100, range = (0,300))"
      ]
    },
    {
      "cell_type": "markdown",
      "metadata": {
        "id": "GSlkTjbVztOB"
      },
      "source": [
        "**Conclusion**\n",
        "\n",
        "When we look at the lifespan of ads on the site we see can immediately see that generally ads last between 25 and 52 days though the normal range is between 0 and just over 100 days. Outliers exist between 100 and 275. If we wished to remove outliers from the dataframe anything over 110 days could be safely removed. "
      ]
    },
    {
      "cell_type": "markdown",
      "metadata": {
        "id": "WTjRyzosztOC"
      },
      "source": [
        "## Average price per each type of vehicle"
      ]
    },
    {
      "cell_type": "code",
      "execution_count": null,
      "metadata": {
        "scrolled": false,
        "id": "Ci_LMaNaztOC",
        "outputId": "bab2261b-68bc-4c42-954a-3bfef95dbdb8"
      },
      "outputs": [
        {
          "data": {
            "text/plain": [
              "<AxesSubplot:xlabel='type'>"
            ]
          },
          "execution_count": 97,
          "metadata": {},
          "output_type": "execute_result"
        },
        {
          "data": {
            "image/png": "[encoded data removed]",
            "text/plain": [
              "<Figure size 1080x504 with 1 Axes>"
            ]
          },
          "metadata": {
            "needs_background": "light"
          },
          "output_type": "display_data"
        }
      ],
      "source": [
        "model_type_avg = data_true.pivot_table(index = 'type', values = 'price')\n",
        "model_type_avg.plot(kind = 'bar', figsize = (15,7), grid = True)"
      ]
    },
    {
      "cell_type": "code",
      "execution_count": null,
      "metadata": {
        "scrolled": true,
        "id": "gd00JwxPztOD",
        "outputId": "4e72f0e6-e453-49b5-da5e-a619e1d3fd0f"
      },
      "outputs": [
        {
          "name": "stdout",
          "output_type": "stream",
          "text": [
            "sedan          11546\n",
            "SUV            11360\n",
            "truck          10567\n",
            "pickup          6075\n",
            "coupe           1926\n",
            "wagon           1451\n",
            "mini-van        1124\n",
            "hatchback        967\n",
            "van              531\n",
            "convertible      351\n",
            "other            214\n",
            "offroad          184\n",
            "bus               24\n",
            "Name: type, dtype: int64\n"
          ]
        }
      ],
      "source": [
        "model_type_count = data_true['type'].value_counts()\n",
        "print(model_type_count)"
      ]
    },
    {
      "cell_type": "markdown",
      "metadata": {
        "id": "RhNXhKfqztOD"
      },
      "source": [
        "Using a simple `value_counts()` call on `data_true` we see that the two vehicle types with the most ads are sedans and SUVs and when examining the vehicle prices compared to types we see that two most expensive vehicle types are buses and trucks, wich is reiforced by the graph we say earlier showing vehicles with 12 cylinders were the most expensive on the website. \n",
        "\n",
        "The two most popular cars on the site are **sedans** and **SUVs**"
      ]
    },
    {
      "cell_type": "markdown",
      "metadata": {
        "id": "EpMWdJcEztOE"
      },
      "source": [
        "### Price factors"
      ]
    },
    {
      "cell_type": "markdown",
      "metadata": {
        "id": "yOGAgrrQztOE"
      },
      "source": [
        "Now that I have conducted my data preproccessing and the majority of my EDA it is time for the final price analysis of the data frame. Here I will examine the following using the two most popular types of cars - Sedans and SUVs:\n",
        "\n",
        "Mileage & Price \n",
        "<br>\n",
        "Paint Color & Price\n",
        "<br>\n",
        "Condition & Price\n",
        "<br>\n",
        "Transmission Type & Price"
      ]
    },
    {
      "cell_type": "markdown",
      "metadata": {
        "id": "xIDDwgbPztOE"
      },
      "source": [
        "[Make use of correlation matrix and correlation plots]"
      ]
    },
    {
      "cell_type": "code",
      "execution_count": null,
      "metadata": {
        "scrolled": true,
        "id": "y74j1TsxztOF"
      },
      "outputs": [],
      "source": [
        "# removing 'bus' from type as it has under 50 ads in the datframe\n",
        "top_cars = data_true.query('type == \"sedan\" or type == \"SUV\"')"
      ]
    },
    {
      "cell_type": "code",
      "execution_count": null,
      "metadata": {
        "id": "5URAyTZFztOF",
        "outputId": "5ceef86c-b929-4746-91c1-7ba623d8cc65"
      },
      "outputs": [
        {
          "data": {
            "text/plain": [
              "<AxesSubplot:xlabel='odometer', ylabel='price'>"
            ]
          },
          "execution_count": 100,
          "metadata": {},
          "output_type": "execute_result"
        },
        {
          "data": {
            "image/png": "[encoded data removed]",
            "text/plain": [
              "<Figure size 504x504 with 1 Axes>"
            ]
          },
          "metadata": {
            "needs_background": "light"
          },
          "output_type": "display_data"
        }
      ],
      "source": [
        "top_cars.plot(x = 'odometer', y = 'price', kind = 'scatter', figsize = (7,7))"
      ]
    },
    {
      "cell_type": "code",
      "execution_count": null,
      "metadata": {
        "scrolled": true,
        "id": "7BmMqMmcztOG",
        "outputId": "0e7fcce3-fbc8-446e-bc69-67e1b7c7c6f7"
      },
      "outputs": [
        {
          "data": {
            "text/plain": [
              "<AxesSubplot:xlabel='odometer', ylabel='price'>"
            ]
          },
          "execution_count": 101,
          "metadata": {},
          "output_type": "execute_result"
        },
        {
          "data": {
            "image/png": "[encoded data removed]",
            "text/plain": [
              "<Figure size 432x288 with 2 Axes>"
            ]
          },
          "metadata": {
            "needs_background": "light"
          },
          "output_type": "display_data"
        }
      ],
      "source": [
        "# examining the relationship between mileage and price\n",
        "top_cars.plot(x='odometer', y='price', kind='hexbin', gridsize=20, sharex=False)"
      ]
    },
    {
      "cell_type": "code",
      "execution_count": null,
      "metadata": {
        "scrolled": true,
        "id": "fMnk_duFztOG",
        "outputId": "19e1cbcb-9759-488e-9d87-547e651fff65"
      },
      "outputs": [
        {
          "name": "stdout",
          "output_type": "stream",
          "text": [
            "-0.5076168733903466\n"
          ]
        }
      ],
      "source": [
        "# checking the correlation between mileage and price\n",
        "print(top_cars['price'].corr(data['odometer']))"
      ]
    },
    {
      "cell_type": "markdown",
      "metadata": {
        "id": "0S6rReX-ztOG"
      },
      "source": [
        "**Analysis**\n",
        "\n",
        "Mileage + Price: Looking at this hexbin we see an extremely clear negative realtionship between mileage and price, reinforced by the shown correlation coefficient of -0.5080435322977886. This tells us concretely that the more mileage a car has the lower the sale price. "
      ]
    },
    {
      "cell_type": "code",
      "execution_count": null,
      "metadata": {
        "scrolled": false,
        "id": "YE7lWhvVztOH",
        "outputId": "7298d1d0-3035-458d-8863-b6c01a54ea85"
      },
      "outputs": [
        {
          "data": {
            "image/png": "[encoded data removed]",
            "text/plain": [
              "<Figure size 720x720 with 1 Axes>"
            ]
          },
          "metadata": {
            "needs_background": "light"
          },
          "output_type": "display_data"
        },
        {
          "data": {
            "image/png": "[encoded data removed]",
            "text/plain": [
              "<Figure size 720x720 with 1 Axes>"
            ]
          },
          "metadata": {
            "needs_background": "light"
          },
          "output_type": "display_data"
        }
      ],
      "source": [
        "# checking for the realtionship between price, car type, and color\n",
        "for cartype, cardata in top_cars.groupby('type'):\n",
        "    cardata.boxplot(column = 'price', by = 'paint_color', figsize = (10,10))\n",
        "    plt.ylabel(cartype)"
      ]
    },
    {
      "cell_type": "markdown",
      "metadata": {
        "id": "u12ou1ZmztOH"
      },
      "source": [
        "**Analysis**\n",
        "\n",
        "Paint Color + Price: These boxplots show us that paint color is has more weight on SUVs than sedans when considering pricing. While for both black is one of the most popular colors SUVs have a significant showing of yellow cars while sedans are more popular in orange. "
      ]
    },
    {
      "cell_type": "code",
      "execution_count": null,
      "metadata": {
        "scrolled": false,
        "id": "LO2vxgT8ztOI",
        "outputId": "569e8710-5aee-4a8f-9294-4aa2f1c2dbc2"
      },
      "outputs": [
        {
          "data": {
            "text/plain": [
              "<AxesSubplot:xlabel='condition', ylabel='price'>"
            ]
          },
          "execution_count": 104,
          "metadata": {},
          "output_type": "execute_result"
        },
        {
          "data": {
            "image/png": "[encoded data removed]",
            "text/plain": [
              "<Figure size 720x720 with 1 Axes>"
            ]
          },
          "metadata": {
            "needs_background": "light"
          },
          "output_type": "display_data"
        }
      ],
      "source": [
        "top_cars.plot(x='condition', y='price', kind='scatter', figsize = (10,10))"
      ]
    },
    {
      "cell_type": "code",
      "execution_count": null,
      "metadata": {
        "scrolled": false,
        "id": "up8usrr4ztOI",
        "outputId": "3886f8d5-bfb5-45cc-e5aa-0bcb57b6f7b9"
      },
      "outputs": [
        {
          "data": {
            "text/plain": [
              "<AxesSubplot:xlabel='transmission', ylabel='price'>"
            ]
          },
          "execution_count": 105,
          "metadata": {},
          "output_type": "execute_result"
        },
        {
          "data": {
            "image/png": "[encoded data removed]",
            "text/plain": [
              "<Figure size 720x720 with 1 Axes>"
            ]
          },
          "metadata": {
            "needs_background": "light"
          },
          "output_type": "display_data"
        }
      ],
      "source": [
        "top_cars.plot(x='transmission', y='price', kind='scatter', figsize = (10,10))"
      ]
    },
    {
      "cell_type": "markdown",
      "metadata": {
        "id": "8Dwir4wjztOJ"
      },
      "source": [
        "**Analysis** \n",
        "\n",
        "Condition + Price: As I expected vehicle condition is a major factor in the cars price, cars rated 'good' to 'like new' ('excellent' has the greatest number of listings) are signifcantly more expensive than those 'fair' and 'salvage'. Interestingly 'new' appears to be a slight exeption to this but given the nature of the website being primarily a resale site there is likely a dearth of actually new cars represented in the dataset.   \n",
        "\n",
        "Transmission + Price: Transmission clearly has an effect on price but that is more of a factor of availability than nature. The vast majority of cars are now automatic transmission giving them dominance in the market at all price points. Manual transmissions do appear at every price point, showing that there are luxury vehicles with manual transmission though they are less common. "
      ]
    },
    {
      "cell_type": "markdown",
      "metadata": {
        "id": "ixHAPd8gztOJ"
      },
      "source": [
        "## General conclusion\n",
        "\n",
        "We have now reached our conclusion, the moment of truth at the end of my data analysis journey. Below I have printed the full correlation coefficient for the entire final data set (`model_type`) to help guide my conclusions.\n",
        "\n",
        "**The Journey** \n",
        "\n",
        "To reach the conclusion of this data journey I had to deal with a collection of data irregularities. Primary among them were Null values in `is_4wd`, `odometer`, `model_year`, `paint_color` and `cylinders`. `is_4wd` was an easy fix as it was a binary collumn the Null values should of been '0'. `Odometer` required filling the null values with the median mileage for vehicles by model year, type, condition, and model. I filled the null values in rows of `model_year` with the average year based on model and filled the null values in `cylinders` with avergage values based on model and age. I removed the roughly 700 rows that were unable to be filled with available data. For `paint_color` I filled the null values with 'unknown' as there were too many to remove and not lose the other useful information contained in those rows. \n",
        "\n",
        "**What Impacted Price?**\n",
        "\n",
        "We can tell from the work I have done that the factors with the greatest impacts on price are age, condition, and mileage. These factors are of course also intertwined, an older car with more mileage is generally in worse condition and cheap while a new car with lower mileage and in better condition is more expensive. \n",
        "\n",
        "There are exception to this rule, business vehicles like buses and trucks tend to be more expensive regardless of quality but they are not representitive of the overall data set. \n",
        "\n",
        "Factors like 4wd and transmission types aren't deciding factors in price but are impacted by vehicle type.  "
      ]
    }
  ],
  "metadata": {
    "ExecuteTimeLog": [
      {
        "duration": 828,
        "start_time": "2021-11-16T09:21:11.304Z"
      },
      {
        "duration": 893,
        "start_time": "2021-11-16T09:21:17.728Z"
      },
      {
        "duration": 1150,
        "start_time": "2021-11-16T09:21:29.568Z"
      },
      {
        "duration": 3,
        "start_time": "2021-11-16T09:24:14.495Z"
      },
      {
        "duration": 120,
        "start_time": "2021-11-16T09:24:46.630Z"
      },
      {
        "duration": 3,
        "start_time": "2021-11-16T09:28:27.882Z"
      },
      {
        "duration": 4,
        "start_time": "2021-11-16T09:29:54.281Z"
      },
      {
        "duration": 3,
        "start_time": "2021-11-16T09:30:45.936Z"
      },
      {
        "duration": 4,
        "start_time": "2021-11-16T09:31:06.300Z"
      },
      {
        "duration": 113,
        "start_time": "2021-11-16T09:31:37.208Z"
      },
      {
        "duration": 143,
        "start_time": "2021-11-16T09:31:48.656Z"
      },
      {
        "duration": 98,
        "start_time": "2021-11-16T09:31:55.678Z"
      },
      {
        "duration": 3,
        "start_time": "2021-11-16T09:32:08.535Z"
      },
      {
        "duration": 111,
        "start_time": "2021-11-16T09:32:10.120Z"
      },
      {
        "duration": 3,
        "start_time": "2021-11-16T09:32:15.732Z"
      },
      {
        "duration": 4,
        "start_time": "2021-11-16T09:32:29.423Z"
      },
      {
        "duration": 3,
        "start_time": "2021-11-16T10:03:03.074Z"
      },
      {
        "duration": 3,
        "start_time": "2021-11-16T10:10:01.288Z"
      },
      {
        "duration": 3,
        "start_time": "2021-11-16T10:10:46.923Z"
      },
      {
        "duration": 121,
        "start_time": "2021-11-16T10:37:46.494Z"
      },
      {
        "duration": 125,
        "start_time": "2021-11-16T10:38:20.632Z"
      },
      {
        "duration": 112,
        "start_time": "2021-11-16T10:46:53.001Z"
      },
      {
        "duration": 110,
        "start_time": "2021-11-16T10:48:25.775Z"
      },
      {
        "duration": 3,
        "start_time": "2021-11-16T10:50:18.720Z"
      },
      {
        "duration": 4,
        "start_time": "2021-11-16T10:50:37.649Z"
      },
      {
        "duration": 2,
        "start_time": "2021-11-16T10:50:51.884Z"
      },
      {
        "duration": 3,
        "start_time": "2021-11-16T10:51:56.237Z"
      },
      {
        "duration": 101,
        "start_time": "2021-11-16T10:53:13.791Z"
      },
      {
        "duration": 3,
        "start_time": "2021-11-16T10:55:59.186Z"
      },
      {
        "duration": 3,
        "start_time": "2021-11-16T10:56:10.751Z"
      },
      {
        "duration": 3,
        "start_time": "2021-11-16T10:56:49.038Z"
      },
      {
        "duration": 3,
        "start_time": "2021-11-16T10:56:49.174Z"
      },
      {
        "duration": 4,
        "start_time": "2021-11-16T10:56:49.414Z"
      },
      {
        "duration": 3,
        "start_time": "2021-11-16T10:56:49.680Z"
      },
      {
        "duration": 3,
        "start_time": "2021-11-16T10:56:50.370Z"
      },
      {
        "duration": 114,
        "start_time": "2021-11-16T10:59:34.518Z"
      },
      {
        "duration": 3,
        "start_time": "2021-11-16T11:01:41.201Z"
      },
      {
        "duration": 116,
        "start_time": "2021-11-16T11:01:48.754Z"
      },
      {
        "duration": 3,
        "start_time": "2021-11-16T11:02:16.685Z"
      },
      {
        "duration": 3,
        "start_time": "2021-11-16T11:02:19.479Z"
      },
      {
        "duration": 3,
        "start_time": "2021-11-16T11:02:47.067Z"
      },
      {
        "duration": 3,
        "start_time": "2021-11-16T11:02:49.353Z"
      },
      {
        "duration": 3,
        "start_time": "2021-11-16T11:03:07.835Z"
      },
      {
        "duration": 3,
        "start_time": "2021-11-16T11:03:07.953Z"
      },
      {
        "duration": 112,
        "start_time": "2021-11-16T11:07:52.072Z"
      },
      {
        "duration": 187,
        "start_time": "2021-11-16T11:09:23.468Z"
      },
      {
        "duration": 4,
        "start_time": "2021-11-16T11:10:01.455Z"
      },
      {
        "duration": 3,
        "start_time": "2021-11-16T11:10:05.069Z"
      },
      {
        "duration": 4,
        "start_time": "2021-11-16T11:10:13.376Z"
      },
      {
        "duration": 3,
        "start_time": "2021-11-16T11:10:14.434Z"
      },
      {
        "duration": 3,
        "start_time": "2021-11-16T11:10:22.853Z"
      },
      {
        "duration": 4,
        "start_time": "2021-11-16T11:27:29.279Z"
      },
      {
        "duration": 4,
        "start_time": "2021-11-16T11:29:08.919Z"
      },
      {
        "duration": 118,
        "start_time": "2021-11-16T11:29:46.703Z"
      },
      {
        "duration": 437,
        "start_time": "2021-11-16T11:36:02.181Z"
      },
      {
        "duration": 157,
        "start_time": "2021-11-16T11:36:14.388Z"
      },
      {
        "duration": 207,
        "start_time": "2021-11-16T11:47:15.898Z"
      },
      {
        "duration": 3,
        "start_time": "2021-11-16T11:53:52.092Z"
      },
      {
        "duration": 3,
        "start_time": "2021-11-16T11:53:52.236Z"
      },
      {
        "duration": 3,
        "start_time": "2021-11-16T11:59:12.005Z"
      },
      {
        "duration": 112,
        "start_time": "2021-11-16T12:00:33.446Z"
      },
      {
        "duration": 3,
        "start_time": "2021-11-16T12:02:14.453Z"
      },
      {
        "duration": 3,
        "start_time": "2021-11-16T12:02:39.512Z"
      },
      {
        "duration": 106,
        "start_time": "2021-11-16T12:03:03.460Z"
      },
      {
        "duration": 290,
        "start_time": "2022-03-14T15:23:29.175Z"
      },
      {
        "duration": 710,
        "start_time": "2022-03-14T15:23:33.541Z"
      },
      {
        "duration": 290,
        "start_time": "2022-03-14T15:23:36.719Z"
      },
      {
        "duration": 93,
        "start_time": "2022-03-14T15:23:47.119Z"
      },
      {
        "duration": 23,
        "start_time": "2022-03-14T15:23:59.495Z"
      },
      {
        "duration": 10,
        "start_time": "2022-03-14T15:24:32.451Z"
      },
      {
        "duration": 19,
        "start_time": "2022-03-14T15:24:38.791Z"
      },
      {
        "duration": 21,
        "start_time": "2022-03-14T16:11:08.632Z"
      },
      {
        "duration": 19,
        "start_time": "2022-03-14T16:11:20.634Z"
      },
      {
        "duration": 17,
        "start_time": "2022-03-14T16:11:29.890Z"
      },
      {
        "duration": 5,
        "start_time": "2022-03-14T16:11:42.464Z"
      },
      {
        "duration": 16,
        "start_time": "2022-03-14T16:11:45.922Z"
      },
      {
        "duration": 715,
        "start_time": "2022-03-14T16:15:47.635Z"
      },
      {
        "duration": 100,
        "start_time": "2022-03-14T16:15:50.299Z"
      },
      {
        "duration": 25,
        "start_time": "2022-03-14T16:15:52.749Z"
      },
      {
        "duration": 19,
        "start_time": "2022-03-14T16:15:55.617Z"
      },
      {
        "duration": 12,
        "start_time": "2022-03-14T16:15:58.619Z"
      },
      {
        "duration": 21,
        "start_time": "2022-03-14T16:16:08.371Z"
      },
      {
        "duration": 94,
        "start_time": "2022-03-14T16:20:46.443Z"
      },
      {
        "duration": 13,
        "start_time": "2022-03-14T16:20:49.711Z"
      },
      {
        "duration": 335,
        "start_time": "2022-03-14T16:22:00.577Z"
      },
      {
        "duration": 272,
        "start_time": "2022-03-14T16:22:37.588Z"
      },
      {
        "duration": 9,
        "start_time": "2022-03-14T16:22:54.009Z"
      },
      {
        "duration": 9,
        "start_time": "2022-03-14T16:22:58.103Z"
      },
      {
        "duration": 6,
        "start_time": "2022-03-14T16:27:49.869Z"
      },
      {
        "duration": 115,
        "start_time": "2022-03-14T17:46:22.201Z"
      },
      {
        "duration": 7,
        "start_time": "2022-03-14T17:47:17.149Z"
      },
      {
        "duration": 7,
        "start_time": "2022-03-14T17:47:23.841Z"
      },
      {
        "duration": 7,
        "start_time": "2022-03-14T17:47:43.662Z"
      },
      {
        "duration": 7,
        "start_time": "2022-03-14T17:47:56.403Z"
      },
      {
        "duration": 8,
        "start_time": "2022-03-14T17:48:22.757Z"
      },
      {
        "duration": 11,
        "start_time": "2022-03-14T17:54:04.062Z"
      },
      {
        "duration": 6177,
        "start_time": "2022-03-14T17:56:43.043Z"
      },
      {
        "duration": 10,
        "start_time": "2022-03-14T18:06:33.792Z"
      },
      {
        "duration": 268,
        "start_time": "2022-03-14T18:06:48.974Z"
      },
      {
        "duration": 13,
        "start_time": "2022-03-14T18:06:55.392Z"
      },
      {
        "duration": 15,
        "start_time": "2022-03-14T18:07:28.539Z"
      },
      {
        "duration": 6,
        "start_time": "2022-03-14T18:10:12.674Z"
      },
      {
        "duration": 21,
        "start_time": "2022-03-14T18:10:21.766Z"
      },
      {
        "duration": 4,
        "start_time": "2022-03-14T18:11:02.518Z"
      },
      {
        "duration": 334,
        "start_time": "2022-03-14T18:11:04.546Z"
      },
      {
        "duration": 3245,
        "start_time": "2022-03-14T18:11:11.656Z"
      },
      {
        "duration": -143,
        "start_time": "2022-03-14T18:11:15.046Z"
      },
      {
        "duration": 673,
        "start_time": "2022-03-14T18:11:28.065Z"
      },
      {
        "duration": 94,
        "start_time": "2022-03-14T18:11:30.275Z"
      },
      {
        "duration": 22,
        "start_time": "2022-03-14T18:11:32.625Z"
      },
      {
        "duration": 19,
        "start_time": "2022-03-14T18:11:35.347Z"
      },
      {
        "duration": 7,
        "start_time": "2022-03-14T18:11:38.447Z"
      },
      {
        "duration": 9,
        "start_time": "2022-03-14T18:11:41.177Z"
      },
      {
        "duration": 7,
        "start_time": "2022-03-14T18:11:43.509Z"
      },
      {
        "duration": 7,
        "start_time": "2022-03-14T18:11:44.859Z"
      },
      {
        "duration": 7,
        "start_time": "2022-03-14T18:11:45.399Z"
      },
      {
        "duration": 14,
        "start_time": "2022-03-14T18:11:48.539Z"
      },
      {
        "duration": 15,
        "start_time": "2022-03-14T18:11:51.492Z"
      },
      {
        "duration": 7,
        "start_time": "2022-03-14T18:13:17.621Z"
      },
      {
        "duration": 16,
        "start_time": "2022-03-14T18:13:26.455Z"
      },
      {
        "duration": 4,
        "start_time": "2022-03-14T18:13:55.842Z"
      },
      {
        "duration": 16,
        "start_time": "2022-03-14T18:13:58.229Z"
      },
      {
        "duration": 9,
        "start_time": "2022-03-14T18:15:49.971Z"
      },
      {
        "duration": 17,
        "start_time": "2022-03-14T18:15:51.829Z"
      },
      {
        "duration": 375,
        "start_time": "2022-03-14T18:17:05.017Z"
      },
      {
        "duration": 26,
        "start_time": "2022-03-14T18:18:38.553Z"
      },
      {
        "duration": 244,
        "start_time": "2022-03-14T18:18:40.616Z"
      },
      {
        "duration": 254,
        "start_time": "2022-03-14T18:19:03.186Z"
      },
      {
        "duration": 252,
        "start_time": "2022-03-14T18:19:04.494Z"
      },
      {
        "duration": 688,
        "start_time": "2022-03-14T18:19:22.397Z"
      },
      {
        "duration": 94,
        "start_time": "2022-03-14T18:19:23.088Z"
      },
      {
        "duration": 23,
        "start_time": "2022-03-14T18:19:23.184Z"
      },
      {
        "duration": 29,
        "start_time": "2022-03-14T18:19:23.209Z"
      },
      {
        "duration": 8,
        "start_time": "2022-03-14T18:19:23.240Z"
      },
      {
        "duration": 9,
        "start_time": "2022-03-14T18:19:23.250Z"
      },
      {
        "duration": 7,
        "start_time": "2022-03-14T18:19:23.261Z"
      },
      {
        "duration": 7,
        "start_time": "2022-03-14T18:19:23.271Z"
      },
      {
        "duration": 7,
        "start_time": "2022-03-14T18:19:23.281Z"
      },
      {
        "duration": 15,
        "start_time": "2022-03-14T18:19:23.332Z"
      },
      {
        "duration": 14,
        "start_time": "2022-03-14T18:19:23.349Z"
      },
      {
        "duration": 6,
        "start_time": "2022-03-14T18:19:23.365Z"
      },
      {
        "duration": 6,
        "start_time": "2022-03-14T18:19:23.373Z"
      },
      {
        "duration": 12,
        "start_time": "2022-03-14T18:19:23.380Z"
      },
      {
        "duration": 63,
        "start_time": "2022-03-14T18:19:23.394Z"
      },
      {
        "duration": 22,
        "start_time": "2022-03-14T18:19:23.459Z"
      },
      {
        "duration": 18,
        "start_time": "2022-03-14T18:19:23.483Z"
      },
      {
        "duration": 29,
        "start_time": "2022-03-14T18:19:23.503Z"
      },
      {
        "duration": 2,
        "start_time": "2022-03-14T18:19:23.534Z"
      },
      {
        "duration": 6,
        "start_time": "2022-03-14T18:19:23.538Z"
      },
      {
        "duration": 7,
        "start_time": "2022-03-14T18:19:23.546Z"
      },
      {
        "duration": 6,
        "start_time": "2022-03-14T18:19:23.555Z"
      },
      {
        "duration": 4,
        "start_time": "2022-03-14T18:19:23.566Z"
      },
      {
        "duration": 6,
        "start_time": "2022-03-14T18:19:23.572Z"
      },
      {
        "duration": 6,
        "start_time": "2022-03-14T18:19:23.580Z"
      },
      {
        "duration": 4,
        "start_time": "2022-03-14T18:19:23.588Z"
      },
      {
        "duration": 5,
        "start_time": "2022-03-14T18:19:23.593Z"
      },
      {
        "duration": 33,
        "start_time": "2022-03-14T18:19:23.600Z"
      },
      {
        "duration": 4,
        "start_time": "2022-03-14T18:19:23.635Z"
      },
      {
        "duration": 8,
        "start_time": "2022-03-14T18:19:23.642Z"
      },
      {
        "duration": 5,
        "start_time": "2022-03-14T18:19:23.652Z"
      },
      {
        "duration": 5,
        "start_time": "2022-03-14T18:19:23.659Z"
      },
      {
        "duration": 33,
        "start_time": "2022-03-14T18:19:41.971Z"
      },
      {
        "duration": 8,
        "start_time": "2022-03-14T18:25:51.693Z"
      },
      {
        "duration": 5,
        "start_time": "2022-03-14T18:53:52.540Z"
      },
      {
        "duration": 602,
        "start_time": "2022-03-14T18:55:36.143Z"
      },
      {
        "duration": 4,
        "start_time": "2022-03-14T19:02:41.379Z"
      },
      {
        "duration": 526,
        "start_time": "2022-03-14T19:02:43.641Z"
      },
      {
        "duration": 4,
        "start_time": "2022-03-14T19:12:24.069Z"
      },
      {
        "duration": 558,
        "start_time": "2022-03-14T19:12:27.207Z"
      },
      {
        "duration": 4,
        "start_time": "2022-03-14T19:13:14.075Z"
      },
      {
        "duration": 548,
        "start_time": "2022-03-14T19:13:16.077Z"
      },
      {
        "duration": 260,
        "start_time": "2022-03-14T19:15:55.937Z"
      },
      {
        "duration": 3446,
        "start_time": "2022-03-14T19:16:02.323Z"
      },
      {
        "duration": 684,
        "start_time": "2022-03-14T19:16:35.898Z"
      },
      {
        "duration": 92,
        "start_time": "2022-03-14T19:16:36.584Z"
      },
      {
        "duration": 22,
        "start_time": "2022-03-14T19:16:36.678Z"
      },
      {
        "duration": 30,
        "start_time": "2022-03-14T19:16:36.702Z"
      },
      {
        "duration": 6,
        "start_time": "2022-03-14T19:16:36.734Z"
      },
      {
        "duration": 12,
        "start_time": "2022-03-14T19:16:36.742Z"
      },
      {
        "duration": 12,
        "start_time": "2022-03-14T19:16:36.755Z"
      },
      {
        "duration": 6,
        "start_time": "2022-03-14T19:16:36.769Z"
      },
      {
        "duration": 7,
        "start_time": "2022-03-14T19:16:36.777Z"
      },
      {
        "duration": 47,
        "start_time": "2022-03-14T19:16:36.786Z"
      },
      {
        "duration": 14,
        "start_time": "2022-03-14T19:16:36.835Z"
      },
      {
        "duration": 6,
        "start_time": "2022-03-14T19:16:36.851Z"
      },
      {
        "duration": 7,
        "start_time": "2022-03-14T19:16:36.859Z"
      },
      {
        "duration": 10,
        "start_time": "2022-03-14T19:16:36.868Z"
      },
      {
        "duration": 52,
        "start_time": "2022-03-14T19:16:36.880Z"
      },
      {
        "duration": 18,
        "start_time": "2022-03-14T19:16:36.934Z"
      },
      {
        "duration": 24,
        "start_time": "2022-03-14T19:16:36.954Z"
      },
      {
        "duration": 6,
        "start_time": "2022-03-14T19:16:36.980Z"
      },
      {
        "duration": 5,
        "start_time": "2022-03-14T19:16:36.987Z"
      },
      {
        "duration": 638,
        "start_time": "2022-03-14T19:16:36.994Z"
      },
      {
        "duration": -7,
        "start_time": "2022-03-14T19:16:37.642Z"
      },
      {
        "duration": -24,
        "start_time": "2022-03-14T19:16:37.660Z"
      },
      {
        "duration": -39,
        "start_time": "2022-03-14T19:16:37.675Z"
      },
      {
        "duration": -52,
        "start_time": "2022-03-14T19:16:37.689Z"
      },
      {
        "duration": -63,
        "start_time": "2022-03-14T19:16:37.702Z"
      },
      {
        "duration": -77,
        "start_time": "2022-03-14T19:16:37.717Z"
      },
      {
        "duration": -90,
        "start_time": "2022-03-14T19:16:37.731Z"
      },
      {
        "duration": -102,
        "start_time": "2022-03-14T19:16:37.744Z"
      },
      {
        "duration": -116,
        "start_time": "2022-03-14T19:16:37.758Z"
      },
      {
        "duration": -129,
        "start_time": "2022-03-14T19:16:37.772Z"
      },
      {
        "duration": -143,
        "start_time": "2022-03-14T19:16:37.787Z"
      },
      {
        "duration": -157,
        "start_time": "2022-03-14T19:16:37.802Z"
      },
      {
        "duration": -170,
        "start_time": "2022-03-14T19:16:37.816Z"
      },
      {
        "duration": -182,
        "start_time": "2022-03-14T19:16:37.829Z"
      },
      {
        "duration": -194,
        "start_time": "2022-03-14T19:16:37.843Z"
      },
      {
        "duration": -206,
        "start_time": "2022-03-14T19:16:37.856Z"
      },
      {
        "duration": 5,
        "start_time": "2022-03-14T21:43:30.823Z"
      },
      {
        "duration": 287,
        "start_time": "2022-03-14T21:43:32.712Z"
      },
      {
        "duration": 724,
        "start_time": "2022-03-14T21:43:39.539Z"
      },
      {
        "duration": 147,
        "start_time": "2022-03-14T21:43:40.265Z"
      },
      {
        "duration": 22,
        "start_time": "2022-03-14T21:43:40.415Z"
      },
      {
        "duration": 26,
        "start_time": "2022-03-14T21:43:40.439Z"
      },
      {
        "duration": 6,
        "start_time": "2022-03-14T21:43:40.467Z"
      },
      {
        "duration": 13,
        "start_time": "2022-03-14T21:43:40.475Z"
      },
      {
        "duration": 8,
        "start_time": "2022-03-14T21:43:40.490Z"
      },
      {
        "duration": 7,
        "start_time": "2022-03-14T21:43:40.501Z"
      },
      {
        "duration": 6,
        "start_time": "2022-03-14T21:43:40.510Z"
      },
      {
        "duration": 49,
        "start_time": "2022-03-14T21:43:40.518Z"
      },
      {
        "duration": 13,
        "start_time": "2022-03-14T21:43:40.568Z"
      },
      {
        "duration": 6,
        "start_time": "2022-03-14T21:43:40.583Z"
      },
      {
        "duration": 8,
        "start_time": "2022-03-14T21:43:40.591Z"
      },
      {
        "duration": 10,
        "start_time": "2022-03-14T21:43:40.601Z"
      },
      {
        "duration": 26,
        "start_time": "2022-03-14T21:43:40.612Z"
      },
      {
        "duration": 15,
        "start_time": "2022-03-14T21:43:40.664Z"
      },
      {
        "duration": 22,
        "start_time": "2022-03-14T21:43:40.680Z"
      },
      {
        "duration": 7,
        "start_time": "2022-03-14T21:43:40.704Z"
      },
      {
        "duration": 4,
        "start_time": "2022-03-14T21:43:40.713Z"
      },
      {
        "duration": 3554,
        "start_time": "2022-03-14T21:43:40.719Z"
      },
      {
        "duration": 16,
        "start_time": "2022-03-14T21:43:44.274Z"
      },
      {
        "duration": 12,
        "start_time": "2022-03-14T21:43:44.292Z"
      },
      {
        "duration": 5,
        "start_time": "2022-03-14T21:43:44.307Z"
      },
      {
        "duration": 6,
        "start_time": "2022-03-14T21:43:44.314Z"
      },
      {
        "duration": 7,
        "start_time": "2022-03-14T21:43:44.322Z"
      },
      {
        "duration": 6,
        "start_time": "2022-03-14T21:43:44.331Z"
      },
      {
        "duration": 8,
        "start_time": "2022-03-14T21:43:44.339Z"
      },
      {
        "duration": 16,
        "start_time": "2022-03-14T21:43:44.349Z"
      },
      {
        "duration": 14,
        "start_time": "2022-03-14T21:43:44.367Z"
      },
      {
        "duration": 11,
        "start_time": "2022-03-14T21:43:44.383Z"
      },
      {
        "duration": 8,
        "start_time": "2022-03-14T21:43:44.396Z"
      },
      {
        "duration": 9,
        "start_time": "2022-03-14T21:43:44.406Z"
      },
      {
        "duration": 10,
        "start_time": "2022-03-14T21:43:44.416Z"
      },
      {
        "duration": 12,
        "start_time": "2022-03-14T21:43:44.428Z"
      },
      {
        "duration": 8,
        "start_time": "2022-03-14T21:43:44.442Z"
      },
      {
        "duration": 7,
        "start_time": "2022-03-14T21:43:44.452Z"
      },
      {
        "duration": 10,
        "start_time": "2022-03-14T21:44:17.042Z"
      },
      {
        "duration": 6,
        "start_time": "2022-03-14T21:45:24.829Z"
      },
      {
        "duration": 294,
        "start_time": "2022-03-14T21:45:35.285Z"
      },
      {
        "duration": 6,
        "start_time": "2022-03-14T21:45:49.155Z"
      },
      {
        "duration": 21,
        "start_time": "2022-03-14T21:46:34.457Z"
      },
      {
        "duration": 748,
        "start_time": "2022-03-14T21:49:16.599Z"
      },
      {
        "duration": 85,
        "start_time": "2022-03-14T21:49:17.349Z"
      },
      {
        "duration": 27,
        "start_time": "2022-03-14T21:49:17.436Z"
      },
      {
        "duration": 17,
        "start_time": "2022-03-14T21:49:17.465Z"
      },
      {
        "duration": 8,
        "start_time": "2022-03-14T21:49:17.484Z"
      },
      {
        "duration": 9,
        "start_time": "2022-03-14T21:49:17.493Z"
      },
      {
        "duration": 6,
        "start_time": "2022-03-14T21:49:17.503Z"
      },
      {
        "duration": 6,
        "start_time": "2022-03-14T21:49:17.511Z"
      },
      {
        "duration": 49,
        "start_time": "2022-03-14T21:49:17.519Z"
      },
      {
        "duration": 11,
        "start_time": "2022-03-14T21:49:17.570Z"
      },
      {
        "duration": 12,
        "start_time": "2022-03-14T21:49:17.583Z"
      },
      {
        "duration": 5,
        "start_time": "2022-03-14T21:49:17.597Z"
      },
      {
        "duration": 5,
        "start_time": "2022-03-14T21:49:17.604Z"
      },
      {
        "duration": 9,
        "start_time": "2022-03-14T21:49:17.611Z"
      },
      {
        "duration": 53,
        "start_time": "2022-03-14T21:49:17.621Z"
      },
      {
        "duration": 15,
        "start_time": "2022-03-14T21:49:17.675Z"
      },
      {
        "duration": 23,
        "start_time": "2022-03-14T21:49:17.692Z"
      },
      {
        "duration": 7,
        "start_time": "2022-03-14T21:49:17.717Z"
      },
      {
        "duration": 4,
        "start_time": "2022-03-14T21:49:17.725Z"
      },
      {
        "duration": 3661,
        "start_time": "2022-03-14T21:49:17.730Z"
      },
      {
        "duration": 20,
        "start_time": "2022-03-14T21:49:21.393Z"
      },
      {
        "duration": 12,
        "start_time": "2022-03-14T21:49:21.415Z"
      },
      {
        "duration": 2,
        "start_time": "2022-03-14T21:49:21.430Z"
      },
      {
        "duration": 7,
        "start_time": "2022-03-14T21:49:21.434Z"
      },
      {
        "duration": 21,
        "start_time": "2022-03-14T21:49:21.442Z"
      },
      {
        "duration": 7,
        "start_time": "2022-03-14T21:49:21.464Z"
      },
      {
        "duration": 7,
        "start_time": "2022-03-14T21:49:21.472Z"
      },
      {
        "duration": 6,
        "start_time": "2022-03-14T21:49:21.480Z"
      },
      {
        "duration": 4,
        "start_time": "2022-03-14T21:49:21.488Z"
      },
      {
        "duration": 5,
        "start_time": "2022-03-14T21:49:21.493Z"
      },
      {
        "duration": 11,
        "start_time": "2022-03-14T21:49:21.500Z"
      },
      {
        "duration": 5,
        "start_time": "2022-03-14T21:49:21.513Z"
      },
      {
        "duration": 6,
        "start_time": "2022-03-14T21:49:21.520Z"
      },
      {
        "duration": 5,
        "start_time": "2022-03-14T21:49:21.528Z"
      },
      {
        "duration": 6,
        "start_time": "2022-03-14T21:49:21.535Z"
      },
      {
        "duration": 21,
        "start_time": "2022-03-14T21:49:21.542Z"
      },
      {
        "duration": 6,
        "start_time": "2022-03-14T21:49:21.565Z"
      },
      {
        "duration": 14,
        "start_time": "2022-03-14T21:50:09.359Z"
      },
      {
        "duration": 3,
        "start_time": "2022-03-14T21:51:15.401Z"
      },
      {
        "duration": 11198,
        "start_time": "2022-03-14T21:51:16.465Z"
      },
      {
        "duration": 14,
        "start_time": "2022-03-14T21:51:40.841Z"
      },
      {
        "duration": 3,
        "start_time": "2022-03-14T22:03:15.764Z"
      },
      {
        "duration": 9597,
        "start_time": "2022-03-14T22:03:17.409Z"
      },
      {
        "duration": 15,
        "start_time": "2022-03-14T22:03:28.115Z"
      },
      {
        "duration": 20,
        "start_time": "2022-03-14T22:03:35.893Z"
      },
      {
        "duration": 3,
        "start_time": "2022-03-14T22:10:59.533Z"
      },
      {
        "duration": 12887,
        "start_time": "2022-03-14T22:11:01.389Z"
      },
      {
        "duration": 684,
        "start_time": "2022-03-14T22:11:48.738Z"
      },
      {
        "duration": 87,
        "start_time": "2022-03-14T22:11:49.424Z"
      },
      {
        "duration": 20,
        "start_time": "2022-03-14T22:11:49.513Z"
      },
      {
        "duration": 30,
        "start_time": "2022-03-14T22:11:49.535Z"
      },
      {
        "duration": 7,
        "start_time": "2022-03-14T22:11:49.567Z"
      },
      {
        "duration": 8,
        "start_time": "2022-03-14T22:11:49.576Z"
      },
      {
        "duration": 6,
        "start_time": "2022-03-14T22:11:49.585Z"
      },
      {
        "duration": 5,
        "start_time": "2022-03-14T22:11:49.593Z"
      },
      {
        "duration": 6,
        "start_time": "2022-03-14T22:11:49.601Z"
      },
      {
        "duration": 14,
        "start_time": "2022-03-14T22:11:49.609Z"
      },
      {
        "duration": 49,
        "start_time": "2022-03-14T22:11:49.625Z"
      },
      {
        "duration": 5,
        "start_time": "2022-03-14T22:11:49.676Z"
      },
      {
        "duration": 8,
        "start_time": "2022-03-14T22:11:49.683Z"
      },
      {
        "duration": 10,
        "start_time": "2022-03-14T22:11:49.692Z"
      },
      {
        "duration": 23,
        "start_time": "2022-03-14T22:11:49.704Z"
      },
      {
        "duration": 45,
        "start_time": "2022-03-14T22:11:49.729Z"
      },
      {
        "duration": 21,
        "start_time": "2022-03-14T22:11:49.775Z"
      },
      {
        "duration": 7,
        "start_time": "2022-03-14T22:11:49.798Z"
      },
      {
        "duration": 4,
        "start_time": "2022-03-14T22:11:49.806Z"
      },
      {
        "duration": 12157,
        "start_time": "2022-03-14T22:11:49.811Z"
      },
      {
        "duration": 14,
        "start_time": "2022-03-14T22:12:01.970Z"
      },
      {
        "duration": 53,
        "start_time": "2022-03-14T22:12:01.986Z"
      },
      {
        "duration": 28,
        "start_time": "2022-03-14T22:12:02.041Z"
      },
      {
        "duration": 11,
        "start_time": "2022-03-14T22:12:02.071Z"
      },
      {
        "duration": 22,
        "start_time": "2022-03-14T22:12:02.084Z"
      },
      {
        "duration": 9,
        "start_time": "2022-03-14T22:12:02.108Z"
      },
      {
        "duration": 20,
        "start_time": "2022-03-14T22:12:02.120Z"
      },
      {
        "duration": 17,
        "start_time": "2022-03-14T22:12:02.142Z"
      },
      {
        "duration": 15,
        "start_time": "2022-03-14T22:12:02.161Z"
      },
      {
        "duration": 15,
        "start_time": "2022-03-14T22:12:02.178Z"
      },
      {
        "duration": 43,
        "start_time": "2022-03-14T22:12:02.195Z"
      },
      {
        "duration": 27,
        "start_time": "2022-03-14T22:12:02.240Z"
      },
      {
        "duration": 17,
        "start_time": "2022-03-14T22:12:02.269Z"
      },
      {
        "duration": 6,
        "start_time": "2022-03-14T22:12:02.288Z"
      },
      {
        "duration": 33,
        "start_time": "2022-03-14T22:12:02.296Z"
      },
      {
        "duration": 9,
        "start_time": "2022-03-14T22:12:02.331Z"
      },
      {
        "duration": 7,
        "start_time": "2022-03-14T22:12:02.342Z"
      },
      {
        "duration": 9,
        "start_time": "2022-03-14T22:12:02.351Z"
      },
      {
        "duration": 3,
        "start_time": "2022-03-14T22:12:56.815Z"
      },
      {
        "duration": 9,
        "start_time": "2022-03-14T22:12:58.609Z"
      },
      {
        "duration": 15,
        "start_time": "2022-03-14T22:13:00.262Z"
      },
      {
        "duration": 21,
        "start_time": "2022-03-14T22:13:09.375Z"
      },
      {
        "duration": 4,
        "start_time": "2022-03-14T22:14:07.935Z"
      },
      {
        "duration": 10,
        "start_time": "2022-03-14T22:14:08.779Z"
      },
      {
        "duration": 14,
        "start_time": "2022-03-14T22:14:09.595Z"
      },
      {
        "duration": 19,
        "start_time": "2022-03-14T22:14:11.605Z"
      },
      {
        "duration": 608,
        "start_time": "2022-03-15T14:48:14.110Z"
      },
      {
        "duration": 94,
        "start_time": "2022-03-15T14:48:16.446Z"
      },
      {
        "duration": 20,
        "start_time": "2022-03-15T14:48:19.394Z"
      },
      {
        "duration": 16,
        "start_time": "2022-03-15T14:48:22.290Z"
      },
      {
        "duration": 7,
        "start_time": "2022-03-15T14:48:24.636Z"
      },
      {
        "duration": 8,
        "start_time": "2022-03-15T14:48:25.384Z"
      },
      {
        "duration": 6,
        "start_time": "2022-03-15T14:48:28.596Z"
      },
      {
        "duration": 7,
        "start_time": "2022-03-15T14:48:29.174Z"
      },
      {
        "duration": 7,
        "start_time": "2022-03-15T14:48:29.817Z"
      },
      {
        "duration": 12,
        "start_time": "2022-03-15T14:48:32.510Z"
      },
      {
        "duration": 13,
        "start_time": "2022-03-15T14:48:34.312Z"
      },
      {
        "duration": 6,
        "start_time": "2022-03-15T14:48:36.902Z"
      },
      {
        "duration": 4,
        "start_time": "2022-03-15T14:48:37.800Z"
      },
      {
        "duration": 8,
        "start_time": "2022-03-15T14:48:38.598Z"
      },
      {
        "duration": 20,
        "start_time": "2022-03-15T14:48:39.468Z"
      },
      {
        "duration": 13,
        "start_time": "2022-03-15T14:48:40.398Z"
      },
      {
        "duration": 18,
        "start_time": "2022-03-15T14:48:44.436Z"
      },
      {
        "duration": 7,
        "start_time": "2022-03-15T14:48:46.938Z"
      },
      {
        "duration": 3,
        "start_time": "2022-03-15T14:48:49.238Z"
      },
      {
        "duration": 13558,
        "start_time": "2022-03-15T14:48:50.436Z"
      },
      {
        "duration": 11,
        "start_time": "2022-03-15T14:49:03.995Z"
      },
      {
        "duration": 18,
        "start_time": "2022-03-15T14:49:10.504Z"
      },
      {
        "duration": 13,
        "start_time": "2022-03-15T14:49:14.993Z"
      },
      {
        "duration": 17,
        "start_time": "2022-03-15T14:49:28.872Z"
      },
      {
        "duration": 7089,
        "start_time": "2022-03-15T15:03:25.155Z"
      },
      {
        "duration": 7,
        "start_time": "2022-03-15T15:03:45.229Z"
      },
      {
        "duration": 12,
        "start_time": "2022-03-15T15:05:22.111Z"
      },
      {
        "duration": 15,
        "start_time": "2022-03-15T15:05:31.026Z"
      },
      {
        "duration": 4,
        "start_time": "2022-03-15T15:06:57.279Z"
      },
      {
        "duration": 15,
        "start_time": "2022-03-15T15:06:59.956Z"
      },
      {
        "duration": 4,
        "start_time": "2022-03-15T15:07:16.633Z"
      },
      {
        "duration": 15,
        "start_time": "2022-03-15T15:07:19.861Z"
      },
      {
        "duration": 302,
        "start_time": "2022-03-15T15:08:44.502Z"
      },
      {
        "duration": 297,
        "start_time": "2022-03-15T15:09:38.917Z"
      },
      {
        "duration": 272,
        "start_time": "2022-03-15T15:10:37.112Z"
      },
      {
        "duration": 6,
        "start_time": "2022-03-15T15:10:45.873Z"
      },
      {
        "duration": 6,
        "start_time": "2022-03-15T15:11:14.008Z"
      },
      {
        "duration": 15,
        "start_time": "2022-03-15T15:11:17.485Z"
      },
      {
        "duration": 3,
        "start_time": "2022-03-15T15:11:38.402Z"
      },
      {
        "duration": 15,
        "start_time": "2022-03-15T15:11:40.194Z"
      },
      {
        "duration": 303,
        "start_time": "2022-03-15T15:13:55.338Z"
      },
      {
        "duration": 4,
        "start_time": "2022-03-15T15:14:29.386Z"
      },
      {
        "duration": 327,
        "start_time": "2022-03-15T15:14:39.755Z"
      },
      {
        "duration": 14,
        "start_time": "2022-03-15T15:17:51.254Z"
      },
      {
        "duration": 654,
        "start_time": "2022-03-15T15:18:25.772Z"
      },
      {
        "duration": 77,
        "start_time": "2022-03-15T15:18:26.428Z"
      },
      {
        "duration": 20,
        "start_time": "2022-03-15T15:18:26.507Z"
      },
      {
        "duration": 20,
        "start_time": "2022-03-15T15:18:26.528Z"
      },
      {
        "duration": 5,
        "start_time": "2022-03-15T15:18:26.549Z"
      },
      {
        "duration": 26,
        "start_time": "2022-03-15T15:18:26.556Z"
      },
      {
        "duration": 7,
        "start_time": "2022-03-15T15:18:26.583Z"
      },
      {
        "duration": 6,
        "start_time": "2022-03-15T15:18:26.592Z"
      },
      {
        "duration": 5,
        "start_time": "2022-03-15T15:18:26.600Z"
      },
      {
        "duration": 11,
        "start_time": "2022-03-15T15:18:26.606Z"
      },
      {
        "duration": 12,
        "start_time": "2022-03-15T15:18:26.618Z"
      },
      {
        "duration": 5,
        "start_time": "2022-03-15T15:18:26.631Z"
      },
      {
        "duration": 46,
        "start_time": "2022-03-15T15:18:26.637Z"
      },
      {
        "duration": 8,
        "start_time": "2022-03-15T15:18:26.685Z"
      },
      {
        "duration": 21,
        "start_time": "2022-03-15T15:18:26.695Z"
      },
      {
        "duration": 13,
        "start_time": "2022-03-15T15:18:26.718Z"
      },
      {
        "duration": 20,
        "start_time": "2022-03-15T15:18:26.732Z"
      },
      {
        "duration": 5,
        "start_time": "2022-03-15T15:18:26.781Z"
      },
      {
        "duration": 4,
        "start_time": "2022-03-15T15:18:26.788Z"
      },
      {
        "duration": 14343,
        "start_time": "2022-03-15T15:18:26.794Z"
      },
      {
        "duration": 15,
        "start_time": "2022-03-15T15:18:41.139Z"
      },
      {
        "duration": 32,
        "start_time": "2022-03-15T15:18:41.155Z"
      },
      {
        "duration": 36,
        "start_time": "2022-03-15T15:18:41.192Z"
      },
      {
        "duration": 46,
        "start_time": "2022-03-15T15:18:41.231Z"
      },
      {
        "duration": 24,
        "start_time": "2022-03-15T15:18:41.279Z"
      },
      {
        "duration": 14,
        "start_time": "2022-03-15T15:18:41.304Z"
      },
      {
        "duration": 4,
        "start_time": "2022-03-15T15:18:41.319Z"
      },
      {
        "duration": 9,
        "start_time": "2022-03-15T15:18:41.325Z"
      },
      {
        "duration": 26,
        "start_time": "2022-03-15T15:18:41.336Z"
      },
      {
        "duration": 2,
        "start_time": "2022-03-15T15:18:41.363Z"
      },
      {
        "duration": 9,
        "start_time": "2022-03-15T15:18:41.367Z"
      },
      {
        "duration": 9,
        "start_time": "2022-03-15T15:18:41.377Z"
      },
      {
        "duration": 6,
        "start_time": "2022-03-15T15:18:41.387Z"
      },
      {
        "duration": 6,
        "start_time": "2022-03-15T15:18:41.395Z"
      },
      {
        "duration": 6,
        "start_time": "2022-03-15T15:18:41.403Z"
      },
      {
        "duration": 5,
        "start_time": "2022-03-15T15:18:41.410Z"
      },
      {
        "duration": 6,
        "start_time": "2022-03-15T15:18:41.416Z"
      },
      {
        "duration": 4,
        "start_time": "2022-03-15T15:18:41.424Z"
      },
      {
        "duration": 7,
        "start_time": "2022-03-15T15:18:41.430Z"
      },
      {
        "duration": 5,
        "start_time": "2022-03-15T15:18:41.439Z"
      },
      {
        "duration": 30,
        "start_time": "2022-03-15T15:21:27.119Z"
      },
      {
        "duration": 15,
        "start_time": "2022-03-15T15:21:42.304Z"
      },
      {
        "duration": 14,
        "start_time": "2022-03-15T15:22:08.723Z"
      },
      {
        "duration": 19,
        "start_time": "2022-03-15T15:22:12.541Z"
      },
      {
        "duration": 4,
        "start_time": "2022-03-15T15:35:38.469Z"
      },
      {
        "duration": 456,
        "start_time": "2022-03-15T15:37:14.629Z"
      },
      {
        "duration": 1245,
        "start_time": "2022-03-15T15:37:34.149Z"
      },
      {
        "duration": 1443,
        "start_time": "2022-03-15T15:38:33.511Z"
      },
      {
        "duration": 4,
        "start_time": "2022-03-15T15:39:12.873Z"
      },
      {
        "duration": 1425,
        "start_time": "2022-03-15T15:39:14.835Z"
      },
      {
        "duration": 4972,
        "start_time": "2022-03-15T15:40:12.529Z"
      },
      {
        "duration": 168,
        "start_time": "2022-03-15T15:40:35.495Z"
      },
      {
        "duration": 3,
        "start_time": "2022-03-15T15:40:52.977Z"
      },
      {
        "duration": 4432,
        "start_time": "2022-03-15T15:41:48.656Z"
      },
      {
        "duration": 1662,
        "start_time": "2022-03-15T15:46:44.214Z"
      },
      {
        "duration": 15,
        "start_time": "2022-03-15T15:50:10.127Z"
      },
      {
        "duration": 281,
        "start_time": "2022-03-15T15:50:21.429Z"
      },
      {
        "duration": 304,
        "start_time": "2022-03-15T15:50:25.123Z"
      },
      {
        "duration": 300,
        "start_time": "2022-03-15T15:50:32.639Z"
      },
      {
        "duration": 17,
        "start_time": "2022-03-15T15:50:41.895Z"
      },
      {
        "duration": 19,
        "start_time": "2022-03-15T15:50:47.659Z"
      },
      {
        "duration": 28,
        "start_time": "2022-03-15T15:50:57.470Z"
      },
      {
        "duration": 16,
        "start_time": "2022-03-15T15:51:13.481Z"
      },
      {
        "duration": 542,
        "start_time": "2022-03-15T15:53:22.745Z"
      },
      {
        "duration": 104,
        "start_time": "2022-03-15T15:54:00.799Z"
      },
      {
        "duration": 495,
        "start_time": "2022-03-15T15:54:07.606Z"
      },
      {
        "duration": 98,
        "start_time": "2022-03-15T15:54:14.233Z"
      },
      {
        "duration": 448,
        "start_time": "2022-03-15T15:54:19.014Z"
      },
      {
        "duration": 605,
        "start_time": "2022-03-15T15:55:51.110Z"
      },
      {
        "duration": 90,
        "start_time": "2022-03-15T15:55:52.845Z"
      },
      {
        "duration": 19,
        "start_time": "2022-03-15T15:55:56.826Z"
      },
      {
        "duration": 16,
        "start_time": "2022-03-15T15:55:58.714Z"
      },
      {
        "duration": 6,
        "start_time": "2022-03-15T15:56:00.146Z"
      },
      {
        "duration": 9,
        "start_time": "2022-03-15T15:56:00.800Z"
      },
      {
        "duration": 7,
        "start_time": "2022-03-15T15:56:02.910Z"
      },
      {
        "duration": 6,
        "start_time": "2022-03-15T15:56:03.554Z"
      },
      {
        "duration": 6,
        "start_time": "2022-03-15T15:56:04.120Z"
      },
      {
        "duration": 11,
        "start_time": "2022-03-15T15:56:05.760Z"
      },
      {
        "duration": 13,
        "start_time": "2022-03-15T15:56:07.050Z"
      },
      {
        "duration": 5,
        "start_time": "2022-03-15T15:56:11.818Z"
      },
      {
        "duration": 4,
        "start_time": "2022-03-15T15:56:12.464Z"
      },
      {
        "duration": 9,
        "start_time": "2022-03-15T15:56:13.121Z"
      },
      {
        "duration": 21,
        "start_time": "2022-03-15T15:56:13.726Z"
      },
      {
        "duration": 14,
        "start_time": "2022-03-15T15:56:14.342Z"
      },
      {
        "duration": 20,
        "start_time": "2022-03-15T15:56:15.442Z"
      },
      {
        "duration": 6,
        "start_time": "2022-03-15T15:56:17.020Z"
      },
      {
        "duration": 3,
        "start_time": "2022-03-15T15:56:18.586Z"
      },
      {
        "duration": 12930,
        "start_time": "2022-03-15T15:56:19.370Z"
      },
      {
        "duration": 12,
        "start_time": "2022-03-15T15:56:33.382Z"
      },
      {
        "duration": 31,
        "start_time": "2022-03-15T15:56:36.063Z"
      },
      {
        "duration": 17,
        "start_time": "2022-03-15T15:56:38.510Z"
      },
      {
        "duration": 28,
        "start_time": "2022-03-15T15:56:40.281Z"
      },
      {
        "duration": 9,
        "start_time": "2022-03-15T15:56:43.832Z"
      },
      {
        "duration": 13,
        "start_time": "2022-03-15T15:56:44.512Z"
      },
      {
        "duration": 16,
        "start_time": "2022-03-15T15:56:45.580Z"
      },
      {
        "duration": 19,
        "start_time": "2022-03-15T15:56:50.398Z"
      },
      {
        "duration": 17,
        "start_time": "2022-03-15T15:57:01.906Z"
      },
      {
        "duration": 16,
        "start_time": "2022-03-15T15:57:03.523Z"
      },
      {
        "duration": 126,
        "start_time": "2022-03-15T16:24:06.070Z"
      },
      {
        "duration": 352,
        "start_time": "2022-03-15T16:25:44.135Z"
      },
      {
        "duration": 183,
        "start_time": "2022-03-15T16:26:26.813Z"
      },
      {
        "duration": 299,
        "start_time": "2022-03-15T16:26:37.534Z"
      },
      {
        "duration": 398,
        "start_time": "2022-03-15T16:26:42.101Z"
      },
      {
        "duration": 220,
        "start_time": "2022-03-15T16:27:33.574Z"
      },
      {
        "duration": 306,
        "start_time": "2022-03-15T16:27:43.254Z"
      },
      {
        "duration": 308,
        "start_time": "2022-03-15T16:27:53.297Z"
      },
      {
        "duration": 293,
        "start_time": "2022-03-15T16:28:27.624Z"
      },
      {
        "duration": 297,
        "start_time": "2022-03-15T16:29:02.751Z"
      },
      {
        "duration": 369,
        "start_time": "2022-03-15T16:29:11.244Z"
      },
      {
        "duration": 286,
        "start_time": "2022-03-15T16:42:38.587Z"
      },
      {
        "duration": 1013,
        "start_time": "2022-03-15T16:42:49.771Z"
      },
      {
        "duration": 248,
        "start_time": "2022-03-15T16:42:58.269Z"
      },
      {
        "duration": 233,
        "start_time": "2022-03-15T16:43:26.949Z"
      },
      {
        "duration": 235,
        "start_time": "2022-03-15T16:43:43.229Z"
      },
      {
        "duration": 129,
        "start_time": "2022-03-15T16:45:10.799Z"
      },
      {
        "duration": 327,
        "start_time": "2022-03-15T16:45:32.545Z"
      },
      {
        "duration": 125,
        "start_time": "2022-03-15T16:45:38.033Z"
      },
      {
        "duration": 258,
        "start_time": "2022-03-15T16:45:58.205Z"
      },
      {
        "duration": 259,
        "start_time": "2022-03-15T16:46:14.445Z"
      },
      {
        "duration": 373,
        "start_time": "2022-03-15T16:46:19.116Z"
      },
      {
        "duration": 364,
        "start_time": "2022-03-15T16:46:24.124Z"
      },
      {
        "duration": 299,
        "start_time": "2022-03-15T16:46:39.657Z"
      },
      {
        "duration": 275,
        "start_time": "2022-03-15T16:46:46.357Z"
      },
      {
        "duration": 740,
        "start_time": "2022-03-15T19:18:39.367Z"
      },
      {
        "duration": 88,
        "start_time": "2022-03-15T19:18:41.213Z"
      },
      {
        "duration": 23,
        "start_time": "2022-03-15T19:18:43.183Z"
      },
      {
        "duration": 21,
        "start_time": "2022-03-15T19:18:44.359Z"
      },
      {
        "duration": 8,
        "start_time": "2022-03-15T19:18:48.683Z"
      },
      {
        "duration": 10,
        "start_time": "2022-03-15T19:18:49.333Z"
      },
      {
        "duration": 7,
        "start_time": "2022-03-15T19:18:50.977Z"
      },
      {
        "duration": 8,
        "start_time": "2022-03-15T19:18:51.567Z"
      },
      {
        "duration": 9,
        "start_time": "2022-03-15T19:18:52.183Z"
      },
      {
        "duration": 14,
        "start_time": "2022-03-15T19:18:56.097Z"
      },
      {
        "duration": 13,
        "start_time": "2022-03-15T19:18:56.817Z"
      },
      {
        "duration": 6,
        "start_time": "2022-03-15T19:18:59.357Z"
      },
      {
        "duration": 4,
        "start_time": "2022-03-15T19:18:59.931Z"
      },
      {
        "duration": 10,
        "start_time": "2022-03-15T19:19:00.516Z"
      },
      {
        "duration": 28,
        "start_time": "2022-03-15T19:19:01.073Z"
      },
      {
        "duration": 20,
        "start_time": "2022-03-15T19:19:01.777Z"
      },
      {
        "duration": 22,
        "start_time": "2022-03-15T19:19:03.491Z"
      },
      {
        "duration": 7,
        "start_time": "2022-03-15T19:19:04.571Z"
      },
      {
        "duration": 4,
        "start_time": "2022-03-15T19:19:06.105Z"
      },
      {
        "duration": 16035,
        "start_time": "2022-03-15T19:19:07.239Z"
      },
      {
        "duration": 15,
        "start_time": "2022-03-15T19:19:24.887Z"
      },
      {
        "duration": 21,
        "start_time": "2022-03-15T19:19:26.281Z"
      },
      {
        "duration": 15,
        "start_time": "2022-03-15T19:19:28.220Z"
      },
      {
        "duration": 20,
        "start_time": "2022-03-15T19:19:29.759Z"
      },
      {
        "duration": 10,
        "start_time": "2022-03-15T19:19:32.515Z"
      },
      {
        "duration": 11,
        "start_time": "2022-03-15T19:19:33.081Z"
      },
      {
        "duration": 15,
        "start_time": "2022-03-15T19:19:33.675Z"
      },
      {
        "duration": 4,
        "start_time": "2022-03-15T19:27:27.509Z"
      },
      {
        "duration": 21,
        "start_time": "2022-03-15T19:27:29.962Z"
      },
      {
        "duration": 18,
        "start_time": "2022-03-15T19:27:30.867Z"
      },
      {
        "duration": 24,
        "start_time": "2022-03-15T19:28:07.661Z"
      },
      {
        "duration": 19,
        "start_time": "2022-03-15T19:28:09.764Z"
      },
      {
        "duration": 171,
        "start_time": "2022-03-15T19:28:58.215Z"
      },
      {
        "duration": 388,
        "start_time": "2022-03-15T19:28:59.555Z"
      },
      {
        "duration": 402,
        "start_time": "2022-03-15T19:29:01.673Z"
      },
      {
        "duration": 396,
        "start_time": "2022-03-15T19:29:03.313Z"
      },
      {
        "duration": 6416,
        "start_time": "2022-03-15T19:42:25.841Z"
      },
      {
        "duration": 743,
        "start_time": "2022-03-15T19:42:41.516Z"
      },
      {
        "duration": 122,
        "start_time": "2022-03-15T19:42:42.262Z"
      },
      {
        "duration": 22,
        "start_time": "2022-03-15T19:42:42.386Z"
      },
      {
        "duration": 29,
        "start_time": "2022-03-15T19:42:42.410Z"
      },
      {
        "duration": 6,
        "start_time": "2022-03-15T19:42:42.441Z"
      },
      {
        "duration": 11,
        "start_time": "2022-03-15T19:42:42.448Z"
      },
      {
        "duration": 10,
        "start_time": "2022-03-15T19:42:42.460Z"
      },
      {
        "duration": 9,
        "start_time": "2022-03-15T19:42:42.472Z"
      },
      {
        "duration": 6,
        "start_time": "2022-03-15T19:42:42.484Z"
      },
      {
        "duration": 45,
        "start_time": "2022-03-15T19:42:42.493Z"
      },
      {
        "duration": 15,
        "start_time": "2022-03-15T19:42:42.540Z"
      },
      {
        "duration": 6,
        "start_time": "2022-03-15T19:42:42.557Z"
      },
      {
        "duration": 10,
        "start_time": "2022-03-15T19:42:42.565Z"
      },
      {
        "duration": 10,
        "start_time": "2022-03-15T19:42:42.577Z"
      },
      {
        "duration": 52,
        "start_time": "2022-03-15T19:42:42.589Z"
      },
      {
        "duration": 17,
        "start_time": "2022-03-15T19:42:42.643Z"
      },
      {
        "duration": 23,
        "start_time": "2022-03-15T19:42:42.662Z"
      },
      {
        "duration": 7,
        "start_time": "2022-03-15T19:42:42.687Z"
      },
      {
        "duration": 4,
        "start_time": "2022-03-15T19:42:42.696Z"
      },
      {
        "duration": 18159,
        "start_time": "2022-03-15T19:42:42.701Z"
      },
      {
        "duration": 16,
        "start_time": "2022-03-15T19:43:00.862Z"
      },
      {
        "duration": 27,
        "start_time": "2022-03-15T19:43:00.880Z"
      },
      {
        "duration": 31,
        "start_time": "2022-03-15T19:43:00.909Z"
      },
      {
        "duration": 21,
        "start_time": "2022-03-15T19:43:00.942Z"
      },
      {
        "duration": 11,
        "start_time": "2022-03-15T19:43:00.965Z"
      },
      {
        "duration": 11,
        "start_time": "2022-03-15T19:43:00.979Z"
      },
      {
        "duration": 41,
        "start_time": "2022-03-15T19:43:00.994Z"
      },
      {
        "duration": 4,
        "start_time": "2022-03-15T19:43:01.037Z"
      },
      {
        "duration": 45,
        "start_time": "2022-03-15T19:43:01.043Z"
      },
      {
        "duration": 20,
        "start_time": "2022-03-15T19:43:01.089Z"
      },
      {
        "duration": 30,
        "start_time": "2022-03-15T19:43:01.111Z"
      },
      {
        "duration": 21,
        "start_time": "2022-03-15T19:43:01.143Z"
      },
      {
        "duration": 207,
        "start_time": "2022-03-15T19:43:01.166Z"
      },
      {
        "duration": 443,
        "start_time": "2022-03-15T19:43:01.375Z"
      },
      {
        "duration": 412,
        "start_time": "2022-03-15T19:43:01.821Z"
      },
      {
        "duration": 400,
        "start_time": "2022-03-15T19:43:02.234Z"
      },
      {
        "duration": 6421,
        "start_time": "2022-03-15T19:43:02.636Z"
      },
      {
        "duration": -184,
        "start_time": "2022-03-15T19:43:09.243Z"
      },
      {
        "duration": -203,
        "start_time": "2022-03-15T19:43:09.263Z"
      },
      {
        "duration": -217,
        "start_time": "2022-03-15T19:43:09.278Z"
      },
      {
        "duration": -230,
        "start_time": "2022-03-15T19:43:09.292Z"
      },
      {
        "duration": -241,
        "start_time": "2022-03-15T19:43:09.304Z"
      },
      {
        "duration": 720,
        "start_time": "2022-03-15T19:46:19.902Z"
      },
      {
        "duration": 97,
        "start_time": "2022-03-15T19:46:20.624Z"
      },
      {
        "duration": 22,
        "start_time": "2022-03-15T19:46:20.723Z"
      },
      {
        "duration": 21,
        "start_time": "2022-03-15T19:46:20.748Z"
      },
      {
        "duration": 6,
        "start_time": "2022-03-15T19:46:20.771Z"
      },
      {
        "duration": 9,
        "start_time": "2022-03-15T19:46:20.779Z"
      },
      {
        "duration": 6,
        "start_time": "2022-03-15T19:46:20.789Z"
      },
      {
        "duration": 40,
        "start_time": "2022-03-15T19:46:20.798Z"
      },
      {
        "duration": 12,
        "start_time": "2022-03-15T19:46:20.840Z"
      },
      {
        "duration": 18,
        "start_time": "2022-03-15T19:46:20.853Z"
      },
      {
        "duration": 13,
        "start_time": "2022-03-15T19:46:20.873Z"
      },
      {
        "duration": 6,
        "start_time": "2022-03-15T19:46:20.888Z"
      },
      {
        "duration": 8,
        "start_time": "2022-03-15T19:46:20.895Z"
      },
      {
        "duration": 35,
        "start_time": "2022-03-15T19:46:20.904Z"
      },
      {
        "duration": 29,
        "start_time": "2022-03-15T19:46:20.941Z"
      },
      {
        "duration": 16,
        "start_time": "2022-03-15T19:46:20.972Z"
      },
      {
        "duration": 45,
        "start_time": "2022-03-15T19:46:20.989Z"
      },
      {
        "duration": 7,
        "start_time": "2022-03-15T19:46:21.036Z"
      },
      {
        "duration": 4,
        "start_time": "2022-03-15T19:46:21.045Z"
      },
      {
        "duration": 17197,
        "start_time": "2022-03-15T19:46:21.050Z"
      },
      {
        "duration": 15,
        "start_time": "2022-03-15T19:46:38.249Z"
      },
      {
        "duration": 52,
        "start_time": "2022-03-15T19:46:38.265Z"
      },
      {
        "duration": 14,
        "start_time": "2022-03-15T19:46:38.321Z"
      },
      {
        "duration": 20,
        "start_time": "2022-03-15T19:46:38.338Z"
      },
      {
        "duration": 9,
        "start_time": "2022-03-15T19:46:38.359Z"
      },
      {
        "duration": 21,
        "start_time": "2022-03-15T19:46:38.370Z"
      },
      {
        "duration": 33,
        "start_time": "2022-03-15T19:46:38.393Z"
      },
      {
        "duration": 4,
        "start_time": "2022-03-15T19:46:38.428Z"
      },
      {
        "duration": 32,
        "start_time": "2022-03-15T19:46:38.434Z"
      },
      {
        "duration": 23,
        "start_time": "2022-03-15T19:46:38.468Z"
      },
      {
        "duration": 24,
        "start_time": "2022-03-15T19:46:38.492Z"
      },
      {
        "duration": 30,
        "start_time": "2022-03-15T19:46:38.518Z"
      },
      {
        "duration": 193,
        "start_time": "2022-03-15T19:46:38.550Z"
      },
      {
        "duration": 414,
        "start_time": "2022-03-15T19:46:38.744Z"
      },
      {
        "duration": 391,
        "start_time": "2022-03-15T19:46:39.160Z"
      },
      {
        "duration": 409,
        "start_time": "2022-03-15T19:46:39.553Z"
      },
      {
        "duration": 1006,
        "start_time": "2022-03-15T19:46:39.964Z"
      },
      {
        "duration": 2,
        "start_time": "2022-03-15T19:46:40.972Z"
      },
      {
        "duration": 6,
        "start_time": "2022-03-15T19:46:40.976Z"
      },
      {
        "duration": 7,
        "start_time": "2022-03-15T19:46:40.984Z"
      },
      {
        "duration": 7,
        "start_time": "2022-03-15T19:46:40.993Z"
      },
      {
        "duration": 6,
        "start_time": "2022-03-15T19:46:41.002Z"
      },
      {
        "duration": 639,
        "start_time": "2022-03-15T19:47:36.346Z"
      },
      {
        "duration": 1011,
        "start_time": "2022-03-15T19:47:55.614Z"
      },
      {
        "duration": 1064,
        "start_time": "2022-03-15T19:48:04.698Z"
      },
      {
        "duration": 694,
        "start_time": "2022-03-15T19:55:09.188Z"
      },
      {
        "duration": 106,
        "start_time": "2022-03-15T19:55:09.884Z"
      },
      {
        "duration": 24,
        "start_time": "2022-03-15T19:55:09.992Z"
      },
      {
        "duration": 33,
        "start_time": "2022-03-15T19:55:10.019Z"
      },
      {
        "duration": 17,
        "start_time": "2022-03-15T19:55:10.054Z"
      },
      {
        "duration": 12,
        "start_time": "2022-03-15T19:55:10.073Z"
      },
      {
        "duration": 13,
        "start_time": "2022-03-15T19:55:10.087Z"
      },
      {
        "duration": 29,
        "start_time": "2022-03-15T19:55:10.104Z"
      },
      {
        "duration": 9,
        "start_time": "2022-03-15T19:55:10.136Z"
      },
      {
        "duration": 15,
        "start_time": "2022-03-15T19:55:10.146Z"
      },
      {
        "duration": 14,
        "start_time": "2022-03-15T19:55:10.163Z"
      },
      {
        "duration": 6,
        "start_time": "2022-03-15T19:55:10.179Z"
      },
      {
        "duration": 46,
        "start_time": "2022-03-15T19:55:10.186Z"
      },
      {
        "duration": 9,
        "start_time": "2022-03-15T19:55:10.234Z"
      },
      {
        "duration": 30,
        "start_time": "2022-03-15T19:55:10.244Z"
      },
      {
        "duration": 21,
        "start_time": "2022-03-15T19:55:10.276Z"
      },
      {
        "duration": 37,
        "start_time": "2022-03-15T19:55:10.299Z"
      },
      {
        "duration": 8,
        "start_time": "2022-03-15T19:55:10.337Z"
      },
      {
        "duration": 3,
        "start_time": "2022-03-15T19:55:10.347Z"
      },
      {
        "duration": 17311,
        "start_time": "2022-03-15T19:55:10.352Z"
      },
      {
        "duration": 15,
        "start_time": "2022-03-15T19:55:27.665Z"
      },
      {
        "duration": 25,
        "start_time": "2022-03-15T19:55:27.681Z"
      },
      {
        "duration": 27,
        "start_time": "2022-03-15T19:55:27.709Z"
      },
      {
        "duration": 21,
        "start_time": "2022-03-15T19:55:27.739Z"
      },
      {
        "duration": 9,
        "start_time": "2022-03-15T19:55:27.762Z"
      },
      {
        "duration": 12,
        "start_time": "2022-03-15T19:55:27.773Z"
      },
      {
        "duration": 54,
        "start_time": "2022-03-15T19:55:27.787Z"
      },
      {
        "duration": 4,
        "start_time": "2022-03-15T19:55:27.843Z"
      },
      {
        "duration": 22,
        "start_time": "2022-03-15T19:55:27.850Z"
      },
      {
        "duration": 19,
        "start_time": "2022-03-15T19:55:27.874Z"
      },
      {
        "duration": 51,
        "start_time": "2022-03-15T19:55:27.895Z"
      },
      {
        "duration": 19,
        "start_time": "2022-03-15T19:55:27.948Z"
      },
      {
        "duration": 187,
        "start_time": "2022-03-15T19:55:27.969Z"
      },
      {
        "duration": 406,
        "start_time": "2022-03-15T19:55:28.158Z"
      },
      {
        "duration": 379,
        "start_time": "2022-03-15T19:55:28.565Z"
      },
      {
        "duration": 388,
        "start_time": "2022-03-15T19:55:28.946Z"
      },
      {
        "duration": 691,
        "start_time": "2022-03-15T19:57:10.981Z"
      },
      {
        "duration": 95,
        "start_time": "2022-03-15T19:57:11.674Z"
      },
      {
        "duration": 25,
        "start_time": "2022-03-15T19:57:11.771Z"
      },
      {
        "duration": 34,
        "start_time": "2022-03-15T19:57:11.799Z"
      },
      {
        "duration": 9,
        "start_time": "2022-03-15T19:57:11.835Z"
      },
      {
        "duration": 11,
        "start_time": "2022-03-15T19:57:11.845Z"
      },
      {
        "duration": 8,
        "start_time": "2022-03-15T19:57:11.858Z"
      },
      {
        "duration": 10,
        "start_time": "2022-03-15T19:57:11.868Z"
      },
      {
        "duration": 8,
        "start_time": "2022-03-15T19:57:11.881Z"
      },
      {
        "duration": 52,
        "start_time": "2022-03-15T19:57:11.891Z"
      },
      {
        "duration": 14,
        "start_time": "2022-03-15T19:57:11.945Z"
      },
      {
        "duration": 16,
        "start_time": "2022-03-15T19:57:11.962Z"
      },
      {
        "duration": 7,
        "start_time": "2022-03-15T19:57:11.980Z"
      },
      {
        "duration": 11,
        "start_time": "2022-03-15T19:57:11.989Z"
      },
      {
        "duration": 52,
        "start_time": "2022-03-15T19:57:12.002Z"
      },
      {
        "duration": 17,
        "start_time": "2022-03-15T19:57:12.056Z"
      },
      {
        "duration": 25,
        "start_time": "2022-03-15T19:57:12.075Z"
      },
      {
        "duration": 32,
        "start_time": "2022-03-15T19:57:12.102Z"
      },
      {
        "duration": 4,
        "start_time": "2022-03-15T19:57:12.136Z"
      },
      {
        "duration": 17718,
        "start_time": "2022-03-15T19:57:12.142Z"
      },
      {
        "duration": 14,
        "start_time": "2022-03-15T19:57:29.862Z"
      },
      {
        "duration": 24,
        "start_time": "2022-03-15T19:57:29.878Z"
      },
      {
        "duration": 32,
        "start_time": "2022-03-15T19:57:29.906Z"
      },
      {
        "duration": 20,
        "start_time": "2022-03-15T19:57:29.941Z"
      },
      {
        "duration": 9,
        "start_time": "2022-03-15T19:57:29.963Z"
      },
      {
        "duration": 11,
        "start_time": "2022-03-15T19:57:29.974Z"
      },
      {
        "duration": 51,
        "start_time": "2022-03-15T19:57:29.986Z"
      },
      {
        "duration": 4,
        "start_time": "2022-03-15T19:57:30.038Z"
      },
      {
        "duration": 27,
        "start_time": "2022-03-15T19:57:30.044Z"
      },
      {
        "duration": 22,
        "start_time": "2022-03-15T19:57:30.072Z"
      },
      {
        "duration": 43,
        "start_time": "2022-03-15T19:57:30.096Z"
      },
      {
        "duration": 19,
        "start_time": "2022-03-15T19:57:30.141Z"
      },
      {
        "duration": 194,
        "start_time": "2022-03-15T19:57:30.162Z"
      },
      {
        "duration": 421,
        "start_time": "2022-03-15T19:57:30.358Z"
      },
      {
        "duration": 398,
        "start_time": "2022-03-15T19:57:30.781Z"
      },
      {
        "duration": 417,
        "start_time": "2022-03-15T19:57:31.181Z"
      },
      {
        "duration": 1159,
        "start_time": "2022-03-15T19:57:31.600Z"
      },
      {
        "duration": 2,
        "start_time": "2022-03-15T19:57:32.761Z"
      },
      {
        "duration": 19,
        "start_time": "2022-03-15T19:57:32.765Z"
      },
      {
        "duration": 23,
        "start_time": "2022-03-15T19:57:32.786Z"
      },
      {
        "duration": 27,
        "start_time": "2022-03-15T19:57:32.811Z"
      },
      {
        "duration": 7,
        "start_time": "2022-03-15T19:57:32.840Z"
      },
      {
        "duration": 735,
        "start_time": "2022-03-15T20:34:05.215Z"
      },
      {
        "duration": 100,
        "start_time": "2022-03-15T20:34:05.952Z"
      },
      {
        "duration": 22,
        "start_time": "2022-03-15T20:34:06.054Z"
      },
      {
        "duration": 20,
        "start_time": "2022-03-15T20:34:06.078Z"
      },
      {
        "duration": 9,
        "start_time": "2022-03-15T20:34:06.099Z"
      },
      {
        "duration": 31,
        "start_time": "2022-03-15T20:34:06.110Z"
      },
      {
        "duration": 7,
        "start_time": "2022-03-15T20:34:06.142Z"
      },
      {
        "duration": 9,
        "start_time": "2022-03-15T20:34:06.151Z"
      },
      {
        "duration": 12,
        "start_time": "2022-03-15T20:34:06.162Z"
      },
      {
        "duration": 15,
        "start_time": "2022-03-15T20:34:06.176Z"
      },
      {
        "duration": 48,
        "start_time": "2022-03-15T20:34:06.193Z"
      },
      {
        "duration": 6,
        "start_time": "2022-03-15T20:34:06.243Z"
      },
      {
        "duration": 6,
        "start_time": "2022-03-15T20:34:06.251Z"
      },
      {
        "duration": 10,
        "start_time": "2022-03-15T20:34:06.259Z"
      },
      {
        "duration": 27,
        "start_time": "2022-03-15T20:34:06.270Z"
      },
      {
        "duration": 46,
        "start_time": "2022-03-15T20:34:06.299Z"
      },
      {
        "duration": 33,
        "start_time": "2022-03-15T20:34:06.346Z"
      },
      {
        "duration": 15,
        "start_time": "2022-03-15T20:34:06.381Z"
      },
      {
        "duration": 35,
        "start_time": "2022-03-15T20:34:06.397Z"
      },
      {
        "duration": 16795,
        "start_time": "2022-03-15T20:34:06.434Z"
      },
      {
        "duration": 15,
        "start_time": "2022-03-15T20:34:23.231Z"
      },
      {
        "duration": 25,
        "start_time": "2022-03-15T20:34:23.247Z"
      },
      {
        "duration": 15,
        "start_time": "2022-03-15T20:34:23.276Z"
      },
      {
        "duration": 44,
        "start_time": "2022-03-15T20:34:23.294Z"
      },
      {
        "duration": 9,
        "start_time": "2022-03-15T20:34:23.340Z"
      },
      {
        "duration": 11,
        "start_time": "2022-03-15T20:34:23.351Z"
      },
      {
        "duration": 17,
        "start_time": "2022-03-15T20:34:23.363Z"
      },
      {
        "duration": 3,
        "start_time": "2022-03-15T20:34:23.382Z"
      },
      {
        "duration": 58,
        "start_time": "2022-03-15T20:34:23.387Z"
      },
      {
        "duration": 19,
        "start_time": "2022-03-15T20:34:23.447Z"
      },
      {
        "duration": 24,
        "start_time": "2022-03-15T20:34:23.468Z"
      },
      {
        "duration": 19,
        "start_time": "2022-03-15T20:34:23.494Z"
      },
      {
        "duration": 193,
        "start_time": "2022-03-15T20:34:23.532Z"
      },
      {
        "duration": 419,
        "start_time": "2022-03-15T20:34:23.726Z"
      },
      {
        "duration": 376,
        "start_time": "2022-03-15T20:34:24.147Z"
      },
      {
        "duration": 386,
        "start_time": "2022-03-15T20:34:24.525Z"
      },
      {
        "duration": 1062,
        "start_time": "2022-03-15T20:34:24.913Z"
      },
      {
        "duration": 102,
        "start_time": "2022-03-15T20:34:25.976Z"
      },
      {
        "duration": -270,
        "start_time": "2022-03-15T20:34:26.350Z"
      },
      {
        "duration": -296,
        "start_time": "2022-03-15T20:34:26.377Z"
      },
      {
        "duration": -317,
        "start_time": "2022-03-15T20:34:26.399Z"
      },
      {
        "duration": -346,
        "start_time": "2022-03-15T20:34:26.429Z"
      },
      {
        "duration": 157,
        "start_time": "2022-03-15T20:34:43.729Z"
      },
      {
        "duration": 237,
        "start_time": "2022-03-15T20:34:56.705Z"
      },
      {
        "duration": 245,
        "start_time": "2022-03-15T20:35:20.489Z"
      },
      {
        "duration": 349,
        "start_time": "2022-03-15T20:35:41.492Z"
      },
      {
        "duration": 195,
        "start_time": "2022-03-15T20:35:48.188Z"
      },
      {
        "duration": 197,
        "start_time": "2022-03-15T20:38:02.555Z"
      },
      {
        "duration": 232,
        "start_time": "2022-03-15T20:41:06.723Z"
      },
      {
        "duration": 704,
        "start_time": "2022-03-16T15:25:19.859Z"
      },
      {
        "duration": 101,
        "start_time": "2022-03-16T15:25:20.564Z"
      },
      {
        "duration": 23,
        "start_time": "2022-03-16T15:25:20.667Z"
      },
      {
        "duration": 20,
        "start_time": "2022-03-16T15:25:20.692Z"
      },
      {
        "duration": 21,
        "start_time": "2022-03-16T15:25:20.713Z"
      },
      {
        "duration": 12,
        "start_time": "2022-03-16T15:25:20.736Z"
      },
      {
        "duration": 6,
        "start_time": "2022-03-16T15:25:20.750Z"
      },
      {
        "duration": 10,
        "start_time": "2022-03-16T15:25:20.759Z"
      },
      {
        "duration": 7,
        "start_time": "2022-03-16T15:25:20.771Z"
      },
      {
        "duration": 54,
        "start_time": "2022-03-16T15:25:20.780Z"
      },
      {
        "duration": 14,
        "start_time": "2022-03-16T15:25:20.836Z"
      },
      {
        "duration": 6,
        "start_time": "2022-03-16T15:25:20.852Z"
      },
      {
        "duration": 19,
        "start_time": "2022-03-16T15:25:20.860Z"
      },
      {
        "duration": 12,
        "start_time": "2022-03-16T15:25:20.881Z"
      },
      {
        "duration": 44,
        "start_time": "2022-03-16T15:25:20.894Z"
      },
      {
        "duration": 19,
        "start_time": "2022-03-16T15:25:20.940Z"
      },
      {
        "duration": 38,
        "start_time": "2022-03-16T15:25:20.962Z"
      },
      {
        "duration": 7,
        "start_time": "2022-03-16T15:25:21.003Z"
      },
      {
        "duration": 3,
        "start_time": "2022-03-16T15:25:21.033Z"
      },
      {
        "duration": 16493,
        "start_time": "2022-03-16T15:25:21.038Z"
      },
      {
        "duration": 14,
        "start_time": "2022-03-16T15:25:37.533Z"
      },
      {
        "duration": 27,
        "start_time": "2022-03-16T15:25:37.549Z"
      },
      {
        "duration": 16,
        "start_time": "2022-03-16T15:25:37.579Z"
      },
      {
        "duration": 40,
        "start_time": "2022-03-16T15:25:37.598Z"
      },
      {
        "duration": 10,
        "start_time": "2022-03-16T15:25:37.641Z"
      },
      {
        "duration": 11,
        "start_time": "2022-03-16T15:25:37.653Z"
      },
      {
        "duration": 22,
        "start_time": "2022-03-16T15:25:37.666Z"
      },
      {
        "duration": 5,
        "start_time": "2022-03-16T15:25:37.689Z"
      },
      {
        "duration": 54,
        "start_time": "2022-03-16T15:25:37.696Z"
      },
      {
        "duration": 20,
        "start_time": "2022-03-16T15:25:37.752Z"
      },
      {
        "duration": 23,
        "start_time": "2022-03-16T15:25:37.775Z"
      },
      {
        "duration": 43,
        "start_time": "2022-03-16T15:25:37.800Z"
      },
      {
        "duration": 194,
        "start_time": "2022-03-16T15:25:37.845Z"
      },
      {
        "duration": 430,
        "start_time": "2022-03-16T15:25:38.041Z"
      },
      {
        "duration": 385,
        "start_time": "2022-03-16T15:25:38.473Z"
      },
      {
        "duration": 418,
        "start_time": "2022-03-16T15:25:38.860Z"
      },
      {
        "duration": 1064,
        "start_time": "2022-03-16T15:25:39.287Z"
      },
      {
        "duration": 215,
        "start_time": "2022-03-16T15:25:40.353Z"
      },
      {
        "duration": 8,
        "start_time": "2022-03-16T15:27:57.769Z"
      },
      {
        "duration": 407,
        "start_time": "2022-03-16T15:28:46.408Z"
      },
      {
        "duration": 173,
        "start_time": "2022-03-16T15:28:51.123Z"
      },
      {
        "duration": 365,
        "start_time": "2022-03-16T15:30:02.881Z"
      },
      {
        "duration": 370,
        "start_time": "2022-03-16T15:30:35.247Z"
      },
      {
        "duration": 230,
        "start_time": "2022-03-16T15:30:52.736Z"
      },
      {
        "duration": 273,
        "start_time": "2022-03-16T15:31:24.353Z"
      },
      {
        "duration": 7,
        "start_time": "2022-03-16T15:32:44.304Z"
      },
      {
        "duration": 275,
        "start_time": "2022-03-16T15:33:38.290Z"
      },
      {
        "duration": 181,
        "start_time": "2022-03-16T15:33:55.919Z"
      },
      {
        "duration": 166,
        "start_time": "2022-03-16T15:34:20.043Z"
      },
      {
        "duration": 176,
        "start_time": "2022-03-16T15:34:23.600Z"
      },
      {
        "duration": 169,
        "start_time": "2022-03-16T15:34:30.795Z"
      },
      {
        "duration": 171,
        "start_time": "2022-03-16T15:34:37.817Z"
      },
      {
        "duration": 167,
        "start_time": "2022-03-16T15:34:43.069Z"
      },
      {
        "duration": 13,
        "start_time": "2022-03-16T15:35:27.616Z"
      },
      {
        "duration": 10,
        "start_time": "2022-03-16T15:38:15.113Z"
      },
      {
        "duration": 17,
        "start_time": "2022-03-16T15:38:24.107Z"
      },
      {
        "duration": 271,
        "start_time": "2022-03-16T15:39:51.459Z"
      },
      {
        "duration": 444,
        "start_time": "2022-03-16T15:39:57.082Z"
      },
      {
        "duration": 169,
        "start_time": "2022-03-16T15:40:08.493Z"
      },
      {
        "duration": 13,
        "start_time": "2022-03-16T15:42:14.643Z"
      },
      {
        "duration": 19,
        "start_time": "2022-03-16T15:42:57.891Z"
      },
      {
        "duration": 22,
        "start_time": "2022-03-16T15:43:23.531Z"
      },
      {
        "duration": 19,
        "start_time": "2022-03-16T15:43:39.843Z"
      },
      {
        "duration": 4,
        "start_time": "2022-03-16T15:45:28.066Z"
      },
      {
        "duration": 454,
        "start_time": "2022-03-16T15:52:56.815Z"
      },
      {
        "duration": 744,
        "start_time": "2022-03-16T16:01:20.322Z"
      },
      {
        "duration": 105,
        "start_time": "2022-03-16T16:01:21.069Z"
      },
      {
        "duration": 22,
        "start_time": "2022-03-16T16:01:21.178Z"
      },
      {
        "duration": 34,
        "start_time": "2022-03-16T16:01:21.202Z"
      },
      {
        "duration": 7,
        "start_time": "2022-03-16T16:01:21.238Z"
      },
      {
        "duration": 12,
        "start_time": "2022-03-16T16:01:21.246Z"
      },
      {
        "duration": 6,
        "start_time": "2022-03-16T16:01:21.260Z"
      },
      {
        "duration": 6,
        "start_time": "2022-03-16T16:01:21.269Z"
      },
      {
        "duration": 11,
        "start_time": "2022-03-16T16:01:21.277Z"
      },
      {
        "duration": 52,
        "start_time": "2022-03-16T16:01:21.290Z"
      },
      {
        "duration": 13,
        "start_time": "2022-03-16T16:01:21.344Z"
      },
      {
        "duration": 6,
        "start_time": "2022-03-16T16:01:21.358Z"
      },
      {
        "duration": 19,
        "start_time": "2022-03-16T16:01:21.366Z"
      },
      {
        "duration": 22,
        "start_time": "2022-03-16T16:01:21.387Z"
      },
      {
        "duration": 33,
        "start_time": "2022-03-16T16:01:21.411Z"
      },
      {
        "duration": 17,
        "start_time": "2022-03-16T16:01:21.446Z"
      },
      {
        "duration": 23,
        "start_time": "2022-03-16T16:01:21.465Z"
      },
      {
        "duration": 7,
        "start_time": "2022-03-16T16:01:21.491Z"
      },
      {
        "duration": 4,
        "start_time": "2022-03-16T16:01:21.500Z"
      },
      {
        "duration": 17436,
        "start_time": "2022-03-16T16:01:21.505Z"
      },
      {
        "duration": 14,
        "start_time": "2022-03-16T16:01:38.943Z"
      },
      {
        "duration": 25,
        "start_time": "2022-03-16T16:01:38.959Z"
      },
      {
        "duration": 14,
        "start_time": "2022-03-16T16:01:38.986Z"
      },
      {
        "duration": 41,
        "start_time": "2022-03-16T16:01:39.002Z"
      },
      {
        "duration": 9,
        "start_time": "2022-03-16T16:01:39.044Z"
      },
      {
        "duration": 11,
        "start_time": "2022-03-16T16:01:39.057Z"
      },
      {
        "duration": 16,
        "start_time": "2022-03-16T16:01:39.070Z"
      },
      {
        "duration": 4,
        "start_time": "2022-03-16T16:01:39.088Z"
      },
      {
        "duration": 54,
        "start_time": "2022-03-16T16:01:39.094Z"
      },
      {
        "duration": 17,
        "start_time": "2022-03-16T16:01:39.150Z"
      },
      {
        "duration": 24,
        "start_time": "2022-03-16T16:01:39.169Z"
      },
      {
        "duration": 38,
        "start_time": "2022-03-16T16:01:39.195Z"
      },
      {
        "duration": 193,
        "start_time": "2022-03-16T16:01:39.234Z"
      },
      {
        "duration": 424,
        "start_time": "2022-03-16T16:01:39.431Z"
      },
      {
        "duration": 370,
        "start_time": "2022-03-16T16:01:39.857Z"
      },
      {
        "duration": 398,
        "start_time": "2022-03-16T16:01:40.229Z"
      },
      {
        "duration": 1080,
        "start_time": "2022-03-16T16:01:40.631Z"
      },
      {
        "duration": 182,
        "start_time": "2022-03-16T16:01:41.713Z"
      },
      {
        "duration": 218,
        "start_time": "2022-03-16T16:01:41.897Z"
      },
      {
        "duration": 259,
        "start_time": "2022-03-16T16:01:42.117Z"
      },
      {
        "duration": 7,
        "start_time": "2022-03-16T16:01:42.378Z"
      },
      {
        "duration": 198,
        "start_time": "2022-03-16T16:01:42.387Z"
      },
      {
        "duration": 206,
        "start_time": "2022-03-16T16:01:42.587Z"
      },
      {
        "duration": 14,
        "start_time": "2022-03-16T16:01:42.796Z"
      },
      {
        "duration": 28,
        "start_time": "2022-03-16T16:01:42.813Z"
      },
      {
        "duration": 45,
        "start_time": "2022-03-16T16:01:42.843Z"
      },
      {
        "duration": 52,
        "start_time": "2022-03-16T16:01:42.891Z"
      },
      {
        "duration": 4,
        "start_time": "2022-03-16T16:01:49.243Z"
      },
      {
        "duration": 500,
        "start_time": "2022-03-16T16:02:22.076Z"
      },
      {
        "duration": 425,
        "start_time": "2022-03-16T16:02:36.224Z"
      },
      {
        "duration": 12,
        "start_time": "2022-03-16T16:03:39.471Z"
      },
      {
        "duration": 23,
        "start_time": "2022-03-16T16:03:56.391Z"
      },
      {
        "duration": 12,
        "start_time": "2022-03-16T16:04:19.735Z"
      },
      {
        "duration": 23,
        "start_time": "2022-03-16T16:04:56.097Z"
      },
      {
        "duration": 6,
        "start_time": "2022-03-16T16:06:21.301Z"
      },
      {
        "duration": 7,
        "start_time": "2022-03-16T16:07:08.677Z"
      },
      {
        "duration": 435,
        "start_time": "2022-03-16T16:09:46.867Z"
      },
      {
        "duration": 169,
        "start_time": "2022-03-16T16:14:37.951Z"
      },
      {
        "duration": 178,
        "start_time": "2022-03-16T16:14:38.122Z"
      },
      {
        "duration": 10,
        "start_time": "2022-03-16T16:14:38.302Z"
      },
      {
        "duration": 24,
        "start_time": "2022-03-16T16:14:38.314Z"
      },
      {
        "duration": 20,
        "start_time": "2022-03-16T16:14:38.340Z"
      },
      {
        "duration": 21,
        "start_time": "2022-03-16T16:14:38.362Z"
      },
      {
        "duration": 3,
        "start_time": "2022-03-16T16:14:38.385Z"
      },
      {
        "duration": 472,
        "start_time": "2022-03-16T16:14:38.391Z"
      },
      {
        "duration": 434,
        "start_time": "2022-03-16T16:15:15.867Z"
      },
      {
        "duration": 478,
        "start_time": "2022-03-16T16:15:39.631Z"
      },
      {
        "duration": 1015,
        "start_time": "2022-03-16T16:16:18.919Z"
      },
      {
        "duration": 242,
        "start_time": "2022-03-16T16:16:53.332Z"
      },
      {
        "duration": 740,
        "start_time": "2022-03-16T18:47:08.537Z"
      },
      {
        "duration": 149,
        "start_time": "2022-03-16T18:47:09.279Z"
      },
      {
        "duration": 21,
        "start_time": "2022-03-16T18:47:09.431Z"
      },
      {
        "duration": 21,
        "start_time": "2022-03-16T18:47:09.454Z"
      },
      {
        "duration": 12,
        "start_time": "2022-03-16T18:47:09.477Z"
      },
      {
        "duration": 11,
        "start_time": "2022-03-16T18:47:09.491Z"
      },
      {
        "duration": 8,
        "start_time": "2022-03-16T18:47:09.505Z"
      },
      {
        "duration": 11,
        "start_time": "2022-03-16T18:47:09.515Z"
      },
      {
        "duration": 8,
        "start_time": "2022-03-16T18:47:09.562Z"
      },
      {
        "duration": 13,
        "start_time": "2022-03-16T18:47:09.573Z"
      },
      {
        "duration": 13,
        "start_time": "2022-03-16T18:47:09.588Z"
      },
      {
        "duration": 7,
        "start_time": "2022-03-16T18:47:09.603Z"
      },
      {
        "duration": 7,
        "start_time": "2022-03-16T18:47:09.612Z"
      },
      {
        "duration": 42,
        "start_time": "2022-03-16T18:47:09.621Z"
      },
      {
        "duration": 27,
        "start_time": "2022-03-16T18:47:09.665Z"
      },
      {
        "duration": 14,
        "start_time": "2022-03-16T18:47:09.694Z"
      },
      {
        "duration": 23,
        "start_time": "2022-03-16T18:47:09.710Z"
      },
      {
        "duration": 33,
        "start_time": "2022-03-16T18:47:09.735Z"
      },
      {
        "duration": 5,
        "start_time": "2022-03-16T18:47:09.769Z"
      },
      {
        "duration": 17359,
        "start_time": "2022-03-16T18:47:09.776Z"
      },
      {
        "duration": 13,
        "start_time": "2022-03-16T18:47:27.137Z"
      },
      {
        "duration": 23,
        "start_time": "2022-03-16T18:47:27.166Z"
      },
      {
        "duration": 18,
        "start_time": "2022-03-16T18:47:27.190Z"
      },
      {
        "duration": 20,
        "start_time": "2022-03-16T18:47:27.210Z"
      },
      {
        "duration": 8,
        "start_time": "2022-03-16T18:47:27.232Z"
      },
      {
        "duration": 12,
        "start_time": "2022-03-16T18:47:27.263Z"
      },
      {
        "duration": 15,
        "start_time": "2022-03-16T18:47:27.279Z"
      },
      {
        "duration": 3,
        "start_time": "2022-03-16T18:47:27.297Z"
      },
      {
        "duration": 31,
        "start_time": "2022-03-16T18:47:27.302Z"
      },
      {
        "duration": 42,
        "start_time": "2022-03-16T18:47:27.335Z"
      },
      {
        "duration": 42,
        "start_time": "2022-03-16T18:47:27.379Z"
      },
      {
        "duration": 20,
        "start_time": "2022-03-16T18:47:27.423Z"
      },
      {
        "duration": 199,
        "start_time": "2022-03-16T18:47:27.445Z"
      },
      {
        "duration": 371,
        "start_time": "2022-03-16T18:47:27.645Z"
      },
      {
        "duration": 273,
        "start_time": "2022-03-16T18:47:28.020Z"
      },
      {
        "duration": 949,
        "start_time": "2022-03-16T18:47:27.346Z"
      },
      {
        "duration": 928,
        "start_time": "2022-03-16T18:47:27.368Z"
      },
      {
        "duration": 913,
        "start_time": "2022-03-16T18:47:27.385Z"
      },
      {
        "duration": 898,
        "start_time": "2022-03-16T18:47:27.401Z"
      },
      {
        "duration": 883,
        "start_time": "2022-03-16T18:47:27.417Z"
      },
      {
        "duration": 867,
        "start_time": "2022-03-16T18:47:27.434Z"
      },
      {
        "duration": 857,
        "start_time": "2022-03-16T18:47:27.445Z"
      },
      {
        "duration": 848,
        "start_time": "2022-03-16T18:47:27.455Z"
      },
      {
        "duration": 825,
        "start_time": "2022-03-16T18:47:27.479Z"
      },
      {
        "duration": 815,
        "start_time": "2022-03-16T18:47:27.489Z"
      },
      {
        "duration": 797,
        "start_time": "2022-03-16T18:47:27.508Z"
      },
      {
        "duration": 787,
        "start_time": "2022-03-16T18:47:27.518Z"
      },
      {
        "duration": 779,
        "start_time": "2022-03-16T18:47:27.528Z"
      },
      {
        "duration": 769,
        "start_time": "2022-03-16T18:47:27.539Z"
      },
      {
        "duration": 757,
        "start_time": "2022-03-16T18:47:27.551Z"
      },
      {
        "duration": 748,
        "start_time": "2022-03-16T18:47:27.561Z"
      },
      {
        "duration": 739,
        "start_time": "2022-03-16T18:47:27.571Z"
      },
      {
        "duration": 730,
        "start_time": "2022-03-16T18:47:27.581Z"
      },
      {
        "duration": 720,
        "start_time": "2022-03-16T18:47:27.592Z"
      },
      {
        "duration": 711,
        "start_time": "2022-03-16T18:47:27.602Z"
      },
      {
        "duration": 23,
        "start_time": "2022-03-16T18:48:29.784Z"
      },
      {
        "duration": 21,
        "start_time": "2022-03-16T18:49:28.197Z"
      },
      {
        "duration": 6,
        "start_time": "2022-03-16T18:49:28.220Z"
      },
      {
        "duration": 11,
        "start_time": "2022-03-16T18:49:28.229Z"
      },
      {
        "duration": 404,
        "start_time": "2022-03-16T18:49:28.242Z"
      },
      {
        "duration": 294,
        "start_time": "2022-03-16T18:49:28.648Z"
      },
      {
        "duration": 342,
        "start_time": "2022-03-16T18:49:28.944Z"
      },
      {
        "duration": 1019,
        "start_time": "2022-03-16T18:49:29.288Z"
      },
      {
        "duration": 241,
        "start_time": "2022-03-16T18:49:30.309Z"
      },
      {
        "duration": 194,
        "start_time": "2022-03-16T18:49:30.554Z"
      },
      {
        "duration": 216,
        "start_time": "2022-03-16T18:49:30.750Z"
      },
      {
        "duration": 7,
        "start_time": "2022-03-16T18:49:30.968Z"
      },
      {
        "duration": 241,
        "start_time": "2022-03-16T18:49:30.977Z"
      },
      {
        "duration": 231,
        "start_time": "2022-03-16T18:49:31.220Z"
      },
      {
        "duration": 15,
        "start_time": "2022-03-16T18:49:31.454Z"
      },
      {
        "duration": 6,
        "start_time": "2022-03-16T18:49:31.472Z"
      },
      {
        "duration": 20,
        "start_time": "2022-03-16T18:49:31.480Z"
      },
      {
        "duration": 11,
        "start_time": "2022-03-16T18:49:31.502Z"
      },
      {
        "duration": 5,
        "start_time": "2022-03-16T18:49:31.515Z"
      },
      {
        "duration": 380,
        "start_time": "2022-03-16T18:49:31.522Z"
      },
      {
        "duration": 441,
        "start_time": "2022-03-16T18:49:31.904Z"
      },
      {
        "duration": 532,
        "start_time": "2022-03-16T18:49:32.347Z"
      },
      {
        "duration": 257,
        "start_time": "2022-03-16T18:49:32.881Z"
      },
      {
        "duration": 6,
        "start_time": "2022-03-16T18:51:38.252Z"
      },
      {
        "duration": 5,
        "start_time": "2022-03-16T18:51:40.895Z"
      },
      {
        "duration": 18,
        "start_time": "2022-03-16T18:51:48.369Z"
      },
      {
        "duration": 11,
        "start_time": "2022-03-16T18:51:48.389Z"
      },
      {
        "duration": 3,
        "start_time": "2022-03-16T18:51:48.402Z"
      },
      {
        "duration": 346,
        "start_time": "2022-03-16T18:51:48.407Z"
      },
      {
        "duration": 281,
        "start_time": "2022-03-16T18:51:48.755Z"
      },
      {
        "duration": 356,
        "start_time": "2022-03-16T18:51:49.038Z"
      },
      {
        "duration": 184,
        "start_time": "2022-03-16T18:51:49.396Z"
      },
      {
        "duration": 845,
        "start_time": "2022-03-16T18:52:22.710Z"
      },
      {
        "duration": 129,
        "start_time": "2022-03-16T18:52:23.558Z"
      },
      {
        "duration": 32,
        "start_time": "2022-03-16T18:52:23.690Z"
      },
      {
        "duration": 40,
        "start_time": "2022-03-16T18:52:23.725Z"
      },
      {
        "duration": 13,
        "start_time": "2022-03-16T18:52:23.768Z"
      },
      {
        "duration": 11,
        "start_time": "2022-03-16T18:52:23.783Z"
      },
      {
        "duration": 11,
        "start_time": "2022-03-16T18:52:23.796Z"
      },
      {
        "duration": 9,
        "start_time": "2022-03-16T18:52:23.811Z"
      },
      {
        "duration": 12,
        "start_time": "2022-03-16T18:52:23.822Z"
      },
      {
        "duration": 14,
        "start_time": "2022-03-16T18:52:23.864Z"
      },
      {
        "duration": 13,
        "start_time": "2022-03-16T18:52:23.880Z"
      },
      {
        "duration": 8,
        "start_time": "2022-03-16T18:52:23.895Z"
      },
      {
        "duration": 5,
        "start_time": "2022-03-16T18:52:23.905Z"
      },
      {
        "duration": 11,
        "start_time": "2022-03-16T18:52:23.911Z"
      },
      {
        "duration": 62,
        "start_time": "2022-03-16T18:52:23.924Z"
      },
      {
        "duration": 15,
        "start_time": "2022-03-16T18:52:23.988Z"
      },
      {
        "duration": 23,
        "start_time": "2022-03-16T18:52:24.004Z"
      },
      {
        "duration": 35,
        "start_time": "2022-03-16T18:52:24.029Z"
      },
      {
        "duration": 3,
        "start_time": "2022-03-16T18:52:24.066Z"
      },
      {
        "duration": 16559,
        "start_time": "2022-03-16T18:52:24.071Z"
      },
      {
        "duration": 12,
        "start_time": "2022-03-16T18:52:40.632Z"
      },
      {
        "duration": 46,
        "start_time": "2022-03-16T18:52:40.646Z"
      },
      {
        "duration": 20,
        "start_time": "2022-03-16T18:52:40.698Z"
      },
      {
        "duration": 52,
        "start_time": "2022-03-16T18:52:40.721Z"
      },
      {
        "duration": 10,
        "start_time": "2022-03-16T18:52:40.776Z"
      },
      {
        "duration": 20,
        "start_time": "2022-03-16T18:52:40.788Z"
      },
      {
        "duration": 17,
        "start_time": "2022-03-16T18:52:40.810Z"
      },
      {
        "duration": 3,
        "start_time": "2022-03-16T18:52:40.829Z"
      },
      {
        "duration": 41,
        "start_time": "2022-03-16T18:52:40.834Z"
      },
      {
        "duration": 24,
        "start_time": "2022-03-16T18:52:40.876Z"
      },
      {
        "duration": 39,
        "start_time": "2022-03-16T18:52:40.902Z"
      },
      {
        "duration": 25,
        "start_time": "2022-03-16T18:52:40.943Z"
      },
      {
        "duration": 257,
        "start_time": "2022-03-16T18:52:40.970Z"
      },
      {
        "duration": 591,
        "start_time": "2022-03-16T18:52:41.230Z"
      },
      {
        "duration": 43,
        "start_time": "2022-03-16T18:52:41.823Z"
      },
      {
        "duration": 9,
        "start_time": "2022-03-16T18:52:41.869Z"
      },
      {
        "duration": 8,
        "start_time": "2022-03-16T18:52:41.880Z"
      },
      {
        "duration": 441,
        "start_time": "2022-03-16T18:52:41.890Z"
      },
      {
        "duration": 354,
        "start_time": "2022-03-16T18:52:42.334Z"
      },
      {
        "duration": 440,
        "start_time": "2022-03-16T18:52:42.690Z"
      },
      {
        "duration": 1439,
        "start_time": "2022-03-16T18:52:43.132Z"
      },
      {
        "duration": 217,
        "start_time": "2022-03-16T18:52:44.574Z"
      },
      {
        "duration": 264,
        "start_time": "2022-03-16T18:52:44.793Z"
      },
      {
        "duration": 308,
        "start_time": "2022-03-16T18:52:45.063Z"
      },
      {
        "duration": 16,
        "start_time": "2022-03-16T18:52:45.374Z"
      },
      {
        "duration": 160,
        "start_time": "2022-03-16T18:52:45.393Z"
      },
      {
        "duration": 226,
        "start_time": "2022-03-16T18:52:45.555Z"
      },
      {
        "duration": 19,
        "start_time": "2022-03-16T18:52:45.784Z"
      },
      {
        "duration": 16,
        "start_time": "2022-03-16T18:52:45.806Z"
      },
      {
        "duration": 49,
        "start_time": "2022-03-16T18:52:45.824Z"
      },
      {
        "duration": 27,
        "start_time": "2022-03-16T18:52:45.875Z"
      },
      {
        "duration": 4,
        "start_time": "2022-03-16T18:52:45.905Z"
      },
      {
        "duration": 616,
        "start_time": "2022-03-16T18:52:45.911Z"
      },
      {
        "duration": 518,
        "start_time": "2022-03-16T18:52:46.529Z"
      },
      {
        "duration": 1388,
        "start_time": "2022-03-16T18:52:47.050Z"
      },
      {
        "duration": 144,
        "start_time": "2022-03-16T18:53:53.934Z"
      },
      {
        "duration": 522,
        "start_time": "2022-03-16T18:54:16.615Z"
      },
      {
        "duration": 193,
        "start_time": "2022-03-16T18:54:24.625Z"
      },
      {
        "duration": 198,
        "start_time": "2022-03-16T18:54:42.831Z"
      },
      {
        "duration": 7,
        "start_time": "2022-03-16T19:00:50.624Z"
      },
      {
        "duration": 7,
        "start_time": "2022-03-16T19:01:03.756Z"
      },
      {
        "duration": 17,
        "start_time": "2022-03-16T19:14:06.489Z"
      },
      {
        "duration": 17,
        "start_time": "2022-03-16T19:14:24.612Z"
      },
      {
        "duration": 143,
        "start_time": "2022-03-16T19:23:28.713Z"
      },
      {
        "duration": 225,
        "start_time": "2022-03-16T19:24:35.731Z"
      },
      {
        "duration": 218,
        "start_time": "2022-03-16T19:24:56.513Z"
      },
      {
        "duration": 238,
        "start_time": "2022-03-16T19:25:09.686Z"
      },
      {
        "duration": 223,
        "start_time": "2022-03-16T19:25:20.265Z"
      },
      {
        "duration": 5274,
        "start_time": "2022-03-16T19:27:05.133Z"
      },
      {
        "duration": 347,
        "start_time": "2022-03-16T19:27:17.243Z"
      },
      {
        "duration": 636,
        "start_time": "2022-03-16T19:31:54.844Z"
      },
      {
        "duration": 229,
        "start_time": "2022-03-16T19:50:07.257Z"
      },
      {
        "duration": 224,
        "start_time": "2022-03-16T19:50:12.213Z"
      },
      {
        "duration": 1588,
        "start_time": "2022-03-16T20:51:40.686Z"
      },
      {
        "duration": 1751,
        "start_time": "2022-03-16T20:51:48.556Z"
      },
      {
        "duration": 536,
        "start_time": "2022-03-16T20:55:33.368Z"
      },
      {
        "duration": 267,
        "start_time": "2022-03-16T20:55:41.407Z"
      },
      {
        "duration": 355,
        "start_time": "2022-03-16T20:55:47.400Z"
      },
      {
        "duration": 315,
        "start_time": "2022-03-16T20:55:54.068Z"
      },
      {
        "duration": 348,
        "start_time": "2022-03-16T20:59:13.429Z"
      },
      {
        "duration": 637,
        "start_time": "2022-03-16T20:59:40.301Z"
      },
      {
        "duration": 86,
        "start_time": "2022-03-16T20:59:40.940Z"
      },
      {
        "duration": 20,
        "start_time": "2022-03-16T20:59:41.028Z"
      },
      {
        "duration": 23,
        "start_time": "2022-03-16T20:59:41.050Z"
      },
      {
        "duration": 7,
        "start_time": "2022-03-16T20:59:41.074Z"
      },
      {
        "duration": 8,
        "start_time": "2022-03-16T20:59:41.083Z"
      },
      {
        "duration": 5,
        "start_time": "2022-03-16T20:59:41.092Z"
      },
      {
        "duration": 5,
        "start_time": "2022-03-16T20:59:41.100Z"
      },
      {
        "duration": 5,
        "start_time": "2022-03-16T20:59:41.107Z"
      },
      {
        "duration": 53,
        "start_time": "2022-03-16T20:59:41.114Z"
      },
      {
        "duration": 14,
        "start_time": "2022-03-16T20:59:41.168Z"
      },
      {
        "duration": 11,
        "start_time": "2022-03-16T20:59:41.183Z"
      },
      {
        "duration": 12,
        "start_time": "2022-03-16T20:59:41.196Z"
      },
      {
        "duration": 16,
        "start_time": "2022-03-16T20:59:41.209Z"
      },
      {
        "duration": 37,
        "start_time": "2022-03-16T20:59:41.227Z"
      },
      {
        "duration": 14,
        "start_time": "2022-03-16T20:59:41.266Z"
      },
      {
        "duration": 20,
        "start_time": "2022-03-16T20:59:41.282Z"
      },
      {
        "duration": 7,
        "start_time": "2022-03-16T20:59:41.305Z"
      },
      {
        "duration": 3,
        "start_time": "2022-03-16T20:59:41.314Z"
      },
      {
        "duration": 14116,
        "start_time": "2022-03-16T20:59:41.319Z"
      },
      {
        "duration": 13,
        "start_time": "2022-03-16T20:59:55.437Z"
      },
      {
        "duration": 21,
        "start_time": "2022-03-16T20:59:55.463Z"
      },
      {
        "duration": 13,
        "start_time": "2022-03-16T20:59:55.489Z"
      },
      {
        "duration": 18,
        "start_time": "2022-03-16T20:59:55.504Z"
      },
      {
        "duration": 7,
        "start_time": "2022-03-16T20:59:55.523Z"
      },
      {
        "duration": 39,
        "start_time": "2022-03-16T20:59:55.532Z"
      },
      {
        "duration": 13,
        "start_time": "2022-03-16T20:59:55.573Z"
      },
      {
        "duration": 3,
        "start_time": "2022-03-16T20:59:55.588Z"
      },
      {
        "duration": 20,
        "start_time": "2022-03-16T20:59:55.592Z"
      },
      {
        "duration": 16,
        "start_time": "2022-03-16T20:59:55.614Z"
      },
      {
        "duration": 39,
        "start_time": "2022-03-16T20:59:55.632Z"
      },
      {
        "duration": 16,
        "start_time": "2022-03-16T20:59:55.673Z"
      },
      {
        "duration": 142,
        "start_time": "2022-03-16T20:59:55.690Z"
      },
      {
        "duration": 333,
        "start_time": "2022-03-16T20:59:55.834Z"
      },
      {
        "duration": 18,
        "start_time": "2022-03-16T20:59:56.169Z"
      },
      {
        "duration": 5,
        "start_time": "2022-03-16T20:59:56.188Z"
      },
      {
        "duration": 9,
        "start_time": "2022-03-16T20:59:56.195Z"
      },
      {
        "duration": 393,
        "start_time": "2022-03-16T20:59:56.206Z"
      },
      {
        "duration": 269,
        "start_time": "2022-03-16T20:59:56.601Z"
      },
      {
        "duration": 315,
        "start_time": "2022-03-16T20:59:56.872Z"
      },
      {
        "duration": 839,
        "start_time": "2022-03-16T20:59:57.188Z"
      },
      {
        "duration": 138,
        "start_time": "2022-03-16T20:59:58.029Z"
      },
      {
        "duration": 176,
        "start_time": "2022-03-16T20:59:58.169Z"
      },
      {
        "duration": 194,
        "start_time": "2022-03-16T20:59:58.347Z"
      },
      {
        "duration": 6,
        "start_time": "2022-03-16T20:59:58.543Z"
      },
      {
        "duration": 135,
        "start_time": "2022-03-16T20:59:58.562Z"
      },
      {
        "duration": 222,
        "start_time": "2022-03-16T20:59:58.699Z"
      },
      {
        "duration": 12,
        "start_time": "2022-03-16T20:59:58.923Z"
      },
      {
        "duration": 10,
        "start_time": "2022-03-16T20:59:58.936Z"
      },
      {
        "duration": 30,
        "start_time": "2022-03-16T20:59:58.948Z"
      },
      {
        "duration": 29,
        "start_time": "2022-03-16T20:59:58.980Z"
      },
      {
        "duration": 3,
        "start_time": "2022-03-16T20:59:59.011Z"
      },
      {
        "duration": 353,
        "start_time": "2022-03-16T20:59:59.015Z"
      },
      {
        "duration": 315,
        "start_time": "2022-03-16T20:59:59.370Z"
      },
      {
        "duration": 4,
        "start_time": "2022-03-16T20:59:59.687Z"
      },
      {
        "duration": 809,
        "start_time": "2022-03-16T20:59:59.692Z"
      },
      {
        "duration": 189,
        "start_time": "2022-03-16T21:00:00.503Z"
      },
      {
        "duration": 12,
        "start_time": "2022-03-16T21:00:00.694Z"
      },
      {
        "duration": 11,
        "start_time": "2022-03-16T21:00:00.708Z"
      },
      {
        "duration": 159,
        "start_time": "2022-03-16T21:00:00.721Z"
      },
      {
        "duration": 374,
        "start_time": "2022-03-16T21:00:00.882Z"
      },
      {
        "duration": 674,
        "start_time": "2022-03-16T21:00:01.262Z"
      },
      {
        "duration": 383,
        "start_time": "2022-03-16T21:00:18.565Z"
      },
      {
        "duration": 2143,
        "start_time": "2022-03-16T21:00:38.698Z"
      },
      {
        "duration": 429,
        "start_time": "2022-03-16T21:00:56.463Z"
      },
      {
        "duration": 879,
        "start_time": "2022-03-16T21:02:16.808Z"
      },
      {
        "duration": 236,
        "start_time": "2022-03-16T21:02:54.396Z"
      },
      {
        "duration": 228,
        "start_time": "2022-03-16T21:04:00.378Z"
      },
      {
        "duration": 268,
        "start_time": "2022-03-16T21:04:06.198Z"
      },
      {
        "duration": 13,
        "start_time": "2022-03-16T21:04:39.382Z"
      },
      {
        "duration": 8,
        "start_time": "2022-03-16T21:09:24.272Z"
      },
      {
        "duration": 10470,
        "start_time": "2022-03-16T21:16:00.378Z"
      },
      {
        "duration": 17,
        "start_time": "2022-03-16T21:17:05.064Z"
      },
      {
        "duration": 10,
        "start_time": "2022-03-16T21:19:56.668Z"
      },
      {
        "duration": 351,
        "start_time": "2022-03-16T21:20:49.852Z"
      },
      {
        "duration": 5194,
        "start_time": "2022-03-16T21:28:37.515Z"
      },
      {
        "duration": 5113,
        "start_time": "2022-03-16T21:29:15.663Z"
      },
      {
        "duration": 5118,
        "start_time": "2022-03-16T21:29:27.436Z"
      },
      {
        "duration": 232,
        "start_time": "2022-03-16T21:29:59.619Z"
      },
      {
        "duration": 1243,
        "start_time": "2022-03-17T18:13:06.331Z"
      },
      {
        "duration": 134,
        "start_time": "2022-03-17T18:13:07.577Z"
      },
      {
        "duration": 40,
        "start_time": "2022-03-17T18:13:07.713Z"
      },
      {
        "duration": 32,
        "start_time": "2022-03-17T18:13:07.757Z"
      },
      {
        "duration": 10,
        "start_time": "2022-03-17T18:13:07.792Z"
      },
      {
        "duration": 12,
        "start_time": "2022-03-17T18:13:07.842Z"
      },
      {
        "duration": 10,
        "start_time": "2022-03-17T18:13:07.856Z"
      },
      {
        "duration": 9,
        "start_time": "2022-03-17T18:13:07.869Z"
      },
      {
        "duration": 9,
        "start_time": "2022-03-17T18:13:07.880Z"
      },
      {
        "duration": 65,
        "start_time": "2022-03-17T18:13:07.893Z"
      },
      {
        "duration": 19,
        "start_time": "2022-03-17T18:13:07.961Z"
      },
      {
        "duration": 9,
        "start_time": "2022-03-17T18:13:07.982Z"
      },
      {
        "duration": 8,
        "start_time": "2022-03-17T18:13:07.993Z"
      },
      {
        "duration": 48,
        "start_time": "2022-03-17T18:13:08.003Z"
      },
      {
        "duration": 35,
        "start_time": "2022-03-17T18:13:08.054Z"
      },
      {
        "duration": 24,
        "start_time": "2022-03-17T18:13:08.093Z"
      },
      {
        "duration": 58,
        "start_time": "2022-03-17T18:13:08.119Z"
      },
      {
        "duration": 9,
        "start_time": "2022-03-17T18:13:08.179Z"
      },
      {
        "duration": 5,
        "start_time": "2022-03-17T18:13:08.190Z"
      },
      {
        "duration": 18680,
        "start_time": "2022-03-17T18:13:08.197Z"
      },
      {
        "duration": 25,
        "start_time": "2022-03-17T18:13:26.879Z"
      },
      {
        "duration": 50,
        "start_time": "2022-03-17T18:13:26.906Z"
      },
      {
        "duration": 21,
        "start_time": "2022-03-17T18:13:26.958Z"
      },
      {
        "duration": 61,
        "start_time": "2022-03-17T18:13:26.982Z"
      },
      {
        "duration": 13,
        "start_time": "2022-03-17T18:13:27.046Z"
      },
      {
        "duration": 13,
        "start_time": "2022-03-17T18:13:27.061Z"
      },
      {
        "duration": 23,
        "start_time": "2022-03-17T18:13:27.076Z"
      },
      {
        "duration": 5,
        "start_time": "2022-03-17T18:13:27.142Z"
      },
      {
        "duration": 32,
        "start_time": "2022-03-17T18:13:27.150Z"
      },
      {
        "duration": 26,
        "start_time": "2022-03-17T18:13:27.184Z"
      },
      {
        "duration": 54,
        "start_time": "2022-03-17T18:13:27.212Z"
      },
      {
        "duration": 29,
        "start_time": "2022-03-17T18:13:27.268Z"
      },
      {
        "duration": 260,
        "start_time": "2022-03-17T18:13:27.299Z"
      },
      {
        "duration": 416,
        "start_time": "2022-03-17T18:13:27.561Z"
      },
      {
        "duration": 39,
        "start_time": "2022-03-17T18:13:27.980Z"
      },
      {
        "duration": 27,
        "start_time": "2022-03-17T18:13:28.021Z"
      },
      {
        "duration": 9,
        "start_time": "2022-03-17T18:13:28.050Z"
      },
      {
        "duration": 502,
        "start_time": "2022-03-17T18:13:28.061Z"
      },
      {
        "duration": 314,
        "start_time": "2022-03-17T18:13:28.565Z"
      },
      {
        "duration": 368,
        "start_time": "2022-03-17T18:13:28.882Z"
      },
      {
        "duration": 1493,
        "start_time": "2022-03-17T18:13:29.253Z"
      },
      {
        "duration": 193,
        "start_time": "2022-03-17T18:13:30.749Z"
      },
      {
        "duration": 246,
        "start_time": "2022-03-17T18:13:30.945Z"
      },
      {
        "duration": 294,
        "start_time": "2022-03-17T18:13:31.193Z"
      },
      {
        "duration": 12,
        "start_time": "2022-03-17T18:13:31.490Z"
      },
      {
        "duration": 233,
        "start_time": "2022-03-17T18:13:31.504Z"
      },
      {
        "duration": 222,
        "start_time": "2022-03-17T18:13:31.742Z"
      },
      {
        "duration": 19,
        "start_time": "2022-03-17T18:13:31.966Z"
      },
      {
        "duration": 33,
        "start_time": "2022-03-17T18:13:31.987Z"
      },
      {
        "duration": 48,
        "start_time": "2022-03-17T18:13:32.022Z"
      },
      {
        "duration": 50,
        "start_time": "2022-03-17T18:13:32.072Z"
      },
      {
        "duration": 5,
        "start_time": "2022-03-17T18:13:32.124Z"
      },
      {
        "duration": 512,
        "start_time": "2022-03-17T18:13:32.131Z"
      },
      {
        "duration": 364,
        "start_time": "2022-03-17T18:13:32.645Z"
      },
      {
        "duration": 7,
        "start_time": "2022-03-17T18:13:33.011Z"
      },
      {
        "duration": 1431,
        "start_time": "2022-03-17T18:13:33.021Z"
      },
      {
        "duration": 289,
        "start_time": "2022-03-17T18:13:34.454Z"
      },
      {
        "duration": 19,
        "start_time": "2022-03-17T18:13:34.746Z"
      },
      {
        "duration": 19,
        "start_time": "2022-03-17T18:13:34.768Z"
      },
      {
        "duration": 182,
        "start_time": "2022-03-17T18:13:34.789Z"
      },
      {
        "duration": 446,
        "start_time": "2022-03-17T18:13:34.973Z"
      },
      {
        "duration": 336,
        "start_time": "2022-03-17T18:13:35.421Z"
      },
      {
        "duration": 505,
        "start_time": "2022-03-17T18:13:35.760Z"
      },
      {
        "duration": 11,
        "start_time": "2022-03-17T18:13:36.268Z"
      },
      {
        "duration": 18,
        "start_time": "2022-03-17T18:15:07.170Z"
      },
      {
        "duration": 143,
        "start_time": "2022-03-17T18:22:42.314Z"
      },
      {
        "duration": 506,
        "start_time": "2022-03-17T18:23:15.035Z"
      },
      {
        "duration": 379,
        "start_time": "2022-03-17T18:26:17.137Z"
      },
      {
        "duration": 388,
        "start_time": "2022-03-17T18:26:28.509Z"
      },
      {
        "duration": 12,
        "start_time": "2022-03-17T18:28:12.067Z"
      },
      {
        "duration": 434,
        "start_time": "2022-03-17T18:31:44.011Z"
      },
      {
        "duration": 264,
        "start_time": "2022-03-17T18:31:50.442Z"
      },
      {
        "duration": 24,
        "start_time": "2022-03-17T18:33:45.616Z"
      },
      {
        "duration": 25,
        "start_time": "2022-03-17T18:33:53.899Z"
      },
      {
        "duration": 12,
        "start_time": "2022-03-17T18:34:10.309Z"
      },
      {
        "duration": 364,
        "start_time": "2022-03-17T18:34:30.293Z"
      },
      {
        "duration": 4720,
        "start_time": "2022-03-17T18:34:59.960Z"
      },
      {
        "duration": 27,
        "start_time": "2022-03-17T18:35:22.056Z"
      },
      {
        "duration": 428,
        "start_time": "2022-03-17T18:35:45.875Z"
      },
      {
        "duration": 376,
        "start_time": "2022-03-17T18:35:55.719Z"
      },
      {
        "duration": 381,
        "start_time": "2022-03-17T18:36:16.674Z"
      },
      {
        "duration": 929,
        "start_time": "2022-03-17T18:36:45.760Z"
      },
      {
        "duration": 10,
        "start_time": "2022-03-17T18:37:36.119Z"
      },
      {
        "duration": 9,
        "start_time": "2022-03-17T18:37:43.315Z"
      },
      {
        "duration": 40,
        "start_time": "2022-03-17T18:41:16.503Z"
      },
      {
        "duration": 5328,
        "start_time": "2022-03-17T18:41:36.482Z"
      },
      {
        "duration": 6164,
        "start_time": "2022-03-17T18:41:54.682Z"
      },
      {
        "duration": 381,
        "start_time": "2022-03-17T18:44:27.435Z"
      },
      {
        "duration": 8,
        "start_time": "2022-03-17T18:44:35.357Z"
      },
      {
        "duration": 9,
        "start_time": "2022-03-17T18:44:37.970Z"
      },
      {
        "duration": 452,
        "start_time": "2022-03-17T18:56:47.080Z"
      },
      {
        "duration": 391,
        "start_time": "2022-03-17T19:03:10.059Z"
      },
      {
        "duration": 1009,
        "start_time": "2022-03-17T19:03:42.007Z"
      },
      {
        "duration": 33,
        "start_time": "2022-03-17T19:04:48.253Z"
      },
      {
        "duration": 29,
        "start_time": "2022-03-17T19:08:15.302Z"
      },
      {
        "duration": 390,
        "start_time": "2022-03-17T19:09:00.920Z"
      },
      {
        "duration": 36,
        "start_time": "2022-03-17T19:22:57.697Z"
      },
      {
        "duration": 46,
        "start_time": "2022-03-17T23:04:08.552Z"
      },
      {
        "duration": 784,
        "start_time": "2022-03-17T23:04:17.553Z"
      },
      {
        "duration": 91,
        "start_time": "2022-03-17T23:04:18.339Z"
      },
      {
        "duration": 25,
        "start_time": "2022-03-17T23:04:18.432Z"
      },
      {
        "duration": 30,
        "start_time": "2022-03-17T23:04:18.459Z"
      },
      {
        "duration": 5,
        "start_time": "2022-03-17T23:04:18.491Z"
      },
      {
        "duration": 12,
        "start_time": "2022-03-17T23:04:18.498Z"
      },
      {
        "duration": 7,
        "start_time": "2022-03-17T23:04:18.512Z"
      },
      {
        "duration": 7,
        "start_time": "2022-03-17T23:04:18.520Z"
      },
      {
        "duration": 9,
        "start_time": "2022-03-17T23:04:18.529Z"
      },
      {
        "duration": 47,
        "start_time": "2022-03-17T23:04:18.540Z"
      },
      {
        "duration": 16,
        "start_time": "2022-03-17T23:04:18.589Z"
      },
      {
        "duration": 11,
        "start_time": "2022-03-17T23:04:18.607Z"
      },
      {
        "duration": 6,
        "start_time": "2022-03-17T23:04:18.619Z"
      },
      {
        "duration": 5,
        "start_time": "2022-03-17T23:04:18.626Z"
      },
      {
        "duration": 9,
        "start_time": "2022-03-17T23:04:18.632Z"
      },
      {
        "duration": 53,
        "start_time": "2022-03-17T23:04:18.643Z"
      },
      {
        "duration": 16,
        "start_time": "2022-03-17T23:04:18.697Z"
      },
      {
        "duration": 28,
        "start_time": "2022-03-17T23:04:18.714Z"
      },
      {
        "duration": 7,
        "start_time": "2022-03-17T23:04:18.743Z"
      },
      {
        "duration": 31,
        "start_time": "2022-03-17T23:04:18.751Z"
      },
      {
        "duration": 11346,
        "start_time": "2022-03-17T23:04:18.783Z"
      },
      {
        "duration": 14,
        "start_time": "2022-03-17T23:04:30.131Z"
      },
      {
        "duration": 34,
        "start_time": "2022-03-17T23:04:30.146Z"
      },
      {
        "duration": 14,
        "start_time": "2022-03-17T23:04:30.182Z"
      },
      {
        "duration": 21,
        "start_time": "2022-03-17T23:04:30.198Z"
      },
      {
        "duration": 7,
        "start_time": "2022-03-17T23:04:30.221Z"
      },
      {
        "duration": 8,
        "start_time": "2022-03-17T23:04:30.230Z"
      },
      {
        "duration": 43,
        "start_time": "2022-03-17T23:04:30.242Z"
      },
      {
        "duration": 3,
        "start_time": "2022-03-17T23:04:30.287Z"
      },
      {
        "duration": 22,
        "start_time": "2022-03-17T23:04:30.292Z"
      },
      {
        "duration": 15,
        "start_time": "2022-03-17T23:04:30.316Z"
      },
      {
        "duration": 32,
        "start_time": "2022-03-17T23:04:30.332Z"
      },
      {
        "duration": 29,
        "start_time": "2022-03-17T23:04:30.365Z"
      },
      {
        "duration": 150,
        "start_time": "2022-03-17T23:04:30.396Z"
      },
      {
        "duration": 242,
        "start_time": "2022-03-17T23:04:30.548Z"
      },
      {
        "duration": 23,
        "start_time": "2022-03-17T23:04:30.792Z"
      },
      {
        "duration": 6,
        "start_time": "2022-03-17T23:04:30.817Z"
      },
      {
        "duration": 13,
        "start_time": "2022-03-17T23:04:30.824Z"
      },
      {
        "duration": 324,
        "start_time": "2022-03-17T23:04:30.838Z"
      },
      {
        "duration": 206,
        "start_time": "2022-03-17T23:04:31.164Z"
      },
      {
        "duration": 222,
        "start_time": "2022-03-17T23:04:31.380Z"
      },
      {
        "duration": 873,
        "start_time": "2022-03-17T23:04:31.603Z"
      },
      {
        "duration": 104,
        "start_time": "2022-03-17T23:04:32.477Z"
      },
      {
        "duration": 128,
        "start_time": "2022-03-17T23:04:32.582Z"
      },
      {
        "duration": 158,
        "start_time": "2022-03-17T23:04:32.712Z"
      },
      {
        "duration": 13,
        "start_time": "2022-03-17T23:04:32.871Z"
      },
      {
        "duration": 202,
        "start_time": "2022-03-17T23:04:32.886Z"
      },
      {
        "duration": 222,
        "start_time": "2022-03-17T23:04:33.090Z"
      },
      {
        "duration": 13,
        "start_time": "2022-03-17T23:04:33.314Z"
      },
      {
        "duration": 10,
        "start_time": "2022-03-17T23:04:33.328Z"
      },
      {
        "duration": 17,
        "start_time": "2022-03-17T23:04:33.339Z"
      },
      {
        "duration": 40,
        "start_time": "2022-03-17T23:04:33.358Z"
      },
      {
        "duration": 4,
        "start_time": "2022-03-17T23:04:33.399Z"
      },
      {
        "duration": 315,
        "start_time": "2022-03-17T23:04:33.404Z"
      },
      {
        "duration": 205,
        "start_time": "2022-03-17T23:04:33.720Z"
      },
      {
        "duration": 5,
        "start_time": "2022-03-17T23:04:33.926Z"
      },
      {
        "duration": 816,
        "start_time": "2022-03-17T23:04:33.933Z"
      },
      {
        "duration": 152,
        "start_time": "2022-03-17T23:04:34.751Z"
      },
      {
        "duration": 12,
        "start_time": "2022-03-17T23:04:34.905Z"
      },
      {
        "duration": 11,
        "start_time": "2022-03-17T23:04:34.918Z"
      },
      {
        "duration": 113,
        "start_time": "2022-03-17T23:04:34.930Z"
      },
      {
        "duration": 238,
        "start_time": "2022-03-17T23:04:35.045Z"
      },
      {
        "duration": 197,
        "start_time": "2022-03-17T23:04:35.285Z"
      },
      {
        "duration": 289,
        "start_time": "2022-03-17T23:04:35.484Z"
      },
      {
        "duration": 8,
        "start_time": "2022-03-17T23:04:35.775Z"
      },
      {
        "duration": 12,
        "start_time": "2022-03-17T23:04:35.784Z"
      },
      {
        "duration": 299,
        "start_time": "2022-03-17T23:04:35.798Z"
      },
      {
        "duration": 199,
        "start_time": "2022-03-17T23:04:36.099Z"
      },
      {
        "duration": 7,
        "start_time": "2022-03-17T23:04:36.299Z"
      },
      {
        "duration": 3235,
        "start_time": "2022-03-17T23:04:36.308Z"
      },
      {
        "duration": 235,
        "start_time": "2022-03-17T23:04:39.544Z"
      },
      {
        "duration": 402,
        "start_time": "2022-03-17T23:04:39.781Z"
      },
      {
        "duration": 22,
        "start_time": "2022-03-17T23:04:40.185Z"
      },
      {
        "duration": 7,
        "start_time": "2022-03-17T23:05:03.052Z"
      },
      {
        "duration": 227,
        "start_time": "2022-03-17T23:38:11.943Z"
      },
      {
        "duration": 222,
        "start_time": "2022-03-17T23:38:17.419Z"
      },
      {
        "duration": 245,
        "start_time": "2022-03-17T23:38:30.470Z"
      },
      {
        "duration": 220,
        "start_time": "2022-03-17T23:52:39.894Z"
      },
      {
        "duration": 959,
        "start_time": "2022-03-21T15:26:19.474Z"
      },
      {
        "duration": 109,
        "start_time": "2022-03-21T15:26:21.641Z"
      },
      {
        "duration": 28,
        "start_time": "2022-03-21T15:26:24.683Z"
      },
      {
        "duration": 30,
        "start_time": "2022-03-21T15:26:26.596Z"
      },
      {
        "duration": 7,
        "start_time": "2022-03-21T15:26:28.214Z"
      },
      {
        "duration": 10,
        "start_time": "2022-03-21T15:26:28.917Z"
      },
      {
        "duration": 9,
        "start_time": "2022-03-21T15:26:34.898Z"
      },
      {
        "duration": 7,
        "start_time": "2022-03-21T15:26:35.487Z"
      },
      {
        "duration": 6,
        "start_time": "2022-03-21T15:26:35.987Z"
      },
      {
        "duration": 25,
        "start_time": "2022-03-21T15:26:49.751Z"
      },
      {
        "duration": 4,
        "start_time": "2022-03-21T15:32:50.862Z"
      },
      {
        "duration": 147,
        "start_time": "2022-03-21T15:32:50.869Z"
      },
      {
        "duration": 47,
        "start_time": "2022-03-21T15:32:51.021Z"
      },
      {
        "duration": 22,
        "start_time": "2022-03-21T15:32:51.070Z"
      },
      {
        "duration": 14,
        "start_time": "2022-03-21T15:32:51.095Z"
      },
      {
        "duration": 21,
        "start_time": "2022-03-21T15:32:51.112Z"
      },
      {
        "duration": 10,
        "start_time": "2022-03-21T15:32:51.135Z"
      },
      {
        "duration": 11,
        "start_time": "2022-03-21T15:32:51.146Z"
      },
      {
        "duration": 12,
        "start_time": "2022-03-21T15:32:51.159Z"
      },
      {
        "duration": 49,
        "start_time": "2022-03-21T15:32:51.173Z"
      },
      {
        "duration": 14,
        "start_time": "2022-03-21T15:32:51.223Z"
      },
      {
        "duration": 12,
        "start_time": "2022-03-21T15:32:51.239Z"
      },
      {
        "duration": 14,
        "start_time": "2022-03-21T15:32:51.253Z"
      },
      {
        "duration": 19,
        "start_time": "2022-03-21T15:32:51.269Z"
      },
      {
        "duration": 30,
        "start_time": "2022-03-21T15:32:51.290Z"
      },
      {
        "duration": 19,
        "start_time": "2022-03-21T15:32:51.322Z"
      },
      {
        "duration": 31,
        "start_time": "2022-03-21T15:32:51.343Z"
      },
      {
        "duration": 33,
        "start_time": "2022-03-21T15:32:51.377Z"
      },
      {
        "duration": 4,
        "start_time": "2022-03-21T15:33:04.627Z"
      },
      {
        "duration": 56261,
        "start_time": "2022-03-21T15:33:05.798Z"
      },
      {
        "duration": 16,
        "start_time": "2022-03-21T15:34:03.643Z"
      },
      {
        "duration": 32,
        "start_time": "2022-03-21T15:34:08.874Z"
      },
      {
        "duration": 4,
        "start_time": "2022-03-21T15:40:31.432Z"
      },
      {
        "duration": 5,
        "start_time": "2022-03-21T15:40:43.491Z"
      },
      {
        "duration": 23,
        "start_time": "2022-03-21T15:41:03.821Z"
      },
      {
        "duration": 22,
        "start_time": "2022-03-21T15:41:26.345Z"
      },
      {
        "duration": 23,
        "start_time": "2022-03-21T15:41:47.315Z"
      },
      {
        "duration": 801,
        "start_time": "2022-03-21T15:48:25.056Z"
      },
      {
        "duration": 28,
        "start_time": "2022-03-21T15:56:07.125Z"
      },
      {
        "duration": 11,
        "start_time": "2022-03-21T15:57:52.127Z"
      },
      {
        "duration": 9,
        "start_time": "2022-03-21T15:58:07.514Z"
      },
      {
        "duration": 14,
        "start_time": "2022-03-21T15:58:10.408Z"
      },
      {
        "duration": 10,
        "start_time": "2022-03-21T15:58:20.387Z"
      },
      {
        "duration": 855,
        "start_time": "2022-03-21T15:58:38.910Z"
      },
      {
        "duration": 105,
        "start_time": "2022-03-21T15:58:39.768Z"
      },
      {
        "duration": 43,
        "start_time": "2022-03-21T15:58:39.876Z"
      },
      {
        "duration": 28,
        "start_time": "2022-03-21T15:58:39.921Z"
      },
      {
        "duration": 16,
        "start_time": "2022-03-21T15:58:39.950Z"
      },
      {
        "duration": 20,
        "start_time": "2022-03-21T15:58:39.968Z"
      },
      {
        "duration": 30,
        "start_time": "2022-03-21T15:58:39.991Z"
      },
      {
        "duration": 26,
        "start_time": "2022-03-21T15:58:40.023Z"
      },
      {
        "duration": 14,
        "start_time": "2022-03-21T15:58:40.052Z"
      },
      {
        "duration": 41,
        "start_time": "2022-03-21T15:58:40.069Z"
      },
      {
        "duration": 18,
        "start_time": "2022-03-21T15:58:40.113Z"
      },
      {
        "duration": 16,
        "start_time": "2022-03-21T15:58:40.133Z"
      },
      {
        "duration": 27,
        "start_time": "2022-03-21T15:58:40.151Z"
      },
      {
        "duration": 90,
        "start_time": "2022-03-21T15:58:48.928Z"
      },
      {
        "duration": 12,
        "start_time": "2022-03-21T15:59:13.660Z"
      },
      {
        "duration": 12,
        "start_time": "2022-03-21T15:59:32.081Z"
      },
      {
        "duration": 14,
        "start_time": "2022-03-21T15:59:54.692Z"
      },
      {
        "duration": 1087,
        "start_time": "2022-03-22T14:29:47.882Z"
      },
      {
        "duration": 97,
        "start_time": "2022-03-22T14:29:48.972Z"
      },
      {
        "duration": 37,
        "start_time": "2022-03-22T14:29:49.071Z"
      },
      {
        "duration": 22,
        "start_time": "2022-03-22T14:29:49.110Z"
      },
      {
        "duration": 7,
        "start_time": "2022-03-22T14:29:49.134Z"
      },
      {
        "duration": 10,
        "start_time": "2022-03-22T14:29:49.142Z"
      },
      {
        "duration": 7,
        "start_time": "2022-03-22T14:29:49.154Z"
      },
      {
        "duration": 43,
        "start_time": "2022-03-22T14:29:49.163Z"
      },
      {
        "duration": 7,
        "start_time": "2022-03-22T14:29:49.208Z"
      },
      {
        "duration": 22,
        "start_time": "2022-03-22T14:29:49.217Z"
      },
      {
        "duration": 14,
        "start_time": "2022-03-22T14:29:49.241Z"
      },
      {
        "duration": 7,
        "start_time": "2022-03-22T14:29:49.257Z"
      },
      {
        "duration": 4,
        "start_time": "2022-03-22T14:29:54.702Z"
      },
      {
        "duration": 80,
        "start_time": "2022-03-22T14:29:59.752Z"
      },
      {
        "duration": 12,
        "start_time": "2022-03-22T14:30:16.746Z"
      },
      {
        "duration": 11,
        "start_time": "2022-03-22T14:31:33.752Z"
      },
      {
        "duration": 1167,
        "start_time": "2022-03-24T16:17:26.738Z"
      },
      {
        "duration": 120,
        "start_time": "2022-03-24T16:17:27.909Z"
      },
      {
        "duration": 37,
        "start_time": "2022-03-24T16:17:28.031Z"
      },
      {
        "duration": 34,
        "start_time": "2022-03-24T16:17:28.085Z"
      },
      {
        "duration": 8,
        "start_time": "2022-03-24T16:17:28.122Z"
      },
      {
        "duration": 20,
        "start_time": "2022-03-24T16:17:28.132Z"
      },
      {
        "duration": 34,
        "start_time": "2022-03-24T16:17:28.155Z"
      },
      {
        "duration": 9,
        "start_time": "2022-03-24T16:17:28.191Z"
      },
      {
        "duration": 10,
        "start_time": "2022-03-24T16:17:28.203Z"
      },
      {
        "duration": 66,
        "start_time": "2022-03-24T16:17:28.218Z"
      },
      {
        "duration": 19,
        "start_time": "2022-03-24T16:17:28.287Z"
      },
      {
        "duration": 16,
        "start_time": "2022-03-24T16:17:28.309Z"
      },
      {
        "duration": 37,
        "start_time": "2022-03-24T16:17:28.327Z"
      },
      {
        "duration": 111,
        "start_time": "2022-03-24T16:17:52.510Z"
      },
      {
        "duration": 7,
        "start_time": "2022-03-24T16:18:05.383Z"
      },
      {
        "duration": 10,
        "start_time": "2022-03-24T16:18:25.000Z"
      },
      {
        "duration": 13,
        "start_time": "2022-03-24T16:18:39.160Z"
      },
      {
        "duration": 10,
        "start_time": "2022-03-24T16:18:44.433Z"
      },
      {
        "duration": 51,
        "start_time": "2022-03-24T16:18:50.641Z"
      },
      {
        "duration": 80,
        "start_time": "2022-03-24T16:19:54.826Z"
      },
      {
        "duration": 53,
        "start_time": "2022-03-24T16:20:33.110Z"
      },
      {
        "duration": 70,
        "start_time": "2022-03-24T16:20:52.827Z"
      },
      {
        "duration": 125,
        "start_time": "2022-03-24T16:21:10.503Z"
      },
      {
        "duration": 130,
        "start_time": "2022-03-24T16:21:22.062Z"
      },
      {
        "duration": 121,
        "start_time": "2022-03-24T16:21:29.445Z"
      },
      {
        "duration": 136,
        "start_time": "2022-03-24T16:21:45.182Z"
      },
      {
        "duration": 57,
        "start_time": "2022-03-24T16:22:05.026Z"
      },
      {
        "duration": 55,
        "start_time": "2022-03-24T16:22:21.296Z"
      },
      {
        "duration": 57,
        "start_time": "2022-03-24T16:22:37.380Z"
      },
      {
        "duration": 55,
        "start_time": "2022-03-24T16:22:48.057Z"
      },
      {
        "duration": 57,
        "start_time": "2022-03-24T16:22:57.092Z"
      },
      {
        "duration": 5,
        "start_time": "2022-03-24T16:28:08.350Z"
      },
      {
        "duration": 32760,
        "start_time": "2022-03-24T16:28:09.361Z"
      },
      {
        "duration": 31508,
        "start_time": "2022-03-24T16:28:49.488Z"
      },
      {
        "duration": 11,
        "start_time": "2022-03-24T16:29:47.306Z"
      },
      {
        "duration": 8,
        "start_time": "2022-03-24T16:30:04.212Z"
      },
      {
        "duration": 24,
        "start_time": "2022-03-24T16:43:32.274Z"
      },
      {
        "duration": 917,
        "start_time": "2022-03-24T16:44:53.365Z"
      },
      {
        "duration": 119,
        "start_time": "2022-03-24T16:44:54.285Z"
      },
      {
        "duration": 34,
        "start_time": "2022-03-24T16:44:54.406Z"
      },
      {
        "duration": 50,
        "start_time": "2022-03-24T16:44:54.443Z"
      },
      {
        "duration": 11,
        "start_time": "2022-03-24T16:44:54.495Z"
      },
      {
        "duration": 17,
        "start_time": "2022-03-24T16:44:54.508Z"
      },
      {
        "duration": 12,
        "start_time": "2022-03-24T16:44:54.527Z"
      },
      {
        "duration": 44,
        "start_time": "2022-03-24T16:44:54.541Z"
      },
      {
        "duration": 10,
        "start_time": "2022-03-24T16:44:54.587Z"
      },
      {
        "duration": 30,
        "start_time": "2022-03-24T16:44:54.603Z"
      },
      {
        "duration": 53,
        "start_time": "2022-03-24T16:44:54.635Z"
      },
      {
        "duration": 9,
        "start_time": "2022-03-24T16:44:54.690Z"
      },
      {
        "duration": 12,
        "start_time": "2022-03-24T16:44:54.702Z"
      },
      {
        "duration": 8,
        "start_time": "2022-03-24T16:44:54.717Z"
      },
      {
        "duration": 30495,
        "start_time": "2022-03-24T16:44:54.728Z"
      },
      {
        "duration": 8,
        "start_time": "2022-03-24T16:45:25.225Z"
      },
      {
        "duration": 16,
        "start_time": "2022-03-24T16:45:25.236Z"
      },
      {
        "duration": 6,
        "start_time": "2022-03-24T16:45:25.255Z"
      },
      {
        "duration": 42,
        "start_time": "2022-03-24T16:45:25.264Z"
      },
      {
        "duration": 32,
        "start_time": "2022-03-24T16:45:57.096Z"
      },
      {
        "duration": 33065,
        "start_time": "2022-03-24T16:46:23.137Z"
      },
      {
        "duration": 1294,
        "start_time": "2022-03-24T16:47:05.841Z"
      },
      {
        "duration": 1297,
        "start_time": "2022-03-24T16:48:39.685Z"
      },
      {
        "duration": 996,
        "start_time": "2022-03-24T16:49:00.381Z"
      },
      {
        "duration": 122,
        "start_time": "2022-03-24T16:49:01.383Z"
      },
      {
        "duration": 34,
        "start_time": "2022-03-24T16:49:01.507Z"
      },
      {
        "duration": 50,
        "start_time": "2022-03-24T16:49:01.544Z"
      },
      {
        "duration": 8,
        "start_time": "2022-03-24T16:49:01.597Z"
      },
      {
        "duration": 16,
        "start_time": "2022-03-24T16:49:01.607Z"
      },
      {
        "duration": 9,
        "start_time": "2022-03-24T16:49:01.625Z"
      },
      {
        "duration": 47,
        "start_time": "2022-03-24T16:49:01.637Z"
      },
      {
        "duration": 9,
        "start_time": "2022-03-24T16:49:01.686Z"
      },
      {
        "duration": 28,
        "start_time": "2022-03-24T16:49:01.699Z"
      },
      {
        "duration": 19,
        "start_time": "2022-03-24T16:49:01.729Z"
      },
      {
        "duration": 9,
        "start_time": "2022-03-24T16:49:01.783Z"
      },
      {
        "duration": 8,
        "start_time": "2022-03-24T16:49:01.795Z"
      },
      {
        "duration": 5,
        "start_time": "2022-03-24T16:49:05.525Z"
      },
      {
        "duration": 5,
        "start_time": "2022-03-24T16:49:07.751Z"
      },
      {
        "duration": 31816,
        "start_time": "2022-03-24T16:49:09.631Z"
      },
      {
        "duration": 7,
        "start_time": "2022-03-24T16:49:58.881Z"
      },
      {
        "duration": 9,
        "start_time": "2022-03-24T16:49:59.862Z"
      },
      {
        "duration": 24,
        "start_time": "2022-03-24T16:50:05.403Z"
      },
      {
        "duration": 8,
        "start_time": "2022-03-24T17:04:29.356Z"
      },
      {
        "duration": 38,
        "start_time": "2022-03-24T17:09:24.110Z"
      },
      {
        "duration": 4,
        "start_time": "2022-03-24T17:14:34.034Z"
      },
      {
        "duration": 31493,
        "start_time": "2022-03-24T17:14:37.995Z"
      },
      {
        "duration": 35,
        "start_time": "2022-03-24T17:15:11.668Z"
      },
      {
        "duration": 12,
        "start_time": "2022-03-24T17:17:24.454Z"
      },
      {
        "duration": 35,
        "start_time": "2022-03-24T17:17:31.701Z"
      },
      {
        "duration": 61,
        "start_time": "2022-03-24T17:18:07.199Z"
      },
      {
        "duration": 50,
        "start_time": "2022-03-24T17:18:07.987Z"
      },
      {
        "duration": 24,
        "start_time": "2022-03-24T17:18:15.229Z"
      },
      {
        "duration": 27,
        "start_time": "2022-03-24T17:18:15.948Z"
      },
      {
        "duration": 828,
        "start_time": "2022-03-24T19:38:52.100Z"
      },
      {
        "duration": 132,
        "start_time": "2022-03-24T19:38:52.933Z"
      },
      {
        "duration": 26,
        "start_time": "2022-03-24T19:38:53.067Z"
      },
      {
        "duration": 20,
        "start_time": "2022-03-24T19:38:53.095Z"
      },
      {
        "duration": 7,
        "start_time": "2022-03-24T19:38:53.132Z"
      },
      {
        "duration": 10,
        "start_time": "2022-03-24T19:38:53.140Z"
      },
      {
        "duration": 8,
        "start_time": "2022-03-24T19:38:53.152Z"
      },
      {
        "duration": 10,
        "start_time": "2022-03-24T19:38:53.161Z"
      },
      {
        "duration": 10,
        "start_time": "2022-03-24T19:38:53.172Z"
      },
      {
        "duration": 18,
        "start_time": "2022-03-24T19:38:53.184Z"
      },
      {
        "duration": 38,
        "start_time": "2022-03-24T19:38:53.204Z"
      },
      {
        "duration": 6,
        "start_time": "2022-03-24T19:38:53.244Z"
      },
      {
        "duration": 8,
        "start_time": "2022-03-24T19:38:53.252Z"
      },
      {
        "duration": 6,
        "start_time": "2022-03-24T19:38:53.261Z"
      },
      {
        "duration": 18352,
        "start_time": "2022-03-24T19:38:53.268Z"
      },
      {
        "duration": 28,
        "start_time": "2022-03-24T19:39:11.621Z"
      },
      {
        "duration": 17,
        "start_time": "2022-03-24T19:39:11.650Z"
      },
      {
        "duration": 2,
        "start_time": "2022-03-24T19:39:11.668Z"
      },
      {
        "duration": 16,
        "start_time": "2022-03-24T19:39:11.672Z"
      },
      {
        "duration": 24,
        "start_time": "2022-03-24T19:39:11.690Z"
      },
      {
        "duration": 7,
        "start_time": "2022-03-24T19:39:11.734Z"
      },
      {
        "duration": 4,
        "start_time": "2022-03-24T19:39:11.743Z"
      },
      {
        "duration": 46676,
        "start_time": "2022-03-24T19:39:11.749Z"
      },
      {
        "duration": 14,
        "start_time": "2022-03-24T19:39:58.427Z"
      },
      {
        "duration": 11,
        "start_time": "2022-03-24T19:40:17.996Z"
      },
      {
        "duration": 3,
        "start_time": "2022-03-24T19:43:14.436Z"
      },
      {
        "duration": 2276,
        "start_time": "2022-03-24T19:43:44.474Z"
      },
      {
        "duration": 21,
        "start_time": "2022-03-24T19:44:02.258Z"
      },
      {
        "duration": 3,
        "start_time": "2022-03-24T19:44:25.632Z"
      },
      {
        "duration": 11859,
        "start_time": "2022-03-24T19:44:26.934Z"
      },
      {
        "duration": 9,
        "start_time": "2022-03-24T19:45:05.178Z"
      },
      {
        "duration": 17,
        "start_time": "2022-03-24T19:45:11.185Z"
      },
      {
        "duration": 23,
        "start_time": "2022-03-24T19:45:14.083Z"
      },
      {
        "duration": 6,
        "start_time": "2022-03-24T19:48:36.047Z"
      },
      {
        "duration": 4,
        "start_time": "2022-03-24T19:48:48.111Z"
      },
      {
        "duration": 24,
        "start_time": "2022-03-24T19:48:50.132Z"
      },
      {
        "duration": 5,
        "start_time": "2022-03-24T19:49:09.135Z"
      },
      {
        "duration": 29,
        "start_time": "2022-03-24T19:49:10.561Z"
      },
      {
        "duration": 4,
        "start_time": "2022-03-24T19:52:01.339Z"
      },
      {
        "duration": 23,
        "start_time": "2022-03-24T19:52:02.589Z"
      },
      {
        "duration": 706,
        "start_time": "2022-03-24T19:53:00.202Z"
      },
      {
        "duration": 91,
        "start_time": "2022-03-24T19:53:00.910Z"
      },
      {
        "duration": 36,
        "start_time": "2022-03-24T19:53:01.002Z"
      },
      {
        "duration": 21,
        "start_time": "2022-03-24T19:53:01.040Z"
      },
      {
        "duration": 14,
        "start_time": "2022-03-24T19:53:01.063Z"
      },
      {
        "duration": 13,
        "start_time": "2022-03-24T19:53:01.079Z"
      },
      {
        "duration": 28,
        "start_time": "2022-03-24T19:53:01.094Z"
      },
      {
        "duration": 11,
        "start_time": "2022-03-24T19:53:01.124Z"
      },
      {
        "duration": 7,
        "start_time": "2022-03-24T19:53:01.138Z"
      },
      {
        "duration": 18,
        "start_time": "2022-03-24T19:53:01.149Z"
      },
      {
        "duration": 13,
        "start_time": "2022-03-24T19:53:01.169Z"
      },
      {
        "duration": 8,
        "start_time": "2022-03-24T19:53:01.184Z"
      },
      {
        "duration": 40,
        "start_time": "2022-03-24T19:53:01.193Z"
      },
      {
        "duration": 3,
        "start_time": "2022-03-24T19:53:01.235Z"
      },
      {
        "duration": 23292,
        "start_time": "2022-03-24T19:53:01.240Z"
      },
      {
        "duration": 23,
        "start_time": "2022-03-24T19:53:24.535Z"
      },
      {
        "duration": 13,
        "start_time": "2022-03-24T19:53:24.560Z"
      },
      {
        "duration": 12,
        "start_time": "2022-03-24T19:53:24.575Z"
      },
      {
        "duration": 3,
        "start_time": "2022-03-24T19:53:24.589Z"
      },
      {
        "duration": 12342,
        "start_time": "2022-03-24T19:53:24.594Z"
      },
      {
        "duration": 15,
        "start_time": "2022-03-24T19:53:36.940Z"
      },
      {
        "duration": 43,
        "start_time": "2022-03-24T19:53:36.957Z"
      },
      {
        "duration": 7,
        "start_time": "2022-03-24T19:53:37.002Z"
      },
      {
        "duration": 24,
        "start_time": "2022-03-24T19:53:37.011Z"
      },
      {
        "duration": 48891,
        "start_time": "2022-03-24T19:53:37.037Z"
      },
      {
        "duration": 15,
        "start_time": "2022-03-24T19:54:25.932Z"
      },
      {
        "duration": 28,
        "start_time": "2022-03-24T19:54:25.948Z"
      },
      {
        "duration": 16,
        "start_time": "2022-03-24T19:54:25.979Z"
      },
      {
        "duration": 4,
        "start_time": "2022-03-24T19:54:25.998Z"
      },
      {
        "duration": 36,
        "start_time": "2022-03-24T19:54:26.004Z"
      },
      {
        "duration": 11,
        "start_time": "2022-03-24T19:54:26.042Z"
      },
      {
        "duration": 21,
        "start_time": "2022-03-24T19:55:44.407Z"
      },
      {
        "duration": 23,
        "start_time": "2022-03-24T19:56:29.096Z"
      },
      {
        "duration": 4,
        "start_time": "2022-03-24T19:59:36.947Z"
      },
      {
        "duration": 2607,
        "start_time": "2022-03-24T19:59:38.360Z"
      },
      {
        "duration": 21,
        "start_time": "2022-03-24T19:59:42.770Z"
      },
      {
        "duration": 12,
        "start_time": "2022-03-24T20:03:46.432Z"
      },
      {
        "duration": 15,
        "start_time": "2022-03-24T20:03:47.230Z"
      },
      {
        "duration": 5,
        "start_time": "2022-03-24T20:03:48.544Z"
      },
      {
        "duration": 3,
        "start_time": "2022-03-24T20:04:01.762Z"
      },
      {
        "duration": 3,
        "start_time": "2022-03-24T20:04:16.778Z"
      },
      {
        "duration": 21,
        "start_time": "2022-03-24T20:04:19.691Z"
      },
      {
        "duration": 15,
        "start_time": "2022-03-24T20:04:21.307Z"
      },
      {
        "duration": 19,
        "start_time": "2022-03-24T20:13:12.540Z"
      },
      {
        "duration": 14,
        "start_time": "2022-03-24T20:13:13.643Z"
      },
      {
        "duration": 22,
        "start_time": "2022-03-24T20:13:15.388Z"
      },
      {
        "duration": 672,
        "start_time": "2022-03-24T20:13:49.653Z"
      },
      {
        "duration": 98,
        "start_time": "2022-03-24T20:13:50.327Z"
      },
      {
        "duration": 26,
        "start_time": "2022-03-24T20:13:50.427Z"
      },
      {
        "duration": 19,
        "start_time": "2022-03-24T20:13:50.455Z"
      },
      {
        "duration": 7,
        "start_time": "2022-03-24T20:13:50.476Z"
      },
      {
        "duration": 9,
        "start_time": "2022-03-24T20:13:50.485Z"
      },
      {
        "duration": 6,
        "start_time": "2022-03-24T20:13:50.495Z"
      },
      {
        "duration": 35,
        "start_time": "2022-03-24T20:13:50.503Z"
      },
      {
        "duration": 12,
        "start_time": "2022-03-24T20:13:50.539Z"
      },
      {
        "duration": 19,
        "start_time": "2022-03-24T20:13:50.554Z"
      },
      {
        "duration": 15,
        "start_time": "2022-03-24T20:13:50.574Z"
      },
      {
        "duration": 7,
        "start_time": "2022-03-24T20:13:50.591Z"
      },
      {
        "duration": 37,
        "start_time": "2022-03-24T20:13:50.599Z"
      },
      {
        "duration": 10,
        "start_time": "2022-03-24T20:13:50.637Z"
      },
      {
        "duration": 18542,
        "start_time": "2022-03-24T20:13:50.649Z"
      },
      {
        "duration": 23,
        "start_time": "2022-03-24T20:14:09.192Z"
      },
      {
        "duration": 20,
        "start_time": "2022-03-24T20:14:09.216Z"
      },
      {
        "duration": 16,
        "start_time": "2022-03-24T20:14:09.238Z"
      },
      {
        "duration": 3,
        "start_time": "2022-03-24T20:14:09.256Z"
      },
      {
        "duration": 11693,
        "start_time": "2022-03-24T20:14:09.260Z"
      },
      {
        "duration": 16,
        "start_time": "2022-03-24T20:14:20.955Z"
      },
      {
        "duration": 24,
        "start_time": "2022-03-24T20:14:20.973Z"
      },
      {
        "duration": 6,
        "start_time": "2022-03-24T20:14:20.999Z"
      },
      {
        "duration": 26,
        "start_time": "2022-03-24T20:14:21.007Z"
      },
      {
        "duration": 68634,
        "start_time": "2022-03-24T20:14:21.035Z"
      },
      {
        "duration": 23,
        "start_time": "2022-03-24T20:15:29.671Z"
      },
      {
        "duration": 11,
        "start_time": "2022-03-24T20:15:29.696Z"
      },
      {
        "duration": 15,
        "start_time": "2022-03-24T20:15:29.732Z"
      },
      {
        "duration": 31,
        "start_time": "2022-03-24T20:15:29.748Z"
      },
      {
        "duration": 14,
        "start_time": "2022-03-24T20:15:29.781Z"
      },
      {
        "duration": 4,
        "start_time": "2022-03-24T20:15:29.797Z"
      },
      {
        "duration": 5,
        "start_time": "2022-03-24T20:15:29.803Z"
      },
      {
        "duration": 25,
        "start_time": "2022-03-24T20:15:29.810Z"
      },
      {
        "duration": 25,
        "start_time": "2022-03-24T20:15:29.836Z"
      },
      {
        "duration": 7,
        "start_time": "2022-03-24T20:15:29.863Z"
      },
      {
        "duration": 16,
        "start_time": "2022-03-24T20:15:29.871Z"
      },
      {
        "duration": 5,
        "start_time": "2022-03-24T20:15:29.888Z"
      },
      {
        "duration": 6,
        "start_time": "2022-03-24T20:15:29.894Z"
      },
      {
        "duration": 49,
        "start_time": "2022-03-24T20:15:29.902Z"
      },
      {
        "duration": 21,
        "start_time": "2022-03-24T20:15:41.714Z"
      },
      {
        "duration": 38,
        "start_time": "2022-03-24T20:15:45.065Z"
      },
      {
        "duration": 23,
        "start_time": "2022-03-24T20:16:29.662Z"
      },
      {
        "duration": 153,
        "start_time": "2022-03-24T20:16:56.965Z"
      },
      {
        "duration": 228,
        "start_time": "2022-03-24T20:16:59.070Z"
      },
      {
        "duration": 26,
        "start_time": "2022-03-24T20:17:00.784Z"
      },
      {
        "duration": 6,
        "start_time": "2022-03-24T20:17:08.204Z"
      },
      {
        "duration": 5,
        "start_time": "2022-03-24T20:17:09.834Z"
      },
      {
        "duration": 297,
        "start_time": "2022-03-24T20:17:23.117Z"
      },
      {
        "duration": 189,
        "start_time": "2022-03-24T20:17:32.108Z"
      },
      {
        "duration": 200,
        "start_time": "2022-03-24T20:17:34.425Z"
      },
      {
        "duration": 783,
        "start_time": "2022-03-24T20:17:37.502Z"
      },
      {
        "duration": 96,
        "start_time": "2022-03-24T20:17:41.771Z"
      },
      {
        "duration": 136,
        "start_time": "2022-03-24T20:17:46.933Z"
      },
      {
        "duration": 149,
        "start_time": "2022-03-24T20:17:49.702Z"
      },
      {
        "duration": 68,
        "start_time": "2022-03-24T20:39:24.698Z"
      },
      {
        "duration": 3,
        "start_time": "2022-03-24T20:39:37.018Z"
      },
      {
        "duration": 96,
        "start_time": "2022-03-24T20:39:37.023Z"
      },
      {
        "duration": 24,
        "start_time": "2022-03-24T20:39:37.121Z"
      },
      {
        "duration": 15,
        "start_time": "2022-03-24T20:39:37.146Z"
      },
      {
        "duration": 7,
        "start_time": "2022-03-24T20:39:37.163Z"
      },
      {
        "duration": 8,
        "start_time": "2022-03-24T20:39:37.172Z"
      },
      {
        "duration": 8,
        "start_time": "2022-03-24T20:39:37.181Z"
      },
      {
        "duration": 9,
        "start_time": "2022-03-24T20:39:37.190Z"
      },
      {
        "duration": 36,
        "start_time": "2022-03-24T20:39:37.200Z"
      },
      {
        "duration": 16,
        "start_time": "2022-03-24T20:39:37.238Z"
      },
      {
        "duration": 12,
        "start_time": "2022-03-24T20:39:37.256Z"
      },
      {
        "duration": 5,
        "start_time": "2022-03-24T20:39:37.269Z"
      },
      {
        "duration": 6,
        "start_time": "2022-03-24T20:39:37.276Z"
      },
      {
        "duration": 5,
        "start_time": "2022-03-24T20:39:37.284Z"
      },
      {
        "duration": 17842,
        "start_time": "2022-03-24T20:39:37.290Z"
      },
      {
        "duration": 23,
        "start_time": "2022-03-24T20:39:55.134Z"
      },
      {
        "duration": 9,
        "start_time": "2022-03-24T20:39:55.158Z"
      },
      {
        "duration": 11,
        "start_time": "2022-03-24T20:39:55.169Z"
      },
      {
        "duration": 4,
        "start_time": "2022-03-24T20:39:55.182Z"
      },
      {
        "duration": 11954,
        "start_time": "2022-03-24T20:39:55.187Z"
      },
      {
        "duration": 15,
        "start_time": "2022-03-24T20:40:07.142Z"
      },
      {
        "duration": 28,
        "start_time": "2022-03-24T20:40:07.159Z"
      },
      {
        "duration": 7,
        "start_time": "2022-03-24T20:40:07.189Z"
      },
      {
        "duration": 9,
        "start_time": "2022-03-24T20:40:07.199Z"
      },
      {
        "duration": 68323,
        "start_time": "2022-03-24T20:40:07.209Z"
      },
      {
        "duration": 22,
        "start_time": "2022-03-24T20:41:15.534Z"
      },
      {
        "duration": 13,
        "start_time": "2022-03-24T20:41:15.558Z"
      },
      {
        "duration": 20,
        "start_time": "2022-03-24T20:41:15.573Z"
      },
      {
        "duration": 68,
        "start_time": "2022-03-24T20:41:15.595Z"
      },
      {
        "duration": 20,
        "start_time": "2022-03-24T20:41:15.665Z"
      },
      {
        "duration": 6,
        "start_time": "2022-03-24T20:41:15.687Z"
      },
      {
        "duration": 7,
        "start_time": "2022-03-24T20:41:15.694Z"
      },
      {
        "duration": 6,
        "start_time": "2022-03-24T20:41:15.702Z"
      },
      {
        "duration": 41,
        "start_time": "2022-03-24T20:41:15.710Z"
      },
      {
        "duration": 8,
        "start_time": "2022-03-24T20:41:15.752Z"
      },
      {
        "duration": 14,
        "start_time": "2022-03-24T20:41:15.762Z"
      },
      {
        "duration": 3,
        "start_time": "2022-03-24T20:41:15.778Z"
      },
      {
        "duration": 4,
        "start_time": "2022-03-24T20:41:15.783Z"
      },
      {
        "duration": 25,
        "start_time": "2022-03-24T20:41:15.788Z"
      },
      {
        "duration": 14,
        "start_time": "2022-03-24T20:41:15.832Z"
      },
      {
        "duration": 24,
        "start_time": "2022-03-24T20:41:15.848Z"
      },
      {
        "duration": 14,
        "start_time": "2022-03-24T20:41:15.874Z"
      },
      {
        "duration": 168,
        "start_time": "2022-03-24T20:41:15.890Z"
      },
      {
        "duration": 241,
        "start_time": "2022-03-24T20:41:16.059Z"
      },
      {
        "duration": 34,
        "start_time": "2022-03-24T20:41:16.301Z"
      },
      {
        "duration": 6,
        "start_time": "2022-03-24T20:41:16.337Z"
      },
      {
        "duration": 8,
        "start_time": "2022-03-24T20:41:16.344Z"
      },
      {
        "duration": 339,
        "start_time": "2022-03-24T20:41:16.353Z"
      },
      {
        "duration": 200,
        "start_time": "2022-03-24T20:41:16.693Z"
      },
      {
        "duration": 209,
        "start_time": "2022-03-24T20:41:16.896Z"
      },
      {
        "duration": 817,
        "start_time": "2022-03-24T20:41:17.107Z"
      },
      {
        "duration": 116,
        "start_time": "2022-03-24T20:41:17.926Z"
      },
      {
        "duration": 135,
        "start_time": "2022-03-24T20:41:18.044Z"
      },
      {
        "duration": 162,
        "start_time": "2022-03-24T20:41:18.180Z"
      },
      {
        "duration": 323,
        "start_time": "2022-03-24T20:41:18.343Z"
      },
      {
        "duration": 9,
        "start_time": "2022-03-24T20:41:18.668Z"
      },
      {
        "duration": 155,
        "start_time": "2022-03-24T20:41:18.679Z"
      },
      {
        "duration": 143,
        "start_time": "2022-03-24T20:41:18.836Z"
      },
      {
        "duration": 13,
        "start_time": "2022-03-24T20:41:18.981Z"
      },
      {
        "duration": 10,
        "start_time": "2022-03-24T20:41:18.996Z"
      },
      {
        "duration": 33,
        "start_time": "2022-03-24T20:41:19.008Z"
      },
      {
        "duration": 27,
        "start_time": "2022-03-24T20:41:19.042Z"
      },
      {
        "duration": 3,
        "start_time": "2022-03-24T20:41:19.073Z"
      },
      {
        "duration": 256,
        "start_time": "2022-03-24T20:41:19.078Z"
      },
      {
        "duration": 216,
        "start_time": "2022-03-24T20:41:19.336Z"
      },
      {
        "duration": 5,
        "start_time": "2022-03-24T20:41:19.554Z"
      },
      {
        "duration": 1125,
        "start_time": "2022-03-24T20:41:19.561Z"
      },
      {
        "duration": 142,
        "start_time": "2022-03-24T20:41:37.786Z"
      },
      {
        "duration": 153,
        "start_time": "2022-03-24T20:42:49.869Z"
      },
      {
        "duration": 888,
        "start_time": "2022-03-24T20:44:30.858Z"
      },
      {
        "duration": 220,
        "start_time": "2022-03-24T20:44:58.838Z"
      },
      {
        "duration": 235,
        "start_time": "2022-03-24T20:45:16.977Z"
      },
      {
        "duration": 228,
        "start_time": "2022-03-24T20:47:36.449Z"
      },
      {
        "duration": 235,
        "start_time": "2022-03-24T20:47:47.004Z"
      },
      {
        "duration": 227,
        "start_time": "2022-03-24T20:47:54.969Z"
      },
      {
        "duration": 788,
        "start_time": "2022-03-24T20:48:01.243Z"
      },
      {
        "duration": 933,
        "start_time": "2022-03-24T20:48:14.829Z"
      },
      {
        "duration": 227,
        "start_time": "2022-03-24T20:48:29.657Z"
      },
      {
        "duration": 202,
        "start_time": "2022-03-24T21:18:24.414Z"
      },
      {
        "duration": 217,
        "start_time": "2022-03-24T21:18:31.460Z"
      },
      {
        "duration": 204,
        "start_time": "2022-03-24T21:18:46.662Z"
      },
      {
        "duration": 222,
        "start_time": "2022-03-24T21:19:32.603Z"
      },
      {
        "duration": 73,
        "start_time": "2022-03-25T15:37:42.328Z"
      },
      {
        "duration": 1258,
        "start_time": "2022-03-25T15:37:47.618Z"
      },
      {
        "duration": 580,
        "start_time": "2022-03-25T15:37:48.879Z"
      },
      {
        "duration": 49,
        "start_time": "2022-03-25T15:37:49.462Z"
      },
      {
        "duration": 44,
        "start_time": "2022-03-25T15:37:49.514Z"
      },
      {
        "duration": 7,
        "start_time": "2022-03-25T15:37:49.560Z"
      },
      {
        "duration": 10,
        "start_time": "2022-03-25T15:37:49.569Z"
      },
      {
        "duration": 8,
        "start_time": "2022-03-25T15:37:49.581Z"
      },
      {
        "duration": 7,
        "start_time": "2022-03-25T15:37:49.591Z"
      },
      {
        "duration": 47,
        "start_time": "2022-03-25T15:37:49.600Z"
      },
      {
        "duration": 25,
        "start_time": "2022-03-25T15:37:49.651Z"
      },
      {
        "duration": 18,
        "start_time": "2022-03-25T15:37:49.678Z"
      },
      {
        "duration": 45,
        "start_time": "2022-03-25T15:37:49.698Z"
      },
      {
        "duration": 7,
        "start_time": "2022-03-25T15:37:49.745Z"
      },
      {
        "duration": 5,
        "start_time": "2022-03-25T15:37:49.754Z"
      },
      {
        "duration": 27199,
        "start_time": "2022-03-25T15:37:49.761Z"
      },
      {
        "duration": 36,
        "start_time": "2022-03-25T15:38:16.962Z"
      },
      {
        "duration": 16,
        "start_time": "2022-03-25T15:38:17.000Z"
      },
      {
        "duration": 22,
        "start_time": "2022-03-25T15:38:17.042Z"
      },
      {
        "duration": 6,
        "start_time": "2022-03-25T15:38:17.066Z"
      },
      {
        "duration": 17931,
        "start_time": "2022-03-25T15:38:17.074Z"
      },
      {
        "duration": 22,
        "start_time": "2022-03-25T15:38:35.008Z"
      },
      {
        "duration": 37,
        "start_time": "2022-03-25T15:38:35.044Z"
      },
      {
        "duration": 9,
        "start_time": "2022-03-25T15:38:35.085Z"
      },
      {
        "duration": 6,
        "start_time": "2022-03-25T15:38:35.096Z"
      },
      {
        "duration": 103722,
        "start_time": "2022-03-25T15:38:35.104Z"
      },
      {
        "duration": 46,
        "start_time": "2022-03-25T15:40:18.828Z"
      },
      {
        "duration": 16,
        "start_time": "2022-03-25T15:40:18.877Z"
      },
      {
        "duration": 45,
        "start_time": "2022-03-25T15:40:18.899Z"
      },
      {
        "duration": 32,
        "start_time": "2022-03-25T15:40:18.946Z"
      },
      {
        "duration": 20,
        "start_time": "2022-03-25T15:40:18.980Z"
      },
      {
        "duration": 43,
        "start_time": "2022-03-25T15:40:19.002Z"
      },
      {
        "duration": 8,
        "start_time": "2022-03-25T15:40:19.048Z"
      },
      {
        "duration": 7,
        "start_time": "2022-03-25T15:40:19.058Z"
      },
      {
        "duration": 30,
        "start_time": "2022-03-25T15:40:19.068Z"
      },
      {
        "duration": 42,
        "start_time": "2022-03-25T15:40:19.101Z"
      },
      {
        "duration": 12,
        "start_time": "2022-03-25T15:40:19.145Z"
      },
      {
        "duration": 5,
        "start_time": "2022-03-25T15:40:19.159Z"
      },
      {
        "duration": 7,
        "start_time": "2022-03-25T15:40:19.166Z"
      },
      {
        "duration": 34,
        "start_time": "2022-03-25T15:40:19.175Z"
      },
      {
        "duration": 51,
        "start_time": "2022-03-25T15:40:19.212Z"
      },
      {
        "duration": 41,
        "start_time": "2022-03-25T15:40:19.266Z"
      },
      {
        "duration": 48,
        "start_time": "2022-03-25T15:40:19.310Z"
      },
      {
        "duration": 260,
        "start_time": "2022-03-25T15:40:19.361Z"
      },
      {
        "duration": 398,
        "start_time": "2022-03-25T15:40:19.624Z"
      },
      {
        "duration": 63,
        "start_time": "2022-03-25T15:40:20.024Z"
      },
      {
        "duration": 11,
        "start_time": "2022-03-25T15:40:20.089Z"
      },
      {
        "duration": 14,
        "start_time": "2022-03-25T15:40:20.103Z"
      },
      {
        "duration": 539,
        "start_time": "2022-03-25T15:40:20.119Z"
      },
      {
        "duration": 353,
        "start_time": "2022-03-25T15:40:20.661Z"
      },
      {
        "duration": 344,
        "start_time": "2022-03-25T15:40:21.018Z"
      },
      {
        "duration": 1328,
        "start_time": "2022-03-25T15:40:21.364Z"
      },
      {
        "duration": 180,
        "start_time": "2022-03-25T15:40:22.695Z"
      },
      {
        "duration": 221,
        "start_time": "2022-03-25T15:40:22.878Z"
      },
      {
        "duration": 258,
        "start_time": "2022-03-25T15:40:23.101Z"
      },
      {
        "duration": 282,
        "start_time": "2022-03-25T15:40:53.739Z"
      },
      {
        "duration": 458,
        "start_time": "2022-03-25T15:41:08.321Z"
      },
      {
        "duration": 362,
        "start_time": "2022-03-25T15:41:17.181Z"
      },
      {
        "duration": 380,
        "start_time": "2022-03-25T15:41:25.158Z"
      },
      {
        "duration": 356,
        "start_time": "2022-03-25T15:41:34.270Z"
      },
      {
        "duration": 383,
        "start_time": "2022-03-25T15:41:42.816Z"
      },
      {
        "duration": 563,
        "start_time": "2022-03-25T15:55:02.385Z"
      },
      {
        "duration": 336,
        "start_time": "2022-03-25T15:55:19.322Z"
      },
      {
        "duration": 429,
        "start_time": "2022-03-25T15:55:34.868Z"
      },
      {
        "duration": 16,
        "start_time": "2022-03-25T15:58:29.746Z"
      },
      {
        "duration": 475,
        "start_time": "2022-03-25T15:58:45.268Z"
      },
      {
        "duration": 25,
        "start_time": "2022-03-25T15:58:49.812Z"
      },
      {
        "duration": 46,
        "start_time": "2022-03-25T15:58:52.371Z"
      },
      {
        "duration": 6,
        "start_time": "2022-03-25T15:58:58.617Z"
      },
      {
        "duration": 442,
        "start_time": "2022-03-25T16:01:28.452Z"
      },
      {
        "duration": 463,
        "start_time": "2022-03-25T16:01:29.374Z"
      },
      {
        "duration": 8,
        "start_time": "2022-03-25T16:01:32.091Z"
      },
      {
        "duration": 716,
        "start_time": "2022-03-25T16:01:32.915Z"
      },
      {
        "duration": 367,
        "start_time": "2022-03-25T16:01:34.700Z"
      },
      {
        "duration": 333,
        "start_time": "2022-03-25T16:06:08.601Z"
      },
      {
        "duration": 409,
        "start_time": "2022-03-25T16:12:48.804Z"
      },
      {
        "duration": 16,
        "start_time": "2022-03-25T16:15:09.797Z"
      },
      {
        "duration": 113,
        "start_time": "2022-03-25T16:16:02.137Z"
      },
      {
        "duration": 4866,
        "start_time": "2022-03-25T16:16:06.596Z"
      },
      {
        "duration": 362,
        "start_time": "2022-03-25T16:16:19.333Z"
      },
      {
        "duration": 416,
        "start_time": "2022-03-25T16:16:38.970Z"
      },
      {
        "duration": 13,
        "start_time": "2022-03-25T16:16:46.273Z"
      },
      {
        "duration": 14,
        "start_time": "2022-03-25T16:17:22.313Z"
      },
      {
        "duration": 283,
        "start_time": "2022-03-25T16:17:23.739Z"
      },
      {
        "duration": 128,
        "start_time": "2022-03-25T16:17:48.000Z"
      },
      {
        "duration": 21,
        "start_time": "2022-03-25T16:17:54.438Z"
      },
      {
        "duration": 330,
        "start_time": "2022-03-25T16:17:55.927Z"
      },
      {
        "duration": 13,
        "start_time": "2022-03-25T16:18:14.987Z"
      },
      {
        "duration": 35,
        "start_time": "2022-03-25T16:18:20.590Z"
      },
      {
        "duration": 428,
        "start_time": "2022-03-25T16:18:21.710Z"
      },
      {
        "duration": 351,
        "start_time": "2022-03-25T16:18:44.791Z"
      },
      {
        "duration": 10,
        "start_time": "2022-03-25T16:18:50.790Z"
      },
      {
        "duration": 1374,
        "start_time": "2022-03-25T16:19:09.707Z"
      },
      {
        "duration": 445,
        "start_time": "2022-03-25T16:24:16.925Z"
      },
      {
        "duration": 397,
        "start_time": "2022-03-25T16:24:25.838Z"
      },
      {
        "duration": 661,
        "start_time": "2022-03-25T17:37:43.572Z"
      },
      {
        "duration": 91,
        "start_time": "2022-03-25T17:37:44.235Z"
      },
      {
        "duration": 26,
        "start_time": "2022-03-25T17:37:44.328Z"
      },
      {
        "duration": 18,
        "start_time": "2022-03-25T17:37:44.356Z"
      },
      {
        "duration": 5,
        "start_time": "2022-03-25T17:37:44.376Z"
      },
      {
        "duration": 33,
        "start_time": "2022-03-25T17:37:44.383Z"
      },
      {
        "duration": 6,
        "start_time": "2022-03-25T17:37:44.418Z"
      },
      {
        "duration": 7,
        "start_time": "2022-03-25T17:37:44.426Z"
      },
      {
        "duration": 6,
        "start_time": "2022-03-25T17:37:44.435Z"
      },
      {
        "duration": 20,
        "start_time": "2022-03-25T17:37:44.445Z"
      },
      {
        "duration": 52,
        "start_time": "2022-03-25T17:37:44.467Z"
      },
      {
        "duration": 6,
        "start_time": "2022-03-25T17:37:44.520Z"
      },
      {
        "duration": 5,
        "start_time": "2022-03-25T17:37:44.528Z"
      },
      {
        "duration": 17,
        "start_time": "2022-03-25T17:37:44.535Z"
      },
      {
        "duration": 20850,
        "start_time": "2022-03-25T17:37:44.553Z"
      },
      {
        "duration": 24,
        "start_time": "2022-03-25T17:38:05.405Z"
      },
      {
        "duration": 10,
        "start_time": "2022-03-25T17:38:05.430Z"
      },
      {
        "duration": 12,
        "start_time": "2022-03-25T17:38:05.442Z"
      },
      {
        "duration": 3,
        "start_time": "2022-03-25T17:38:05.456Z"
      },
      {
        "duration": 13360,
        "start_time": "2022-03-25T17:38:05.461Z"
      },
      {
        "duration": 16,
        "start_time": "2022-03-25T17:38:18.823Z"
      },
      {
        "duration": 30,
        "start_time": "2022-03-25T17:38:18.841Z"
      },
      {
        "duration": 6,
        "start_time": "2022-03-25T17:38:18.873Z"
      },
      {
        "duration": 5,
        "start_time": "2022-03-25T17:38:18.880Z"
      },
      {
        "duration": 74787,
        "start_time": "2022-03-25T17:38:18.886Z"
      },
      {
        "duration": 22,
        "start_time": "2022-03-25T17:39:33.675Z"
      },
      {
        "duration": 19,
        "start_time": "2022-03-25T17:39:33.699Z"
      },
      {
        "duration": 15,
        "start_time": "2022-03-25T17:39:33.722Z"
      },
      {
        "duration": 28,
        "start_time": "2022-03-25T17:39:33.738Z"
      },
      {
        "duration": 15,
        "start_time": "2022-03-25T17:39:33.767Z"
      },
      {
        "duration": 28,
        "start_time": "2022-03-25T17:39:33.784Z"
      },
      {
        "duration": 4,
        "start_time": "2022-03-25T17:39:33.814Z"
      },
      {
        "duration": 14,
        "start_time": "2022-03-25T17:39:33.819Z"
      },
      {
        "duration": 34,
        "start_time": "2022-03-25T17:39:33.834Z"
      },
      {
        "duration": 12,
        "start_time": "2022-03-25T17:39:33.870Z"
      },
      {
        "duration": 8,
        "start_time": "2022-03-25T17:39:33.884Z"
      },
      {
        "duration": 4,
        "start_time": "2022-03-25T17:39:33.893Z"
      },
      {
        "duration": 4,
        "start_time": "2022-03-25T17:39:33.908Z"
      },
      {
        "duration": 24,
        "start_time": "2022-03-25T17:39:33.913Z"
      },
      {
        "duration": 29,
        "start_time": "2022-03-25T17:39:33.938Z"
      },
      {
        "duration": 24,
        "start_time": "2022-03-25T17:39:33.969Z"
      },
      {
        "duration": 26,
        "start_time": "2022-03-25T17:39:33.995Z"
      },
      {
        "duration": 173,
        "start_time": "2022-03-25T17:39:34.023Z"
      },
      {
        "duration": 276,
        "start_time": "2022-03-25T17:39:34.198Z"
      },
      {
        "duration": 34,
        "start_time": "2022-03-25T17:39:34.476Z"
      },
      {
        "duration": 6,
        "start_time": "2022-03-25T17:39:34.512Z"
      },
      {
        "duration": 7,
        "start_time": "2022-03-25T17:39:34.519Z"
      },
      {
        "duration": 353,
        "start_time": "2022-03-25T17:39:34.528Z"
      },
      {
        "duration": 248,
        "start_time": "2022-03-25T17:39:34.883Z"
      },
      {
        "duration": 214,
        "start_time": "2022-03-25T17:39:35.133Z"
      },
      {
        "duration": 911,
        "start_time": "2022-03-25T17:39:35.348Z"
      },
      {
        "duration": 111,
        "start_time": "2022-03-25T17:39:36.261Z"
      },
      {
        "duration": 151,
        "start_time": "2022-03-25T17:39:36.373Z"
      },
      {
        "duration": 172,
        "start_time": "2022-03-25T17:39:36.526Z"
      },
      {
        "duration": 254,
        "start_time": "2022-03-25T17:39:36.699Z"
      },
      {
        "duration": 305,
        "start_time": "2022-03-25T17:39:36.955Z"
      },
      {
        "duration": 263,
        "start_time": "2022-03-25T17:39:37.261Z"
      },
      {
        "duration": 260,
        "start_time": "2022-03-25T17:39:37.525Z"
      },
      {
        "duration": 252,
        "start_time": "2022-03-25T17:39:37.787Z"
      },
      {
        "duration": 6,
        "start_time": "2022-03-25T17:39:38.041Z"
      },
      {
        "duration": 262,
        "start_time": "2022-03-25T17:39:38.049Z"
      },
      {
        "duration": 357,
        "start_time": "2022-03-25T17:39:38.312Z"
      },
      {
        "duration": 12,
        "start_time": "2022-03-25T17:39:38.671Z"
      },
      {
        "duration": 288,
        "start_time": "2022-03-25T17:39:38.685Z"
      },
      {
        "duration": 16,
        "start_time": "2022-03-25T17:39:38.975Z"
      },
      {
        "duration": 34,
        "start_time": "2022-03-25T17:39:38.992Z"
      },
      {
        "duration": 3,
        "start_time": "2022-03-25T17:39:39.028Z"
      },
      {
        "duration": 287,
        "start_time": "2022-03-25T17:39:39.032Z"
      },
      {
        "duration": 257,
        "start_time": "2022-03-25T17:39:39.321Z"
      },
      {
        "duration": 4,
        "start_time": "2022-03-25T17:39:39.580Z"
      },
      {
        "duration": 335,
        "start_time": "2022-03-25T17:39:39.586Z"
      },
      {
        "duration": 177,
        "start_time": "2022-03-25T17:39:39.923Z"
      },
      {
        "duration": 136,
        "start_time": "2022-03-25T17:39:40.101Z"
      },
      {
        "duration": 244,
        "start_time": "2022-03-25T17:39:40.238Z"
      },
      {
        "duration": 332,
        "start_time": "2022-03-25T17:39:40.484Z"
      },
      {
        "duration": 7,
        "start_time": "2022-03-25T17:39:40.818Z"
      },
      {
        "duration": 12,
        "start_time": "2022-03-25T17:39:40.827Z"
      },
      {
        "duration": 209,
        "start_time": "2022-03-25T17:39:40.841Z"
      },
      {
        "duration": 209,
        "start_time": "2022-03-25T17:39:41.052Z"
      },
      {
        "duration": 8,
        "start_time": "2022-03-25T17:39:41.263Z"
      },
      {
        "duration": 625,
        "start_time": "2022-03-25T17:39:41.272Z"
      },
      {
        "duration": 226,
        "start_time": "2022-03-25T17:39:41.902Z"
      },
      {
        "duration": 207,
        "start_time": "2022-03-25T17:39:42.130Z"
      },
      {
        "duration": 83,
        "start_time": "2022-03-25T17:39:42.338Z"
      },
      {
        "duration": 819,
        "start_time": "2022-03-26T11:45:00.439Z"
      },
      {
        "duration": 85,
        "start_time": "2022-03-26T11:45:03.873Z"
      },
      {
        "duration": 25,
        "start_time": "2022-03-26T11:45:05.353Z"
      },
      {
        "duration": 19,
        "start_time": "2022-03-26T11:45:05.781Z"
      },
      {
        "duration": 5,
        "start_time": "2022-03-26T11:45:07.151Z"
      },
      {
        "duration": 8,
        "start_time": "2022-03-26T11:45:07.593Z"
      },
      {
        "duration": 7,
        "start_time": "2022-03-26T11:45:08.678Z"
      },
      {
        "duration": 5,
        "start_time": "2022-03-26T11:45:09.067Z"
      },
      {
        "duration": 6,
        "start_time": "2022-03-26T11:45:09.486Z"
      },
      {
        "duration": 19,
        "start_time": "2022-03-26T11:45:11.689Z"
      },
      {
        "duration": 12,
        "start_time": "2022-03-26T11:45:12.157Z"
      },
      {
        "duration": 6,
        "start_time": "2022-03-26T11:45:15.005Z"
      },
      {
        "duration": 3,
        "start_time": "2022-03-26T11:45:15.608Z"
      },
      {
        "duration": 4,
        "start_time": "2022-03-26T11:45:16.323Z"
      },
      {
        "duration": 68,
        "start_time": "2022-03-26T11:45:17.284Z"
      },
      {
        "duration": 5,
        "start_time": "2022-03-26T11:45:33.577Z"
      },
      {
        "duration": 22,
        "start_time": "2022-03-26T11:46:04.529Z"
      },
      {
        "duration": 3,
        "start_time": "2022-03-26T11:46:59.063Z"
      },
      {
        "duration": 3,
        "start_time": "2022-03-26T11:47:08.775Z"
      },
      {
        "duration": 15,
        "start_time": "2022-03-26T11:47:31.831Z"
      },
      {
        "duration": 8,
        "start_time": "2022-03-26T11:47:36.507Z"
      },
      {
        "duration": 6,
        "start_time": "2022-03-26T11:47:41.931Z"
      },
      {
        "duration": 2,
        "start_time": "2022-03-26T11:55:05.969Z"
      },
      {
        "duration": 79,
        "start_time": "2022-03-26T11:55:06.034Z"
      },
      {
        "duration": 21,
        "start_time": "2022-03-26T11:55:06.115Z"
      },
      {
        "duration": 17,
        "start_time": "2022-03-26T11:55:06.137Z"
      },
      {
        "duration": 26,
        "start_time": "2022-03-26T11:55:06.156Z"
      },
      {
        "duration": 9,
        "start_time": "2022-03-26T11:55:06.183Z"
      },
      {
        "duration": 5,
        "start_time": "2022-03-26T11:55:06.193Z"
      },
      {
        "duration": 5,
        "start_time": "2022-03-26T11:55:06.200Z"
      },
      {
        "duration": 5,
        "start_time": "2022-03-26T11:55:06.206Z"
      },
      {
        "duration": 14,
        "start_time": "2022-03-26T11:55:06.212Z"
      },
      {
        "duration": 10,
        "start_time": "2022-03-26T11:55:06.228Z"
      },
      {
        "duration": 5,
        "start_time": "2022-03-26T11:55:06.280Z"
      },
      {
        "duration": 5,
        "start_time": "2022-03-26T11:55:06.287Z"
      },
      {
        "duration": 4,
        "start_time": "2022-03-26T11:55:06.293Z"
      },
      {
        "duration": 16483,
        "start_time": "2022-03-26T11:55:06.298Z"
      },
      {
        "duration": 21,
        "start_time": "2022-03-26T11:55:22.782Z"
      },
      {
        "duration": 7,
        "start_time": "2022-03-26T11:55:22.805Z"
      },
      {
        "duration": 10,
        "start_time": "2022-03-26T11:55:22.814Z"
      },
      {
        "duration": 4,
        "start_time": "2022-03-26T11:55:22.825Z"
      },
      {
        "duration": 10532,
        "start_time": "2022-03-26T11:55:22.830Z"
      },
      {
        "duration": 18,
        "start_time": "2022-03-26T11:55:33.364Z"
      },
      {
        "duration": 23,
        "start_time": "2022-03-26T11:55:33.384Z"
      },
      {
        "duration": 6,
        "start_time": "2022-03-26T11:55:33.408Z"
      },
      {
        "duration": 4,
        "start_time": "2022-03-26T11:55:33.416Z"
      },
      {
        "duration": 61820,
        "start_time": "2022-03-26T11:55:33.421Z"
      },
      {
        "duration": 19,
        "start_time": "2022-03-26T11:56:35.243Z"
      },
      {
        "duration": 18,
        "start_time": "2022-03-26T11:56:35.263Z"
      },
      {
        "duration": 13,
        "start_time": "2022-03-26T11:56:35.282Z"
      },
      {
        "duration": 25,
        "start_time": "2022-03-26T11:56:35.299Z"
      },
      {
        "duration": 13,
        "start_time": "2022-03-26T11:56:35.326Z"
      },
      {
        "duration": 4,
        "start_time": "2022-03-26T11:56:35.340Z"
      },
      {
        "duration": 35,
        "start_time": "2022-03-26T11:56:35.346Z"
      },
      {
        "duration": 3,
        "start_time": "2022-03-26T11:56:35.382Z"
      },
      {
        "duration": 24,
        "start_time": "2022-03-26T11:56:35.387Z"
      },
      {
        "duration": 7,
        "start_time": "2022-03-26T11:56:35.412Z"
      },
      {
        "duration": 8,
        "start_time": "2022-03-26T11:56:35.420Z"
      },
      {
        "duration": 4,
        "start_time": "2022-03-26T11:56:35.430Z"
      },
      {
        "duration": 5,
        "start_time": "2022-03-26T11:56:35.435Z"
      },
      {
        "duration": 44,
        "start_time": "2022-03-26T11:56:35.442Z"
      },
      {
        "duration": 13,
        "start_time": "2022-03-26T11:56:35.488Z"
      },
      {
        "duration": 28,
        "start_time": "2022-03-26T11:56:35.503Z"
      },
      {
        "duration": 16,
        "start_time": "2022-03-26T11:56:35.533Z"
      },
      {
        "duration": 169,
        "start_time": "2022-03-26T11:56:35.551Z"
      },
      {
        "duration": 216,
        "start_time": "2022-03-26T11:56:35.722Z"
      },
      {
        "duration": 24,
        "start_time": "2022-03-26T11:56:35.940Z"
      },
      {
        "duration": 18,
        "start_time": "2022-03-26T11:56:35.965Z"
      },
      {
        "duration": 6,
        "start_time": "2022-03-26T11:56:35.985Z"
      },
      {
        "duration": 272,
        "start_time": "2022-03-26T11:56:35.993Z"
      },
      {
        "duration": 184,
        "start_time": "2022-03-26T11:56:36.266Z"
      },
      {
        "duration": 186,
        "start_time": "2022-03-26T11:56:36.452Z"
      },
      {
        "duration": 742,
        "start_time": "2022-03-26T11:56:36.640Z"
      },
      {
        "duration": 101,
        "start_time": "2022-03-26T11:56:37.384Z"
      },
      {
        "duration": 127,
        "start_time": "2022-03-26T11:56:37.487Z"
      },
      {
        "duration": 142,
        "start_time": "2022-03-26T11:56:37.615Z"
      },
      {
        "duration": 225,
        "start_time": "2022-03-26T11:56:37.759Z"
      },
      {
        "duration": 261,
        "start_time": "2022-03-26T11:56:37.986Z"
      },
      {
        "duration": 217,
        "start_time": "2022-03-26T11:56:38.249Z"
      },
      {
        "duration": 227,
        "start_time": "2022-03-26T11:56:38.468Z"
      },
      {
        "duration": 208,
        "start_time": "2022-03-26T11:56:38.697Z"
      },
      {
        "duration": 6,
        "start_time": "2022-03-26T11:56:38.907Z"
      },
      {
        "duration": 224,
        "start_time": "2022-03-26T11:56:38.914Z"
      },
      {
        "duration": 306,
        "start_time": "2022-03-26T11:56:39.139Z"
      },
      {
        "duration": 11,
        "start_time": "2022-03-26T11:56:39.447Z"
      },
      {
        "duration": 259,
        "start_time": "2022-03-26T11:56:39.459Z"
      },
      {
        "duration": 16,
        "start_time": "2022-03-26T11:56:39.719Z"
      },
      {
        "duration": 24,
        "start_time": "2022-03-26T11:56:39.737Z"
      },
      {
        "duration": 18,
        "start_time": "2022-03-26T11:56:39.763Z"
      },
      {
        "duration": 231,
        "start_time": "2022-03-26T11:56:39.782Z"
      },
      {
        "duration": 213,
        "start_time": "2022-03-26T11:56:40.015Z"
      },
      {
        "duration": 5,
        "start_time": "2022-03-26T11:56:40.229Z"
      },
      {
        "duration": 272,
        "start_time": "2022-03-26T11:56:40.236Z"
      },
      {
        "duration": 139,
        "start_time": "2022-03-26T11:56:40.510Z"
      },
      {
        "duration": 113,
        "start_time": "2022-03-26T11:56:40.651Z"
      },
      {
        "duration": 212,
        "start_time": "2022-03-26T11:56:40.766Z"
      },
      {
        "duration": 310,
        "start_time": "2022-03-26T11:56:40.980Z"
      },
      {
        "duration": 8,
        "start_time": "2022-03-26T11:56:41.292Z"
      },
      {
        "duration": 11,
        "start_time": "2022-03-26T11:56:41.302Z"
      },
      {
        "duration": 174,
        "start_time": "2022-03-26T11:56:41.315Z"
      },
      {
        "duration": 183,
        "start_time": "2022-03-26T11:56:41.491Z"
      },
      {
        "duration": 12,
        "start_time": "2022-03-26T11:56:41.676Z"
      },
      {
        "duration": 512,
        "start_time": "2022-03-26T11:56:41.690Z"
      },
      {
        "duration": 188,
        "start_time": "2022-03-26T11:56:42.204Z"
      },
      {
        "duration": 175,
        "start_time": "2022-03-26T11:56:42.398Z"
      },
      {
        "duration": 12,
        "start_time": "2022-03-26T11:56:42.574Z"
      }
    ],
    "kernelspec": {
      "display_name": "Python 3 (ipykernel)",
      "language": "python",
      "name": "python3"
    },
    "language_info": {
      "codemirror_mode": {
        "name": "ipython",
        "version": 3
      },
      "file_extension": ".py",
      "mimetype": "text/x-python",
      "name": "python",
      "nbconvert_exporter": "python",
      "pygments_lexer": "ipython3",
      "version": "3.9.5"
    },
    "toc": {
      "base_numbering": 1,
      "nav_menu": {},
      "number_sections": true,
      "sideBar": true,
      "skip_h1_title": false,
      "title_cell": "Table of Contents",
      "title_sidebar": "Contents",
      "toc_cell": false,
      "toc_position": {
        "height": "calc(100% - 180px)",
        "left": "10px",
        "top": "150px",
        "width": "165px"
      },
      "toc_section_display": true,
      "toc_window_display": true
    },
    "colab": {
      "name": "what_sells_a_car?",
      "provenance": []
    }
  },
  "nbformat": 4,
  "nbformat_minor": 0
}