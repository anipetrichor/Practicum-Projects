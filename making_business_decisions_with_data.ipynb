{
 "cells": [
  {
   "cell_type": "markdown",
   "id": "a776285b",
   "metadata": {},
   "source": [
    "# A/B Hypothesis Testing\n",
    "\n",
    "In this project I take on the role of a data analyst at a big online store. My goal here is to assess a list of hypotheses that may help boost revenue by utilizing A/B testing. \n",
    "\n",
    "**Action Plan**\n",
    "\n",
    "The first step will be to prioritize hypotheses using the ICE and RICE frameworks to organize the hypotheses from highest to lowest priority.\n",
    "\n",
    "After prioritizing the hypotheses I will begin Exploratory Data Analysis to examine and display the data before conducting a series of A/B tests to decide with hypotheses are viable and worth continuing with. \n",
    "\n",
    "I will preform the following operations:\n",
    "\n",
    "- Graph cumulative revenue by group\n",
    "- Graph cumulative avg order size by group\n",
    "- Graph relative difference in cumulative order size\n",
    "- Calculate conversion rate \n",
    "- Graph number of orders per user\n",
    "- Calculate 95th and 99th percentiles of order prices\n",
    "- Find statistical significance of conversion (raw data)\n",
    "- Find statistical significance of order size (raw data)\n",
    "- Find statistical significance of conversion (filtered data)\n",
    "- Find statistical significance of order size (filtered data)\n",
    "- Make final decision based on test results"
   ]
  },
  {
   "cell_type": "markdown",
   "id": "93006e82",
   "metadata": {},
   "source": [
    "## Initialization"
   ]
  },
  {
   "cell_type": "code",
   "execution_count": 1,
   "id": "98804220",
   "metadata": {},
   "outputs": [],
   "source": [
    "# Loading all the libraries\n",
    "\n",
    "import pandas as pd\n",
    "import matplotlib.pyplot as plt\n",
    "import numpy as np\n",
    "from scipy import stats as st"
   ]
  },
  {
   "cell_type": "markdown",
   "id": "9ed378b8",
   "metadata": {},
   "source": [
    "## Prioritizing Hypotheses"
   ]
  },
  {
   "cell_type": "code",
   "execution_count": 2,
   "id": "6165e902",
   "metadata": {
    "scrolled": false
   },
   "outputs": [
    {
     "data": {
      "text/html": [
       "<div>\n",
       "<style scoped>\n",
       "    .dataframe tbody tr th:only-of-type {\n",
       "        vertical-align: middle;\n",
       "    }\n",
       "\n",
       "    .dataframe tbody tr th {\n",
       "        vertical-align: top;\n",
       "    }\n",
       "\n",
       "    .dataframe thead th {\n",
       "        text-align: right;\n",
       "    }\n",
       "</style>\n",
       "<table border=\"1\" class=\"dataframe\">\n",
       "  <thead>\n",
       "    <tr style=\"text-align: right;\">\n",
       "      <th></th>\n",
       "      <th>Hypothesis</th>\n",
       "      <th>Reach</th>\n",
       "      <th>Impact</th>\n",
       "      <th>Confidence</th>\n",
       "      <th>Effort</th>\n",
       "    </tr>\n",
       "  </thead>\n",
       "  <tbody>\n",
       "    <tr>\n",
       "      <th>0</th>\n",
       "      <td>Add two new channels for attracting traffic. T...</td>\n",
       "      <td>3</td>\n",
       "      <td>10</td>\n",
       "      <td>8</td>\n",
       "      <td>6</td>\n",
       "    </tr>\n",
       "    <tr>\n",
       "      <th>1</th>\n",
       "      <td>Launch your own delivery service. This will sh...</td>\n",
       "      <td>2</td>\n",
       "      <td>5</td>\n",
       "      <td>4</td>\n",
       "      <td>10</td>\n",
       "    </tr>\n",
       "    <tr>\n",
       "      <th>2</th>\n",
       "      <td>Add product recommendation blocks to the store...</td>\n",
       "      <td>8</td>\n",
       "      <td>3</td>\n",
       "      <td>7</td>\n",
       "      <td>3</td>\n",
       "    </tr>\n",
       "    <tr>\n",
       "      <th>3</th>\n",
       "      <td>Change the category structure. This will incre...</td>\n",
       "      <td>8</td>\n",
       "      <td>3</td>\n",
       "      <td>3</td>\n",
       "      <td>8</td>\n",
       "    </tr>\n",
       "    <tr>\n",
       "      <th>4</th>\n",
       "      <td>Change the background color on the main page. ...</td>\n",
       "      <td>3</td>\n",
       "      <td>1</td>\n",
       "      <td>1</td>\n",
       "      <td>1</td>\n",
       "    </tr>\n",
       "  </tbody>\n",
       "</table>\n",
       "</div>"
      ],
      "text/plain": [
       "                                          Hypothesis  Reach  Impact  \\\n",
       "0  Add two new channels for attracting traffic. T...      3      10   \n",
       "1  Launch your own delivery service. This will sh...      2       5   \n",
       "2  Add product recommendation blocks to the store...      8       3   \n",
       "3  Change the category structure. This will incre...      8       3   \n",
       "4  Change the background color on the main page. ...      3       1   \n",
       "\n",
       "   Confidence  Effort  \n",
       "0           8       6  \n",
       "1           4      10  \n",
       "2           7       3  \n",
       "3           3       8  \n",
       "4           1       1  "
      ]
     },
     "execution_count": 2,
     "metadata": {},
     "output_type": "execute_result"
    }
   ],
   "source": [
    "# loading hypotheses dataset\n",
    "\n",
    "try:\n",
    "    hyp_df = pd.read_csv('datasets/hypotheses_us.csv', sep = ';')\n",
    "except:\n",
    "    hyp_df = pd.read_csv('/datasets/hypotheses_us.csv', sep = ';')\n",
    "    \n",
    "hyp_df.head()"
   ]
  },
  {
   "cell_type": "markdown",
   "id": "bd3ad87d",
   "metadata": {},
   "source": [
    "#### Dataset Breakdown\n",
    "\n",
    "- `Hypotheses`: brief descriptions of the hypotheses\n",
    "- `Reach`: user reach, on a scale of one to ten\n",
    "- `Impact`:impact on users, on a scale of one to ten\n",
    "- `Confidence`: confidence in the hypothesis, on a scale of one to ten\n",
    "- `Effort`: the resources required to test a hypothesis, on a scale of one to ten. The higher the Effort value, the more resource-intensive the test."
   ]
  },
  {
   "cell_type": "code",
   "execution_count": 3,
   "id": "8adf0709",
   "metadata": {
    "scrolled": false
   },
   "outputs": [
    {
     "data": {
      "text/html": [
       "<div>\n",
       "<style scoped>\n",
       "    .dataframe tbody tr th:only-of-type {\n",
       "        vertical-align: middle;\n",
       "    }\n",
       "\n",
       "    .dataframe tbody tr th {\n",
       "        vertical-align: top;\n",
       "    }\n",
       "\n",
       "    .dataframe thead th {\n",
       "        text-align: right;\n",
       "    }\n",
       "</style>\n",
       "<table border=\"1\" class=\"dataframe\">\n",
       "  <thead>\n",
       "    <tr style=\"text-align: right;\">\n",
       "      <th></th>\n",
       "      <th>Hypothesis</th>\n",
       "      <th>Reach</th>\n",
       "      <th>Impact</th>\n",
       "      <th>Confidence</th>\n",
       "      <th>Effort</th>\n",
       "      <th>ICE</th>\n",
       "    </tr>\n",
       "  </thead>\n",
       "  <tbody>\n",
       "    <tr>\n",
       "      <th>8</th>\n",
       "      <td>Launch a promotion that gives users discounts on their birthdays</td>\n",
       "      <td>1</td>\n",
       "      <td>9</td>\n",
       "      <td>9</td>\n",
       "      <td>5</td>\n",
       "      <td>16.0</td>\n",
       "    </tr>\n",
       "    <tr>\n",
       "      <th>0</th>\n",
       "      <td>Add two new channels for attracting traffic. This will bring 30% more users</td>\n",
       "      <td>3</td>\n",
       "      <td>10</td>\n",
       "      <td>8</td>\n",
       "      <td>6</td>\n",
       "      <td>13.0</td>\n",
       "    </tr>\n",
       "    <tr>\n",
       "      <th>7</th>\n",
       "      <td>Add a subscription form to all the main pages. This will help you compile a mailing list</td>\n",
       "      <td>10</td>\n",
       "      <td>7</td>\n",
       "      <td>8</td>\n",
       "      <td>5</td>\n",
       "      <td>11.0</td>\n",
       "    </tr>\n",
       "    <tr>\n",
       "      <th>6</th>\n",
       "      <td>Show banners with current offers and sales on the main page. This will boost conversion</td>\n",
       "      <td>5</td>\n",
       "      <td>3</td>\n",
       "      <td>8</td>\n",
       "      <td>3</td>\n",
       "      <td>8.0</td>\n",
       "    </tr>\n",
       "    <tr>\n",
       "      <th>2</th>\n",
       "      <td>Add product recommendation blocks to the store's site. This will increase conversion and average purchase size</td>\n",
       "      <td>8</td>\n",
       "      <td>3</td>\n",
       "      <td>7</td>\n",
       "      <td>3</td>\n",
       "      <td>7.0</td>\n",
       "    </tr>\n",
       "    <tr>\n",
       "      <th>1</th>\n",
       "      <td>Launch your own delivery service. This will shorten delivery time</td>\n",
       "      <td>2</td>\n",
       "      <td>5</td>\n",
       "      <td>4</td>\n",
       "      <td>10</td>\n",
       "      <td>2.0</td>\n",
       "    </tr>\n",
       "    <tr>\n",
       "      <th>3</th>\n",
       "      <td>Change the category structure. This will increase conversion since users will find the products they want more quickly</td>\n",
       "      <td>8</td>\n",
       "      <td>3</td>\n",
       "      <td>3</td>\n",
       "      <td>8</td>\n",
       "      <td>1.0</td>\n",
       "    </tr>\n",
       "    <tr>\n",
       "      <th>4</th>\n",
       "      <td>Change the background color on the main page. This will increase user engagement</td>\n",
       "      <td>3</td>\n",
       "      <td>1</td>\n",
       "      <td>1</td>\n",
       "      <td>1</td>\n",
       "      <td>1.0</td>\n",
       "    </tr>\n",
       "    <tr>\n",
       "      <th>5</th>\n",
       "      <td>Add a customer review page. This will increase the number of orders</td>\n",
       "      <td>3</td>\n",
       "      <td>2</td>\n",
       "      <td>2</td>\n",
       "      <td>3</td>\n",
       "      <td>1.0</td>\n",
       "    </tr>\n",
       "  </tbody>\n",
       "</table>\n",
       "</div>"
      ],
      "text/plain": [
       "                                                                                                               Hypothesis  \\\n",
       "8                                                        Launch a promotion that gives users discounts on their birthdays   \n",
       "0                                             Add two new channels for attracting traffic. This will bring 30% more users   \n",
       "7                                Add a subscription form to all the main pages. This will help you compile a mailing list   \n",
       "6                                 Show banners with current offers and sales on the main page. This will boost conversion   \n",
       "2          Add product recommendation blocks to the store's site. This will increase conversion and average purchase size   \n",
       "1                                                       Launch your own delivery service. This will shorten delivery time   \n",
       "3  Change the category structure. This will increase conversion since users will find the products they want more quickly   \n",
       "4                                        Change the background color on the main page. This will increase user engagement   \n",
       "5                                                     Add a customer review page. This will increase the number of orders   \n",
       "\n",
       "   Reach  Impact  Confidence  Effort   ICE  \n",
       "8      1       9           9       5  16.0  \n",
       "0      3      10           8       6  13.0  \n",
       "7     10       7           8       5  11.0  \n",
       "6      5       3           8       3   8.0  \n",
       "2      8       3           7       3   7.0  \n",
       "1      2       5           4      10   2.0  \n",
       "3      8       3           3       8   1.0  \n",
       "4      3       1           1       1   1.0  \n",
       "5      3       2           2       3   1.0  "
      ]
     },
     "execution_count": 3,
     "metadata": {},
     "output_type": "execute_result"
    }
   ],
   "source": [
    "# adding ICE column\n",
    "\n",
    "hyp_df['ICE'] = (hyp_df['Impact'] * hyp_df['Confidence']) / hyp_df['Effort']\n",
    "hyp_df['ICE'] = hyp_df['ICE'].round()\n",
    "\n",
    "pd.options.display.max_colwidth = 210\n",
    "hyp_df.sort_values('ICE', ascending = False)"
   ]
  },
  {
   "cell_type": "code",
   "execution_count": 4,
   "id": "3aefb8bf",
   "metadata": {},
   "outputs": [
    {
     "data": {
      "text/html": [
       "<div>\n",
       "<style scoped>\n",
       "    .dataframe tbody tr th:only-of-type {\n",
       "        vertical-align: middle;\n",
       "    }\n",
       "\n",
       "    .dataframe tbody tr th {\n",
       "        vertical-align: top;\n",
       "    }\n",
       "\n",
       "    .dataframe thead th {\n",
       "        text-align: right;\n",
       "    }\n",
       "</style>\n",
       "<table border=\"1\" class=\"dataframe\">\n",
       "  <thead>\n",
       "    <tr style=\"text-align: right;\">\n",
       "      <th></th>\n",
       "      <th>Hypothesis</th>\n",
       "      <th>Reach</th>\n",
       "      <th>Impact</th>\n",
       "      <th>Confidence</th>\n",
       "      <th>Effort</th>\n",
       "      <th>ICE</th>\n",
       "      <th>hyp_num</th>\n",
       "    </tr>\n",
       "  </thead>\n",
       "  <tbody>\n",
       "    <tr>\n",
       "      <th>0</th>\n",
       "      <td>Add two new channels for attracting traffic. This will bring 30% more users</td>\n",
       "      <td>3</td>\n",
       "      <td>10</td>\n",
       "      <td>8</td>\n",
       "      <td>6</td>\n",
       "      <td>13.0</td>\n",
       "      <td>1</td>\n",
       "    </tr>\n",
       "    <tr>\n",
       "      <th>1</th>\n",
       "      <td>Launch your own delivery service. This will shorten delivery time</td>\n",
       "      <td>2</td>\n",
       "      <td>5</td>\n",
       "      <td>4</td>\n",
       "      <td>10</td>\n",
       "      <td>2.0</td>\n",
       "      <td>2</td>\n",
       "    </tr>\n",
       "    <tr>\n",
       "      <th>2</th>\n",
       "      <td>Add product recommendation blocks to the store's site. This will increase conversion and average purchase size</td>\n",
       "      <td>8</td>\n",
       "      <td>3</td>\n",
       "      <td>7</td>\n",
       "      <td>3</td>\n",
       "      <td>7.0</td>\n",
       "      <td>3</td>\n",
       "    </tr>\n",
       "    <tr>\n",
       "      <th>3</th>\n",
       "      <td>Change the category structure. This will increase conversion since users will find the products they want more quickly</td>\n",
       "      <td>8</td>\n",
       "      <td>3</td>\n",
       "      <td>3</td>\n",
       "      <td>8</td>\n",
       "      <td>1.0</td>\n",
       "      <td>4</td>\n",
       "    </tr>\n",
       "    <tr>\n",
       "      <th>4</th>\n",
       "      <td>Change the background color on the main page. This will increase user engagement</td>\n",
       "      <td>3</td>\n",
       "      <td>1</td>\n",
       "      <td>1</td>\n",
       "      <td>1</td>\n",
       "      <td>1.0</td>\n",
       "      <td>5</td>\n",
       "    </tr>\n",
       "  </tbody>\n",
       "</table>\n",
       "</div>"
      ],
      "text/plain": [
       "                                                                                                               Hypothesis  \\\n",
       "0                                             Add two new channels for attracting traffic. This will bring 30% more users   \n",
       "1                                                       Launch your own delivery service. This will shorten delivery time   \n",
       "2          Add product recommendation blocks to the store's site. This will increase conversion and average purchase size   \n",
       "3  Change the category structure. This will increase conversion since users will find the products they want more quickly   \n",
       "4                                        Change the background color on the main page. This will increase user engagement   \n",
       "\n",
       "   Reach  Impact  Confidence  Effort   ICE  hyp_num  \n",
       "0      3      10           8       6  13.0        1  \n",
       "1      2       5           4      10   2.0        2  \n",
       "2      8       3           7       3   7.0        3  \n",
       "3      8       3           3       8   1.0        4  \n",
       "4      3       1           1       1   1.0        5  "
      ]
     },
     "execution_count": 4,
     "metadata": {},
     "output_type": "execute_result"
    }
   ],
   "source": [
    "hyp_df['hyp_num'] = [1,2,3,4,5,6,7,8,9]\n",
    "hyp_df.head()"
   ]
  },
  {
   "cell_type": "code",
   "execution_count": 5,
   "id": "2e3c6911",
   "metadata": {},
   "outputs": [
    {
     "data": {
      "text/plain": [
       "Text(0.5, 0, 'Hypothesis')"
      ]
     },
     "execution_count": 5,
     "metadata": {},
     "output_type": "execute_result"
    },
    {
     "data": {
      "image/png": "[encoded data removed]",
      "text/plain": [
       "<Figure size 432x288 with 1 Axes>"
      ]
     },
     "metadata": {
      "needs_background": "light"
     },
     "output_type": "display_data"
    }
   ],
   "source": [
    "hyp_df.plot(kind = 'bar', x = 'hyp_num', y= 'ICE')\n",
    "plt.title('Hypotheses ICE Scores')\n",
    "plt.ylabel('ICE Score')\n",
    "plt.xlabel('Hypothesis')"
   ]
  },
  {
   "cell_type": "markdown",
   "id": "386ac312",
   "metadata": {},
   "source": [
    "### ICE Priority\n",
    "\n",
    "When the ICE framework is applied to `hyp_df` the hypotheses are sorted in the following order in descending priority.\n",
    "\n",
    "**8, 0, 7, 6, 2, 1, 5, 3, 4**"
   ]
  },
  {
   "cell_type": "code",
   "execution_count": 6,
   "id": "8260fffb",
   "metadata": {
    "scrolled": false
   },
   "outputs": [
    {
     "data": {
      "text/html": [
       "<div>\n",
       "<style scoped>\n",
       "    .dataframe tbody tr th:only-of-type {\n",
       "        vertical-align: middle;\n",
       "    }\n",
       "\n",
       "    .dataframe tbody tr th {\n",
       "        vertical-align: top;\n",
       "    }\n",
       "\n",
       "    .dataframe thead th {\n",
       "        text-align: right;\n",
       "    }\n",
       "</style>\n",
       "<table border=\"1\" class=\"dataframe\">\n",
       "  <thead>\n",
       "    <tr style=\"text-align: right;\">\n",
       "      <th></th>\n",
       "      <th>Hypothesis</th>\n",
       "      <th>Reach</th>\n",
       "      <th>Impact</th>\n",
       "      <th>Confidence</th>\n",
       "      <th>Effort</th>\n",
       "      <th>ICE</th>\n",
       "      <th>hyp_num</th>\n",
       "      <th>RICE</th>\n",
       "    </tr>\n",
       "  </thead>\n",
       "  <tbody>\n",
       "    <tr>\n",
       "      <th>7</th>\n",
       "      <td>Add a subscription form to all the main pages. This will help you compile a mailing list</td>\n",
       "      <td>10</td>\n",
       "      <td>7</td>\n",
       "      <td>8</td>\n",
       "      <td>5</td>\n",
       "      <td>11.0</td>\n",
       "      <td>8</td>\n",
       "      <td>112.0</td>\n",
       "    </tr>\n",
       "    <tr>\n",
       "      <th>2</th>\n",
       "      <td>Add product recommendation blocks to the store's site. This will increase conversion and average purchase size</td>\n",
       "      <td>8</td>\n",
       "      <td>3</td>\n",
       "      <td>7</td>\n",
       "      <td>3</td>\n",
       "      <td>7.0</td>\n",
       "      <td>3</td>\n",
       "      <td>56.0</td>\n",
       "    </tr>\n",
       "    <tr>\n",
       "      <th>0</th>\n",
       "      <td>Add two new channels for attracting traffic. This will bring 30% more users</td>\n",
       "      <td>3</td>\n",
       "      <td>10</td>\n",
       "      <td>8</td>\n",
       "      <td>6</td>\n",
       "      <td>13.0</td>\n",
       "      <td>1</td>\n",
       "      <td>40.0</td>\n",
       "    </tr>\n",
       "    <tr>\n",
       "      <th>6</th>\n",
       "      <td>Show banners with current offers and sales on the main page. This will boost conversion</td>\n",
       "      <td>5</td>\n",
       "      <td>3</td>\n",
       "      <td>8</td>\n",
       "      <td>3</td>\n",
       "      <td>8.0</td>\n",
       "      <td>7</td>\n",
       "      <td>40.0</td>\n",
       "    </tr>\n",
       "    <tr>\n",
       "      <th>8</th>\n",
       "      <td>Launch a promotion that gives users discounts on their birthdays</td>\n",
       "      <td>1</td>\n",
       "      <td>9</td>\n",
       "      <td>9</td>\n",
       "      <td>5</td>\n",
       "      <td>16.0</td>\n",
       "      <td>9</td>\n",
       "      <td>16.0</td>\n",
       "    </tr>\n",
       "    <tr>\n",
       "      <th>3</th>\n",
       "      <td>Change the category structure. This will increase conversion since users will find the products they want more quickly</td>\n",
       "      <td>8</td>\n",
       "      <td>3</td>\n",
       "      <td>3</td>\n",
       "      <td>8</td>\n",
       "      <td>1.0</td>\n",
       "      <td>4</td>\n",
       "      <td>9.0</td>\n",
       "    </tr>\n",
       "    <tr>\n",
       "      <th>1</th>\n",
       "      <td>Launch your own delivery service. This will shorten delivery time</td>\n",
       "      <td>2</td>\n",
       "      <td>5</td>\n",
       "      <td>4</td>\n",
       "      <td>10</td>\n",
       "      <td>2.0</td>\n",
       "      <td>2</td>\n",
       "      <td>4.0</td>\n",
       "    </tr>\n",
       "    <tr>\n",
       "      <th>5</th>\n",
       "      <td>Add a customer review page. This will increase the number of orders</td>\n",
       "      <td>3</td>\n",
       "      <td>2</td>\n",
       "      <td>2</td>\n",
       "      <td>3</td>\n",
       "      <td>1.0</td>\n",
       "      <td>6</td>\n",
       "      <td>4.0</td>\n",
       "    </tr>\n",
       "    <tr>\n",
       "      <th>4</th>\n",
       "      <td>Change the background color on the main page. This will increase user engagement</td>\n",
       "      <td>3</td>\n",
       "      <td>1</td>\n",
       "      <td>1</td>\n",
       "      <td>1</td>\n",
       "      <td>1.0</td>\n",
       "      <td>5</td>\n",
       "      <td>3.0</td>\n",
       "    </tr>\n",
       "  </tbody>\n",
       "</table>\n",
       "</div>"
      ],
      "text/plain": [
       "                                                                                                               Hypothesis  \\\n",
       "7                                Add a subscription form to all the main pages. This will help you compile a mailing list   \n",
       "2          Add product recommendation blocks to the store's site. This will increase conversion and average purchase size   \n",
       "0                                             Add two new channels for attracting traffic. This will bring 30% more users   \n",
       "6                                 Show banners with current offers and sales on the main page. This will boost conversion   \n",
       "8                                                        Launch a promotion that gives users discounts on their birthdays   \n",
       "3  Change the category structure. This will increase conversion since users will find the products they want more quickly   \n",
       "1                                                       Launch your own delivery service. This will shorten delivery time   \n",
       "5                                                     Add a customer review page. This will increase the number of orders   \n",
       "4                                        Change the background color on the main page. This will increase user engagement   \n",
       "\n",
       "   Reach  Impact  Confidence  Effort   ICE  hyp_num   RICE  \n",
       "7     10       7           8       5  11.0        8  112.0  \n",
       "2      8       3           7       3   7.0        3   56.0  \n",
       "0      3      10           8       6  13.0        1   40.0  \n",
       "6      5       3           8       3   8.0        7   40.0  \n",
       "8      1       9           9       5  16.0        9   16.0  \n",
       "3      8       3           3       8   1.0        4    9.0  \n",
       "1      2       5           4      10   2.0        2    4.0  \n",
       "5      3       2           2       3   1.0        6    4.0  \n",
       "4      3       1           1       1   1.0        5    3.0  "
      ]
     },
     "execution_count": 6,
     "metadata": {},
     "output_type": "execute_result"
    }
   ],
   "source": [
    "# adding RICE column\n",
    "\n",
    "hyp_df['RICE'] = (hyp_df['Reach'] * hyp_df['Impact'] * hyp_df['Confidence']) / hyp_df['Effort']\n",
    "hyp_df['RICE'] = hyp_df['RICE'].round()\n",
    "\n",
    "pd.options.display.max_colwidth = 210\n",
    "hyp_df.sort_values('RICE', ascending = False)"
   ]
  },
  {
   "cell_type": "code",
   "execution_count": 7,
   "id": "0a016195",
   "metadata": {},
   "outputs": [
    {
     "data": {
      "text/plain": [
       "Text(0.5, 0, 'Hypothesis')"
      ]
     },
     "execution_count": 7,
     "metadata": {},
     "output_type": "execute_result"
    },
    {
     "data": {
      "image/png": "[encoded data removed]",
      "text/plain": [
       "<Figure size 432x288 with 1 Axes>"
      ]
     },
     "metadata": {
      "needs_background": "light"
     },
     "output_type": "display_data"
    }
   ],
   "source": [
    "hyp_df.plot(kind = 'bar', x = 'hyp_num', y= 'RICE')\n",
    "plt.title('Hypotheses RICE Scores')\n",
    "plt.ylabel('RICE Score')\n",
    "plt.xlabel('Hypothesis')"
   ]
  },
  {
   "cell_type": "markdown",
   "id": "68d53569",
   "metadata": {},
   "source": [
    "### RICE Priority\n",
    "\n",
    "When the RICE framework is applied to `hyp_df` the hypotheses are sorted in the following order in descending priority.\n",
    "\n",
    "**7, 2, 0, 6, 8, 3, 1, 5, 4**"
   ]
  },
  {
   "cell_type": "markdown",
   "id": "72fff7db",
   "metadata": {},
   "source": [
    "### Conclusion\n",
    "\n",
    "The ICE and RICE frameworks have one key difference, the inclusion of \"reach\". ICE only takes in to account existing customers and so works best when deciding on internal changes that are only intended to impact users already utilizing a platfrom. RICE, however, adds \"reach\" to its calculation and thus is best for externally-focused goals that are intended to attract new customers.\n",
    "\n",
    "We can see that manifest in the top hypotheses for each framework. For ICE the top is 'Launch a promotion that gives users discounts on their birthdays' while for RICE it is 'Add a subscription form to all the main pages. This will help you compile a mailing list'. In both frameworks **hypothesis 0 'Add two new channels for attracting traffic. This will bring 30% more users'** scored very highly, indicating this may be a particularly useful avenue to pursue.\n",
    "\n",
    "While is slightly difference orders, both frameworks have give lowest priority to hypotheses **1, 3, 4, and 5.**"
   ]
  },
  {
   "cell_type": "markdown",
   "id": "c90e1f06",
   "metadata": {},
   "source": [
    "## A/B Analysis\n",
    "\n",
    "Now that the ICE and RICE frameworks have been applied to `hyp_df` I will import that two CSV datasets with the actual data for analysis. "
   ]
  },
  {
   "cell_type": "markdown",
   "id": "40bf6af8",
   "metadata": {},
   "source": [
    "### Preprocessing Datasets"
   ]
  },
  {
   "cell_type": "code",
   "execution_count": 8,
   "id": "3e8c41cc",
   "metadata": {
    "scrolled": false
   },
   "outputs": [
    {
     "data": {
      "text/html": [
       "<div>\n",
       "<style scoped>\n",
       "    .dataframe tbody tr th:only-of-type {\n",
       "        vertical-align: middle;\n",
       "    }\n",
       "\n",
       "    .dataframe tbody tr th {\n",
       "        vertical-align: top;\n",
       "    }\n",
       "\n",
       "    .dataframe thead th {\n",
       "        text-align: right;\n",
       "    }\n",
       "</style>\n",
       "<table border=\"1\" class=\"dataframe\">\n",
       "  <thead>\n",
       "    <tr style=\"text-align: right;\">\n",
       "      <th></th>\n",
       "      <th>transactionId</th>\n",
       "      <th>visitorId</th>\n",
       "      <th>date</th>\n",
       "      <th>revenue</th>\n",
       "      <th>group</th>\n",
       "    </tr>\n",
       "  </thead>\n",
       "  <tbody>\n",
       "    <tr>\n",
       "      <th>0</th>\n",
       "      <td>3667963787</td>\n",
       "      <td>3312258926</td>\n",
       "      <td>2019-08-15</td>\n",
       "      <td>30.4</td>\n",
       "      <td>B</td>\n",
       "    </tr>\n",
       "    <tr>\n",
       "      <th>1</th>\n",
       "      <td>2804400009</td>\n",
       "      <td>3642806036</td>\n",
       "      <td>2019-08-15</td>\n",
       "      <td>15.2</td>\n",
       "      <td>B</td>\n",
       "    </tr>\n",
       "    <tr>\n",
       "      <th>2</th>\n",
       "      <td>2961555356</td>\n",
       "      <td>4069496402</td>\n",
       "      <td>2019-08-15</td>\n",
       "      <td>10.2</td>\n",
       "      <td>A</td>\n",
       "    </tr>\n",
       "    <tr>\n",
       "      <th>3</th>\n",
       "      <td>3797467345</td>\n",
       "      <td>1196621759</td>\n",
       "      <td>2019-08-15</td>\n",
       "      <td>155.1</td>\n",
       "      <td>B</td>\n",
       "    </tr>\n",
       "    <tr>\n",
       "      <th>4</th>\n",
       "      <td>2282983706</td>\n",
       "      <td>2322279887</td>\n",
       "      <td>2019-08-15</td>\n",
       "      <td>40.5</td>\n",
       "      <td>B</td>\n",
       "    </tr>\n",
       "  </tbody>\n",
       "</table>\n",
       "</div>"
      ],
      "text/plain": [
       "   transactionId   visitorId        date  revenue group\n",
       "0     3667963787  3312258926  2019-08-15     30.4     B\n",
       "1     2804400009  3642806036  2019-08-15     15.2     B\n",
       "2     2961555356  4069496402  2019-08-15     10.2     A\n",
       "3     3797467345  1196621759  2019-08-15    155.1     B\n",
       "4     2282983706  2322279887  2019-08-15     40.5     B"
      ]
     },
     "execution_count": 8,
     "metadata": {},
     "output_type": "execute_result"
    }
   ],
   "source": [
    "# loading orders dataset\n",
    "\n",
    "try:\n",
    "    orders_df = pd.read_csv('datasets/orders_us.csv')\n",
    "except:\n",
    "    orders_df = pd.read_csv('/datasets/orders_us.csv')\n",
    "\n",
    "orders_df.head()"
   ]
  },
  {
   "cell_type": "markdown",
   "id": "0cff384a",
   "metadata": {},
   "source": [
    "#### Dataset Breakdown\n",
    "\n",
    "- `transactionId`: order identifier\n",
    "- `visitorId`: identifier of the user who placed the order\n",
    "- `date`: of the order\n",
    "- `revenue`: from the order\n",
    "- `group`: the A/B test group that the user belongs to"
   ]
  },
  {
   "cell_type": "code",
   "execution_count": 9,
   "id": "21be84bf",
   "metadata": {},
   "outputs": [],
   "source": [
    "# correcting `date` datatype\n",
    "\n",
    "orders_df['date'] = pd.to_datetime(orders_df['date'], format = '%Y-%m-%d')"
   ]
  },
  {
   "cell_type": "code",
   "execution_count": 10,
   "id": "466ba9c2",
   "metadata": {},
   "outputs": [
    {
     "data": {
      "text/html": [
       "<div>\n",
       "<style scoped>\n",
       "    .dataframe tbody tr th:only-of-type {\n",
       "        vertical-align: middle;\n",
       "    }\n",
       "\n",
       "    .dataframe tbody tr th {\n",
       "        vertical-align: top;\n",
       "    }\n",
       "\n",
       "    .dataframe thead th {\n",
       "        text-align: right;\n",
       "    }\n",
       "</style>\n",
       "<table border=\"1\" class=\"dataframe\">\n",
       "  <thead>\n",
       "    <tr style=\"text-align: right;\">\n",
       "      <th></th>\n",
       "      <th>date</th>\n",
       "      <th>group</th>\n",
       "      <th>visits</th>\n",
       "    </tr>\n",
       "  </thead>\n",
       "  <tbody>\n",
       "    <tr>\n",
       "      <th>0</th>\n",
       "      <td>2019-08-01</td>\n",
       "      <td>A</td>\n",
       "      <td>719</td>\n",
       "    </tr>\n",
       "    <tr>\n",
       "      <th>1</th>\n",
       "      <td>2019-08-02</td>\n",
       "      <td>A</td>\n",
       "      <td>619</td>\n",
       "    </tr>\n",
       "    <tr>\n",
       "      <th>2</th>\n",
       "      <td>2019-08-03</td>\n",
       "      <td>A</td>\n",
       "      <td>507</td>\n",
       "    </tr>\n",
       "    <tr>\n",
       "      <th>3</th>\n",
       "      <td>2019-08-04</td>\n",
       "      <td>A</td>\n",
       "      <td>717</td>\n",
       "    </tr>\n",
       "    <tr>\n",
       "      <th>4</th>\n",
       "      <td>2019-08-05</td>\n",
       "      <td>A</td>\n",
       "      <td>756</td>\n",
       "    </tr>\n",
       "  </tbody>\n",
       "</table>\n",
       "</div>"
      ],
      "text/plain": [
       "         date group  visits\n",
       "0  2019-08-01     A     719\n",
       "1  2019-08-02     A     619\n",
       "2  2019-08-03     A     507\n",
       "3  2019-08-04     A     717\n",
       "4  2019-08-05     A     756"
      ]
     },
     "execution_count": 10,
     "metadata": {},
     "output_type": "execute_result"
    }
   ],
   "source": [
    "# loading visits dataset\n",
    "\n",
    "try:\n",
    "    visits_df = pd.read_csv('datasets/visits_us.csv')\n",
    "except:\n",
    "    visits_df = pd.read_csv('/datasets/visits_us.csv')\n",
    "\n",
    "visits_df.head()"
   ]
  },
  {
   "cell_type": "markdown",
   "id": "2f8f7bae",
   "metadata": {},
   "source": [
    "#### Dataset Breakdown\n",
    "\n",
    "- `date`: date\n",
    "- `group`: A/B test group\n",
    "- `visits`:the number of visits on the date specified in the A/B test group specified"
   ]
  },
  {
   "cell_type": "code",
   "execution_count": 11,
   "id": "cdd86fca",
   "metadata": {},
   "outputs": [],
   "source": [
    "# correcting `date` datatype\n",
    "\n",
    "visits_df['date'] = pd.to_datetime(visits_df['date'], format = '%Y-%m-%d')"
   ]
  },
  {
   "cell_type": "code",
   "execution_count": 12,
   "id": "09328e70",
   "metadata": {},
   "outputs": [
    {
     "name": "stdout",
     "output_type": "stream",
     "text": [
      "<class 'pandas.core.frame.DataFrame'>\n",
      "RangeIndex: 1197 entries, 0 to 1196\n",
      "Data columns (total 5 columns):\n",
      " #   Column         Non-Null Count  Dtype         \n",
      "---  ------         --------------  -----         \n",
      " 0   transactionId  1197 non-null   int64         \n",
      " 1   visitorId      1197 non-null   int64         \n",
      " 2   date           1197 non-null   datetime64[ns]\n",
      " 3   revenue        1197 non-null   float64       \n",
      " 4   group          1197 non-null   object        \n",
      "dtypes: datetime64[ns](1), float64(1), int64(2), object(1)\n",
      "memory usage: 46.9+ KB\n"
     ]
    }
   ],
   "source": [
    "orders_df.info()"
   ]
  },
  {
   "cell_type": "code",
   "execution_count": 13,
   "id": "38f1df7a",
   "metadata": {},
   "outputs": [
    {
     "name": "stdout",
     "output_type": "stream",
     "text": [
      "<class 'pandas.core.frame.DataFrame'>\n",
      "RangeIndex: 62 entries, 0 to 61\n",
      "Data columns (total 3 columns):\n",
      " #   Column  Non-Null Count  Dtype         \n",
      "---  ------  --------------  -----         \n",
      " 0   date    62 non-null     datetime64[ns]\n",
      " 1   group   62 non-null     object        \n",
      " 2   visits  62 non-null     int64         \n",
      "dtypes: datetime64[ns](1), int64(1), object(1)\n",
      "memory usage: 1.6+ KB\n"
     ]
    }
   ],
   "source": [
    "visits_df.info()"
   ]
  },
  {
   "cell_type": "code",
   "execution_count": 14,
   "id": "9e2c0cde",
   "metadata": {
    "scrolled": true
   },
   "outputs": [
    {
     "name": "stdout",
     "output_type": "stream",
     "text": [
      "<class 'pandas.core.frame.DataFrame'>\n",
      "Int64Index: 1074 entries, 0 to 1196\n",
      "Data columns (total 5 columns):\n",
      " #   Column         Non-Null Count  Dtype         \n",
      "---  ------         --------------  -----         \n",
      " 0   transactionId  1074 non-null   int64         \n",
      " 1   visitorId      1074 non-null   int64         \n",
      " 2   date           1074 non-null   datetime64[ns]\n",
      " 3   revenue        1074 non-null   float64       \n",
      " 4   group          1074 non-null   object        \n",
      "dtypes: datetime64[ns](1), float64(1), int64(2), object(1)\n",
      "memory usage: 50.3+ KB\n"
     ]
    }
   ],
   "source": [
    "# removing any visitorIds that were included in both groups A and B\n",
    "\n",
    "good_ids = orders_df.groupby([\"visitorId\"])[\"group\"].value_counts().reset_index(name = 'count')\n",
    "good_ids = good_ids.loc[good_ids[\"count\"] == 1, \"visitorId\"]\n",
    "\n",
    "orders_df = orders_df[orders_df[\"visitorId\"].isin(good_ids)]\n",
    "\n",
    "orders_df.info()"
   ]
  },
  {
   "cell_type": "markdown",
   "id": "29b79df5",
   "metadata": {},
   "source": [
    "Now that we have removed any visitorIds that were mistakenly logged as both group A and group B we can move into the meat of our analysis. "
   ]
  },
  {
   "cell_type": "markdown",
   "id": "f8da23c3",
   "metadata": {},
   "source": [
    "### Data Visualizations"
   ]
  },
  {
   "cell_type": "code",
   "execution_count": 15,
   "id": "f8f9db15",
   "metadata": {
    "scrolled": true
   },
   "outputs": [
    {
     "data": {
      "text/html": [
       "<div>\n",
       "<style scoped>\n",
       "    .dataframe tbody tr th:only-of-type {\n",
       "        vertical-align: middle;\n",
       "    }\n",
       "\n",
       "    .dataframe tbody tr th {\n",
       "        vertical-align: top;\n",
       "    }\n",
       "\n",
       "    .dataframe thead th {\n",
       "        text-align: right;\n",
       "    }\n",
       "</style>\n",
       "<table border=\"1\" class=\"dataframe\">\n",
       "  <thead>\n",
       "    <tr style=\"text-align: right;\">\n",
       "      <th></th>\n",
       "      <th>transactionId</th>\n",
       "      <th>visitorId</th>\n",
       "      <th>date</th>\n",
       "      <th>revenue</th>\n",
       "      <th>group</th>\n",
       "    </tr>\n",
       "  </thead>\n",
       "  <tbody>\n",
       "    <tr>\n",
       "      <th>0</th>\n",
       "      <td>3667963787</td>\n",
       "      <td>3312258926</td>\n",
       "      <td>2019-08-15</td>\n",
       "      <td>30.4</td>\n",
       "      <td>B</td>\n",
       "    </tr>\n",
       "    <tr>\n",
       "      <th>1</th>\n",
       "      <td>2804400009</td>\n",
       "      <td>3642806036</td>\n",
       "      <td>2019-08-15</td>\n",
       "      <td>15.2</td>\n",
       "      <td>B</td>\n",
       "    </tr>\n",
       "    <tr>\n",
       "      <th>2</th>\n",
       "      <td>2961555356</td>\n",
       "      <td>4069496402</td>\n",
       "      <td>2019-08-15</td>\n",
       "      <td>10.2</td>\n",
       "      <td>A</td>\n",
       "    </tr>\n",
       "    <tr>\n",
       "      <th>3</th>\n",
       "      <td>3797467345</td>\n",
       "      <td>1196621759</td>\n",
       "      <td>2019-08-15</td>\n",
       "      <td>155.1</td>\n",
       "      <td>B</td>\n",
       "    </tr>\n",
       "    <tr>\n",
       "      <th>4</th>\n",
       "      <td>2282983706</td>\n",
       "      <td>2322279887</td>\n",
       "      <td>2019-08-15</td>\n",
       "      <td>40.5</td>\n",
       "      <td>B</td>\n",
       "    </tr>\n",
       "  </tbody>\n",
       "</table>\n",
       "</div>"
      ],
      "text/plain": [
       "   transactionId   visitorId       date  revenue group\n",
       "0     3667963787  3312258926 2019-08-15     30.4     B\n",
       "1     2804400009  3642806036 2019-08-15     15.2     B\n",
       "2     2961555356  4069496402 2019-08-15     10.2     A\n",
       "3     3797467345  1196621759 2019-08-15    155.1     B\n",
       "4     2282983706  2322279887 2019-08-15     40.5     B"
      ]
     },
     "execution_count": 15,
     "metadata": {},
     "output_type": "execute_result"
    }
   ],
   "source": [
    "orders_df.head()"
   ]
  },
  {
   "cell_type": "code",
   "execution_count": 16,
   "id": "39f4a99c",
   "metadata": {
    "scrolled": false
   },
   "outputs": [
    {
     "data": {
      "text/html": [
       "<div>\n",
       "<style scoped>\n",
       "    .dataframe tbody tr th:only-of-type {\n",
       "        vertical-align: middle;\n",
       "    }\n",
       "\n",
       "    .dataframe tbody tr th {\n",
       "        vertical-align: top;\n",
       "    }\n",
       "\n",
       "    .dataframe thead th {\n",
       "        text-align: right;\n",
       "    }\n",
       "</style>\n",
       "<table border=\"1\" class=\"dataframe\">\n",
       "  <thead>\n",
       "    <tr style=\"text-align: right;\">\n",
       "      <th></th>\n",
       "      <th>date</th>\n",
       "      <th>group</th>\n",
       "      <th>transactionId</th>\n",
       "      <th>visitorId</th>\n",
       "      <th>revenue</th>\n",
       "    </tr>\n",
       "  </thead>\n",
       "  <tbody>\n",
       "    <tr>\n",
       "      <th>55</th>\n",
       "      <td>2019-08-01</td>\n",
       "      <td>A</td>\n",
       "      <td>15</td>\n",
       "      <td>15</td>\n",
       "      <td>1427.4</td>\n",
       "    </tr>\n",
       "    <tr>\n",
       "      <th>66</th>\n",
       "      <td>2019-08-01</td>\n",
       "      <td>B</td>\n",
       "      <td>21</td>\n",
       "      <td>20</td>\n",
       "      <td>1620.0</td>\n",
       "    </tr>\n",
       "    <tr>\n",
       "      <th>175</th>\n",
       "      <td>2019-08-02</td>\n",
       "      <td>A</td>\n",
       "      <td>31</td>\n",
       "      <td>31</td>\n",
       "      <td>2224.8</td>\n",
       "    </tr>\n",
       "    <tr>\n",
       "      <th>173</th>\n",
       "      <td>2019-08-02</td>\n",
       "      <td>B</td>\n",
       "      <td>42</td>\n",
       "      <td>41</td>\n",
       "      <td>4108.0</td>\n",
       "    </tr>\n",
       "    <tr>\n",
       "      <th>291</th>\n",
       "      <td>2019-08-03</td>\n",
       "      <td>A</td>\n",
       "      <td>55</td>\n",
       "      <td>55</td>\n",
       "      <td>4040.0</td>\n",
       "    </tr>\n",
       "  </tbody>\n",
       "</table>\n",
       "</div>"
      ],
      "text/plain": [
       "          date group  transactionId  visitorId  revenue\n",
       "55  2019-08-01     A             15         15   1427.4\n",
       "66  2019-08-01     B             21         20   1620.0\n",
       "175 2019-08-02     A             31         31   2224.8\n",
       "173 2019-08-02     B             42         41   4108.0\n",
       "291 2019-08-03     A             55         55   4040.0"
      ]
     },
     "execution_count": 16,
     "metadata": {},
     "output_type": "execute_result"
    }
   ],
   "source": [
    "# grouping cumulative data by date and group\n",
    "\n",
    "dates_grouped = orders_df[['date','group']].drop_duplicates()\n",
    "\n",
    "orders_aggregated = dates_grouped.apply(\n",
    "    lambda x: orders_df[np.logical_and(orders_df['date'] <= x['date'], \n",
    "    orders_df['group'] == x['group'])]\n",
    "    .agg({'date' : 'max','group' : 'max','transactionId' : pd.Series.nunique,'visitorId' : pd.Series.nunique,'revenue' : 'sum'}), axis=1).sort_values(by=['date','group'])\n",
    "    \n",
    "orders_aggregated.head()"
   ]
  },
  {
   "cell_type": "code",
   "execution_count": 17,
   "id": "28137ac5",
   "metadata": {},
   "outputs": [],
   "source": [
    "# splitting data in to each group\n",
    "\n",
    "orders_agg_a = orders_aggregated[orders_aggregated['group']=='A'][['date','revenue', 'transactionId']]\n",
    "orders_agg_b = orders_aggregated[orders_aggregated['group']=='B'][['date','revenue', 'transactionId']]"
   ]
  },
  {
   "cell_type": "code",
   "execution_count": 18,
   "id": "7ad9d049",
   "metadata": {},
   "outputs": [
    {
     "data": {
      "text/plain": [
       "<matplotlib.legend.Legend at 0x7f9c7db27550>"
      ]
     },
     "execution_count": 18,
     "metadata": {},
     "output_type": "execute_result"
    },
    {
     "data": {
      "image/png": "[encoded data removed]",
      "text/plain": [
       "<Figure size 720x504 with 1 Axes>"
      ]
     },
     "metadata": {
      "needs_background": "light"
     },
     "output_type": "display_data"
    }
   ],
   "source": [
    "# graphing cumulative revenue\n",
    "\n",
    "plt.figure(figsize = (10,7))\n",
    "plt.plot(orders_agg_a['date'], orders_agg_a['revenue'], label = 'A')\n",
    "plt.plot(orders_agg_b['date'], orders_agg_b['revenue'], label = 'B')\n",
    "plt.title('Cumulative Revenue by Group')\n",
    "plt.ylabel('Revenue')\n",
    "plt.xlabel('Date')\n",
    "plt.legend()"
   ]
  },
  {
   "cell_type": "markdown",
   "id": "c61a9739",
   "metadata": {},
   "source": [
    "#### Conclusions\n",
    "\n",
    "The first thing that pops out when looking at the above graph is the massive spike in cumulative revenue for group B around Aug 19. Other than is spike, both groups remain fairly conisiten in revenue growth. The huge spike in revenue from group B implies that something occured in that groups buying behavior that impacted that outcome. Assessing what may have occured on this day could be very helpful for increasing overall revenue. In general, group B had a slightly higher cumulative revenue than group A, even before the spike."
   ]
  },
  {
   "cell_type": "code",
   "execution_count": 19,
   "id": "873f1060",
   "metadata": {},
   "outputs": [
    {
     "data": {
      "text/plain": [
       "<matplotlib.legend.Legend at 0x7f9c7db47c40>"
      ]
     },
     "execution_count": 19,
     "metadata": {},
     "output_type": "execute_result"
    },
    {
     "data": {
      "image/png": "[encoded data removed]",
      "text/plain": [
       "<Figure size 864x504 with 1 Axes>"
      ]
     },
     "metadata": {
      "needs_background": "light"
     },
     "output_type": "display_data"
    }
   ],
   "source": [
    "# graphing total orders\n",
    "\n",
    "plt.figure(figsize = (12,7))\n",
    "plt.plot(orders_agg_a['date'], orders_agg_a['transactionId'], label = 'A')\n",
    "plt.plot(orders_agg_b['date'], orders_agg_b['transactionId'], label = 'B')\n",
    "plt.title('Total Orders')\n",
    "plt.ylabel('Revenue')\n",
    "plt.xlabel('Date')\n",
    "plt.legend()"
   ]
  },
  {
   "cell_type": "markdown",
   "id": "2ef803f9",
   "metadata": {},
   "source": [
    "#### Conclusions\n",
    "\n",
    "Here we can see that both groups had very consistent cumulative total orders over the course of the month, though group B did have more orders overall than group A. Interestingly, there is no spike in group B's total orders around the August 19th, meaning that the spike in revenue was attributed to one order, not an increase in total orders."
   ]
  },
  {
   "cell_type": "code",
   "execution_count": 20,
   "id": "ce367c88",
   "metadata": {},
   "outputs": [],
   "source": [
    "orders_agg_a['cumulative_rev'] = orders_agg_a['revenue']/orders_agg_a['transactionId']\n",
    "orders_agg_b['cumulative_rev'] = orders_agg_b['revenue']/orders_agg_b['transactionId']"
   ]
  },
  {
   "cell_type": "code",
   "execution_count": 21,
   "id": "13e8f19f",
   "metadata": {},
   "outputs": [
    {
     "data": {
      "text/plain": [
       "<matplotlib.legend.Legend at 0x7f9c7e139fa0>"
      ]
     },
     "execution_count": 21,
     "metadata": {},
     "output_type": "execute_result"
    },
    {
     "data": {
      "image/png": "[encoded data removed]",
      "text/plain": [
       "<Figure size 720x504 with 1 Axes>"
      ]
     },
     "metadata": {
      "needs_background": "light"
     },
     "output_type": "display_data"
    }
   ],
   "source": [
    "# graphing cumulative revenue difference\n",
    "\n",
    "plt.figure(figsize = (10,7))\n",
    "plt.plot(orders_agg_a['date'], orders_agg_a['cumulative_rev'], label = 'A')\n",
    "plt.plot(orders_agg_b['date'], orders_agg_b['cumulative_rev'], label = 'B')\n",
    "plt.title('Relative Difference in Cumulative Order Size by Group')\n",
    "plt.ylabel('Cumulative Order Size')\n",
    "plt.xlabel('Date')\n",
    "plt.legend()"
   ]
  },
  {
   "cell_type": "markdown",
   "id": "349e5788",
   "metadata": {},
   "source": [
    "#### Conclusions\n",
    "\n",
    "Here we can see that group B's relative cumulative order size was generally higher than that of group A's, though unlike the previous graphs the two groups experieced overlap. The enormous spike in group B is present here, though we can also see a slower spike in group A near the beginning of the month. "
   ]
  },
  {
   "cell_type": "code",
   "execution_count": 22,
   "id": "c6a3c051",
   "metadata": {},
   "outputs": [
    {
     "data": {
      "text/html": [
       "<div>\n",
       "<style scoped>\n",
       "    .dataframe tbody tr th:only-of-type {\n",
       "        vertical-align: middle;\n",
       "    }\n",
       "\n",
       "    .dataframe tbody tr th {\n",
       "        vertical-align: top;\n",
       "    }\n",
       "\n",
       "    .dataframe thead th {\n",
       "        text-align: right;\n",
       "    }\n",
       "</style>\n",
       "<table border=\"1\" class=\"dataframe\">\n",
       "  <thead>\n",
       "    <tr style=\"text-align: right;\">\n",
       "      <th></th>\n",
       "      <th>date</th>\n",
       "      <th>group</th>\n",
       "      <th>transactionId</th>\n",
       "      <th>visitorId</th>\n",
       "      <th>revenue</th>\n",
       "    </tr>\n",
       "  </thead>\n",
       "  <tbody>\n",
       "    <tr>\n",
       "      <th>55</th>\n",
       "      <td>2019-08-01</td>\n",
       "      <td>A</td>\n",
       "      <td>15</td>\n",
       "      <td>15</td>\n",
       "      <td>1427.4</td>\n",
       "    </tr>\n",
       "    <tr>\n",
       "      <th>66</th>\n",
       "      <td>2019-08-01</td>\n",
       "      <td>B</td>\n",
       "      <td>21</td>\n",
       "      <td>20</td>\n",
       "      <td>1620.0</td>\n",
       "    </tr>\n",
       "    <tr>\n",
       "      <th>175</th>\n",
       "      <td>2019-08-02</td>\n",
       "      <td>A</td>\n",
       "      <td>31</td>\n",
       "      <td>31</td>\n",
       "      <td>2224.8</td>\n",
       "    </tr>\n",
       "    <tr>\n",
       "      <th>173</th>\n",
       "      <td>2019-08-02</td>\n",
       "      <td>B</td>\n",
       "      <td>42</td>\n",
       "      <td>41</td>\n",
       "      <td>4108.0</td>\n",
       "    </tr>\n",
       "    <tr>\n",
       "      <th>291</th>\n",
       "      <td>2019-08-03</td>\n",
       "      <td>A</td>\n",
       "      <td>55</td>\n",
       "      <td>55</td>\n",
       "      <td>4040.0</td>\n",
       "    </tr>\n",
       "  </tbody>\n",
       "</table>\n",
       "</div>"
      ],
      "text/plain": [
       "          date group  transactionId  visitorId  revenue\n",
       "55  2019-08-01     A             15         15   1427.4\n",
       "66  2019-08-01     B             21         20   1620.0\n",
       "175 2019-08-02     A             31         31   2224.8\n",
       "173 2019-08-02     B             42         41   4108.0\n",
       "291 2019-08-03     A             55         55   4040.0"
      ]
     },
     "execution_count": 22,
     "metadata": {},
     "output_type": "execute_result"
    }
   ],
   "source": [
    "orders_aggregated.head()"
   ]
  },
  {
   "cell_type": "code",
   "execution_count": 23,
   "id": "f3343b98",
   "metadata": {},
   "outputs": [
    {
     "data": {
      "text/html": [
       "<div>\n",
       "<style scoped>\n",
       "    .dataframe tbody tr th:only-of-type {\n",
       "        vertical-align: middle;\n",
       "    }\n",
       "\n",
       "    .dataframe tbody tr th {\n",
       "        vertical-align: top;\n",
       "    }\n",
       "\n",
       "    .dataframe thead th {\n",
       "        text-align: right;\n",
       "    }\n",
       "</style>\n",
       "<table border=\"1\" class=\"dataframe\">\n",
       "  <thead>\n",
       "    <tr style=\"text-align: right;\">\n",
       "      <th></th>\n",
       "      <th>date</th>\n",
       "      <th>group</th>\n",
       "      <th>visits</th>\n",
       "    </tr>\n",
       "  </thead>\n",
       "  <tbody>\n",
       "    <tr>\n",
       "      <th>0</th>\n",
       "      <td>2019-08-01</td>\n",
       "      <td>A</td>\n",
       "      <td>719</td>\n",
       "    </tr>\n",
       "    <tr>\n",
       "      <th>1</th>\n",
       "      <td>2019-08-02</td>\n",
       "      <td>A</td>\n",
       "      <td>619</td>\n",
       "    </tr>\n",
       "    <tr>\n",
       "      <th>2</th>\n",
       "      <td>2019-08-03</td>\n",
       "      <td>A</td>\n",
       "      <td>507</td>\n",
       "    </tr>\n",
       "    <tr>\n",
       "      <th>3</th>\n",
       "      <td>2019-08-04</td>\n",
       "      <td>A</td>\n",
       "      <td>717</td>\n",
       "    </tr>\n",
       "    <tr>\n",
       "      <th>4</th>\n",
       "      <td>2019-08-05</td>\n",
       "      <td>A</td>\n",
       "      <td>756</td>\n",
       "    </tr>\n",
       "  </tbody>\n",
       "</table>\n",
       "</div>"
      ],
      "text/plain": [
       "        date group  visits\n",
       "0 2019-08-01     A     719\n",
       "1 2019-08-02     A     619\n",
       "2 2019-08-03     A     507\n",
       "3 2019-08-04     A     717\n",
       "4 2019-08-05     A     756"
      ]
     },
     "execution_count": 23,
     "metadata": {},
     "output_type": "execute_result"
    }
   ],
   "source": [
    "visits_df.head()"
   ]
  },
  {
   "cell_type": "code",
   "execution_count": 24,
   "id": "0e697373",
   "metadata": {
    "scrolled": true
   },
   "outputs": [
    {
     "data": {
      "text/html": [
       "<div>\n",
       "<style scoped>\n",
       "    .dataframe tbody tr th:only-of-type {\n",
       "        vertical-align: middle;\n",
       "    }\n",
       "\n",
       "    .dataframe tbody tr th {\n",
       "        vertical-align: top;\n",
       "    }\n",
       "\n",
       "    .dataframe thead th {\n",
       "        text-align: right;\n",
       "    }\n",
       "</style>\n",
       "<table border=\"1\" class=\"dataframe\">\n",
       "  <thead>\n",
       "    <tr style=\"text-align: right;\">\n",
       "      <th></th>\n",
       "      <th>date</th>\n",
       "      <th>group</th>\n",
       "      <th>visits</th>\n",
       "    </tr>\n",
       "  </thead>\n",
       "  <tbody>\n",
       "    <tr>\n",
       "      <th>0</th>\n",
       "      <td>2019-08-01</td>\n",
       "      <td>A</td>\n",
       "      <td>719</td>\n",
       "    </tr>\n",
       "    <tr>\n",
       "      <th>31</th>\n",
       "      <td>2019-08-01</td>\n",
       "      <td>B</td>\n",
       "      <td>713</td>\n",
       "    </tr>\n",
       "    <tr>\n",
       "      <th>1</th>\n",
       "      <td>2019-08-02</td>\n",
       "      <td>A</td>\n",
       "      <td>1338</td>\n",
       "    </tr>\n",
       "    <tr>\n",
       "      <th>32</th>\n",
       "      <td>2019-08-02</td>\n",
       "      <td>B</td>\n",
       "      <td>1294</td>\n",
       "    </tr>\n",
       "    <tr>\n",
       "      <th>2</th>\n",
       "      <td>2019-08-03</td>\n",
       "      <td>A</td>\n",
       "      <td>1845</td>\n",
       "    </tr>\n",
       "  </tbody>\n",
       "</table>\n",
       "</div>"
      ],
      "text/plain": [
       "         date group  visits\n",
       "0  2019-08-01     A     719\n",
       "31 2019-08-01     B     713\n",
       "1  2019-08-02     A    1338\n",
       "32 2019-08-02     B    1294\n",
       "2  2019-08-03     A    1845"
      ]
     },
     "execution_count": 24,
     "metadata": {},
     "output_type": "execute_result"
    }
   ],
   "source": [
    "# aggregated visits df\n",
    "\n",
    "visits_aggregated = visits_df.apply(\n",
    "    lambda x: visits_df[np.logical_and(visits_df['date'] <= x['date'], visits_df['group'] == x['group'])].agg({'date' : 'max', 'group' : 'max', 'visits' : 'sum'}), axis=1\n",
    ").sort_values(by=['date','group'])\n",
    "\n",
    "visits_aggregated.head()"
   ]
  },
  {
   "cell_type": "code",
   "execution_count": 25,
   "id": "803938f5",
   "metadata": {},
   "outputs": [],
   "source": [
    "# merge columns\n",
    "cumulative_data = orders_aggregated.merge(visits_aggregated, left_on=['date', 'group'], right_on=['date', 'group'])\n",
    "\n",
    "# rename columns\n",
    "cumulative_data.columns = ['date', 'group', 'orders', 'buyers', 'revenue', 'visitors']"
   ]
  },
  {
   "cell_type": "code",
   "execution_count": 26,
   "id": "78ca4046",
   "metadata": {
    "scrolled": false
   },
   "outputs": [
    {
     "data": {
      "text/html": [
       "<div>\n",
       "<style scoped>\n",
       "    .dataframe tbody tr th:only-of-type {\n",
       "        vertical-align: middle;\n",
       "    }\n",
       "\n",
       "    .dataframe tbody tr th {\n",
       "        vertical-align: top;\n",
       "    }\n",
       "\n",
       "    .dataframe thead th {\n",
       "        text-align: right;\n",
       "    }\n",
       "</style>\n",
       "<table border=\"1\" class=\"dataframe\">\n",
       "  <thead>\n",
       "    <tr style=\"text-align: right;\">\n",
       "      <th></th>\n",
       "      <th>date</th>\n",
       "      <th>group</th>\n",
       "      <th>orders</th>\n",
       "      <th>buyers</th>\n",
       "      <th>revenue</th>\n",
       "      <th>visitors</th>\n",
       "    </tr>\n",
       "  </thead>\n",
       "  <tbody>\n",
       "    <tr>\n",
       "      <th>0</th>\n",
       "      <td>2019-08-01</td>\n",
       "      <td>A</td>\n",
       "      <td>15</td>\n",
       "      <td>15</td>\n",
       "      <td>1427.4</td>\n",
       "      <td>719</td>\n",
       "    </tr>\n",
       "    <tr>\n",
       "      <th>1</th>\n",
       "      <td>2019-08-01</td>\n",
       "      <td>B</td>\n",
       "      <td>21</td>\n",
       "      <td>20</td>\n",
       "      <td>1620.0</td>\n",
       "      <td>713</td>\n",
       "    </tr>\n",
       "    <tr>\n",
       "      <th>2</th>\n",
       "      <td>2019-08-02</td>\n",
       "      <td>A</td>\n",
       "      <td>31</td>\n",
       "      <td>31</td>\n",
       "      <td>2224.8</td>\n",
       "      <td>1338</td>\n",
       "    </tr>\n",
       "    <tr>\n",
       "      <th>3</th>\n",
       "      <td>2019-08-02</td>\n",
       "      <td>B</td>\n",
       "      <td>42</td>\n",
       "      <td>41</td>\n",
       "      <td>4108.0</td>\n",
       "      <td>1294</td>\n",
       "    </tr>\n",
       "    <tr>\n",
       "      <th>4</th>\n",
       "      <td>2019-08-03</td>\n",
       "      <td>A</td>\n",
       "      <td>55</td>\n",
       "      <td>55</td>\n",
       "      <td>4040.0</td>\n",
       "      <td>1845</td>\n",
       "    </tr>\n",
       "  </tbody>\n",
       "</table>\n",
       "</div>"
      ],
      "text/plain": [
       "        date group  orders  buyers  revenue  visitors\n",
       "0 2019-08-01     A      15      15   1427.4       719\n",
       "1 2019-08-01     B      21      20   1620.0       713\n",
       "2 2019-08-02     A      31      31   2224.8      1338\n",
       "3 2019-08-02     B      42      41   4108.0      1294\n",
       "4 2019-08-03     A      55      55   4040.0      1845"
      ]
     },
     "execution_count": 26,
     "metadata": {},
     "output_type": "execute_result"
    }
   ],
   "source": [
    "cumulative_data.head()"
   ]
  },
  {
   "cell_type": "code",
   "execution_count": 27,
   "id": "2a0a8f58",
   "metadata": {},
   "outputs": [],
   "source": [
    "cumulative_data['conversion'] = cumulative_data['orders']/cumulative_data['visitors']"
   ]
  },
  {
   "cell_type": "code",
   "execution_count": 28,
   "id": "f6494108",
   "metadata": {},
   "outputs": [],
   "source": [
    "# split df in to cumulative orders + cumulative revenue by group + day\n",
    "\n",
    "cumulative_revenue_A = cumulative_data[cumulative_data['group']=='A'][['date','revenue', 'orders', 'conversion']]\n",
    "cumulative_revenue_B = cumulative_data[cumulative_data['group']=='B'][['date','revenue', 'orders', 'conversion']]"
   ]
  },
  {
   "cell_type": "code",
   "execution_count": 29,
   "id": "e94ce5f3",
   "metadata": {},
   "outputs": [],
   "source": [
    "# merge dataframes\n",
    "\n",
    "merged_cumulative_revenue = cumulative_revenue_A.merge(\n",
    "    cumulative_revenue_B, left_on='date', right_on='date', how='left', suffixes=['A', 'B']\n",
    ")"
   ]
  },
  {
   "cell_type": "code",
   "execution_count": 30,
   "id": "f15abd43",
   "metadata": {},
   "outputs": [
    {
     "data": {
      "text/html": [
       "<div>\n",
       "<style scoped>\n",
       "    .dataframe tbody tr th:only-of-type {\n",
       "        vertical-align: middle;\n",
       "    }\n",
       "\n",
       "    .dataframe tbody tr th {\n",
       "        vertical-align: top;\n",
       "    }\n",
       "\n",
       "    .dataframe thead th {\n",
       "        text-align: right;\n",
       "    }\n",
       "</style>\n",
       "<table border=\"1\" class=\"dataframe\">\n",
       "  <thead>\n",
       "    <tr style=\"text-align: right;\">\n",
       "      <th></th>\n",
       "      <th>date</th>\n",
       "      <th>revenueA</th>\n",
       "      <th>ordersA</th>\n",
       "      <th>conversionA</th>\n",
       "      <th>revenueB</th>\n",
       "      <th>ordersB</th>\n",
       "      <th>conversionB</th>\n",
       "    </tr>\n",
       "  </thead>\n",
       "  <tbody>\n",
       "    <tr>\n",
       "      <th>0</th>\n",
       "      <td>2019-08-01</td>\n",
       "      <td>1427.4</td>\n",
       "      <td>15</td>\n",
       "      <td>0.020862</td>\n",
       "      <td>1620.0</td>\n",
       "      <td>21</td>\n",
       "      <td>0.029453</td>\n",
       "    </tr>\n",
       "    <tr>\n",
       "      <th>1</th>\n",
       "      <td>2019-08-02</td>\n",
       "      <td>2224.8</td>\n",
       "      <td>31</td>\n",
       "      <td>0.023169</td>\n",
       "      <td>4108.0</td>\n",
       "      <td>42</td>\n",
       "      <td>0.032457</td>\n",
       "    </tr>\n",
       "    <tr>\n",
       "      <th>2</th>\n",
       "      <td>2019-08-03</td>\n",
       "      <td>4040.0</td>\n",
       "      <td>55</td>\n",
       "      <td>0.029810</td>\n",
       "      <td>5914.8</td>\n",
       "      <td>58</td>\n",
       "      <td>0.032169</td>\n",
       "    </tr>\n",
       "    <tr>\n",
       "      <th>3</th>\n",
       "      <td>2019-08-04</td>\n",
       "      <td>5105.1</td>\n",
       "      <td>67</td>\n",
       "      <td>0.026151</td>\n",
       "      <td>7386.3</td>\n",
       "      <td>72</td>\n",
       "      <td>0.027983</td>\n",
       "    </tr>\n",
       "    <tr>\n",
       "      <th>4</th>\n",
       "      <td>2019-08-05</td>\n",
       "      <td>6982.7</td>\n",
       "      <td>90</td>\n",
       "      <td>0.027125</td>\n",
       "      <td>8841.1</td>\n",
       "      <td>94</td>\n",
       "      <td>0.028659</td>\n",
       "    </tr>\n",
       "  </tbody>\n",
       "</table>\n",
       "</div>"
      ],
      "text/plain": [
       "        date  revenueA  ordersA  conversionA  revenueB  ordersB  conversionB\n",
       "0 2019-08-01    1427.4       15     0.020862    1620.0       21     0.029453\n",
       "1 2019-08-02    2224.8       31     0.023169    4108.0       42     0.032457\n",
       "2 2019-08-03    4040.0       55     0.029810    5914.8       58     0.032169\n",
       "3 2019-08-04    5105.1       67     0.026151    7386.3       72     0.027983\n",
       "4 2019-08-05    6982.7       90     0.027125    8841.1       94     0.028659"
      ]
     },
     "execution_count": 30,
     "metadata": {},
     "output_type": "execute_result"
    }
   ],
   "source": [
    "merged_cumulative_revenue.head()"
   ]
  },
  {
   "cell_type": "code",
   "execution_count": 31,
   "id": "aa1012f6",
   "metadata": {
    "scrolled": false
   },
   "outputs": [
    {
     "data": {
      "text/plain": [
       "Text(0.5, 0, 'Date')"
      ]
     },
     "execution_count": 31,
     "metadata": {},
     "output_type": "execute_result"
    },
    {
     "data": {
      "image/png": "[encoded data removed]",
      "text/plain": [
       "<Figure size 720x504 with 1 Axes>"
      ]
     },
     "metadata": {
      "needs_background": "light"
     },
     "output_type": "display_data"
    }
   ],
   "source": [
    "# plotting a relative difference graph for the average purchase sizes\n",
    "plt.figure(figsize = (10,7))\n",
    "plt.plot(merged_cumulative_revenue['date'], (merged_cumulative_revenue['revenueB']/merged_cumulative_revenue['ordersB'])/(merged_cumulative_revenue['revenueA']/merged_cumulative_revenue['ordersA'])-1)\n",
    "plt.title('Relative Difference in Average Purchase Size')\n",
    "plt.ylabel('Relative Difference')\n",
    "plt.xlabel('Date')\n",
    "# adding the X axis"
   ]
  },
  {
   "cell_type": "markdown",
   "id": "2a1e88e1",
   "metadata": {},
   "source": [
    "#### Conclusions\n",
    "\n",
    "The relative difference in average purchase size between group A and B flucuated wildly throughout the month, with very high reflative difference appearing at the beginning and end of the month but very little relative difference near the middle of the month. The large spike near the end of the month can be attributed to the outlier order placed in group B around August 19th. "
   ]
  },
  {
   "cell_type": "code",
   "execution_count": 32,
   "id": "d2cb07a1",
   "metadata": {
    "scrolled": false
   },
   "outputs": [
    {
     "data": {
      "text/plain": [
       "<matplotlib.legend.Legend at 0x7f9c7e370250>"
      ]
     },
     "execution_count": 32,
     "metadata": {},
     "output_type": "execute_result"
    },
    {
     "data": {
      "image/png": "[encoded data removed]",
      "text/plain": [
       "<Figure size 720x504 with 1 Axes>"
      ]
     },
     "metadata": {
      "needs_background": "light"
     },
     "output_type": "display_data"
    }
   ],
   "source": [
    "# graphing conversion rate\n",
    "\n",
    "plt.figure(figsize = (10,7))\n",
    "plt.plot(cumulative_revenue_A['date'], cumulative_revenue_A['conversion'], label = 'A')\n",
    "plt.plot(cumulative_revenue_B['date'], cumulative_revenue_B['conversion'], label = 'B')\n",
    "plt.title('Conversion Rate by Group')\n",
    "plt.ylabel('Conversion Rate')\n",
    "plt.xlabel('Date')\n",
    "plt.legend()"
   ]
  },
  {
   "cell_type": "markdown",
   "id": "19f0c726",
   "metadata": {},
   "source": [
    "#### Conclusions\n",
    "\n",
    "Here we can see that group B had a much higher conversion rate than group A, though both groups followed generally similar patterns across the month. Both groups experienced a spike at the beginning of the month, followed by a drop off. Interestingly, following the drop group A experieced a very gradual rise in converison rate over the rest of the month where as group had higher rises but also began to dip near the end of the month. "
   ]
  },
  {
   "cell_type": "code",
   "execution_count": 33,
   "id": "b48215f5",
   "metadata": {
    "scrolled": true
   },
   "outputs": [
    {
     "data": {
      "text/html": [
       "<div>\n",
       "<style scoped>\n",
       "    .dataframe tbody tr th:only-of-type {\n",
       "        vertical-align: middle;\n",
       "    }\n",
       "\n",
       "    .dataframe tbody tr th {\n",
       "        vertical-align: top;\n",
       "    }\n",
       "\n",
       "    .dataframe thead th {\n",
       "        text-align: right;\n",
       "    }\n",
       "</style>\n",
       "<table border=\"1\" class=\"dataframe\">\n",
       "  <thead>\n",
       "    <tr style=\"text-align: right;\">\n",
       "      <th></th>\n",
       "      <th>visitorId</th>\n",
       "      <th>transactionId</th>\n",
       "    </tr>\n",
       "  </thead>\n",
       "  <tbody>\n",
       "    <tr>\n",
       "      <th>0</th>\n",
       "      <td>5114589</td>\n",
       "      <td>1</td>\n",
       "    </tr>\n",
       "    <tr>\n",
       "      <th>1</th>\n",
       "      <td>6958315</td>\n",
       "      <td>1</td>\n",
       "    </tr>\n",
       "    <tr>\n",
       "      <th>2</th>\n",
       "      <td>8300375</td>\n",
       "      <td>2</td>\n",
       "    </tr>\n",
       "    <tr>\n",
       "      <th>3</th>\n",
       "      <td>11685486</td>\n",
       "      <td>1</td>\n",
       "    </tr>\n",
       "    <tr>\n",
       "      <th>4</th>\n",
       "      <td>39475350</td>\n",
       "      <td>1</td>\n",
       "    </tr>\n",
       "  </tbody>\n",
       "</table>\n",
       "</div>"
      ],
      "text/plain": [
       "   visitorId  transactionId\n",
       "0    5114589              1\n",
       "1    6958315              1\n",
       "2    8300375              2\n",
       "3   11685486              1\n",
       "4   39475350              1"
      ]
     },
     "execution_count": 33,
     "metadata": {},
     "output_type": "execute_result"
    }
   ],
   "source": [
    "user_orders = orders_df.groupby('visitorId').agg({'transactionId':'count'}).reset_index()\n",
    "user_orders.head()"
   ]
  },
  {
   "cell_type": "code",
   "execution_count": 34,
   "id": "55f29602",
   "metadata": {},
   "outputs": [],
   "source": [
    "user_orders = user_orders.sort_values(by = 'transactionId', ascending = True)"
   ]
  },
  {
   "cell_type": "code",
   "execution_count": 35,
   "id": "b2a82d2d",
   "metadata": {},
   "outputs": [
    {
     "data": {
      "text/html": [
       "<div>\n",
       "<style scoped>\n",
       "    .dataframe tbody tr th:only-of-type {\n",
       "        vertical-align: middle;\n",
       "    }\n",
       "\n",
       "    .dataframe tbody tr th {\n",
       "        vertical-align: top;\n",
       "    }\n",
       "\n",
       "    .dataframe thead th {\n",
       "        text-align: right;\n",
       "    }\n",
       "</style>\n",
       "<table border=\"1\" class=\"dataframe\">\n",
       "  <thead>\n",
       "    <tr style=\"text-align: right;\">\n",
       "      <th></th>\n",
       "      <th>visitorId</th>\n",
       "      <th>transactionId</th>\n",
       "    </tr>\n",
       "  </thead>\n",
       "  <tbody>\n",
       "    <tr>\n",
       "      <th>0</th>\n",
       "      <td>5114589</td>\n",
       "      <td>1</td>\n",
       "    </tr>\n",
       "    <tr>\n",
       "      <th>639</th>\n",
       "      <td>2735494018</td>\n",
       "      <td>1</td>\n",
       "    </tr>\n",
       "    <tr>\n",
       "      <th>640</th>\n",
       "      <td>2736682487</td>\n",
       "      <td>1</td>\n",
       "    </tr>\n",
       "    <tr>\n",
       "      <th>641</th>\n",
       "      <td>2738601405</td>\n",
       "      <td>1</td>\n",
       "    </tr>\n",
       "    <tr>\n",
       "      <th>642</th>\n",
       "      <td>2743474511</td>\n",
       "      <td>1</td>\n",
       "    </tr>\n",
       "  </tbody>\n",
       "</table>\n",
       "</div>"
      ],
      "text/plain": [
       "      visitorId  transactionId\n",
       "0       5114589              1\n",
       "639  2735494018              1\n",
       "640  2736682487              1\n",
       "641  2738601405              1\n",
       "642  2743474511              1"
      ]
     },
     "execution_count": 35,
     "metadata": {},
     "output_type": "execute_result"
    }
   ],
   "source": [
    "user_orders.head()"
   ]
  },
  {
   "cell_type": "code",
   "execution_count": 36,
   "id": "744354e9",
   "metadata": {
    "scrolled": true
   },
   "outputs": [
    {
     "data": {
      "text/plain": [
       "Text(0.5, 0, 'Order Total')"
      ]
     },
     "execution_count": 36,
     "metadata": {},
     "output_type": "execute_result"
    },
    {
     "data": {
      "image/png": "[encoded data removed]",
      "text/plain": [
       "<Figure size 432x288 with 1 Axes>"
      ]
     },
     "metadata": {
      "needs_background": "light"
     },
     "output_type": "display_data"
    }
   ],
   "source": [
    "# scatter plot of total orders per user\n",
    "\n",
    "user_orders.plot(kind = 'scatter', x = 'visitorId', y = 'transactionId')\n",
    "plt.title('Total Orders Per User')\n",
    "plt.ylabel('Users')\n",
    "plt.xlabel('Order Total')"
   ]
  },
  {
   "cell_type": "markdown",
   "id": "be659bce",
   "metadata": {},
   "source": [
    "#### Conclusions\n",
    "\n",
    "Here we can see that the vast majority of users made 1 purchase during the window of this dataset, though it was not uncommon for a user to make 2 orders. Some outliers made up to 5 orders in the month of August. Investigating what caused users to make more than one purchase in the course of the month would be very useful in increasing the average number of orders a user makes.  "
   ]
  },
  {
   "cell_type": "code",
   "execution_count": 37,
   "id": "e2707634",
   "metadata": {
    "scrolled": true
   },
   "outputs": [
    {
     "data": {
      "text/plain": [
       "array([2., 3.])"
      ]
     },
     "execution_count": 37,
     "metadata": {},
     "output_type": "execute_result"
    }
   ],
   "source": [
    "# 95 & 99 percentile of total user orders\n",
    "\n",
    "np.percentile(orders_df.groupby('visitorId').agg({'transactionId':'count'}), [95,99])"
   ]
  },
  {
   "cell_type": "markdown",
   "id": "26113103",
   "metadata": {},
   "source": [
    "#### Conclusions\n",
    "\n",
    "This shows us that only 5% of users made 2 orders and only 1% made 3 orders. This means that 95% of users only make 1 order. Focusing on ways to increase repeat orders could be extremely useful for increasing revenue. "
   ]
  },
  {
   "cell_type": "code",
   "execution_count": 38,
   "id": "14548fbc",
   "metadata": {
    "scrolled": false
   },
   "outputs": [
    {
     "data": {
      "text/plain": [
       "Text(0.5, 0, 'Transactions')"
      ]
     },
     "execution_count": 38,
     "metadata": {},
     "output_type": "execute_result"
    },
    {
     "data": {
      "image/png": "[encoded data removed]",
      "text/plain": [
       "<Figure size 720x360 with 1 Axes>"
      ]
     },
     "metadata": {
      "needs_background": "light"
     },
     "output_type": "display_data"
    }
   ],
   "source": [
    "# scatter plot of order price distribution\n",
    "\n",
    "orders_df.plot(kind = 'scatter', x = 'transactionId', y = 'revenue', figsize = (10,5))\n",
    "plt.title('Order Price Distribution')\n",
    "plt.ylabel('Price')\n",
    "plt.xlabel('Transactions')"
   ]
  },
  {
   "cell_type": "code",
   "execution_count": 39,
   "id": "d5d023df",
   "metadata": {},
   "outputs": [
    {
     "data": {
      "text/plain": [
       "Text(0.5, 0, 'Transactions')"
      ]
     },
     "execution_count": 39,
     "metadata": {},
     "output_type": "execute_result"
    },
    {
     "data": {
      "image/png": "[encoded data removed]",
      "text/plain": [
       "<Figure size 720x360 with 1 Axes>"
      ]
     },
     "metadata": {
      "needs_background": "light"
     },
     "output_type": "display_data"
    }
   ],
   "source": [
    "# scatter plot of order price distribution without outliers\n",
    "\n",
    "orders_df.plot(kind = 'scatter', x = 'transactionId', y = 'revenue', figsize = (10,5))\n",
    "plt.ylim(0,2000)\n",
    "plt.title('Order Price Distribution, Filtered')\n",
    "plt.ylabel('Price')\n",
    "plt.xlabel('Transactions')"
   ]
  },
  {
   "cell_type": "markdown",
   "id": "d465044b",
   "metadata": {},
   "source": [
    "#### Conclusions\n",
    "\n",
    "Here we can see that the majority of orders were in the same general area between 0 and 2500. There were two outliers however, 1 at just under 5000, and an extreme outlier at 20,000. This graph makes it very clear that users make orders of a fairly consistent size and utilitizing this information to increasingly that size may be helpful to increase revenue."
   ]
  },
  {
   "cell_type": "code",
   "execution_count": 40,
   "id": "636de447",
   "metadata": {},
   "outputs": [
    {
     "data": {
      "text/plain": [
       "array([437.275, 912.334])"
      ]
     },
     "execution_count": 40,
     "metadata": {},
     "output_type": "execute_result"
    }
   ],
   "source": [
    "# 95 & 99 percentile of revenue per order\n",
    "\n",
    "np.percentile(orders_df['revenue'], [95,99])"
   ]
  },
  {
   "cell_type": "markdown",
   "id": "62b6cc72",
   "metadata": {},
   "source": [
    "#### Conclusions\n",
    "\n",
    "Now we can see exactly what the order price percentiles are; 5% of users make orders over $437 and 1% make orders over $912, a fact that was harder to see in the above scatter plot because of the outliers. Thus, everything above the 5th percentile is an anomaly. "
   ]
  },
  {
   "cell_type": "markdown",
   "id": "3951df09",
   "metadata": {},
   "source": [
    "### A/B Analysis - Raw vs. Filtered Data\n",
    "\n",
    "Now that I have completed my data visualizations and determined the outliers in my datasets I can move to the actual A/B testing. To see the difference the data anomalies cause I will perform the A/B tests using the current raw data and then redo the tests after removing the outliers."
   ]
  },
  {
   "cell_type": "code",
   "execution_count": 41,
   "id": "30fdfb97",
   "metadata": {},
   "outputs": [
    {
     "data": {
      "text/html": [
       "<div>\n",
       "<style scoped>\n",
       "    .dataframe tbody tr th:only-of-type {\n",
       "        vertical-align: middle;\n",
       "    }\n",
       "\n",
       "    .dataframe tbody tr th {\n",
       "        vertical-align: top;\n",
       "    }\n",
       "\n",
       "    .dataframe thead th {\n",
       "        text-align: right;\n",
       "    }\n",
       "</style>\n",
       "<table border=\"1\" class=\"dataframe\">\n",
       "  <thead>\n",
       "    <tr style=\"text-align: right;\">\n",
       "      <th></th>\n",
       "      <th>transactionId</th>\n",
       "      <th>visitorId</th>\n",
       "      <th>date</th>\n",
       "      <th>revenue</th>\n",
       "      <th>group</th>\n",
       "    </tr>\n",
       "  </thead>\n",
       "  <tbody>\n",
       "    <tr>\n",
       "      <th>0</th>\n",
       "      <td>3667963787</td>\n",
       "      <td>3312258926</td>\n",
       "      <td>2019-08-15</td>\n",
       "      <td>30.4</td>\n",
       "      <td>B</td>\n",
       "    </tr>\n",
       "    <tr>\n",
       "      <th>1</th>\n",
       "      <td>2804400009</td>\n",
       "      <td>3642806036</td>\n",
       "      <td>2019-08-15</td>\n",
       "      <td>15.2</td>\n",
       "      <td>B</td>\n",
       "    </tr>\n",
       "    <tr>\n",
       "      <th>2</th>\n",
       "      <td>2961555356</td>\n",
       "      <td>4069496402</td>\n",
       "      <td>2019-08-15</td>\n",
       "      <td>10.2</td>\n",
       "      <td>A</td>\n",
       "    </tr>\n",
       "    <tr>\n",
       "      <th>3</th>\n",
       "      <td>3797467345</td>\n",
       "      <td>1196621759</td>\n",
       "      <td>2019-08-15</td>\n",
       "      <td>155.1</td>\n",
       "      <td>B</td>\n",
       "    </tr>\n",
       "    <tr>\n",
       "      <th>4</th>\n",
       "      <td>2282983706</td>\n",
       "      <td>2322279887</td>\n",
       "      <td>2019-08-15</td>\n",
       "      <td>40.5</td>\n",
       "      <td>B</td>\n",
       "    </tr>\n",
       "  </tbody>\n",
       "</table>\n",
       "</div>"
      ],
      "text/plain": [
       "   transactionId   visitorId       date  revenue group\n",
       "0     3667963787  3312258926 2019-08-15     30.4     B\n",
       "1     2804400009  3642806036 2019-08-15     15.2     B\n",
       "2     2961555356  4069496402 2019-08-15     10.2     A\n",
       "3     3797467345  1196621759 2019-08-15    155.1     B\n",
       "4     2282983706  2322279887 2019-08-15     40.5     B"
      ]
     },
     "execution_count": 41,
     "metadata": {},
     "output_type": "execute_result"
    }
   ],
   "source": [
    "orders_df.head()"
   ]
  },
  {
   "cell_type": "code",
   "execution_count": 42,
   "id": "04d85c9b",
   "metadata": {
    "scrolled": true
   },
   "outputs": [
    {
     "data": {
      "text/html": [
       "<div>\n",
       "<style scoped>\n",
       "    .dataframe tbody tr th:only-of-type {\n",
       "        vertical-align: middle;\n",
       "    }\n",
       "\n",
       "    .dataframe tbody tr th {\n",
       "        vertical-align: top;\n",
       "    }\n",
       "\n",
       "    .dataframe thead th {\n",
       "        text-align: right;\n",
       "    }\n",
       "</style>\n",
       "<table border=\"1\" class=\"dataframe\">\n",
       "  <thead>\n",
       "    <tr style=\"text-align: right;\">\n",
       "      <th></th>\n",
       "      <th>date</th>\n",
       "      <th>group</th>\n",
       "      <th>visits</th>\n",
       "    </tr>\n",
       "  </thead>\n",
       "  <tbody>\n",
       "    <tr>\n",
       "      <th>0</th>\n",
       "      <td>2019-08-01</td>\n",
       "      <td>A</td>\n",
       "      <td>719</td>\n",
       "    </tr>\n",
       "    <tr>\n",
       "      <th>1</th>\n",
       "      <td>2019-08-02</td>\n",
       "      <td>A</td>\n",
       "      <td>619</td>\n",
       "    </tr>\n",
       "    <tr>\n",
       "      <th>2</th>\n",
       "      <td>2019-08-03</td>\n",
       "      <td>A</td>\n",
       "      <td>507</td>\n",
       "    </tr>\n",
       "    <tr>\n",
       "      <th>3</th>\n",
       "      <td>2019-08-04</td>\n",
       "      <td>A</td>\n",
       "      <td>717</td>\n",
       "    </tr>\n",
       "    <tr>\n",
       "      <th>4</th>\n",
       "      <td>2019-08-05</td>\n",
       "      <td>A</td>\n",
       "      <td>756</td>\n",
       "    </tr>\n",
       "  </tbody>\n",
       "</table>\n",
       "</div>"
      ],
      "text/plain": [
       "        date group  visits\n",
       "0 2019-08-01     A     719\n",
       "1 2019-08-02     A     619\n",
       "2 2019-08-03     A     507\n",
       "3 2019-08-04     A     717\n",
       "4 2019-08-05     A     756"
      ]
     },
     "execution_count": 42,
     "metadata": {},
     "output_type": "execute_result"
    }
   ],
   "source": [
    "visits_df.head()"
   ]
  },
  {
   "cell_type": "markdown",
   "id": "74e27dec",
   "metadata": {},
   "source": [
    "### Testing Hypotheses \n",
    "\n",
    "I will be testing the following hypotheses on both the raw and filtered data, they are:\n",
    "\n",
    "**Test 1** (Raw & Filtered)\n",
    "\n",
    "**H0:** There is no significant difference in each group's conversion rates\n",
    "\n",
    "**H1:** There is a statistically significant difference in each group's conversion rate\n",
    "\n",
    "**Test 2** (Raw & Filtered)\n",
    "\n",
    "**H0:** There is no significant difference in each group's order size\n",
    "\n",
    "**H1:** There is a statistically significant difference in each group's order size\n",
    "\n",
    "I elected to use the Wilcoxon-Mann-Whitney Nonparametric Test for this because it is best for handling datasets with extreme outliers like those we see in group B's data.\n",
    "\n",
    "An alpha level of .05 (5%) is chosen because it best mitigates the possibilites of false positives or negatives."
   ]
  },
  {
   "cell_type": "code",
   "execution_count": 43,
   "id": "bbd99747",
   "metadata": {},
   "outputs": [],
   "source": [
    "# finding the statistical difference in conversion between groups with raw data\n",
    "\n",
    "groupA_orders = orders_df[orders_df['group'] == 'A'].groupby('visitorId', as_index = False).agg({'transactionId':pd.Series.nunique})\n",
    "groupA_orders.columns = ['visitorId', 'orders']\n",
    "\n",
    "groupB_orders = orders_df[orders_df['group'] == 'B'].groupby('visitorId', as_index = False).agg({'transactionId':pd.Series.nunique})\n",
    "groupB_orders.columns = ['visitorId', 'orders']"
   ]
  },
  {
   "cell_type": "code",
   "execution_count": 44,
   "id": "be637b12",
   "metadata": {},
   "outputs": [],
   "source": [
    "sampleA = pd.concat([groupA_orders['orders'], pd.Series(0, index = np.arange(visits_df[visits_df['group'] == 'A']['visits'].sum()- len(groupA_orders['orders'])), name = 'orders')], axis = 0)\n",
    "sampleB = pd.concat([groupB_orders['orders'], pd.Series(0, index = np.arange(visits_df[visits_df['group'] == 'B']['visits'].sum()- len(groupB_orders['orders'])), name = 'orders')], axis = 0)                                                    "
   ]
  },
  {
   "cell_type": "code",
   "execution_count": 45,
   "id": "14047054",
   "metadata": {
    "scrolled": true
   },
   "outputs": [
    {
     "name": "stdout",
     "output_type": "stream",
     "text": [
      "0.01421\n",
      "0.172\n"
     ]
    }
   ],
   "source": [
    "print(\"{0:.5f}\".format(st.mannwhitneyu(sampleA,sampleB)[1]))\n",
    "print(\"{0:.3f}\".format(sampleB.mean()/sampleA.mean()-1))"
   ]
  },
  {
   "cell_type": "markdown",
   "id": "748ad0e1",
   "metadata": {},
   "source": [
    "#### Conclusions\n",
    "\n",
    "Given that the p-value is below .05 we must reject the null hypotheses and conclude that the two group have statistically signifcant differences in conversion rates. The conversion rate for group B compared to group A is 17.2%."
   ]
  },
  {
   "cell_type": "code",
   "execution_count": 46,
   "id": "36ad3f96",
   "metadata": {
    "scrolled": true
   },
   "outputs": [
    {
     "name": "stdout",
     "output_type": "stream",
     "text": [
      "0.887\n",
      "0.277\n"
     ]
    }
   ],
   "source": [
    "# calculating the statistical signifigance of the difference in order sizes by group\n",
    "\n",
    "print('{0:.3f}'.format(st.mannwhitneyu(orders_df[orders_df['group'] == 'A']['revenue'], orders_df[orders_df['group'] == 'B']['revenue'])[1]))\n",
    "print('{0:.3f}'.format(orders_df[orders_df['group'] == 'B']['revenue'].mean()/orders_df[orders_df['group'] == 'A']['revenue'].mean()-1))"
   ]
  },
  {
   "cell_type": "markdown",
   "id": "32e4ffd7",
   "metadata": {},
   "source": [
    "#### Conclusions\n",
    "\n",
    "Here the p-value is much higher than .05 meaning that there are no statistically significant differences between the order sizes of group A and group B. However, the relative difference in order size is a fairly signifcant 27.7%."
   ]
  },
  {
   "cell_type": "code",
   "execution_count": 47,
   "id": "ac7d6f20",
   "metadata": {},
   "outputs": [
    {
     "data": {
      "text/plain": [
       "1099    148427295\n",
       "18      199603092\n",
       "23      237748145\n",
       "684     358944393\n",
       "648     382846391\n",
       "Name: visitorId, dtype: int64"
      ]
     },
     "execution_count": 47,
     "metadata": {},
     "output_type": "execute_result"
    }
   ],
   "source": [
    "# finding anomalous users \n",
    "\n",
    "too_many_orders = pd.concat([groupA_orders[groupA_orders['orders'] >= 3]['visitorId'], groupB_orders[groupB_orders['orders'] >= 3]['visitorId']], axis = 0)\n",
    "\n",
    "too_expensive_orders = orders_df[orders_df['revenue'] > 600]['visitorId']\n",
    "\n",
    "anomalous_users = pd.concat([too_many_orders, too_expensive_orders], axis = 0).drop_duplicates().sort_values()\n",
    "\n",
    "anomalous_users.head()"
   ]
  },
  {
   "cell_type": "code",
   "execution_count": 48,
   "id": "c828519b",
   "metadata": {},
   "outputs": [],
   "source": [
    "# removing anomalous users to test conversion rate\n",
    "\n",
    "sampleA_filtered = pd.concat(\n",
    "    [groupA_orders[np.logical_not(groupA_orders['visitorId'].isin(anomalous_users))]\n",
    "    ['orders'], pd.Series(0, index = np.arange(visits_df[visits_df['group'] == 'A']\n",
    "    ['visits'].sum() - len(groupA_orders['orders'])), name = 'orders')], axis = 0)\n",
    "\n",
    "sampleB_filtered = pd.concat(\n",
    "    [groupB_orders[np.logical_not(groupB_orders['visitorId'].isin(anomalous_users))]\n",
    "    ['orders'], pd.Series(0, index = np.arange(visits_df[visits_df['group'] == 'B']\n",
    "    ['visits'].sum() - len(groupB_orders['orders'])), name = 'orders')], axis = 0)"
   ]
  },
  {
   "cell_type": "code",
   "execution_count": 49,
   "id": "2bfc49a8",
   "metadata": {},
   "outputs": [
    {
     "name": "stdout",
     "output_type": "stream",
     "text": [
      "0.00921\n",
      "0.180\n"
     ]
    }
   ],
   "source": [
    "print('{0:.5f}'.format(st.mannwhitneyu(sampleA_filtered, sampleB_filtered)[1]))\n",
    "print('{0:.3f}'.format(sampleB_filtered.mean()/sampleA_filtered.mean()-1))"
   ]
  },
  {
   "cell_type": "markdown",
   "id": "f6244757",
   "metadata": {},
   "source": [
    "#### Conclusions\n",
    "\n",
    "The filtered data had the same outcome as the raw data, group B had a much better conversion rate than group A at a flat 18%. "
   ]
  },
  {
   "cell_type": "code",
   "execution_count": 50,
   "id": "3de526f2",
   "metadata": {},
   "outputs": [
    {
     "name": "stdout",
     "output_type": "stream",
     "text": [
      "0.820\n",
      "0.074\n"
     ]
    }
   ],
   "source": [
    "# removing anomalous users to test order size \n",
    "\n",
    "print('{0:.3f}'.format(st.mannwhitneyu(\n",
    "    orders_df[np.logical_and(\n",
    "        orders_df['group'] == 'A',\n",
    "        np.logical_not(orders_df['visitorId'].isin(anomalous_users)))]['revenue'],\n",
    "    orders_df[np.logical_and(\n",
    "    orders_df['group'] == 'B',\n",
    "    np.logical_not(orders_df['visitorId'].isin(anomalous_users)))]['revenue'])[1]))\n",
    "\n",
    "print('{0:.3f}'.format(\n",
    "    orders_df[np.logical_and(orders_df['group'] == 'B',\n",
    "    np.logical_not(orders_df['visitorId'].isin(anomalous_users)))]['revenue'].mean()/orders_df[np.logical_and(\n",
    "        orders_df['group'] == 'A',\n",
    "        np.logical_not(orders_df['visitorId'].isin(anomalous_users)))]['revenue'].mean() -1))"
   ]
  },
  {
   "cell_type": "markdown",
   "id": "be5d67e1",
   "metadata": {},
   "source": [
    "#### Conclusions\n",
    "\n",
    "After removing the outliers from groups A and B there was an even smaller difference in order size between the two groups shows that there is no signifcant difference between them. After removing the outliers however the relative difference dropped from 27.7% to 7.4%."
   ]
  },
  {
   "cell_type": "markdown",
   "id": "f66e05ba",
   "metadata": {},
   "source": [
    "## Conclusion & Decisions\n",
    "\n",
    "Now that the A/B testing of both the raw and filtered data is concluded I have to make a decision about how to proceed. \n",
    "\n",
    "**Visualizations**\n",
    "\n",
    "As we saw across all the visualizations, group B performed better than group A in every category; group B's cumulative revenue and conversion rate were both higher than group A's even after discounting outliers. Both groups had very similar order sizes.\n",
    "\n",
    "It is clear that the average user makes 1 - 2 purchases a month and generates under $250 in revenue, though many users generate more revenue than that. \n",
    "\n",
    "**A/B Analysis**\n",
    "\n",
    "After examining both the raw and filtered data I have reached two conclusions;\n",
    "\n",
    "1. Group B had greater conversion rate than Group A to a statistically significant degree\n",
    "2. Group A and Group B did not have a statisitically significant difference in order size. \n",
    "\n",
    "Given these facts, in concert with group B's higher cumulative revenue, my recommendation would be to conclude the test and declare Group B the leader. "
   ]
  }
 ],
 "metadata": {
  "kernelspec": {
   "display_name": "Python 3 (ipykernel)",
   "language": "python",
   "name": "python3"
  },
  "language_info": {
   "codemirror_mode": {
    "name": "ipython",
    "version": 3
   },
   "file_extension": ".py",
   "mimetype": "text/x-python",
   "name": "python",
   "nbconvert_exporter": "python",
   "pygments_lexer": "ipython3",
   "version": "3.9.7"
  },
  "toc": {
   "base_numbering": 1,
   "nav_menu": {},
   "number_sections": true,
   "sideBar": true,
   "skip_h1_title": true,
   "title_cell": "Table of Contents",
   "title_sidebar": "Contents",
   "toc_cell": false,
   "toc_position": {},
   "toc_section_display": true,
   "toc_window_display": false
  }
 },
 "nbformat": 4,
 "nbformat_minor": 5
}
